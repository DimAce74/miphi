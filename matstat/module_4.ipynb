{
 "cells": [
  {
   "metadata": {},
   "cell_type": "markdown",
   "source": [
    "Директор одной из школ заявил, что учащиеся, обучающиеся в этой школе, более умны, чем \n",
    "в средней школе. При подсчете показателей IQ 50 учащихся среднее значение оказалось равным 110. Средний \n",
    "показатель IQ населения равен 100, а стандартное отклонение - 15. Укажите, является ли заявление директора \n",
    "корректным."
   ],
   "id": "eccc3ea147ac85c3"
  },
  {
   "metadata": {
    "ExecuteTime": {
     "end_time": "2024-11-29T05:35:53.811468Z",
     "start_time": "2024-11-29T05:35:53.801014Z"
    }
   },
   "cell_type": "code",
   "source": [
    "import numpy as np\n",
    "import scipy.stats as stats\n",
    "sample_mean = 110\n",
    "population_mean = 100\n",
    "population_std = 15\n",
    "sample_size = 50\n",
    "alpha = 0.05\n",
    "# Расчет z-оценки\n",
    "z_score = (sample_mean-population_mean)/(population_std/np.sqrt(50))\n",
    "print('z-оценка :',z_score)\n",
    "# Принятие решения на основе критического значения z\n",
    "# Расчет критической z-оценки\n",
    "z_critical = stats.norm.ppf(1-alpha) # Возвращает 95%-ный интервал значимости для теста с одним \n",
    "# концом для стандартного нормального распределения, для двустороннего теста было бы 1-alpha/2\n",
    "print('Критическая z-оценка :',z_critical)\n",
    "if z_score > z_critical:\n",
    "    print(\"Отклонить нулевую гипотезу\")\n",
    "else:\n",
    "    print(\"Нельзя отклонить нулевую гипотезу\")\n",
    "# Принятие решения на основе p-значения\n",
    "# P-Value : вероятность получить значение меньше, чем z-оценка\n",
    "p_value = 1-stats.norm.cdf(z_score)\n",
    "print('p-value :',p_value)\n",
    "if p_value < alpha:\n",
    "    print(\"Отклонить нулевую гипотезу\")\n",
    "else:\n",
    "    print(\"Нельзя отклонить нулевую гипотезу\")"
   ],
   "id": "5df0e208ebd81c81",
   "outputs": [
    {
     "name": "stdout",
     "output_type": "stream",
     "text": [
      "z-оценка : 4.714045207910317\n",
      "Критическая z-оценка : 1.6448536269514722\n",
      "Отклонить нулевую гипотезу\n",
      "p-value : 1.2142337364462463e-06\n",
      "Отклонить нулевую гипотезу\n"
     ]
    }
   ],
   "execution_count": 1
  },
  {
   "metadata": {},
   "cell_type": "markdown",
   "source": [
    "Задача 2. В настоящее время проводятся исследования в рамках кампании по повышению \n",
    "осведомленности о психическом здоровье. Используя данные всех практикующих врачей общей практики по \n",
    "всей стране, было подсчитано количество пациентов, страдающих депрессией, в процентах от общего числа \n",
    "пациентов за последние 15 лет. Среднее значение составило 21,9 %, а стандартное отклонение - 7,5 %. В \n",
    "районе города N были собраны данные о 35 практикующих терапевтах, и за последние пятнадцать лет была \n",
    "зафиксирована доля пациентов с диагнозом депрессии. Среднее значение составило 24,1 %. Отличается ли \n",
    "доля людей, страдающих депрессией, в районе города N от среднего показателя по стране?"
   ],
   "id": "9495e10f3e9e960d"
  },
  {
   "metadata": {},
   "cell_type": "code",
   "outputs": [],
   "execution_count": null,
   "source": [
    "import numpy as np\n",
    "import scipy.stats as stats\n",
    "# H0: mean(x) = 21.9\n",
    "# HA: mean(x) ≠ 21.9\n",
    "sample_mean = 24.1\n",
    "population_mean = 21.9\n",
    "population_std = 7.5\n",
    "sample_size = 35\n",
    "alpha = 0.05\n",
    "# Расчет z-оценки\n",
    "z_score = (sample_mean-population_mean)/(population_std/np.sqrt(sample_size))\n",
    "print('z-оценка :',z_score)\n",
    "# Принятие решения на основе критического значения z\n",
    "# Расчет критической z-оценки\n",
    "z_critical = stats.norm.ppf(1-alpha/2) # Возвращает 95%-ный интервал значимости для двустороннего теста, от 2.5% до 97,5%\n",
    "\n",
    "print('Критическая z-оценка :',z_critical)\n",
    "if z_score > z_critical:\n",
    "    print(\"Отклонить нулевую гипотезу\")\n",
    "else:\n",
    "    print(\"Нельзя отклонить нулевую гипотезу\")\n",
    "# Принятие решения на основе p-значения\n",
    "# P-Value : вероятность получить значение меньше, чем z-оценка, и больше, чем -z-оценка\n",
    "p_value = 1-stats.norm.cdf(z_score) + stats.norm.cdf(-z_score)\n",
    "print('p-value :',p_value)\n",
    "if p_value < alpha:\n",
    "    print(\"Отклонить нулевую гипотезу\")\n",
    "else:\n",
    "    print(\"Нельзя отклонить нулевую гипотезу\")\n"
   ],
   "id": "e0c454dba02a7723"
  }
 ],
 "metadata": {
  "kernelspec": {
   "display_name": "Python 3",
   "language": "python",
   "name": "python3"
  },
  "language_info": {
   "codemirror_mode": {
    "name": "ipython",
    "version": 2
   },
   "file_extension": ".py",
   "mimetype": "text/x-python",
   "name": "python",
   "nbconvert_exporter": "python",
   "pygments_lexer": "ipython2",
   "version": "2.7.6"
  }
 },
 "nbformat": 4,
 "nbformat_minor": 5
}
