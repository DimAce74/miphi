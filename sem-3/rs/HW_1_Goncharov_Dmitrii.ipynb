{
  "cells": [
    {
      "cell_type": "code",
      "execution_count": 29,
      "metadata": {
        "id": "XkAEVof0ZkPi"
      },
      "outputs": [],
      "source": [
        "# импорты и первичные настройки\n",
        "import pandas as pd\n",
        "import numpy as np\n",
        "import matplotlib.pyplot as plt\n",
        "import seaborn as sns\n",
        "from collections import Counter\n",
        "from sklearn.feature_extraction.text import TfidfVectorizer\n",
        "from sklearn.metrics.pairwise import cosine_similarity\n",
        "from scipy.spatial.distance import cosine\n",
        "from scipy.sparse import csr_matrix\n",
        "from scipy.stats import pearsonr\n",
        "import warnings\n",
        "warnings.filterwarnings('ignore')\n",
        "\n",
        "# Установка стиля для лучшей визуализации\n",
        "plt.style.use('seaborn-v0_8')\n",
        "sns.set_palette(\"husl\")\n",
        "\n",
        "RANDOM_SEED = 13\n",
        "np.random.seed(RANDOM_SEED)"
      ]
    },
    {
      "cell_type": "markdown",
      "metadata": {
        "id": "5Z7m6qgpZkPj"
      },
      "source": [
        "# Этап 1: знакомство с данными и EDA (Exploratory Data Analysis)\n"
      ]
    },
    {
      "cell_type": "markdown",
      "metadata": {
        "id": "zsVH4LB0ZkPj"
      },
      "source": [
        "## 1. Загрузите данные: ratings.csv, books.csv, tags.csv, book_tags.csv.\n"
      ]
    },
    {
      "cell_type": "code",
      "execution_count": 11,
      "metadata": {
        "id": "zobGQRIkZkPj"
      },
      "outputs": [],
      "source": [
        "# Загрузка файлов данных\n",
        "ratings_df = pd.read_csv('data/books/ratings.csv')\n",
        "books_df = pd.read_csv('data/books/books.csv')\n",
        "tags_df = pd.read_csv('data/books/tags.csv')\n",
        "book_tags_df = pd.read_csv('data/books/book_tags.csv')"
      ]
    },
    {
      "cell_type": "markdown",
      "metadata": {
        "id": "pPH8VyP_ZkPj"
      },
      "source": [
        "## 2. Проведите разведочный анализ:\n",
        "    - Распределение оценок. Есть ли смещение в сторону высоких оценок?\n",
        "    - Анализ активности пользователей. Постройте график «Взаимоотношение количества пользователей и количества оценок». Выявите активных пользователей и пользователей с малым количеством взаимодействий (проблема холодного старта).\n",
        "    - Анализ популярности книг. Постройте график «Количество книг vs количество оценок». Выявите популярные книги и «длинный хвост».\n",
        "    - Визуализируйте самые частые теги для книг (на основе book_tags.csv)."
      ]
    },
    {
      "cell_type": "markdown",
      "metadata": {
        "id": "HQN4R2XxZkPj"
      },
      "source": [
        "Для начала сделаем обзор датасетов, чтобы понять их структуру"
      ]
    },
    {
      "cell_type": "code",
      "execution_count": 5,
      "metadata": {
        "colab": {
          "base_uri": "https://localhost:8080/"
        },
        "id": "ze9aPk3fZkPk",
        "outputId": "0cf2feba-3911-4fd1-eadd-d74123cb7efa"
      },
      "outputs": [
        {
          "name": "stdout",
          "output_type": "stream",
          "text": [
            "Форма датасета оценок: (5976479, 3)\n",
            "Информация о датасете оценок:\n",
            "<class 'pandas.core.frame.DataFrame'>\n",
            "RangeIndex: 5976479 entries, 0 to 5976478\n",
            "Data columns (total 3 columns):\n",
            " #   Column   Dtype\n",
            "---  ------   -----\n",
            " 0   user_id  int64\n",
            " 1   book_id  int64\n",
            " 2   rating   int64\n",
            "dtypes: int64(3)\n",
            "memory usage: 136.8 MB\n",
            "None\n",
            "\n",
            "Первые несколько строк оценок:\n",
            "   user_id  book_id  rating\n",
            "0        1      258       5\n",
            "1        2     4081       4\n",
            "2        2      260       5\n",
            "3        2     9296       5\n",
            "4        2     2318       3\n"
          ]
        }
      ],
      "source": [
        "# Вывод основной информации о каждом датасете\n",
        "print(\"Форма датасета оценок:\", ratings_df.shape)\n",
        "print(\"Информация о датасете оценок:\")\n",
        "print(ratings_df.info())\n",
        "print(\"\\nПервые несколько строк оценок:\")\n",
        "print(ratings_df.head())"
      ]
    },
    {
      "cell_type": "code",
      "execution_count": 6,
      "metadata": {
        "colab": {
          "base_uri": "https://localhost:8080/"
        },
        "id": "HHapsgORZkPk",
        "outputId": "36156d9f-8c57-4d6e-e073-87405e28229f"
      },
      "outputs": [
        {
          "name": "stdout",
          "output_type": "stream",
          "text": [
            "Форма датасета книг: (10000, 23)\n",
            "Информация о датасете книг:\n",
            "<class 'pandas.core.frame.DataFrame'>\n",
            "RangeIndex: 10000 entries, 0 to 9999\n",
            "Data columns (total 23 columns):\n",
            " #   Column                     Non-Null Count  Dtype  \n",
            "---  ------                     --------------  -----  \n",
            " 0   book_id                    10000 non-null  int64  \n",
            " 1   goodreads_book_id          10000 non-null  int64  \n",
            " 2   best_book_id               10000 non-null  int64  \n",
            " 3   work_id                    10000 non-null  int64  \n",
            " 4   books_count                10000 non-null  int64  \n",
            " 5   isbn                       9300 non-null   object \n",
            " 6   isbn13                     9415 non-null   float64\n",
            " 7   authors                    10000 non-null  object \n",
            " 8   original_publication_year  9979 non-null   float64\n",
            " 9   original_title             9415 non-null   object \n",
            " 10  title                      10000 non-null  object \n",
            " 11  language_code              8916 non-null   object \n",
            " 12  average_rating             10000 non-null  float64\n",
            " 13  ratings_count              10000 non-null  int64  \n",
            " 14  work_ratings_count         10000 non-null  int64  \n",
            " 15  work_text_reviews_count    10000 non-null  int64  \n",
            " 16  ratings_1                  10000 non-null  int64  \n",
            " 17  ratings_2                  10000 non-null  int64  \n",
            " 18  ratings_3                  10000 non-null  int64  \n",
            " 19  ratings_4                  10000 non-null  int64  \n",
            " 20  ratings_5                  10000 non-null  int64  \n",
            " 21  image_url                  10000 non-null  object \n",
            " 22  small_image_url            10000 non-null  object \n",
            "dtypes: float64(3), int64(13), object(7)\n",
            "memory usage: 1.8+ MB\n",
            "None\n",
            "\n",
            "Первые несколько строк книг:\n",
            "   book_id  goodreads_book_id  best_book_id  work_id  books_count       isbn  \\\n",
            "0        1            2767052       2767052  2792775          272  439023483   \n",
            "1        2                  3             3  4640799          491  439554934   \n",
            "2        3              41865         41865  3212258          226  316015849   \n",
            "3        4               2657          2657  3275794          487   61120081   \n",
            "4        5               4671          4671   245494         1356  743273567   \n",
            "\n",
            "         isbn13                      authors  original_publication_year  \\\n",
            "0  9.780439e+12              Suzanne Collins                     2008.0   \n",
            "1  9.780440e+12  J.K. Rowling, Mary GrandPré                     1997.0   \n",
            "2  9.780316e+12              Stephenie Meyer                     2005.0   \n",
            "3  9.780061e+12                   Harper Lee                     1960.0   \n",
            "4  9.780743e+12          F. Scott Fitzgerald                     1925.0   \n",
            "\n",
            "                             original_title  ... ratings_count  \\\n",
            "0                          The Hunger Games  ...       4780653   \n",
            "1  Harry Potter and the Philosopher's Stone  ...       4602479   \n",
            "2                                  Twilight  ...       3866839   \n",
            "3                     To Kill a Mockingbird  ...       3198671   \n",
            "4                          The Great Gatsby  ...       2683664   \n",
            "\n",
            "  work_ratings_count  work_text_reviews_count  ratings_1  ratings_2  \\\n",
            "0            4942365                   155254      66715     127936   \n",
            "1            4800065                    75867      75504     101676   \n",
            "2            3916824                    95009     456191     436802   \n",
            "3            3340896                    72586      60427     117415   \n",
            "4            2773745                    51992      86236     197621   \n",
            "\n",
            "   ratings_3  ratings_4  ratings_5  \\\n",
            "0     560092    1481305    2706317   \n",
            "1     455024    1156318    3011543   \n",
            "2     793319     875073    1355439   \n",
            "3     446835    1001952    1714267   \n",
            "4     606158     936012     947718   \n",
            "\n",
            "                                           image_url  \\\n",
            "0  https://images.gr-assets.com/books/1447303603m...   \n",
            "1  https://images.gr-assets.com/books/1474154022m...   \n",
            "2  https://images.gr-assets.com/books/1361039443m...   \n",
            "3  https://images.gr-assets.com/books/1361975680m...   \n",
            "4  https://images.gr-assets.com/books/1490528560m...   \n",
            "\n",
            "                                     small_image_url  \n",
            "0  https://images.gr-assets.com/books/1447303603s...  \n",
            "1  https://images.gr-assets.com/books/1474154022s...  \n",
            "2  https://images.gr-assets.com/books/1361039443s...  \n",
            "3  https://images.gr-assets.com/books/1361975680s...  \n",
            "4  https://images.gr-assets.com/books/1490528560s...  \n",
            "\n",
            "[5 rows x 23 columns]\n"
          ]
        }
      ],
      "source": [
        "print(\"Форма датасета книг:\", books_df.shape)\n",
        "print(\"Информация о датасете книг:\")\n",
        "print(books_df.info())\n",
        "print(\"\\nПервые несколько строк книг:\")\n",
        "print(books_df.head())"
      ]
    },
    {
      "cell_type": "code",
      "execution_count": 7,
      "metadata": {
        "colab": {
          "base_uri": "https://localhost:8080/"
        },
        "id": "jde5Tp4_ZkPk",
        "outputId": "35ca8b32-504f-4d98-91b4-e92b16442074"
      },
      "outputs": [
        {
          "name": "stdout",
          "output_type": "stream",
          "text": [
            "Форма датасета тегов: (34252, 2)\n",
            "Информация о датасете тегов:\n",
            "<class 'pandas.core.frame.DataFrame'>\n",
            "RangeIndex: 34252 entries, 0 to 34251\n",
            "Data columns (total 2 columns):\n",
            " #   Column    Non-Null Count  Dtype \n",
            "---  ------    --------------  ----- \n",
            " 0   tag_id    34252 non-null  int64 \n",
            " 1   tag_name  34252 non-null  object\n",
            "dtypes: int64(1), object(1)\n",
            "memory usage: 535.3+ KB\n",
            "None\n",
            "\n",
            "Первые несколько строк тегов:\n",
            "   tag_id tag_name\n",
            "0       0        -\n",
            "1       1     --1-\n",
            "2       2    --10-\n",
            "3       3    --12-\n",
            "4       4   --122-\n"
          ]
        }
      ],
      "source": [
        "print(\"Форма датасета тегов:\", tags_df.shape)\n",
        "print(\"Информация о датасете тегов:\")\n",
        "print(tags_df.info())\n",
        "print(\"\\nПервые несколько строк тегов:\")\n",
        "print(tags_df.head())"
      ]
    },
    {
      "cell_type": "code",
      "execution_count": 8,
      "metadata": {
        "colab": {
          "base_uri": "https://localhost:8080/"
        },
        "id": "pIE44-IXZkPk",
        "outputId": "659df931-f925-4948-fe8c-9da296737ae7"
      },
      "outputs": [
        {
          "name": "stdout",
          "output_type": "stream",
          "text": [
            "Форма датасета связей книг и тегов: (999912, 3)\n",
            "Информация о датасете связей книг и тегов:\n",
            "<class 'pandas.core.frame.DataFrame'>\n",
            "RangeIndex: 999912 entries, 0 to 999911\n",
            "Data columns (total 3 columns):\n",
            " #   Column             Non-Null Count   Dtype\n",
            "---  ------             --------------   -----\n",
            " 0   goodreads_book_id  999912 non-null  int64\n",
            " 1   tag_id             999912 non-null  int64\n",
            " 2   count              999912 non-null  int64\n",
            "dtypes: int64(3)\n",
            "memory usage: 22.9 MB\n",
            "None\n",
            "\n",
            "Первые несколько строк связей книг и тегов:\n",
            "   goodreads_book_id  tag_id   count\n",
            "0                  1   30574  167697\n",
            "1                  1   11305   37174\n",
            "2                  1   11557   34173\n",
            "3                  1    8717   12986\n",
            "4                  1   33114   12716\n"
          ]
        }
      ],
      "source": [
        "print(\"Форма датасета связей книг и тегов:\", book_tags_df.shape)\n",
        "print(\"Информация о датасете связей книг и тегов:\")\n",
        "print(book_tags_df.info())\n",
        "print(\"\\nПервые несколько строк связей книг и тегов:\")\n",
        "print(book_tags_df.head())"
      ]
    },
    {
      "cell_type": "markdown",
      "metadata": {
        "id": "WthsE86tZkPl"
      },
      "source": [
        "### Распределение оценок\n",
        "\n",
        "Проанализируем распределение оценок, чтобы увидеть, есть ли смещение в сторону высоких оценок."
      ]
    },
    {
      "cell_type": "code",
      "execution_count": 12,
      "metadata": {
        "colab": {
          "base_uri": "https://localhost:8080/",
          "height": 874
        },
        "id": "WCvX343ZZkPl",
        "outputId": "61b08bde-137c-4854-f418-1c0a5ff3c54b"
      },
      "outputs": [
        {
          "data": {
            "image/png": "[encoded data removed]",
            "text/plain": [
              "<Figure size 1000x600 with 1 Axes>"
            ]
          },
          "metadata": {},
          "output_type": "display_data"
        },
        {
          "name": "stdout",
          "output_type": "stream",
          "text": [
            "Статистика оценок:\n",
            "count    5.976479e+06\n",
            "mean     3.919866e+00\n",
            "std      9.910868e-01\n",
            "min      1.000000e+00\n",
            "25%      3.000000e+00\n",
            "50%      4.000000e+00\n",
            "75%      5.000000e+00\n",
            "max      5.000000e+00\n",
            "Name: rating, dtype: float64\n",
            "\n",
            "Процентное соотношение каждой оценки:\n",
            "Оценка 1: 2.08%\n",
            "Оценка 2: 6.01%\n",
            "Оценка 3: 22.94%\n",
            "Оценка 4: 35.79%\n",
            "Оценка 5: 33.18%\n"
          ]
        }
      ],
      "source": [
        "# Распределение оценок\n",
        "plt.figure(figsize=(10, 6))\n",
        "sns.countplot(data=ratings_df, x='rating')\n",
        "plt.title('Распределение оценок')\n",
        "plt.xlabel('Оценка')\n",
        "plt.ylabel('Количество')\n",
        "plt.show()\n",
        "\n",
        "# Расчет статистики оценок\n",
        "rating_stats = ratings_df['rating'].describe()\n",
        "print(\"Статистика оценок:\")\n",
        "print(rating_stats)\n",
        "\n",
        "# Расчет процентного соотношения каждой оценки\n",
        "rating_percentages = ratings_df['rating'].value_counts().sort_index() / len(ratings_df) * 100\n",
        "print(\"\\nПроцентное соотношение каждой оценки:\")\n",
        "for rating, percentage in rating_percentages.items():\n",
        "    print(f\"Оценка {rating}: {percentage:.2f}%\")"
      ]
    },
    {
      "cell_type": "markdown",
      "metadata": {
        "id": "wA3mUscKZkPl"
      },
      "source": [
        "Видно, что оценки 1 и 2 имеют в сумме всего около 8% от общего количества оценок.\n",
        "Можно констатировать, что есть смещение в сторону высоких оценок"
      ]
    },
    {
      "cell_type": "markdown",
      "metadata": {
        "id": "a6peaU6CZkPl"
      },
      "source": [
        "### Анализ активности пользователей\n",
        "\n",
        "Проанализируем активность пользователей, чтобы определить активных пользователей и потенциальную проблему холодного старта."
      ]
    },
    {
      "cell_type": "code",
      "execution_count": 13,
      "metadata": {
        "colab": {
          "base_uri": "https://localhost:8080/",
          "height": 727
        },
        "id": "sg2Nw5eGZkPl",
        "outputId": "20794ff7-406b-42c7-8fd1-12256f2a7cb7"
      },
      "outputs": [
        {
          "data": {
            "image/png": "[encoded data removed]",
            "text/plain": [
              "<Figure size 1200x600 with 1 Axes>"
            ]
          },
          "metadata": {},
          "output_type": "display_data"
        },
        {
          "name": "stdout",
          "output_type": "stream",
          "text": [
            "Статистика активности пользователей:\n",
            "Общее количество пользователей: 53424\n",
            "Среднее количество оценок на пользователя: 111.87\n",
            "Медианное количество оценок на пользователя: 111.0\n",
            "Минимальное количество оценок на пользователя: 19\n",
            "Максимальное количество оценок на пользователя: 200\n",
            "\n",
            "Активные пользователи (100+ оценок): 37084 (69.41% всех пользователей)\n",
            "Пользователи с 30 или менее оценками (потенциальный холодный старт): 190 (0.36% всех пользователей)\n"
          ]
        }
      ],
      "source": [
        "# Расчет количества оценок для каждого пользователя\n",
        "user_ratings_count = ratings_df.groupby('user_id').size().sort_values(ascending=False)\n",
        "\n",
        "# Построение графика зависимости количества пользователей от количества оценок\n",
        "plt.figure(figsize=(12, 6))\n",
        "plt.hist(user_ratings_count.values, bins=50, edgecolor='black')\n",
        "plt.title('Распределение количества оценок на пользователя')\n",
        "plt.xlabel('Количество оценок')\n",
        "plt.ylabel('Количество пользователей')\n",
        "plt.yscale('log') # Логарифмическая шкала для лучшей визуализации распределения\n",
        "plt.show()\n",
        "\n",
        "# Показ статистики об активности пользователей\n",
        "print(\"Статистика активности пользователей:\")\n",
        "print(f\"Общее количество пользователей: {len(user_ratings_count)}\")\n",
        "print(f\"Среднее количество оценок на пользователя: {user_ratings_count.mean():.2f}\")\n",
        "print(f\"Медианное количество оценок на пользователя: {user_ratings_count.median()}\")\n",
        "print(f\"Минимальное количество оценок на пользователя: {user_ratings_count.min()}\")\n",
        "print(f\"Максимальное количество оценок на пользователя: {user_ratings_count.max()}\")\n",
        "\n",
        "# Определение активных пользователей (пользователи с множеством оценок) и неактивных пользователей (проблема холодного старта)\n",
        "active_users = user_ratings_count[user_ratings_count >= 100]\n",
        "inactive_users = user_ratings_count[user_ratings_count <= 30]\n",
        "\n",
        "print(f\"\\nАктивные пользователи (100+ оценок): {len(active_users)} ({len(active_users)/len(user_ratings_count)*100:.2f}% всех пользователей)\")\n",
        "print(f\"Пользователи с 30 или менее оценками (потенциальный холодный старт): {len(inactive_users)} ({len(inactive_users)/len(user_ratings_count)*100:.2f}% всех пользователей)\")"
      ]
    },
    {
      "cell_type": "code",
      "execution_count": 14,
      "metadata": {
        "colab": {
          "base_uri": "https://localhost:8080/",
          "height": 567
        },
        "id": "M5ijGDeaZkPl",
        "outputId": "57ccf7d7-888c-47d5-d4ca-941d94bc5112"
      },
      "outputs": [
        {
          "data": {
            "image/png": "[encoded data removed]",
            "text/plain": [
              "<Figure size 1200x600 with 1 Axes>"
            ]
          },
          "metadata": {},
          "output_type": "display_data"
        }
      ],
      "source": [
        "# Построение зависимости количества пользователей от количества оценок (ранжированный график)\n",
        "plt.figure(figsize=(12, 6))\n",
        "plt.plot(range(1, len(user_ratings_count) + 1), user_ratings_count.values)\n",
        "plt.title('Распределение активности пользователей (ранжированный график)')\n",
        "plt.xlabel('Ранг пользователя (по активности)')\n",
        "plt.ylabel('Количество оценок')\n",
        "plt.xscale('log') # Логарифмическая шкала для оси x для лучшей визуализации распределения\n",
        "plt.grid(True)\n",
        "plt.show()"
      ]
    },
    {
      "cell_type": "markdown",
      "metadata": {
        "id": "HylYIT4IZkPl"
      },
      "source": [
        "### Анализ популярности книг\n",
        "\n",
        "Проанализируем популярность книг, чтобы определить популярные книги и \"длинный хвост\"."
      ]
    },
    {
      "cell_type": "code",
      "execution_count": 15,
      "metadata": {
        "colab": {
          "base_uri": "https://localhost:8080/",
          "height": 727
        },
        "id": "0fPMvBGuZkPl",
        "outputId": "563e997f-e549-46fb-c5dc-ffa47e2e73dd"
      },
      "outputs": [
        {
          "data": {
            "image/png": "[encoded data removed]",
            "text/plain": [
              "<Figure size 1200x600 with 1 Axes>"
            ]
          },
          "metadata": {},
          "output_type": "display_data"
        },
        {
          "name": "stdout",
          "output_type": "stream",
          "text": [
            "Статистика популярности книг:\n",
            "Общее количество книг: 10000\n",
            "Среднее количество оценок на книгу: 597.65\n",
            "Медианное количество оценок на книгу: 248.0\n",
            "Минимальное количество оценок на книгу: 8\n",
            "Максимальное количество оценок на книгу: 22806\n",
            "\n",
            "Популярные книги (5000+ оценок): 153 (1.53% всех книг)\n",
            "Книги с 500 или менее оценками (длинный хвост): 7480 (74.80% всех книг)\n"
          ]
        }
      ],
      "source": [
        "# Расчет количества оценок для каждой книги\n",
        "book_ratings_count = ratings_df.groupby('book_id').size().sort_values(ascending=False)\n",
        "\n",
        "# Построение графика зависимости количества книг от количества оценок\n",
        "plt.figure(figsize=(12, 6))\n",
        "plt.hist(book_ratings_count.values, bins=50, edgecolor='black')\n",
        "plt.title('Распределение количества оценок на книгу')\n",
        "plt.xlabel('Количество оценок')\n",
        "plt.ylabel('Количество книг')\n",
        "plt.yscale('log')  # Логарифмическая шкала для лучшей визуализации распределения\n",
        "plt.show()\n",
        "\n",
        "# Показ статистики о популярности книг\n",
        "print(\"Статистика популярности книг:\")\n",
        "print(f\"Общее количество книг: {len(book_ratings_count)}\")\n",
        "print(f\"Среднее количество оценок на книгу: {book_ratings_count.mean():.2f}\")\n",
        "print(f\"Медианное количество оценок на книгу: {book_ratings_count.median()}\")\n",
        "print(f\"Минимальное количество оценок на книгу: {book_ratings_count.min()}\")\n",
        "print(f\"Максимальное количество оценок на книгу: {book_ratings_count.max()}\")\n",
        "\n",
        "# Определение популярных книг (книги с множеством оценок)\n",
        "min_ratings_threshold = 500\n",
        "popular_books = book_ratings_count[book_ratings_count >= 5000]\n",
        "unpopular_books = book_ratings_count[book_ratings_count <= min_ratings_threshold]\n",
        "\n",
        "print(f\"\\nПопулярные книги (5000+ оценок): {len(popular_books)} ({len(popular_books)/len(book_ratings_count)*100:.2f}% всех книг)\")\n",
        "print(f\"Книги с {min_ratings_threshold} или менее оценками (длинный хвост): {len(unpopular_books)} ({len(unpopular_books)/len(book_ratings_count)*100:.2f}% всех книг)\")"
      ]
    },
    {
      "cell_type": "code",
      "execution_count": 16,
      "metadata": {
        "colab": {
          "base_uri": "https://localhost:8080/",
          "height": 787
        },
        "id": "sdTeS4zgZkPl",
        "outputId": "1fd0c855-7c18-4438-de29-3e87df345f2d"
      },
      "outputs": [
        {
          "data": {
            "image/png": "[encoded data removed]",
            "text/plain": [
              "<Figure size 1200x600 with 1 Axes>"
            ]
          },
          "metadata": {},
          "output_type": "display_data"
        },
        {
          "name": "stdout",
          "output_type": "stream",
          "text": [
            "\n",
            "10 самых популярных книг по количеству оценок:\n",
            "1. ID книги: 1, Название: The Hunger Games (The Hunger Games, #1), Оценок: 22806\n",
            "2. ID книги: 2, Название: Harry Potter and the Sorcerer's Stone (Harry Potter, #1), Оценок: 21850\n",
            "3. ID книги: 4, Название: To Kill a Mockingbird, Оценок: 19088\n",
            "4. ID книги: 3, Название: Twilight (Twilight, #1), Оценок: 16931\n",
            "5. ID книги: 5, Название: The Great Gatsby, Оценок: 16604\n",
            "6. ID книги: 17, Название: Catching Fire (The Hunger Games, #2), Оценок: 16549\n",
            "7. ID книги: 20, Название: Mockingjay (The Hunger Games, #3), Оценок: 15953\n",
            "8. ID книги: 18, Название: Harry Potter and the Prisoner of Azkaban (Harry Potter, #3), Оценок: 15855\n",
            "9. ID книги: 23, Название: Harry Potter and the Chamber of Secrets (Harry Potter, #2), Оценок: 15657\n",
            "10. ID книги: 7, Название: The Hobbit, Оценок: 15558\n"
          ]
        }
      ],
      "source": [
        "# Построение зависимости количества книг от количества оценок (ранжированный график)\n",
        "plt.figure(figsize=(12, 6))\n",
        "plt.plot(range(1, len(book_ratings_count) + 1), book_ratings_count.values)\n",
        "plt.title('Распределение популярности книг (ранжированный график)')\n",
        "plt.xlabel('Ранг книги (по популярности)')\n",
        "plt.ylabel('Количество оценок')\n",
        "plt.xscale('log')  # Логарифмическая шкала для оси x для лучшей визуализации распределения\n",
        "plt.grid(True)\n",
        "plt.show()\n",
        "\n",
        "# Показ 10 самых популярных книг\n",
        "top_10_popular_books = book_ratings_count.head(10)\n",
        "print(\"\\n10 самых популярных книг по количеству оценок:\")\n",
        "for i, (book_id, count) in enumerate(top_10_popular_books.items(), 1):\n",
        "    book_info = books_df[books_df['book_id'] == book_id]\n",
        "    if not book_info.empty:\n",
        "        title = book_info['title'].iloc[0]\n",
        "        print(f\"{i}. ID книги: {book_id}, Название: {title}, Оценок: {count}\")\n",
        "    else:\n",
        "        print(f\"{i}. ID книги: {book_id}, Оценок: {count} (Название не найдено)\")"
      ]
    },
    {
      "cell_type": "markdown",
      "metadata": {
        "id": "9EFwoHUjZkPl"
      },
      "source": [
        "### Визуализация частоты тегов\n",
        "\n",
        "Визуализируем самые частые теги для книг на основе файла book_tags.csv."
      ]
    },
    {
      "cell_type": "code",
      "execution_count": 17,
      "metadata": {
        "colab": {
          "base_uri": "https://localhost:8080/",
          "height": 1000
        },
        "id": "DGmjthBvZkPl",
        "outputId": "edfc4a4e-4711-4833-870f-f8991c1f6d63"
      },
      "outputs": [
        {
          "data": {
            "image/png": "[encoded data removed]",
            "text/plain": [
              "<Figure size 1400x800 with 1 Axes>"
            ]
          },
          "metadata": {},
          "output_type": "display_data"
        },
        {
          "name": "stdout",
          "output_type": "stream",
          "text": [
            "20 самых частых тегов:\n",
            "1. to-read: 9983 вхождений\n",
            "2. favorites: 9881 вхождений\n",
            "3. owned: 9858 вхождений\n",
            "4. books-i-own: 9799 вхождений\n",
            "5. currently-reading: 9776 вхождений\n",
            "6. library: 9415 вхождений\n",
            "7. owned-books: 9221 вхождений\n",
            "8. fiction: 9097 вхождений\n",
            "9. to-buy: 8692 вхождений\n",
            "10. kindle: 8316 вхождений\n",
            "11. default: 8239 вхождений\n",
            "12. ebook: 8054 вхождений\n",
            "13. my-books: 7561 вхождений\n",
            "14. audiobook: 7242 вхождений\n",
            "15. ebooks: 7203 вхождений\n",
            "16. wish-list: 7192 вхождений\n",
            "17. my-library: 7000 вхождений\n",
            "18. audiobooks: 6862 вхождений\n",
            "19. i-own: 6670 вхождений\n",
            "20. adult: 6604 вхождений\n"
          ]
        }
      ],
      "source": [
        "# Объединение book_tags с тегами, чтобы получить названия тегов\n",
        "book_tags_with_names = book_tags_df.merge(tags_df, on='tag_id', how='left')\n",
        "\n",
        "# Подсчет частоты каждого тега\n",
        "tag_counts = book_tags_with_names['tag_name'].value_counts()\n",
        "\n",
        "# Визуализация 20 самых частых тегов\n",
        "plt.figure(figsize=(14, 8))\n",
        "top_20_tags = tag_counts.head(20)\n",
        "sns.barplot(x=top_20_tags.values, y=top_20_tags.index)\n",
        "plt.title('20 самых частых тегов для книг')\n",
        "plt.xlabel('Количество')\n",
        "plt.ylabel('Тег')\n",
        "plt.show()\n",
        "\n",
        "# Печать 20 самых частых тегов\n",
        "print(\"20 самых частых тегов:\")\n",
        "for i, (tag, count) in enumerate(top_20_tags.items(), 1):\n",
        "    print(f\"{i}. {tag}: {count} вхождений\")"
      ]
    },
    {
      "cell_type": "markdown",
      "metadata": {
        "id": "GXLfzarJZkPl"
      },
      "source": [
        "### Анализ разреженности данных\n",
        "\n",
        "Дополнительно проанализируем разреженность матрицы пользователь-элемент и определим основные проблемы данных."
      ]
    },
    {
      "cell_type": "code",
      "execution_count": 18,
      "metadata": {
        "colab": {
          "base_uri": "https://localhost:8080/"
        },
        "id": "lsb9RgOnZkPm",
        "outputId": "63b454a9-030e-4e53-d99c-a1fb666941a9"
      },
      "outputs": [
        {
          "name": "stdout",
          "output_type": "stream",
          "text": [
            "Анализ разреженности данных:\n",
            "Количество уникальных пользователей: 53,424\n",
            "Количество уникальных книг: 10,000\n",
            "Общее количество оценок: 5,976,479\n",
            "Всего возможных комбинаций пользователь-книга: 534,240,000\n",
            "Разреженность данных: 0.9888 (98.88%)\n",
            "Среднее количество оценок на пользователя: 111.87\n",
            "Среднее количество оценок на книгу: 597.65\n",
            "\n",
            "Основные проблемы данных, выявленные в ходе анализа:\n",
            "1. Высокая разреженность данных: 0.9888 (98.88%) возможных взаимодействий пользователь-книга отсутствуют\n",
            "2. Смещение популярности: 74.80% книг имеют 500 или менее оценок (проблема длинного хвоста)\n",
            "3. Дисбаланс активности пользователей: 0.36% пользователей имеют 5 или менее оценок (проблема холодного старта)\n",
            "4. Смещение распределения оценок: Распределение оценок может показывать смещение в сторону определенных значений\n",
            "\n",
            "Дополнительные инсайты:\n",
            "- Самая популярная книга имеет 22806 оценок, а медианное значение составляет 248.0 оценок\n",
            "- Самый активный пользователь поставил 200 оценок, а медианное значение составляет 111.0 оценок\n",
            "- Датасет сильно несбалансирован, с несколькими популярными элементами и множеством непопулярных\n"
          ]
        }
      ],
      "source": [
        "# Расчет разреженности данных\n",
        "n_users = len(ratings_df['user_id'].unique())\n",
        "n_books = len(ratings_df['book_id'].unique())\n",
        "n_ratings = len(ratings_df)\n",
        "\n",
        "total_possible_ratings = n_users * n_books\n",
        "sparsity = 1.0 - (n_ratings / total_possible_ratings)\n",
        "\n",
        "print(\"Анализ разреженности данных:\")\n",
        "print(f\"Количество уникальных пользователей: {n_users:,}\")\n",
        "print(f\"Количество уникальных книг: {n_books:,}\")\n",
        "print(f\"Общее количество оценок: {n_ratings:,}\")\n",
        "print(f\"Всего возможных комбинаций пользователь-книга: {total_possible_ratings:,}\")\n",
        "print(f\"Разреженность данных: {sparsity:.4f} ({sparsity*100:.2f}%)\")\n",
        "print(f\"Среднее количество оценок на пользователя: {n_ratings/n_users:.2f}\")\n",
        "print(f\"Среднее количество оценок на книгу: {n_ratings/n_books:.2f}\")\n",
        "\n",
        "# Определение основных проблем данных\n",
        "print(\"\\nОсновные проблемы данных, выявленные в ходе анализа:\")\n",
        "print(f\"1. Высокая разреженность данных: {sparsity:.4f} ({sparsity*100:.2f}%) возможных взаимодействий пользователь-книга отсутствуют\")\n",
        "print(f\"2. Смещение популярности: {len(unpopular_books)/len(book_ratings_count)*100:.2f}% книг имеют 500 или менее оценок (проблема длинного хвоста)\")\n",
        "print(f\"3. Дисбаланс активности пользователей: {len(inactive_users)/len(user_ratings_count)*100:.2f}% пользователей имеют 5 или менее оценок (проблема холодного старта)\")\n",
        "print(f\"4. Смещение распределения оценок: Распределение оценок может показывать смещение в сторону определенных значений\")\n",
        "\n",
        "# Дополнительные инсайты\n",
        "print(\"\\nДополнительные инсайты:\")\n",
        "print(f\"- Самая популярная книга имеет {book_ratings_count.max()} оценок, а медианное значение составляет {book_ratings_count.median()} оценок\")\n",
        "print(f\"- Самый активный пользователь поставил {user_ratings_count.max()} оценок, а медианное значение составляет {user_ratings_count.median()} оценок\")\n",
        "print(f\"- Датасет сильно несбалансирован, с несколькими популярными элементами и множеством непопулярных\")"
      ]
    },
    {
      "cell_type": "markdown",
      "metadata": {
        "id": "OdWpE2crZkPm"
      },
      "source": [
        "### Заключение\n",
        "\n",
        "На основе нашего EDA мы можем определить несколько ключевых характеристик и проблем в данных оценок книг:\n",
        "\n",
        "1. Высокая разреженность данных: 0.9888 (98.88%) возможных взаимодействий пользователь-книга отсутствуют\n",
        "2. Смещение популярности: 74.80% книг имеют 500 или менее оценок (проблема длинного хвоста)\n",
        "3. Дисбаланс активности пользователей: 0.36% пользователей имеют 30 или менее оценок (проблема холодного старта)\n",
        "4. Смещение распределения оценок: Распределение показывает значительное смещение в сторону высоких оценок\n",
        "\n",
        "Дополнительные инсайты:\n",
        "- Самая популярная книга имеет 22806 оценок, а медианное значение составляет 248.0 оценок\n",
        "- Самый активный пользователь поставил 200 оценок, а медианное значение составляет 111.0 оценок\n",
        "- Датасет сильно несбалансирован, с несколькими популярными элементами и множеством непопулярных"
      ]
    },
    {
      "cell_type": "markdown",
      "metadata": {
        "id": "6b5Fc9LvZkPm"
      },
      "source": [
        "# Этап 2: базовые и контентные модели\n",
        "\n",
        "Реализуйте простые, но эффективные модели-бейзлайны."
      ]
    },
    {
      "cell_type": "markdown",
      "metadata": {
        "id": "2477A9NCZkPm"
      },
      "source": [
        "## 1. Неперсонализированная модель: реализуйте алгоритм, возвращающий Top-N самых популярных книг (по среднему рейтингу с порогом минимального количества оценок)."
      ]
    },
    {
      "cell_type": "code",
      "execution_count": 19,
      "metadata": {
        "colab": {
          "base_uri": "https://localhost:8080/"
        },
        "id": "cAXrvF2AZkPm",
        "outputId": "a6a92da1-2a6f-44f3-bc3a-36609193dbc9"
      },
      "outputs": [
        {
          "name": "stdout",
          "output_type": "stream",
          "text": [
            "Всего книг с 500+ оценками: 2526\n",
            "\n",
            "Топ-10 самых популярных книг:\n",
            "1. The Calvin and Hobbes Tenth Anniversary Book (ID: 1788) - Средний рейтинг: 4.73, Оценок: 652\n",
            "2. A Court of Mist and Fury (A Court of Thorns and Roses, #2) (ID: 1308) - Средний рейтинг: 4.72, Оценок: 933\n",
            "3. Words of Radiance (The Stormlight Archive, #2) (ID: 862) - Средний рейтинг: 4.7, Оценок: 1373\n",
            "4. Harry Potter Boxset (Harry Potter, #1-7) (ID: 422) - Средний рейтинг: 4.66, Оценок: 1915\n",
            "5. Calvin and Hobbes (ID: 780) - Средний рейтинг: 4.66, Оценок: 1394\n",
            "6. The Essential Calvin and Hobbes: A Calvin and Hobbes Treasury (ID: 1010) - Средний рейтинг: 4.65, Оценок: 1249\n",
            "7. Saga, Vol. 2 (Saga, #2) (ID: 2244) - Средний рейтинг: 4.62, Оценок: 528\n",
            "8. The Harry Potter Collection 1-4 (Harry Potter, #1-4) (ID: 2101) - Средний рейтинг: 4.61, Оценок: 560\n",
            "9. The Kindly Ones (The Sandman #9) (ID: 3395) - Средний рейтинг: 4.59, Оценок: 533\n",
            "10. Empire of Storms (Throne of Glass, #5) (ID: 2167) - Средний рейтинг: 4.58, Оценок: 652\n"
          ]
        }
      ],
      "source": [
        "# Рассчитываем средний рейтинг для каждой книги и количество оценок\n",
        "book_stats = ratings_df.groupby('book_id').agg({\n",
        "    'rating': ['mean', 'count']\n",
        "}).round(2)\n",
        "\n",
        "# Переименовываем столбцы\n",
        "book_stats.columns = ['avg_rating', 'rating_count']\n",
        "\n",
        "# Сбрасываем индекс, чтобы book_id стал обычным столбцом\n",
        "book_stats = book_stats.reset_index()\n",
        "\n",
        "# Устанавливаем порог минимального количества оценок\n",
        "popular_books = book_stats[book_stats['rating_count'] >= min_ratings_threshold]\n",
        "\n",
        "# Сортируем по среднему рейтингу (и количеству оценок в качестве приоритета при равенстве)\n",
        "popular_books = popular_books.sort_values(['avg_rating', 'rating_count'], ascending=False)\n",
        "\n",
        "print(f\"Всего книг с {min_ratings_threshold}+ оценками: {len(popular_books)}\")\n",
        "print(\"\\nТоп-10 самых популярных книг:\")\n",
        "top_10_popular = popular_books.head(10)\n",
        "\n",
        "# Добавляем названия книг для лучшего отображения\n",
        "top_10_popular_with_titles = top_10_popular.merge(books_df[['book_id', 'title']], on='book_id', how='left')\n",
        "for i, (_, row) in enumerate(top_10_popular_with_titles.iterrows(), 1):\n",
        "    print(f\"{i}. {row['title']} (ID: {row['book_id']}) - Средний рейтинг: {row['avg_rating']}, Оценок: {row['rating_count']}\")"
      ]
    },
    {
      "cell_type": "code",
      "execution_count": 20,
      "metadata": {
        "id": "S1iAdauhZkPm"
      },
      "outputs": [],
      "source": [
        "# Функция для получения топ-N самых популярных книг\n",
        "def get_top_n_popular_books(n=10, min_ratings=min_ratings_threshold):\n",
        "    \"\"\"\n",
        "    Возвращает топ-N самых популярных книг\n",
        "\n",
        "    Parameters:\n",
        "    n (int): Количество книг для возврата\n",
        "    min_ratings (int): Минимальное количество оценок для учета книги\n",
        "\n",
        "    Returns:\n",
        "    DataFrame: Топ-N книг с информацией о рейтинге\n",
        "    \"\"\"\n",
        "    book_stats = ratings_df.groupby('book_id').agg({\n",
        "        'rating': ['mean', 'count']\n",
        "    }).round(2)\n",
        "\n",
        "    book_stats.columns = ['avg_rating', 'rating_count']\n",
        "    book_stats = book_stats.reset_index()\n",
        "\n",
        "    popular_books = book_stats[book_stats['rating_count'] >= min_ratings]\n",
        "    popular_books = popular_books.sort_values(['avg_rating', 'rating_count'], ascending=False)\n",
        "\n",
        "    top_n_books = popular_books.head(n)\n",
        "    top_n_books_with_titles = top_n_books.merge(books_df[['book_id', 'title']], on='book_id', how='left')\n",
        "\n",
        "    return top_n_books_with_titles[['book_id', 'title', 'avg_rating', 'rating_count']]"
      ]
    },
    {
      "cell_type": "code",
      "execution_count": 21,
      "metadata": {
        "colab": {
          "base_uri": "https://localhost:8080/"
        },
        "id": "YS9SBnIuZkPm",
        "outputId": "26ec7cea-9073-4674-a36e-b6e8a2a51def"
      },
      "outputs": [
        {
          "name": "stdout",
          "output_type": "stream",
          "text": [
            "Топ-5 самых популярных книг:\n",
            "   book_id                                              title  avg_rating  \\\n",
            "0     1788       The Calvin and Hobbes Tenth Anniversary Book        4.73   \n",
            "1     1308  A Court of Mist and Fury (A Court of Thorns an...        4.72   \n",
            "2      862     Words of Radiance (The Stormlight Archive, #2)        4.70   \n",
            "3      422           Harry Potter Boxset (Harry Potter, #1-7)        4.66   \n",
            "4      780                                  Calvin and Hobbes        4.66   \n",
            "\n",
            "   rating_count  \n",
            "0           652  \n",
            "1           933  \n",
            "2          1373  \n",
            "3          1915  \n",
            "4          1394  \n",
            "Топ-5 самых популярных книг c 1000+ оценок:\n",
            "   book_id                                              title  avg_rating  \\\n",
            "0      862     Words of Radiance (The Stormlight Archive, #2)        4.70   \n",
            "1      422           Harry Potter Boxset (Harry Potter, #1-7)        4.66   \n",
            "2      780                                  Calvin and Hobbes        4.66   \n",
            "3     1010  The Essential Calvin and Hobbes: A Calvin and ...        4.65   \n",
            "4     1264             Queen of Shadows (Throne of Glass, #4)        4.56   \n",
            "\n",
            "   rating_count  \n",
            "0          1373  \n",
            "1          1915  \n",
            "2          1394  \n",
            "3          1249  \n",
            "4          1078  \n",
            "Топ-5 самых популярных книг c 5000+ оценок:\n",
            "   book_id                                              title  avg_rating  \\\n",
            "0       25  Harry Potter and the Deathly Hallows (Harry Po...        4.53   \n",
            "1       27  Harry Potter and the Half-Blood Prince (Harry ...        4.44   \n",
            "2       24  Harry Potter and the Goblet of Fire (Harry Pot...        4.43   \n",
            "3       18  Harry Potter and the Prisoner of Azkaban (Harr...        4.42   \n",
            "4      161  The Return of the King (The Lord of the Rings,...        4.42   \n",
            "\n",
            "   rating_count  \n",
            "0         15304  \n",
            "1         15081  \n",
            "2         15523  \n",
            "3         15855  \n",
            "4          6331  \n"
          ]
        }
      ],
      "source": [
        "# Пример использования функции\n",
        "print(\"Топ-5 самых популярных книг:\")\n",
        "top_5 = get_top_n_popular_books(n=5)\n",
        "print(top_5)\n",
        "\n",
        "print(\"Топ-5 самых популярных книг c 1000+ оценок:\")\n",
        "top_5 = get_top_n_popular_books(n=5, min_ratings=1000)\n",
        "print(top_5)\n",
        "\n",
        "print(\"Топ-5 самых популярных книг c 5000+ оценок:\")\n",
        "top_5 = get_top_n_popular_books(n=5, min_ratings=5000)\n",
        "print(top_5)"
      ]
    },
    {
      "cell_type": "markdown",
      "metadata": {
        "id": "gNnn7FvDZkPm"
      },
      "source": [
        "Обратим внимание, что порог минимального количества оценок значительно влияет на ТОП-выдачу"
      ]
    },
    {
      "cell_type": "markdown",
      "metadata": {
        "id": "MnpwpPRuZkPm"
      },
      "source": [
        "## 2. Контентная модель:\n",
        "        - Объедините данные о книгах с их тегами. Для каждой книги создайте текстовый «профиль» из названия (original_title) и списка тегов.\n",
        "        - Векторизуйте эти профили с помощью TF-IDF.\n",
        "        - Реализуйте функцию get_similar_books(book_id, N=5), которая находит N самых похожих книг по косинусной мере близости между их TF-IDF-векторами."
      ]
    },
    {
      "cell_type": "markdown",
      "metadata": {
        "id": "UFbaw2o3ZkPm"
      },
      "source": [
        "Реализуем контентную модель с использованием TF-IDF и косинусной меры близости."
      ]
    },
    {
      "cell_type": "code",
      "execution_count": 22,
      "metadata": {
        "colab": {
          "base_uri": "https://localhost:8080/",
          "height": 424
        },
        "id": "7uSi5nUDZkPm",
        "outputId": "1bcdf266-6c7d-40f3-f046-31409e5114b9"
      },
      "outputs": [
        {
          "data": {
            "text/html": [
              "<div>\n",
              "<style scoped>\n",
              "    .dataframe tbody tr th:only-of-type {\n",
              "        vertical-align: middle;\n",
              "    }\n",
              "\n",
              "    .dataframe tbody tr th {\n",
              "        vertical-align: top;\n",
              "    }\n",
              "\n",
              "    .dataframe thead th {\n",
              "        text-align: right;\n",
              "    }\n",
              "</style>\n",
              "<table border=\"1\" class=\"dataframe\">\n",
              "  <thead>\n",
              "    <tr style=\"text-align: right;\">\n",
              "      <th></th>\n",
              "      <th>goodreads_book_id</th>\n",
              "      <th>tag_id</th>\n",
              "      <th>count</th>\n",
              "      <th>tag_name</th>\n",
              "    </tr>\n",
              "  </thead>\n",
              "  <tbody>\n",
              "    <tr>\n",
              "      <th>0</th>\n",
              "      <td>1</td>\n",
              "      <td>30574</td>\n",
              "      <td>167697</td>\n",
              "      <td>to-read</td>\n",
              "    </tr>\n",
              "    <tr>\n",
              "      <th>1</th>\n",
              "      <td>1</td>\n",
              "      <td>11305</td>\n",
              "      <td>37174</td>\n",
              "      <td>fantasy</td>\n",
              "    </tr>\n",
              "    <tr>\n",
              "      <th>2</th>\n",
              "      <td>1</td>\n",
              "      <td>11557</td>\n",
              "      <td>34173</td>\n",
              "      <td>favorites</td>\n",
              "    </tr>\n",
              "    <tr>\n",
              "      <th>3</th>\n",
              "      <td>1</td>\n",
              "      <td>8717</td>\n",
              "      <td>12986</td>\n",
              "      <td>currently-reading</td>\n",
              "    </tr>\n",
              "    <tr>\n",
              "      <th>4</th>\n",
              "      <td>1</td>\n",
              "      <td>33114</td>\n",
              "      <td>12716</td>\n",
              "      <td>young-adult</td>\n",
              "    </tr>\n",
              "    <tr>\n",
              "      <th>...</th>\n",
              "      <td>...</td>\n",
              "      <td>...</td>\n",
              "      <td>...</td>\n",
              "      <td>...</td>\n",
              "    </tr>\n",
              "    <tr>\n",
              "      <th>999907</th>\n",
              "      <td>33288638</td>\n",
              "      <td>21303</td>\n",
              "      <td>7</td>\n",
              "      <td>neighbors</td>\n",
              "    </tr>\n",
              "    <tr>\n",
              "      <th>999908</th>\n",
              "      <td>33288638</td>\n",
              "      <td>17271</td>\n",
              "      <td>7</td>\n",
              "      <td>kindleunlimited</td>\n",
              "    </tr>\n",
              "    <tr>\n",
              "      <th>999909</th>\n",
              "      <td>33288638</td>\n",
              "      <td>1126</td>\n",
              "      <td>7</td>\n",
              "      <td>5-star-reads</td>\n",
              "    </tr>\n",
              "    <tr>\n",
              "      <th>999910</th>\n",
              "      <td>33288638</td>\n",
              "      <td>11478</td>\n",
              "      <td>7</td>\n",
              "      <td>fave-author</td>\n",
              "    </tr>\n",
              "    <tr>\n",
              "      <th>999911</th>\n",
              "      <td>33288638</td>\n",
              "      <td>27939</td>\n",
              "      <td>7</td>\n",
              "      <td>slowburn</td>\n",
              "    </tr>\n",
              "  </tbody>\n",
              "</table>\n",
              "<p>999912 rows × 4 columns</p>\n",
              "</div>"
            ],
            "text/plain": [
              "        goodreads_book_id  tag_id   count           tag_name\n",
              "0                       1   30574  167697            to-read\n",
              "1                       1   11305   37174            fantasy\n",
              "2                       1   11557   34173          favorites\n",
              "3                       1    8717   12986  currently-reading\n",
              "4                       1   33114   12716        young-adult\n",
              "...                   ...     ...     ...                ...\n",
              "999907           33288638   21303       7          neighbors\n",
              "999908           33288638   17271       7    kindleunlimited\n",
              "999909           33288638    1126       7       5-star-reads\n",
              "999910           33288638   11478       7        fave-author\n",
              "999911           33288638   27939       7           slowburn\n",
              "\n",
              "[999912 rows x 4 columns]"
            ]
          },
          "execution_count": 22,
          "metadata": {},
          "output_type": "execute_result"
        }
      ],
      "source": [
        "# Объединяем данные о книгах с их тегами\n",
        "book_tags_with_names = book_tags_df.merge(tags_df, on='tag_id', how='left')\n",
        "book_tags_with_names"
      ]
    },
    {
      "cell_type": "code",
      "execution_count": 23,
      "metadata": {
        "colab": {
          "base_uri": "https://localhost:8080/",
          "height": 1000
        },
        "id": "Wyjv3PApZkPm",
        "outputId": "d84cef4c-f82b-4df9-d350-ab5895fcfd4e"
      },
      "outputs": [
        {
          "data": {
            "text/html": [
              "<div>\n",
              "<style scoped>\n",
              "    .dataframe tbody tr th:only-of-type {\n",
              "        vertical-align: middle;\n",
              "    }\n",
              "\n",
              "    .dataframe tbody tr th {\n",
              "        vertical-align: top;\n",
              "    }\n",
              "\n",
              "    .dataframe thead th {\n",
              "        text-align: right;\n",
              "    }\n",
              "</style>\n",
              "<table border=\"1\" class=\"dataframe\">\n",
              "  <thead>\n",
              "    <tr style=\"text-align: right;\">\n",
              "      <th></th>\n",
              "      <th>book_id</th>\n",
              "      <th>goodreads_book_id</th>\n",
              "      <th>best_book_id</th>\n",
              "      <th>work_id</th>\n",
              "      <th>books_count</th>\n",
              "      <th>isbn</th>\n",
              "      <th>isbn13</th>\n",
              "      <th>authors</th>\n",
              "      <th>original_publication_year</th>\n",
              "      <th>original_title</th>\n",
              "      <th>...</th>\n",
              "      <th>work_ratings_count</th>\n",
              "      <th>work_text_reviews_count</th>\n",
              "      <th>ratings_1</th>\n",
              "      <th>ratings_2</th>\n",
              "      <th>ratings_3</th>\n",
              "      <th>ratings_4</th>\n",
              "      <th>ratings_5</th>\n",
              "      <th>image_url</th>\n",
              "      <th>small_image_url</th>\n",
              "      <th>tags</th>\n",
              "    </tr>\n",
              "  </thead>\n",
              "  <tbody>\n",
              "    <tr>\n",
              "      <th>0</th>\n",
              "      <td>1</td>\n",
              "      <td>2767052</td>\n",
              "      <td>2767052</td>\n",
              "      <td>2792775</td>\n",
              "      <td>272</td>\n",
              "      <td>439023483</td>\n",
              "      <td>9.780439e+12</td>\n",
              "      <td>Suzanne Collins</td>\n",
              "      <td>2008.0</td>\n",
              "      <td>The Hunger Games</td>\n",
              "      <td>...</td>\n",
              "      <td>4942365</td>\n",
              "      <td>155254</td>\n",
              "      <td>66715</td>\n",
              "      <td>127936</td>\n",
              "      <td>560092</td>\n",
              "      <td>1481305</td>\n",
              "      <td>2706317</td>\n",
              "      <td>https://images.gr-assets.com/books/1447303603m...</td>\n",
              "      <td>https://images.gr-assets.com/books/1447303603s...</td>\n",
              "      <td>favorites currently-reading young-adult fictio...</td>\n",
              "    </tr>\n",
              "    <tr>\n",
              "      <th>1</th>\n",
              "      <td>2</td>\n",
              "      <td>3</td>\n",
              "      <td>3</td>\n",
              "      <td>4640799</td>\n",
              "      <td>491</td>\n",
              "      <td>439554934</td>\n",
              "      <td>9.780440e+12</td>\n",
              "      <td>J.K. Rowling, Mary GrandPré</td>\n",
              "      <td>1997.0</td>\n",
              "      <td>Harry Potter and the Philosopher's Stone</td>\n",
              "      <td>...</td>\n",
              "      <td>4800065</td>\n",
              "      <td>75867</td>\n",
              "      <td>75504</td>\n",
              "      <td>101676</td>\n",
              "      <td>455024</td>\n",
              "      <td>1156318</td>\n",
              "      <td>3011543</td>\n",
              "      <td>https://images.gr-assets.com/books/1474154022m...</td>\n",
              "      <td>https://images.gr-assets.com/books/1474154022s...</td>\n",
              "      <td>to-read favorites fantasy currently-reading yo...</td>\n",
              "    </tr>\n",
              "    <tr>\n",
              "      <th>2</th>\n",
              "      <td>3</td>\n",
              "      <td>41865</td>\n",
              "      <td>41865</td>\n",
              "      <td>3212258</td>\n",
              "      <td>226</td>\n",
              "      <td>316015849</td>\n",
              "      <td>9.780316e+12</td>\n",
              "      <td>Stephenie Meyer</td>\n",
              "      <td>2005.0</td>\n",
              "      <td>Twilight</td>\n",
              "      <td>...</td>\n",
              "      <td>3916824</td>\n",
              "      <td>95009</td>\n",
              "      <td>456191</td>\n",
              "      <td>436802</td>\n",
              "      <td>793319</td>\n",
              "      <td>875073</td>\n",
              "      <td>1355439</td>\n",
              "      <td>https://images.gr-assets.com/books/1361039443m...</td>\n",
              "      <td>https://images.gr-assets.com/books/1361039443s...</td>\n",
              "      <td>young-adult fantasy favorites vampires ya fict...</td>\n",
              "    </tr>\n",
              "    <tr>\n",
              "      <th>3</th>\n",
              "      <td>4</td>\n",
              "      <td>2657</td>\n",
              "      <td>2657</td>\n",
              "      <td>3275794</td>\n",
              "      <td>487</td>\n",
              "      <td>61120081</td>\n",
              "      <td>9.780061e+12</td>\n",
              "      <td>Harper Lee</td>\n",
              "      <td>1960.0</td>\n",
              "      <td>To Kill a Mockingbird</td>\n",
              "      <td>...</td>\n",
              "      <td>3340896</td>\n",
              "      <td>72586</td>\n",
              "      <td>60427</td>\n",
              "      <td>117415</td>\n",
              "      <td>446835</td>\n",
              "      <td>1001952</td>\n",
              "      <td>1714267</td>\n",
              "      <td>https://images.gr-assets.com/books/1361975680m...</td>\n",
              "      <td>https://images.gr-assets.com/books/1361975680s...</td>\n",
              "      <td>classics favorites to-read classic historical-...</td>\n",
              "    </tr>\n",
              "    <tr>\n",
              "      <th>4</th>\n",
              "      <td>5</td>\n",
              "      <td>4671</td>\n",
              "      <td>4671</td>\n",
              "      <td>245494</td>\n",
              "      <td>1356</td>\n",
              "      <td>743273567</td>\n",
              "      <td>9.780743e+12</td>\n",
              "      <td>F. Scott Fitzgerald</td>\n",
              "      <td>1925.0</td>\n",
              "      <td>The Great Gatsby</td>\n",
              "      <td>...</td>\n",
              "      <td>2773745</td>\n",
              "      <td>51992</td>\n",
              "      <td>86236</td>\n",
              "      <td>197621</td>\n",
              "      <td>606158</td>\n",
              "      <td>936012</td>\n",
              "      <td>947718</td>\n",
              "      <td>https://images.gr-assets.com/books/1490528560m...</td>\n",
              "      <td>https://images.gr-assets.com/books/1490528560s...</td>\n",
              "      <td>classics favorites fiction classic books-i-own...</td>\n",
              "    </tr>\n",
              "    <tr>\n",
              "      <th>...</th>\n",
              "      <td>...</td>\n",
              "      <td>...</td>\n",
              "      <td>...</td>\n",
              "      <td>...</td>\n",
              "      <td>...</td>\n",
              "      <td>...</td>\n",
              "      <td>...</td>\n",
              "      <td>...</td>\n",
              "      <td>...</td>\n",
              "      <td>...</td>\n",
              "      <td>...</td>\n",
              "      <td>...</td>\n",
              "      <td>...</td>\n",
              "      <td>...</td>\n",
              "      <td>...</td>\n",
              "      <td>...</td>\n",
              "      <td>...</td>\n",
              "      <td>...</td>\n",
              "      <td>...</td>\n",
              "      <td>...</td>\n",
              "      <td>...</td>\n",
              "    </tr>\n",
              "    <tr>\n",
              "      <th>9995</th>\n",
              "      <td>9996</td>\n",
              "      <td>7130616</td>\n",
              "      <td>7130616</td>\n",
              "      <td>7392860</td>\n",
              "      <td>19</td>\n",
              "      <td>441019455</td>\n",
              "      <td>9.780441e+12</td>\n",
              "      <td>Ilona Andrews</td>\n",
              "      <td>2010.0</td>\n",
              "      <td>Bayou Moon</td>\n",
              "      <td>...</td>\n",
              "      <td>18856</td>\n",
              "      <td>1180</td>\n",
              "      <td>105</td>\n",
              "      <td>575</td>\n",
              "      <td>3538</td>\n",
              "      <td>7860</td>\n",
              "      <td>6778</td>\n",
              "      <td>https://images.gr-assets.com/books/1307445460m...</td>\n",
              "      <td>https://images.gr-assets.com/books/1307445460s...</td>\n",
              "      <td>to-read urban-fantasy fantasy romance paranorm...</td>\n",
              "    </tr>\n",
              "    <tr>\n",
              "      <th>9996</th>\n",
              "      <td>9997</td>\n",
              "      <td>208324</td>\n",
              "      <td>208324</td>\n",
              "      <td>1084709</td>\n",
              "      <td>19</td>\n",
              "      <td>067973371X</td>\n",
              "      <td>9.780680e+12</td>\n",
              "      <td>Robert A. Caro</td>\n",
              "      <td>1990.0</td>\n",
              "      <td>Means of Ascent</td>\n",
              "      <td>...</td>\n",
              "      <td>12952</td>\n",
              "      <td>395</td>\n",
              "      <td>303</td>\n",
              "      <td>551</td>\n",
              "      <td>1737</td>\n",
              "      <td>3389</td>\n",
              "      <td>6972</td>\n",
              "      <td>https://s.gr-assets.com/assets/nophoto/book/11...</td>\n",
              "      <td>https://s.gr-assets.com/assets/nophoto/book/50...</td>\n",
              "      <td>to-read biography history politics non-fiction...</td>\n",
              "    </tr>\n",
              "    <tr>\n",
              "      <th>9997</th>\n",
              "      <td>9998</td>\n",
              "      <td>77431</td>\n",
              "      <td>77431</td>\n",
              "      <td>2393986</td>\n",
              "      <td>60</td>\n",
              "      <td>039330762X</td>\n",
              "      <td>9.780393e+12</td>\n",
              "      <td>Patrick O'Brian</td>\n",
              "      <td>1977.0</td>\n",
              "      <td>The Mauritius Command</td>\n",
              "      <td>...</td>\n",
              "      <td>10733</td>\n",
              "      <td>374</td>\n",
              "      <td>11</td>\n",
              "      <td>111</td>\n",
              "      <td>1191</td>\n",
              "      <td>4240</td>\n",
              "      <td>5180</td>\n",
              "      <td>https://images.gr-assets.com/books/1455373531m...</td>\n",
              "      <td>https://images.gr-assets.com/books/1455373531s...</td>\n",
              "      <td>to-read historical-fiction fiction historical ...</td>\n",
              "    </tr>\n",
              "    <tr>\n",
              "      <th>9998</th>\n",
              "      <td>9999</td>\n",
              "      <td>8565083</td>\n",
              "      <td>8565083</td>\n",
              "      <td>13433613</td>\n",
              "      <td>7</td>\n",
              "      <td>61711527</td>\n",
              "      <td>9.780062e+12</td>\n",
              "      <td>Peggy Orenstein</td>\n",
              "      <td>2011.0</td>\n",
              "      <td>Cinderella Ate My Daughter: Dispatches from th...</td>\n",
              "      <td>...</td>\n",
              "      <td>11994</td>\n",
              "      <td>1988</td>\n",
              "      <td>275</td>\n",
              "      <td>1002</td>\n",
              "      <td>3765</td>\n",
              "      <td>4577</td>\n",
              "      <td>2375</td>\n",
              "      <td>https://images.gr-assets.com/books/1279214118m...</td>\n",
              "      <td>https://images.gr-assets.com/books/1279214118s...</td>\n",
              "      <td>to-read non-fiction nonfiction parenting femin...</td>\n",
              "    </tr>\n",
              "    <tr>\n",
              "      <th>9999</th>\n",
              "      <td>10000</td>\n",
              "      <td>8914</td>\n",
              "      <td>8914</td>\n",
              "      <td>11817</td>\n",
              "      <td>31</td>\n",
              "      <td>375700455</td>\n",
              "      <td>9.780376e+12</td>\n",
              "      <td>John Keegan</td>\n",
              "      <td>1998.0</td>\n",
              "      <td>The First World War</td>\n",
              "      <td>...</td>\n",
              "      <td>9700</td>\n",
              "      <td>364</td>\n",
              "      <td>117</td>\n",
              "      <td>345</td>\n",
              "      <td>2031</td>\n",
              "      <td>4138</td>\n",
              "      <td>3069</td>\n",
              "      <td>https://images.gr-assets.com/books/1403194704m...</td>\n",
              "      <td>https://images.gr-assets.com/books/1403194704s...</td>\n",
              "      <td>to-read history currently-reading non-fiction ...</td>\n",
              "    </tr>\n",
              "  </tbody>\n",
              "</table>\n",
              "<p>10000 rows × 24 columns</p>\n",
              "</div>"
            ],
            "text/plain": [
              "      book_id  goodreads_book_id  best_book_id   work_id  books_count  \\\n",
              "0           1            2767052       2767052   2792775          272   \n",
              "1           2                  3             3   4640799          491   \n",
              "2           3              41865         41865   3212258          226   \n",
              "3           4               2657          2657   3275794          487   \n",
              "4           5               4671          4671    245494         1356   \n",
              "...       ...                ...           ...       ...          ...   \n",
              "9995     9996            7130616       7130616   7392860           19   \n",
              "9996     9997             208324        208324   1084709           19   \n",
              "9997     9998              77431         77431   2393986           60   \n",
              "9998     9999            8565083       8565083  13433613            7   \n",
              "9999    10000               8914          8914     11817           31   \n",
              "\n",
              "            isbn        isbn13                      authors  \\\n",
              "0      439023483  9.780439e+12              Suzanne Collins   \n",
              "1      439554934  9.780440e+12  J.K. Rowling, Mary GrandPré   \n",
              "2      316015849  9.780316e+12              Stephenie Meyer   \n",
              "3       61120081  9.780061e+12                   Harper Lee   \n",
              "4      743273567  9.780743e+12          F. Scott Fitzgerald   \n",
              "...          ...           ...                          ...   \n",
              "9995   441019455  9.780441e+12                Ilona Andrews   \n",
              "9996  067973371X  9.780680e+12               Robert A. Caro   \n",
              "9997  039330762X  9.780393e+12              Patrick O'Brian   \n",
              "9998    61711527  9.780062e+12              Peggy Orenstein   \n",
              "9999   375700455  9.780376e+12                  John Keegan   \n",
              "\n",
              "      original_publication_year  \\\n",
              "0                        2008.0   \n",
              "1                        1997.0   \n",
              "2                        2005.0   \n",
              "3                        1960.0   \n",
              "4                        1925.0   \n",
              "...                         ...   \n",
              "9995                     2010.0   \n",
              "9996                     1990.0   \n",
              "9997                     1977.0   \n",
              "9998                     2011.0   \n",
              "9999                     1998.0   \n",
              "\n",
              "                                         original_title  ...  \\\n",
              "0                                      The Hunger Games  ...   \n",
              "1              Harry Potter and the Philosopher's Stone  ...   \n",
              "2                                              Twilight  ...   \n",
              "3                                 To Kill a Mockingbird  ...   \n",
              "4                                      The Great Gatsby  ...   \n",
              "...                                                 ...  ...   \n",
              "9995                                         Bayou Moon  ...   \n",
              "9996                                   Means of Ascent   ...   \n",
              "9997                              The Mauritius Command  ...   \n",
              "9998  Cinderella Ate My Daughter: Dispatches from th...  ...   \n",
              "9999                                The First World War  ...   \n",
              "\n",
              "     work_ratings_count work_text_reviews_count  ratings_1  ratings_2  \\\n",
              "0               4942365                  155254      66715     127936   \n",
              "1               4800065                   75867      75504     101676   \n",
              "2               3916824                   95009     456191     436802   \n",
              "3               3340896                   72586      60427     117415   \n",
              "4               2773745                   51992      86236     197621   \n",
              "...                 ...                     ...        ...        ...   \n",
              "9995              18856                    1180        105        575   \n",
              "9996              12952                     395        303        551   \n",
              "9997              10733                     374         11        111   \n",
              "9998              11994                    1988        275       1002   \n",
              "9999               9700                     364        117        345   \n",
              "\n",
              "      ratings_3  ratings_4  ratings_5  \\\n",
              "0        560092    1481305    2706317   \n",
              "1        455024    1156318    3011543   \n",
              "2        793319     875073    1355439   \n",
              "3        446835    1001952    1714267   \n",
              "4        606158     936012     947718   \n",
              "...         ...        ...        ...   \n",
              "9995       3538       7860       6778   \n",
              "9996       1737       3389       6972   \n",
              "9997       1191       4240       5180   \n",
              "9998       3765       4577       2375   \n",
              "9999       2031       4138       3069   \n",
              "\n",
              "                                              image_url  \\\n",
              "0     https://images.gr-assets.com/books/1447303603m...   \n",
              "1     https://images.gr-assets.com/books/1474154022m...   \n",
              "2     https://images.gr-assets.com/books/1361039443m...   \n",
              "3     https://images.gr-assets.com/books/1361975680m...   \n",
              "4     https://images.gr-assets.com/books/1490528560m...   \n",
              "...                                                 ...   \n",
              "9995  https://images.gr-assets.com/books/1307445460m...   \n",
              "9996  https://s.gr-assets.com/assets/nophoto/book/11...   \n",
              "9997  https://images.gr-assets.com/books/1455373531m...   \n",
              "9998  https://images.gr-assets.com/books/1279214118m...   \n",
              "9999  https://images.gr-assets.com/books/1403194704m...   \n",
              "\n",
              "                                        small_image_url  \\\n",
              "0     https://images.gr-assets.com/books/1447303603s...   \n",
              "1     https://images.gr-assets.com/books/1474154022s...   \n",
              "2     https://images.gr-assets.com/books/1361039443s...   \n",
              "3     https://images.gr-assets.com/books/1361975680s...   \n",
              "4     https://images.gr-assets.com/books/1490528560s...   \n",
              "...                                                 ...   \n",
              "9995  https://images.gr-assets.com/books/1307445460s...   \n",
              "9996  https://s.gr-assets.com/assets/nophoto/book/50...   \n",
              "9997  https://images.gr-assets.com/books/1455373531s...   \n",
              "9998  https://images.gr-assets.com/books/1279214118s...   \n",
              "9999  https://images.gr-assets.com/books/1403194704s...   \n",
              "\n",
              "                                                   tags  \n",
              "0     favorites currently-reading young-adult fictio...  \n",
              "1     to-read favorites fantasy currently-reading yo...  \n",
              "2     young-adult fantasy favorites vampires ya fict...  \n",
              "3     classics favorites to-read classic historical-...  \n",
              "4     classics favorites fiction classic books-i-own...  \n",
              "...                                                 ...  \n",
              "9995  to-read urban-fantasy fantasy romance paranorm...  \n",
              "9996  to-read biography history politics non-fiction...  \n",
              "9997  to-read historical-fiction fiction historical ...  \n",
              "9998  to-read non-fiction nonfiction parenting femin...  \n",
              "9999  to-read history currently-reading non-fiction ...  \n",
              "\n",
              "[10000 rows x 24 columns]"
            ]
          },
          "execution_count": 23,
          "metadata": {},
          "output_type": "execute_result"
        }
      ],
      "source": [
        "# Группируем теги по книге\n",
        "book_tags_grouped = book_tags_with_names.groupby('goodreads_book_id')['tag_name'].apply(lambda x: ' '.join(x.dropna().astype(str))).reset_index()\n",
        "book_tags_grouped.columns = ['goodreads_book_id', 'tags']\n",
        "\n",
        "# Объединяем с основной информацией о книгах\n",
        "books_with_tags = books_df.merge(book_tags_grouped, on='goodreads_book_id', how='left')\n",
        "books_with_tags"
      ]
    },
    {
      "cell_type": "code",
      "execution_count": 24,
      "metadata": {
        "colab": {
          "base_uri": "https://localhost:8080/"
        },
        "id": "VD5BFFz9ZkPm",
        "outputId": "a0bb1246-2d61-4a71-c7e6-af166f2b1b41"
      },
      "outputs": [
        {
          "name": "stdout",
          "output_type": "stream",
          "text": [
            "Всего книг с профилями: 10000\n",
            "Пример профиля книги:\n",
            "The Hunger Games (The Hunger Games, #1) favorites currently-reading young-adult fiction dystopian to-read dystopia fantasy ya science-fiction books-i-own sci-fi series owned favourites romance adventure hunger-games book-club kindle teen read-in-2012 post-apocalyptic my-books the-hunger-games favorite-books action suzanne-collins re-read all-time-favorites ya-fiction survival sci-fi-fantasy books favorite scifi 5-stars i-own read-in-2011 novels ebook audiobook young-adult-fiction thriller my-favorites audiobooks read-2012 futuristic ebooks default library fantasy-sci-fi suspense shelfari-favorites faves reread read-in-2010 my-library audio favorite-series teen-fiction ya-lit ya-books own-it finished action-adventure love love-triangle favs loved distopia read-in-2013 coming-of-age dystopian-fiction distopian borrowed english to-buy novel read-more-than-once favourite read-2011 favourite-books scifi-fantasy ya-fantasy future read-in-2014 contemporary trilogy dystopias e-book reviewed ya-dystopian speculative-fiction 2012-reads finished-series sf completed-series drama 5-star\n"
          ]
        }
      ],
      "source": [
        "# Заполняем пропущенные теги пустой строкой\n",
        "books_with_tags['tags'] = books_with_tags['tags'].fillna('')\n",
        "\n",
        "# Создаем текстовый профиль из названия и тегов\n",
        "books_with_tags['profile'] = books_with_tags['title'] + ' ' + books_with_tags['tags']\n",
        "\n",
        "print(f\"Всего книг с профилями: {len(books_with_tags)}\")\n",
        "print(\"Пример профиля книги:\")\n",
        "print(books_with_tags.iloc[0]['profile'])"
      ]
    },
    {
      "cell_type": "code",
      "execution_count": 25,
      "metadata": {
        "colab": {
          "base_uri": "https://localhost:8080/"
        },
        "id": "e4x7UfmuZkPm",
        "outputId": "29df993e-892b-4558-8a45-f363ba03ee33"
      },
      "outputs": [
        {
          "name": "stdout",
          "output_type": "stream",
          "text": [
            "Размер TF-IDF матрицы: (10000, 5000)\n"
          ]
        }
      ],
      "source": [
        "# Векторизация профилей с помощью TF-IDF\n",
        "tfidf = TfidfVectorizer(stop_words='english', max_features=5000, lowercase=True)\n",
        "tfidf_matrix = tfidf.fit_transform(books_with_tags['profile'])\n",
        "\n",
        "print(f\"Размер TF-IDF матрицы: {tfidf_matrix.shape}\")"
      ]
    },
    {
      "cell_type": "code",
      "execution_count": 26,
      "metadata": {
        "id": "DtMY42AWZkPm"
      },
      "outputs": [],
      "source": [
        "# Функция для поиска похожих книг\n",
        "def get_similar_books(book_id, n=5):\n",
        "    \"\"\"\n",
        "    Находит N самых похожих книг по косинусной мере близости между их TF-IDF-векторами\n",
        "\n",
        "    Parameters:\n",
        "    book_id (int): ID книги, для которой ищем похожие\n",
        "    n (int): Количество похожих книг для возврата\n",
        "\n",
        "    Returns:\n",
        "    DataFrame: Таблица с похожими книгами их сходством\n",
        "    \"\"\"\n",
        "    # Проверяем, существует ли книга с таким ID\n",
        "    book_idx = books_with_tags[books_with_tags['book_id'] == book_id].index\n",
        "    if len(book_idx) == 0:\n",
        "        print(f\"Книга с ID {book_id} не найдена\")\n",
        "        return pd.DataFrame()\n",
        "\n",
        "    book_idx = book_idx[0]\n",
        "\n",
        "    # Вычисляем косинусное сходство между текущей книгой и всеми остальными\n",
        "    cosine_similarities = cosine_similarity(tfidf_matrix[book_idx:book_idx+1], tfidf_matrix).flatten()\n",
        "\n",
        "    # Получаем индексы книг с наибольшим сходством (исключая саму книгу)\n",
        "    related_book_indices = cosine_similarities.argsort()[::-1][1:n+1]\n",
        "\n",
        "    # Получаем сходства для этих книг\n",
        "    similarities = cosine_similarities[related_book_indices]\n",
        "\n",
        "    # Создаем DataFrame с результатами\n",
        "    similar_books = pd.DataFrame({\n",
        "        'book_id': books_with_tags.iloc[related_book_indices]['book_id'].values,\n",
        "        'title': books_with_tags.iloc[related_book_indices]['title'].values,\n",
        "        'similarity': similarities\n",
        "    })\n",
        "\n",
        "    return similar_books"
      ]
    },
    {
      "cell_type": "code",
      "execution_count": 27,
      "metadata": {
        "colab": {
          "base_uri": "https://localhost:8080/"
        },
        "id": "23S1zA-QZkPm",
        "outputId": "b7c16868-a250-49bb-d8ff-8fc53d546cf8"
      },
      "outputs": [
        {
          "name": "stdout",
          "output_type": "stream",
          "text": [
            "Ищем похожие книги для книги с ID: 3\n",
            "Название книги: Twilight (Twilight, #1)\n",
            "\n",
            "Топ-5 похожих книг:\n",
            "1. Eclipse (Twilight, #3) (ID: 52) - Сходство: 0.9529\n",
            "2. New Moon (Twilight, #2) (ID: 49) - Сходство: 0.9448\n",
            "3. The Twilight Saga (Twilight, #1-4) (ID: 992) - Сходство: 0.8961\n",
            "4. The Twilight Collection (Twilight, #1-3) (ID: 2021) - Сходство: 0.8552\n",
            "5. Midnight Sun (Twilight, #1.5) (ID: 834) - Сходство: 0.8537\n"
          ]
        }
      ],
      "source": [
        "# Пример использования функции поиска похожих книг\n",
        "sample_number = 2\n",
        "sample_book_id = books_with_tags.iloc[sample_number]['book_id']\n",
        "print(f\"Ищем похожие книги для книги с ID: {sample_book_id}\")\n",
        "print(f\"Название книги: {books_with_tags.iloc[sample_number]['title']}\")\n",
        "\n",
        "similar_books = get_similar_books(sample_book_id, n=5)\n",
        "print(\"\\nТоп-5 похожих книг:\")\n",
        "for i, (_, row) in enumerate(similar_books.iterrows(), 1):\n",
        "    print(f\"{i}. {row['title']} (ID: {row['book_id']}) - Сходство: {row['similarity']:.4f}\")"
      ]
    },
    {
      "cell_type": "markdown",
      "metadata": {
        "id": "fNEwqmSYZkPm"
      },
      "source": [
        "## Заключение\n",
        "\n",
        "Мы реализовали две базовые модели рекомендаций:\n",
        "\n",
        "1. **Неперсонализированная модель**: Возвращает топ-N самых популярных книг на основе среднего рейтинга с порогом минимального количества оценок. Это простая, но эффективная модель, которая работает хорошо для новых пользователей (холодный старт).\n",
        "\n",
        "2. **Контентная модель**: Создает текстовый профиль для каждой книги на основе названия и тегов, векторизует эти профили с помощью TF-IDF и находит похожие книги с использованием косинусной меры близости. Эта модель может рекомендовать книги, похожие на те, которые пользователь уже оценил.\n",
        "\n",
        "Обе модели могут использоваться как бейзлайны для сравнения с более сложными алгоритмами рекомендаций."
      ]
    },
    {
      "cell_type": "markdown",
      "metadata": {
        "id": "ER7elurkZkPn"
      },
      "source": [
        "# Этап 3: коллаборативная фильтрация (Collaborative Filtering — CF)\n",
        "Реализуйте классические методы CF и определите их ограничения."
      ]
    },
    {
      "cell_type": "markdown",
      "metadata": {
        "id": "5IhVqf31ZkPn"
      },
      "source": [
        "## 1. Постройте матрицу взаимодействий «пользователь — книга» (user_id x book_id). Значениями могут быть явные оценки (rating) или неявный feedback (например, 1, если оценка ≥ 4, иначе 0)."
      ]
    },
    {
      "cell_type": "code",
      "execution_count": 40,
      "metadata": {
        "colab": {
          "base_uri": "https://localhost:8080/"
        },
        "id": "Epl6b5pvZkPn",
        "outputId": "8580e345-f14c-4be4-c48c-6289d11061bf"
      },
      "outputs": [
        {
          "name": "stdout",
          "output_type": "stream",
          "text": [
            "Размер разреженной матрицы пользователь-книга: (53424, 10000)\n",
            "Количество ненулевых элементов: 5976479\n",
            "Плотность матрицы: 0.011187\n"
          ]
        }
      ],
      "source": [
        "# Сортировка данных по индексу (важно для правильного разделения)\n",
        "ratings_df = ratings_df.sort_index()\n",
        "\n",
        "# Получаем уникальные ID пользователей и книг и создаем отображения\n",
        "user_ids = ratings_df['user_id'].unique()\n",
        "book_ids = ratings_df['book_id'].unique()\n",
        "\n",
        "user_to_idx = {user_id: idx for idx, user_id in enumerate(user_ids)}\n",
        "book_to_idx = {book_id: idx for idx, book_id in enumerate(book_ids)}\n",
        "\n",
        "# Преобразуем ID в индексы\n",
        "user_indices = ratings_df['user_id'].map(user_to_idx)\n",
        "book_indices = ratings_df['book_id'].map(book_to_idx)\n",
        "\n",
        "# Создаем разреженную матрицу\n",
        "user_book_matrix = csr_matrix((ratings_df['rating'], (user_indices, book_indices)),\n",
        "                           shape=(len(user_ids), len(book_ids)))\n",
        "\n",
        "print(f\"Размер разреженной матрицы пользователь-книга: {user_book_matrix.shape}\")\n",
        "print(f\"Количество ненулевых элементов: {user_book_matrix.nnz}\")\n",
        "print(f\"Плотность матрицы: {user_book_matrix.nnz / (user_book_matrix.shape[0] * user_book_matrix.shape[1]):.6f}\")"
      ]
    },
    {
      "cell_type": "markdown",
      "metadata": {
        "id": "C3b2KNwTZkPn"
      },
      "source": [
        "## 2. Реализуйте Item-Based Collaborative Filtering:\n"
      ]
    },
    {
      "cell_type": "markdown",
      "metadata": {
        "id": "gxPRJnhtZkPn"
      },
      "source": [
        "### Рассчитайте матрицу попарных схожестей между книгами (например, с помощью коэффициента корреляции Пирсона или косинусной близости по векторам оценок)."
      ]
    },
    {
      "cell_type": "markdown",
      "metadata": {
        "id": "d8q_fomvZkPn"
      },
      "source": [
        "Рассчитаем матрицу попарных схожестей между книгами с помощью косинусной близости"
      ]
    },
    {
      "cell_type": "code",
      "execution_count": 41,
      "metadata": {
        "id": "hfnNmEbWZkPn"
      },
      "outputs": [
        {
          "name": "stdout",
          "output_type": "stream",
          "text": [
            "Размер матрицы схожести книг: (10000, 10000)\n",
            "Пример матрицы схожести (первые 5 книг):\n",
            "[[1.         0.03948567 0.04167712 0.01145762 0.01341845]\n",
            " [0.03948567 1.         0.0148906  0.01465851 0.00520821]\n",
            " [0.04167712 0.0148906  1.         0.03372963 0.19779061]\n",
            " [0.01145762 0.01465851 0.03372963 1.         0.02558636]\n",
            " [0.01341845 0.00520821 0.19779061 0.02558636 1.        ]]\n"
          ]
        }
      ],
      "source": [
        "# Транспонируем матрицу, чтобы книги были строками, а пользователи - столбцами\n",
        "book_user_matrix = user_book_matrix.T\n",
        "\n",
        "# Рассчитываем косинусную близость между книгами\n",
        "book_similarity_matrix = cosine_similarity(book_user_matrix)\n",
        "\n",
        "print(f\"Размер матрицы схожести книг: {book_similarity_matrix.shape}\")\n",
        "print(f\"Пример матрицы схожести (первые 5 книг):\")\n",
        "print(book_similarity_matrix[:5, :5])"
      ]
    },
    {
      "cell_type": "markdown",
      "metadata": {},
      "source": [
        "### Для заданной книги и пользователя предскажите оценку, усредняя оценки пользователя по K наиболее похожим книгам."
      ]
    },
    {
      "cell_type": "code",
      "execution_count": 42,
      "metadata": {
        "id": "xrDrtIzHZkPn"
      },
      "outputs": [],
      "source": [
        "# Реализация функции предсказания оценки на основе Item-Based Collaborative Filtering\n",
        "def predict_rating_item_based(user_id, book_id, k=10):\n",
        "    \"\"\"\n",
        "    Предсказывает оценку пользователя для книги на основе Item-Based Collaborative Filtering\n",
        "    \n",
        "    Parameters:\n",
        "    user_id (int): ID пользователя\n",
        "    book_id (int): ID книги\n",
        "    k (int): Количество ближайших соседей для предсказания\n",
        "    \n",
        "    Returns:\n",
        "    float: Предсказанная оценка (0 если невозможно предсказать)\n",
        "    \"\"\"\n",
        "    # Проверяем, существует ли пользователь и книга в обучающих данных\n",
        "    if user_id not in user_ids or book_id not in book_ids:\n",
        "        return 0.0  # Невозможно предсказать\n",
        "    \n",
        "    user_idx = user_to_idx[user_id]\n",
        "    book_idx = book_to_idx[book_id]\n",
        "    \n",
        "    # Получаем оценки пользователя\n",
        "    user_ratings = user_book_matrix[user_idx, :].toarray().flatten()\n",
        "    \n",
        "    # Находим книги, которые пользователь уже оценил\n",
        "    rated_books_indices = np.where(user_ratings > 0)[0]\n",
        "    \n",
        "    if len(rated_books_indices) == 0:\n",
        "        return 0.0  # Пользователь не оценил ни одной книги\n",
        "\n",
        "    # Получаем схожесть целевой книги с оцененными пользователем книгами\n",
        "    similarities = []\n",
        "    ratings = []\n",
        "    \n",
        "    for rated_book_idx in rated_books_indices:\n",
        "        similarity = book_similarity_matrix[book_idx, rated_book_idx]\n",
        "        rating = user_ratings[rated_book_idx]\n",
        "        \n",
        "        similarities.append(similarity)\n",
        "        ratings.append(rating)\n",
        "    \n",
        "    if len(similarities) == 0:\n",
        "        return 0.0\n",
        "    \n",
        "    # Сортируем по схожести и берем top-k\n",
        "    similarity_rating_pairs = sorted(zip(similarities, ratings), reverse=True)[:k]\n",
        "    \n",
        "    # Вычисляем взвешенное среднее\n",
        "    weighted_sum = sum(sim * rating for sim, rating in similarity_rating_pairs)\n",
        "    similarity_sum = sum(abs(sim) for sim, rating in similarity_rating_pairs)\n",
        "    \n",
        "    if similarity_sum == 0:\n",
        "        return 0.0\n",
        "    \n",
        "    return weighted_sum / similarity_sum\n"
      ]
    },
    {
      "cell_type": "code",
      "execution_count": 47,
      "metadata": {
        "id": "J9DybkqUZkPn"
      },
      "outputs": [
        {
          "name": "stdout",
          "output_type": "stream",
          "text": [
            "Предсказанная оценка для пользователя 1 и книги 258: 4.06\n"
          ]
        }
      ],
      "source": [
        "# Пример использования функции предсказания\n",
        "sample_user_id = user_ids[0]\n",
        "sample_book_id = book_ids[0]\n",
        "\n",
        "# Находим книгу, которую пользователь еще не оценил\n",
        "if pd.isna(user_book_matrix[sample_user_id, book_id]):\n",
        "    sample_book_id = book_id\n",
        "\n",
        "predicted_rating = predict_rating_item_based(sample_user_id, sample_book_id, k=10)\n",
        "print(f\"Предсказанная оценка для пользователя {sample_user_id} и книги {sample_book_id}: {predicted_rating:.2f}\")"
      ]
    },
    {
      "cell_type": "markdown",
      "metadata": {
        "id": "8ek0N1ZRZkPn"
      },
      "source": [
        "## 3. В чём вычислительная сложность этого подхода? Как его можно оптимизировать для больших данных?"
      ]
    },
    {
      "cell_type": "markdown",
      "metadata": {
        "id": "eoSgEjnOZkPn"
      },
      "source": [
        "### Вычислительная сложность Item-Based Collaborative Filtering:\n",
        "\n",
        "1. **Построение матрицы схожести между книгами**:\n",
        "   - Для косинусной близости: O(n_books * n_users^2) при использовании стандартного подхода, но можно оптимизировать до O(n_ratings^2) в разреженной матрице, где n_ratings - общее количество оценок.\n",
        "   - Для корреляции Пирсона: O(n_books^2 * n_users), так как для каждой пары книг нужно пройти по всем пользователям.\n",
        "\n",
        "2. **Предсказание оценки для одного пользователя и книги**:\n",
        "   - O(k), где k - количество ближайших соседей, если матрица схожести уже построена.\n",
        "\n",
        "### Ограничения подхода:\n",
        "\n",
        "1. **Разреженность данных**: При высокой разреженности (как в нашем случае ~95%) становится сложно находить похожие книги.\n",
        "2. **Масштабируемость**: При увеличении количества книг вычисление парных схожестей становится вычислительно затратным.\n",
        "3. **Холодный старт**: Новые книги без оценок не могут быть рекомендованы.\n",
        "4. **Популярность**: Система склонна рекомендовать популярные книги, которые имеют больше общих оценок.\n",
        "\n",
        "### Оптимизации для больших данных:\n",
        "\n",
        "1. **Редукция размерности**: Использование методов снижения размерности (SVD, NMF) для уменьшения количества признаков.\n",
        "2. **Аппроксимация**: Использование методов аппроксимации для быстрого вычисления схожести.\n",
        "3. **Кластеризация**: Группировка похожих пользователей/книг для уменьшения размерности вычислений.\n",
        "4. **Индексация**: Использование специализированных структур данных (LSH, деревья и т.д.) для быстрого поиска похожих элементов.\n",
        "5. **Параллелизация**: Распределение вычислений по нескольким узлам или процессорам.\n",
        "6. **Инкрементальные обновления**: Обновление матрицы схожести по мере поступления новых данных, а не полный пересчет."
      ]
    }
  ],
  "metadata": {
    "colab": {
      "provenance": []
    },
    "kernelspec": {
      "display_name": ".venv",
      "language": "python",
      "name": "python3"
    },
    "language_info": {
      "codemirror_mode": {
        "name": "ipython",
        "version": 3
      },
      "file_extension": ".py",
      "mimetype": "text/x-python",
      "name": "python",
      "nbconvert_exporter": "python",
      "pygments_lexer": "ipython3",
      "version": "3.13.5"
    }
  },
  "nbformat": 4,
  "nbformat_minor": 0
}
