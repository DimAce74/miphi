{
 "cells": [
  {
   "cell_type": "code",
   "execution_count": null,
   "id": "initial_id",
   "metadata": {
    "collapsed": true
   },
   "outputs": [],
   "source": [
    "import torch\n",
    "import numpy as np\n",
    "import torch.nn as nn\n",
    "from torch.distributions import Categorical\n",
    "\n",
    "# Пример очень простой сети для дискретных действий\n",
    "class PolicyNetwork(nn.Module):\n",
    "   def __init__(self, state_dim, action_dim):\n",
    "       super(PolicyNetwork, self).__init__()\n",
    "       self.fc1 = nn.Linear(state_dim, 128)\n",
    "       self.fc2 = nn.Linear(128, action_dim)\n",
    "       self.activation = nn.ReLU()\n",
    "\n",
    "   def forward(self, x):\n",
    "       x = self.fc1(x)\n",
    "       x = self.activation(x)\n",
    "       x = self.fc2(x)\n",
    "       return x # Выход - логиты для softmax\n",
    "\n",
    "   def act(self, state: np.ndarray):\n",
    "       \"\"\"Выбирает действие на основе текущей политики и возвращает действие и его log_prob.\"\"\"\n",
    "       state_tensor = torch.from_numpy(state).float().unsqueeze(0)\n",
    "       logits = self.forward(state_tensor)  # получаем логиты\n",
    "       dist = Categorical(logits=logits)  # создаем распределение\n",
    "       action = dist.sample() # Сэмплируем действие\n",
    "       log_prob = dist.log_prob(action) # Вычисляем log_prob для этого действия\n",
    "       return action.item(), log_prob\n",
    "\n",
    "# Инициализация сети и оптимизатора\n",
    "state_dim = 4  # CartPole state (position, velocity, angle, angular velocity)\n",
    "action_dim = 2 # CartPole actions (left, right)\n",
    "policy_net = PolicyNetwork(state_dim, action_dim)"
   ]
  },
  {
   "metadata": {},
   "cell_type": "code",
   "outputs": [],
   "execution_count": null,
   "source": [
    "# Списки для хранения данных одной траектории\n",
    "rewards = []\n",
    "log_probs = [] # Здесь будем хранить log(pi(a|s))\n",
    "\n",
    "state, _ = env.reset() # Сбрасываем среду для нового эпизода\n",
    "terminated = truncated = False\n",
    "\n",
    "# Цикл одного эпизода\n",
    "while not (terminated or truncated):\n",
    "   action, log_prob = policy_net.act(state) # Агент выбирает действие\n",
    "\n",
    "   log_probs.append(log_prob) # Сохраняем log_prob\n",
    "\n",
    "   observation, reward, terminated, truncated, info = env.step(action) # Среда выполняет действие\n",
    "   rewards.append(reward) # Сохраняем награду\n",
    "   break"
   ],
   "id": "e0af151dd87d8db1"
  },
  {
   "metadata": {},
   "cell_type": "code",
   "outputs": [],
   "execution_count": null,
   "source": [
    "# Пример вычисления возвратов G_t (discounted returns)\n",
    "gamma = 0.99\n",
    "Gt_values = []\n",
    "current_return = 0\n",
    "for r in reversed(rewards): # Идем с конца эпизода\n",
    "    current_return = r + gamma * current_return\n",
    "    Gt_values.insert(0, current_return) # Вставляем в начало, чтобы сохранить порядок\n",
    "\n",
    "Gt_values = torch.tensor(Gt_values)\n",
    "# (Обычно нормализуют Gt_values для стабилизации обучения, но это уже оптимизация)\n",
    "# Gt_values = (Gt_values - Gt_values.mean()) / (Gt_values.std() + 1e-9)"
   ],
   "id": "663dd7be600192d"
  },
  {
   "metadata": {},
   "cell_type": "code",
   "outputs": [],
   "execution_count": null,
   "source": [
    "# Вычисление функции потерь для Policy Gradient (для градиентного подъема)\n",
    "# Мы хотим МАКСИМИЗИРОВАТЬ J(theta), что эквивалентно МИНИМИЗАЦИИ -J(theta)\n",
    "# Поэтому умножаем на -1 и используем .backward()\n",
    "policy_loss = []\n",
    "for log_prob, Gt in zip(log_probs, Gt_values):\n",
    "    policy_loss.append(-log_prob * Gt) # -log_prob потому что оптимизатор минимизирует\n",
    "policy_loss = torch.cat(policy_loss).sum() # Суммируем по всем шагам траектории"
   ],
   "id": "3cdccafc9b13647c"
  },
  {
   "metadata": {},
   "cell_type": "code",
   "outputs": [],
   "execution_count": null,
   "source": [
    "optimizer.zero_grad() # Обнуляем градиенты перед обратным проходом\n",
    "policy_loss.backward() # Вычисляем градиенты\n",
    "optimizer.step() # Обновляем веса сети"
   ],
   "id": "c3cefbc4caf9352a"
  }
 ],
 "metadata": {
  "kernelspec": {
   "display_name": "Python 3",
   "language": "python",
   "name": "python3"
  },
  "language_info": {
   "codemirror_mode": {
    "name": "ipython",
    "version": 2
   },
   "file_extension": ".py",
   "mimetype": "text/x-python",
   "name": "python",
   "nbconvert_exporter": "python",
   "pygments_lexer": "ipython2",
   "version": "2.7.6"
  }
 },
 "nbformat": 4,
 "nbformat_minor": 5
}
