{
 "cells": [
  {
   "metadata": {
    "ExecuteTime": {
     "end_time": "2025-09-14T13:29:14.207534Z",
     "start_time": "2025-09-14T13:29:14.194168Z"
    }
   },
   "cell_type": "code",
   "source": [
    "import gymnasium as gym\n",
    "\n",
    "# 1. Создание среды\n",
    "# 'CartPole-v1' - это идентификатор среды.\n",
    "env = gym.make('CartPole-v1')\n",
    "print(f\"Среда: {env.spec.id}\")\n",
    "\n",
    "# 2. Исследование пространства состояний и действий\n",
    "print(f\"Пространство наблюдений (observation_space): {env.observation_space}\")\n",
    "print(f\"Тип пространства наблюдений: {type(env.observation_space)}\")\n",
    "\n",
    "print(f\"Пространство действий (action_space): {env.action_space}\")\n",
    "print(f\"Тип пространства действий: {type(env.action_space)}\")\n",
    "\n",
    "# Пространство наблюдений для CartPole - это 'Box' (непрерывные значения):\n",
    "# [position of cart, velocity of cart, angle of pole, angular velocity of pole]\n",
    "# Пространство действий для CartPole - это 'Discrete(2)':\n",
    "# 0: Push cart to the left\n",
    "# 1: Push cart to the right\n",
    "\n",
    "# 3. Инициализация среды (начало нового эпизода)\n",
    "observation, info = env.reset()\n",
    "print(f\"\\nНачальное наблюдение: {observation}\")\n",
    "print(f\"Дополнительная информация при сбросе: {info}\")\n",
    "\n",
    "# 4. Взаимодействие со средой: выполнение действий\n",
    "done = False  # флаг окончания эпизода\n",
    "total_reward = 0  # суммарная награда за эпизод\n",
    "step = 0  # длительность эпизода\n",
    "\n",
    "print(\"\\nНачинаем взаимодействие со средой:\")\n",
    "while not done:\n",
    "\t# Выбираем случайное действие (для демонстрации)\n",
    "    action = env.action_space.sample()\n",
    "\n",
    "\t# Выполняем действие\n",
    "    observation, reward, terminated, truncated, info = env.step(action)\n",
    "\n",
    "\t# Перезаписываем флаги, инкрементируем счетчики\n",
    "    step += 1\n",
    "    total_reward += reward\n",
    "    done = terminated or truncated\n",
    "\n",
    "\t# Выводим информацию о шаге (не каждый шаг для краткости)\n",
    "    if step % 20 == 0:\n",
    "        print(f\"Шаг {step+1}: Действие={action}, Награда={reward:.2f}, Завершено={terminated}, Обрезано={truncated}\")\n",
    "        print(f\"  Новое наблюдение: {observation}\") # Можно раскомментировать для полной детализации\n",
    "\n",
    "print(f\"\\nЭпизод завершился на шаге {step+1}.\")\n",
    "print(f\"\\nОбщая награда за эпизод: {total_reward}\")\n",
    "\n",
    "# 5. Закрытие среды после использования\n",
    "env.close()\n",
    "print(\"Среда закрыта.\")"
   ],
   "id": "87868b55a566d5cd",
   "outputs": [
    {
     "name": "stdout",
     "output_type": "stream",
     "text": [
      "Среда: CartPole-v1\n",
      "Пространство наблюдений (observation_space): Box([-4.8               -inf -0.41887903        -inf], [4.8               inf 0.41887903        inf], (4,), float32)\n",
      "Тип пространства наблюдений: <class 'gymnasium.spaces.box.Box'>\n",
      "Пространство действий (action_space): Discrete(2)\n",
      "Тип пространства действий: <class 'gymnasium.spaces.discrete.Discrete'>\n",
      "\n",
      "Начальное наблюдение: [ 0.04776413  0.01024694 -0.01521483  0.02010904]\n",
      "Дополнительная информация при сбросе: {}\n",
      "\n",
      "Начинаем взаимодействие со средой:\n",
      "\n",
      "Эпизод завершился на шаге 12.\n",
      "\n",
      "Общая награда за эпизод: 11.0\n",
      "Среда закрыта.\n"
     ]
    }
   ],
   "execution_count": 6
  }
 ],
 "metadata": {
  "kernelspec": {
   "display_name": "Python 3",
   "language": "python",
   "name": "python3"
  },
  "language_info": {
   "codemirror_mode": {
    "name": "ipython",
    "version": 2
   },
   "file_extension": ".py",
   "mimetype": "text/x-python",
   "name": "python",
   "nbconvert_exporter": "python",
   "pygments_lexer": "ipython2",
   "version": "2.7.6"
  }
 },
 "nbformat": 4,
 "nbformat_minor": 5
}
