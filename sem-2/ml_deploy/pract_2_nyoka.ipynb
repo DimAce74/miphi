{
 "cells": [
  {
   "cell_type": "code",
   "execution_count": 1,
   "id": "ef0aa245",
   "metadata": {},
   "outputs": [
    {
     "name": "stdout",
     "output_type": "stream",
     "text": [
      "Collecting nyoka\n",
      "  Downloading nyoka-5.5.0-py3-none-any.whl.metadata (17 kB)\n",
      "Requirement already satisfied: lxml in c:\\users\\dimac\\anaconda3\\lib\\site-packages (from nyoka) (5.2.1)\n",
      "Downloading nyoka-5.5.0-py3-none-any.whl (303 kB)\n",
      "   ---------------------------------------- 0.0/304.0 kB ? eta -:--:--\n",
      "   - -------------------------------------- 10.2/304.0 kB ? eta -:--:--\n",
      "   -- ------------------------------------ 20.5/304.0 kB 320.0 kB/s eta 0:00:01\n",
      "   ----- --------------------------------- 41.0/304.0 kB 279.3 kB/s eta 0:00:01\n",
      "   ----------- --------------------------- 92.2/304.0 kB 521.8 kB/s eta 0:00:01\n",
      "   --------------- ---------------------- 122.9/304.0 kB 599.1 kB/s eta 0:00:01\n",
      "   ----------------------------- -------- 235.5/304.0 kB 901.1 kB/s eta 0:00:01\n",
      "   ---------------------------------------  297.0/304.0 kB 1.0 MB/s eta 0:00:01\n",
      "   -------------------------------------- 304.0/304.0 kB 989.1 kB/s eta 0:00:00\n",
      "Installing collected packages: nyoka\n",
      "Successfully installed nyoka-5.5.0\n"
     ]
    }
   ],
   "source": [
    "!pip3 install nyoka\n"
   ]
  },
  {
   "cell_type": "code",
   "execution_count": 2,
   "id": "55710450",
   "metadata": {},
   "outputs": [],
   "source": [
    "from nyoka import skl_to_pmml\n",
    "from sklearn.preprocessing import MinMaxScaler\n",
    "from sklearn.pipeline import Pipeline\n",
    "from sklearn.linear_model import LinearRegression\n",
    "from sklearn.datasets import load_diabetes\n",
    "\n",
    "X, y = load_diabetes(return_X_y=True)\n",
    "cols = load_diabetes()['feature_names']\n",
    "\n",
    "scaler = MinMaxScaler()\n",
    "pipe = Pipeline([  \n",
    "            ('Scaling', MinMaxScaler()),\n",
    "            ('Linear', LinearRegression())\n",
    "        ])\n",
    "# Обучение пайплайна, включающего линейную модель и нормализацию признаков\n",
    "pipe.fit(X, y)\n",
    "# Сохраним пайплайн в формате pmml в файл pipeline.pmml\n",
    "skl_to_pmml(pipeline=pipe, col_names=cols, pmml_f_name=\"pipeline.pmml\")"
   ]
  }
 ],
 "metadata": {
  "kernelspec": {
   "display_name": "base",
   "language": "python",
   "name": "python3"
  },
  "language_info": {
   "codemirror_mode": {
    "name": "ipython",
    "version": 3
   },
   "file_extension": ".py",
   "mimetype": "text/x-python",
   "name": "python",
   "nbconvert_exporter": "python",
   "pygments_lexer": "ipython3",
   "version": "3.12.4"
  }
 },
 "nbformat": 4,
 "nbformat_minor": 5
}
