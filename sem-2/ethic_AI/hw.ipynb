{
 "cells": [
  {
   "cell_type": "code",
   "execution_count": 12,
   "id": "a37bf8e3",
   "metadata": {},
   "outputs": [],
   "source": [
    "import numpy as np\n",
    "import pandas as pd\n",
    "from sklearn.model_selection import train_test_split\n",
    "from sklearn.feature_extraction.text import CountVectorizer\n",
    "from sklearn.linear_model import LogisticRegression\n",
    "from sklearn.metrics import accuracy_score"
   ]
  },
  {
   "cell_type": "code",
   "execution_count": 13,
   "id": "79be2202",
   "metadata": {},
   "outputs": [],
   "source": [
    "# Get the same results each time\n",
    "np.random.seed(0)\n",
    "\n",
    "\n",
    "# Load the training data\n",
    "data = pd.read_csv(\"data/data.csv\")\n",
    "comments = data[\"comment_text\"]\n",
    "target = (data[\"target\"]>0.7).astype(int)"
   ]
  },
  {
   "cell_type": "markdown",
   "id": "e23fb608",
   "metadata": {},
   "source": [
    "## Задание 1: Разделение данных на train и test"
   ]
  },
  {
   "cell_type": "code",
   "execution_count": 14,
   "id": "eacc9bf4",
   "metadata": {},
   "outputs": [],
   "source": [
    "X_train, X_test, y_train, y_test = train_test_split(comments, target, test_size=0.3, random_state=42)"
   ]
  },
  {
   "cell_type": "markdown",
   "id": "39401ea2",
   "metadata": {},
   "source": [
    "## Задание 2: Преобразование текста в числовой формат"
   ]
  },
  {
   "cell_type": "code",
   "execution_count": 15,
   "id": "8e8537ee",
   "metadata": {},
   "outputs": [],
   "source": [
    "vectorizer = CountVectorizer()\n",
    "X_train_vec = vectorizer.fit_transform(X_train)\n",
    "X_test_vec = vectorizer.transform(X_test)"
   ]
  },
  {
   "cell_type": "markdown",
   "id": "bdf5984b",
   "metadata": {},
   "source": [
    "## Задание 3: Обучение модели логистической регрессии"
   ]
  },
  {
   "cell_type": "code",
   "execution_count": 16,
   "id": "53a5372e",
   "metadata": {},
   "outputs": [
    {
     "name": "stdout",
     "output_type": "stream",
     "text": [
      "Accuracy: 0.9273\n"
     ]
    }
   ],
   "source": [
    "classifier = LogisticRegression(max_iter=2000)\n",
    "classifier.fit(X_train_vec, y_train)\n",
    "\n",
    "y_pred = classifier.predict(X_test_vec)\n",
    "accuracy = accuracy_score(y_test, y_pred)\n",
    "print(f\"Accuracy: {accuracy:.4f}\")"
   ]
  },
  {
   "cell_type": "markdown",
   "id": "35931467",
   "metadata": {},
   "source": [
    "## Задание 4: Функция для предсказания токсичности"
   ]
  },
  {
   "cell_type": "code",
   "execution_count": 17,
   "id": "f8168a52",
   "metadata": {},
   "outputs": [],
   "source": [
    "def predict(comment):\n",
    "    comment_vec = vectorizer.transform([comment])\n",
    "    res = classifier.predict_proba(comment_vec)[0][1]\n",
    "    return res"
   ]
  },
  {
   "cell_type": "markdown",
   "id": "07b6b560",
   "metadata": {},
   "source": [
    "## Задание 5: Тестирование модели"
   ]
  },
  {
   "cell_type": "code",
   "execution_count": 18,
   "id": "9c61e3c0",
   "metadata": {},
   "outputs": [
    {
     "name": "stdout",
     "output_type": "stream",
     "text": [
      "'Apples are stupid': 0.9991497306309441\n",
      "'I love apples': 0.05671043399691718\n"
     ]
    }
   ],
   "source": [
    "print(\"'Apples are stupid':\", predict(\"Apples are stupid\"))\n",
    "print(\"'I love apples':\", predict(\"I love apples\"))"
   ]
  },
  {
   "cell_type": "markdown",
   "id": "a3b7fa9a",
   "metadata": {},
   "source": [
    "## Задание 6: Вывод самых токсичных слов"
   ]
  },
  {
   "cell_type": "code",
   "execution_count": 19,
   "id": "f19525a8",
   "metadata": {},
   "outputs": [
    {
     "name": "stdout",
     "output_type": "stream",
     "text": [
      "Top 10 toxic words:\n",
      "stupid: 9.2929\n",
      "idiot: 8.8017\n",
      "idiots: 8.5161\n",
      "stupidity: 7.5930\n",
      "idiotic: 6.8486\n",
      "crap: 6.5977\n",
      "dumb: 6.4676\n",
      "hypocrite: 6.4396\n",
      "pathetic: 6.4346\n",
      "moron: 6.4076\n"
     ]
    }
   ],
   "source": [
    "feature_names = vectorizer.get_feature_names_out()\n",
    "coefs = classifier.coef_[0]\n",
    "top_toxic_indices = coefs.argsort()[-10:][::-1]\n",
    "\n",
    "print(\"Top 10 toxic words:\")\n",
    "for idx in top_toxic_indices:\n",
    "    print(f\"{feature_names[idx]}: {coefs[idx]:.4f}\")"
   ]
  },
  {
   "cell_type": "markdown",
   "id": "2121f7f3",
   "metadata": {},
   "source": [
    "## Задание 7: Анализ токсичных слов\n",
    "\n",
    "В списке есть многозначные слова, которые могут быть токсичными в одном контексте и совершенно нетоксичными в другом (crap, dumb, pathetic).\n",
    "Из-за того, что они имеют высокий \"рейтинг\" токсичности, наверняка любая фраза с их участием в любом контексте будет помечаться токсичной.\n",
    "Для иллюстрации взял слово dumb в значении `немой` и первую фразу с ним из Яндекс-переводчика (цитата из \"Три товарища\" Ремарка)"
   ]
  },
  {
   "cell_type": "code",
   "execution_count": 20,
   "id": "f2c8c108",
   "metadata": {},
   "outputs": [
    {
     "name": "stdout",
     "output_type": "stream",
     "text": [
      "0.9964174458999558\n"
     ]
    }
   ],
   "source": [
    "print(predict('It was as if some poor, dumb human being, pent up in the crooked body, were trying to free and save itself'))"
   ]
  },
  {
   "cell_type": "markdown",
   "id": "8bfa2951",
   "metadata": {},
   "source": [
    "## Задание 8: Проверка на предвзятость"
   ]
  },
  {
   "cell_type": "code",
   "execution_count": 21,
   "id": "41147e33",
   "metadata": {},
   "outputs": [
    {
     "name": "stdout",
     "output_type": "stream",
     "text": [
      "'I have a christian friend': 0.1881\n",
      "'I have a muslim friend': 0.5027\n",
      "'I have a white friend': 0.3928\n",
      "'I have a black friend': 0.5798\n"
     ]
    }
   ],
   "source": [
    "comments_to_test = [\n",
    "    \"I have a christian friend\",\n",
    "    \"I have a muslim friend\",\n",
    "    \"I have a white friend\",\n",
    "    \"I have a black friend\"\n",
    "]\n",
    "\n",
    "for comment in comments_to_test:\n",
    "    print(f\"'{comment}': {predict(comment):.4f}\")"
   ]
  },
  {
   "cell_type": "markdown",
   "id": "93441453",
   "metadata": {},
   "source": [
    "Видим, что алгоритм явно предвзято относится к исламу и черным."
   ]
  },
  {
   "cell_type": "markdown",
   "id": "322486cd",
   "metadata": {},
   "source": [
    "## Задание 9: Анализ типа предвзятости\n",
    "\n",
    "Это пример исторической предвзятости (historical bias), когда модель отражает существующие в обществе стереотипы. В данном случае модель может показывать исламофобные тенденции, так как обучалась на данных, содержащих такие предубеждения."
   ]
  },
  {
   "cell_type": "markdown",
   "id": "3db6678a",
   "metadata": {},
   "source": [
    "## Задание 10: Идеи для улучшения\n",
    "\n",
    "1. Балансировка данных - убедиться, что все группы представлены равномерно\n",
    "2. Удаление или понижение веса токсичных слов, связанных с конкретными группами"
   ]
  }
 ],
 "metadata": {
  "kernelspec": {
   "display_name": ".venv",
   "language": "python",
   "name": "python3"
  },
  "language_info": {
   "codemirror_mode": {
    "name": "ipython",
    "version": 3
   },
   "file_extension": ".py",
   "mimetype": "text/x-python",
   "name": "python",
   "nbconvert_exporter": "python",
   "pygments_lexer": "ipython3",
   "version": "3.11.9"
  }
 },
 "nbformat": 4,
 "nbformat_minor": 5
}
