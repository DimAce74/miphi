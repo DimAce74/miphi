{
 "cells": [
  {
   "cell_type": "code",
   "execution_count": 1,
   "metadata": {
    "_cell_guid": "b1076dfc-b9ad-4769-8c92-a6c4dae69d19",
    "_uuid": "8f2839f25d086af736a60e9eeb907d3b93b6e0e5",
    "execution": {
     "iopub.execute_input": "2025-04-08T16:01:46.433551Z",
     "iopub.status.busy": "2025-04-08T16:01:46.433226Z",
     "iopub.status.idle": "2025-04-08T16:01:52.178000Z",
     "shell.execute_reply": "2025-04-08T16:01:52.176841Z",
     "shell.execute_reply.started": "2025-04-08T16:01:46.433525Z"
    },
    "trusted": true
   },
   "outputs": [],
   "source": [
    "!pip install opendatasets --quiet"
   ]
  },
  {
   "cell_type": "code",
   "execution_count": 2,
   "metadata": {
    "execution": {
     "iopub.execute_input": "2025-04-08T16:01:52.180122Z",
     "iopub.status.busy": "2025-04-08T16:01:52.179706Z",
     "iopub.status.idle": "2025-04-08T16:02:30.861381Z",
     "shell.execute_reply": "2025-04-08T16:02:30.860407Z",
     "shell.execute_reply.started": "2025-04-08T16:01:52.180083Z"
    },
    "trusted": true
   },
   "outputs": [
    {
     "name": "stdout",
     "output_type": "stream",
     "text": [
      "Please provide your Kaggle credentials to download this dataset. Learn more: http://bit.ly/kaggle-creds\n",
      "Your Kaggle username:Your Kaggle Key:Dataset URL: https://www.kaggle.com/datasets/jsonali2003/stellar-classification-dataset\n"
     ]
    }
   ],
   "source": [
    "import opendatasets as od\n",
    "import pandas\n",
    "\n",
    "od.download(\"https://www.kaggle.com/datasets/jsonali2003/stellar-classification-dataset\")"
   ]
  },
  {
   "cell_type": "code",
   "execution_count": 3,
   "metadata": {
    "execution": {
     "iopub.execute_input": "2025-04-08T16:02:30.863357Z",
     "iopub.status.busy": "2025-04-08T16:02:30.862856Z",
     "iopub.status.idle": "2025-04-08T16:02:31.167140Z",
     "shell.execute_reply": "2025-04-08T16:02:31.166153Z",
     "shell.execute_reply.started": "2025-04-08T16:02:30.863329Z"
    },
    "trusted": true
   },
   "outputs": [
    {
     "name": "stderr",
     "output_type": "stream",
     "text": [
      "C:\\Users\\dimac\\AppData\\Local\\Temp\\ipykernel_22580\\2755710297.py:3: DtypeWarning: Columns (1,8) have mixed types. Specify dtype option on import or set low_memory=False.\n",
      "  df = pd.read_csv(\"./stellar-classification-dataset/StarClassificationDataset.csv\")\n"
     ]
    },
    {
     "data": {
      "text/html": [
       "<div>\n",
       "<style scoped>\n",
       "    .dataframe tbody tr th:only-of-type {\n",
       "        vertical-align: middle;\n",
       "    }\n",
       "\n",
       "    .dataframe tbody tr th {\n",
       "        vertical-align: top;\n",
       "    }\n",
       "\n",
       "    .dataframe thead th {\n",
       "        text-align: right;\n",
       "    }\n",
       "</style>\n",
       "<table border=\"1\" class=\"dataframe\">\n",
       "  <thead>\n",
       "    <tr style=\"text-align: right;\">\n",
       "      <th></th>\n",
       "      <th>object_ID</th>\n",
       "      <th>alpha</th>\n",
       "      <th>delta</th>\n",
       "      <th>UV_filter</th>\n",
       "      <th>green_filter</th>\n",
       "      <th>red_filter</th>\n",
       "      <th>near_IR_filter</th>\n",
       "      <th>IR_filter</th>\n",
       "      <th>run_ID</th>\n",
       "      <th>rerun_ID</th>\n",
       "      <th>cam_col</th>\n",
       "      <th>field_ID</th>\n",
       "      <th>spec_obj_ID</th>\n",
       "      <th>red_shift</th>\n",
       "      <th>plate_ID</th>\n",
       "      <th>MJD</th>\n",
       "      <th>fiber_ID</th>\n",
       "      <th>class</th>\n",
       "    </tr>\n",
       "  </thead>\n",
       "  <tbody>\n",
       "    <tr>\n",
       "      <th>0</th>\n",
       "      <td>1.240000e+18</td>\n",
       "      <td>135.6891066</td>\n",
       "      <td>32.494632</td>\n",
       "      <td>23.87882</td>\n",
       "      <td>22.27530</td>\n",
       "      <td>20.39501</td>\n",
       "      <td>19.16573</td>\n",
       "      <td>18.79371</td>\n",
       "      <td>3606</td>\n",
       "      <td>301</td>\n",
       "      <td>2</td>\n",
       "      <td>79</td>\n",
       "      <td>6.540000e+18</td>\n",
       "      <td>0.634794</td>\n",
       "      <td>5812</td>\n",
       "      <td>56354</td>\n",
       "      <td>171</td>\n",
       "      <td>GALAXY</td>\n",
       "    </tr>\n",
       "    <tr>\n",
       "      <th>1</th>\n",
       "      <td>1.240000e+18</td>\n",
       "      <td>144.8261006</td>\n",
       "      <td>31.274185</td>\n",
       "      <td>24.77759</td>\n",
       "      <td>22.83188</td>\n",
       "      <td>22.58444</td>\n",
       "      <td>21.16812</td>\n",
       "      <td>21.61427</td>\n",
       "      <td>4518</td>\n",
       "      <td>301</td>\n",
       "      <td>5</td>\n",
       "      <td>119</td>\n",
       "      <td>1.180000e+19</td>\n",
       "      <td>0.779136</td>\n",
       "      <td>10445</td>\n",
       "      <td>58158</td>\n",
       "      <td>427</td>\n",
       "      <td>GALAXY</td>\n",
       "    </tr>\n",
       "    <tr>\n",
       "      <th>2</th>\n",
       "      <td>1.240000e+18</td>\n",
       "      <td>142.1887896</td>\n",
       "      <td>35.582444</td>\n",
       "      <td>25.26307</td>\n",
       "      <td>22.66389</td>\n",
       "      <td>20.60976</td>\n",
       "      <td>19.34857</td>\n",
       "      <td>18.94827</td>\n",
       "      <td>3606</td>\n",
       "      <td>301</td>\n",
       "      <td>2</td>\n",
       "      <td>120</td>\n",
       "      <td>5.150000e+18</td>\n",
       "      <td>0.644195</td>\n",
       "      <td>4576</td>\n",
       "      <td>55592</td>\n",
       "      <td>299</td>\n",
       "      <td>GALAXY</td>\n",
       "    </tr>\n",
       "    <tr>\n",
       "      <th>3</th>\n",
       "      <td>1.240000e+18</td>\n",
       "      <td>338.7410378</td>\n",
       "      <td>-0.402828</td>\n",
       "      <td>22.13682</td>\n",
       "      <td>23.77656</td>\n",
       "      <td>21.61162</td>\n",
       "      <td>20.50454</td>\n",
       "      <td>19.25010</td>\n",
       "      <td>4192</td>\n",
       "      <td>301</td>\n",
       "      <td>3</td>\n",
       "      <td>214</td>\n",
       "      <td>1.030000e+19</td>\n",
       "      <td>0.932346</td>\n",
       "      <td>9149</td>\n",
       "      <td>58039</td>\n",
       "      <td>775</td>\n",
       "      <td>GALAXY</td>\n",
       "    </tr>\n",
       "    <tr>\n",
       "      <th>4</th>\n",
       "      <td>1.240000e+18</td>\n",
       "      <td>345.2825932</td>\n",
       "      <td>21.183866</td>\n",
       "      <td>19.43718</td>\n",
       "      <td>17.58028</td>\n",
       "      <td>16.49747</td>\n",
       "      <td>15.97711</td>\n",
       "      <td>15.54461</td>\n",
       "      <td>NaN</td>\n",
       "      <td>301</td>\n",
       "      <td>3</td>\n",
       "      <td>137</td>\n",
       "      <td>6.890000e+18</td>\n",
       "      <td>0.116123</td>\n",
       "      <td>6121</td>\n",
       "      <td>56187</td>\n",
       "      <td>842</td>\n",
       "      <td>GALAXY</td>\n",
       "    </tr>\n",
       "  </tbody>\n",
       "</table>\n",
       "</div>"
      ],
      "text/plain": [
       "      object_ID        alpha      delta  UV_filter  green_filter  red_filter  \\\n",
       "0  1.240000e+18  135.6891066  32.494632   23.87882      22.27530    20.39501   \n",
       "1  1.240000e+18  144.8261006  31.274185   24.77759      22.83188    22.58444   \n",
       "2  1.240000e+18  142.1887896  35.582444   25.26307      22.66389    20.60976   \n",
       "3  1.240000e+18  338.7410378  -0.402828   22.13682      23.77656    21.61162   \n",
       "4  1.240000e+18  345.2825932  21.183866   19.43718      17.58028    16.49747   \n",
       "\n",
       "   near_IR_filter  IR_filter run_ID  rerun_ID  cam_col  field_ID  \\\n",
       "0        19.16573   18.79371   3606       301        2        79   \n",
       "1        21.16812   21.61427   4518       301        5       119   \n",
       "2        19.34857   18.94827   3606       301        2       120   \n",
       "3        20.50454   19.25010   4192       301        3       214   \n",
       "4        15.97711   15.54461    NaN       301        3       137   \n",
       "\n",
       "    spec_obj_ID  red_shift  plate_ID    MJD  fiber_ID   class  \n",
       "0  6.540000e+18   0.634794      5812  56354       171  GALAXY  \n",
       "1  1.180000e+19   0.779136     10445  58158       427  GALAXY  \n",
       "2  5.150000e+18   0.644195      4576  55592       299  GALAXY  \n",
       "3  1.030000e+19   0.932346      9149  58039       775  GALAXY  \n",
       "4  6.890000e+18   0.116123      6121  56187       842  GALAXY  "
      ]
     },
     "execution_count": 3,
     "metadata": {},
     "output_type": "execute_result"
    }
   ],
   "source": [
    "import pandas as pd\n",
    "\n",
    "df = pd.read_csv(\"./stellar-classification-dataset/StarClassificationDataset.csv\")\n",
    "df.head()"
   ]
  },
  {
   "cell_type": "code",
   "execution_count": 4,
   "metadata": {
    "execution": {
     "iopub.execute_input": "2025-04-08T16:02:31.168663Z",
     "iopub.status.busy": "2025-04-08T16:02:31.168299Z",
     "iopub.status.idle": "2025-04-08T16:02:31.214922Z",
     "shell.execute_reply": "2025-04-08T16:02:31.214125Z",
     "shell.execute_reply.started": "2025-04-08T16:02:31.168618Z"
    },
    "trusted": true
   },
   "outputs": [
    {
     "name": "stdout",
     "output_type": "stream",
     "text": [
      "<class 'pandas.core.frame.DataFrame'>\n",
      "RangeIndex: 100000 entries, 0 to 99999\n",
      "Data columns (total 18 columns):\n",
      " #   Column          Non-Null Count   Dtype  \n",
      "---  ------          --------------   -----  \n",
      " 0   object_ID       100000 non-null  float64\n",
      " 1   alpha           99999 non-null   object \n",
      " 2   delta           99998 non-null   float64\n",
      " 3   UV_filter       100000 non-null  float64\n",
      " 4   green_filter    100000 non-null  float64\n",
      " 5   red_filter      100000 non-null  float64\n",
      " 6   near_IR_filter  100000 non-null  float64\n",
      " 7   IR_filter       100000 non-null  float64\n",
      " 8   run_ID          99994 non-null   object \n",
      " 9   rerun_ID        100000 non-null  int64  \n",
      " 10  cam_col         100000 non-null  int64  \n",
      " 11  field_ID        100000 non-null  int64  \n",
      " 12  spec_obj_ID     100000 non-null  float64\n",
      " 13  red_shift       100000 non-null  float64\n",
      " 14  plate_ID        100000 non-null  int64  \n",
      " 15  MJD             100000 non-null  int64  \n",
      " 16  fiber_ID        100000 non-null  int64  \n",
      " 17  class           100000 non-null  object \n",
      "dtypes: float64(9), int64(6), object(3)\n",
      "memory usage: 13.7+ MB\n"
     ]
    }
   ],
   "source": [
    "df.info()"
   ]
  },
  {
   "cell_type": "code",
   "execution_count": 5,
   "metadata": {
    "execution": {
     "iopub.execute_input": "2025-04-08T16:02:31.215954Z",
     "iopub.status.busy": "2025-04-08T16:02:31.215707Z",
     "iopub.status.idle": "2025-04-08T16:02:32.350660Z",
     "shell.execute_reply": "2025-04-08T16:02:32.349633Z",
     "shell.execute_reply.started": "2025-04-08T16:02:31.215933Z"
    },
    "trusted": true
   },
   "outputs": [
    {
     "name": "stderr",
     "output_type": "stream",
     "text": [
      "C:\\Users\\dimac\\AppData\\Local\\Temp\\ipykernel_22580\\1600571636.py:4: FutureWarning: \n",
      "\n",
      "Passing `palette` without assigning `hue` is deprecated and will be removed in v0.14.0. Assign the `x` variable to `hue` and set `legend=False` for the same effect.\n",
      "\n",
      "  sns.countplot(x ='class', data = df, palette='hls')\n"
     ]
    },
    {
     "data": {
      "image/png": "[encoded data removed]",
      "text/plain": [
       "<Figure size 640x480 with 1 Axes>"
      ]
     },
     "metadata": {},
     "output_type": "display_data"
    }
   ],
   "source": [
    "import seaborn as sns\n",
    "import matplotlib.pyplot as plt\n",
    "\n",
    "sns.countplot(x ='class', data = df, palette='hls')\n",
    "plt.show()"
   ]
  },
  {
   "cell_type": "code",
   "execution_count": 6,
   "metadata": {
    "execution": {
     "iopub.execute_input": "2025-04-08T16:06:17.275543Z",
     "iopub.status.busy": "2025-04-08T16:06:17.274855Z",
     "iopub.status.idle": "2025-04-08T16:06:17.327859Z",
     "shell.execute_reply": "2025-04-08T16:06:17.326970Z",
     "shell.execute_reply.started": "2025-04-08T16:06:17.275512Z"
    },
    "trusted": true
   },
   "outputs": [],
   "source": [
    "# Удалим все объекты где есть пропуски\n",
    "df.dropna(inplace=True)\n",
    "# Удалим неинформативную колонку\n",
    "df.drop(columns=['object_ID'], inplace=True)\n",
    "\n",
    "# Возьмем только числовые колонки\n",
    "numeric_cols = df.select_dtypes(include='number').columns\n",
    "df_X = df[numeric_cols]"
   ]
  },
  {
   "cell_type": "code",
   "execution_count": 7,
   "metadata": {
    "execution": {
     "iopub.execute_input": "2025-04-08T16:06:51.185930Z",
     "iopub.status.busy": "2025-04-08T16:06:51.185596Z",
     "iopub.status.idle": "2025-04-08T16:06:51.293305Z",
     "shell.execute_reply": "2025-04-08T16:06:51.292166Z",
     "shell.execute_reply.started": "2025-04-08T16:06:51.185906Z"
    },
    "trusted": true
   },
   "outputs": [
    {
     "name": "stdout",
     "output_type": "stream",
     "text": [
      "{'GALAXY': 0, 'QSO': 1, 'STAR': 2}\n"
     ]
    }
   ],
   "source": [
    "from sklearn.preprocessing import LabelEncoder\n",
    "\n",
    "# Закодируем целевую переменную\n",
    "# Создание и применение LabelEncoder\n",
    "encoder = LabelEncoder()\n",
    "df['class'] = encoder.fit_transform(df['class'])\n",
    "\n",
    "# Создание словаря соответствия\n",
    "label_mapping = {class_name: index for index, class_name in enumerate(encoder.classes_)}\n",
    "\n",
    "print(label_mapping)"
   ]
  },
  {
   "cell_type": "code",
   "execution_count": 8,
   "metadata": {
    "execution": {
     "iopub.execute_input": "2025-04-08T16:07:29.759532Z",
     "iopub.status.busy": "2025-04-08T16:07:29.759167Z",
     "iopub.status.idle": "2025-04-08T16:07:30.029995Z",
     "shell.execute_reply": "2025-04-08T16:07:30.029132Z",
     "shell.execute_reply.started": "2025-04-08T16:07:29.759499Z"
    },
    "trusted": true
   },
   "outputs": [
    {
     "name": "stdout",
     "output_type": "stream",
     "text": [
      "Train shape: (66660, 14), (66660,)\n",
      "Test shape: (33331, 14), (33331,)\n"
     ]
    }
   ],
   "source": [
    "from sklearn.model_selection import train_test_split\n",
    "\n",
    "X = df_X.copy()\n",
    "y = df['class']\n",
    "\n",
    "X_train, X_test, y_train, y_test = train_test_split(X, y, test_size=1/3, random_state=42)\n",
    "\n",
    "print(f'Train shape: {X_train.shape}, {y_train.shape}')\n",
    "print(f'Test shape: {X_test.shape}, {y_test.shape}')"
   ]
  },
  {
   "cell_type": "code",
   "execution_count": 9,
   "metadata": {
    "execution": {
     "iopub.execute_input": "2025-04-08T16:14:04.085983Z",
     "iopub.status.busy": "2025-04-08T16:14:04.085557Z",
     "iopub.status.idle": "2025-04-08T16:14:34.055937Z",
     "shell.execute_reply": "2025-04-08T16:14:34.055103Z",
     "shell.execute_reply.started": "2025-04-08T16:14:04.085941Z"
    },
    "trusted": true
   },
   "outputs": [
    {
     "data": {
      "text/html": [
       "<div>\n",
       "<style scoped>\n",
       "    .dataframe tbody tr th:only-of-type {\n",
       "        vertical-align: middle;\n",
       "    }\n",
       "\n",
       "    .dataframe tbody tr th {\n",
       "        vertical-align: top;\n",
       "    }\n",
       "\n",
       "    .dataframe thead th {\n",
       "        text-align: right;\n",
       "    }\n",
       "</style>\n",
       "<table border=\"1\" class=\"dataframe\">\n",
       "  <thead>\n",
       "    <tr style=\"text-align: right;\">\n",
       "      <th></th>\n",
       "      <th>k</th>\n",
       "      <th>accuracy</th>\n",
       "    </tr>\n",
       "  </thead>\n",
       "  <tbody>\n",
       "    <tr>\n",
       "      <th>0</th>\n",
       "      <td>3</td>\n",
       "      <td>0.689268</td>\n",
       "    </tr>\n",
       "    <tr>\n",
       "      <th>1</th>\n",
       "      <td>4</td>\n",
       "      <td>0.698089</td>\n",
       "    </tr>\n",
       "    <tr>\n",
       "      <th>2</th>\n",
       "      <td>5</td>\n",
       "      <td>0.699919</td>\n",
       "    </tr>\n",
       "    <tr>\n",
       "      <th>3</th>\n",
       "      <td>6</td>\n",
       "      <td>0.703279</td>\n",
       "    </tr>\n",
       "    <tr>\n",
       "      <th>4</th>\n",
       "      <td>7</td>\n",
       "      <td>0.703549</td>\n",
       "    </tr>\n",
       "    <tr>\n",
       "      <th>5</th>\n",
       "      <td>8</td>\n",
       "      <td>0.704779</td>\n",
       "    </tr>\n",
       "    <tr>\n",
       "      <th>6</th>\n",
       "      <td>9</td>\n",
       "      <td>0.704989</td>\n",
       "    </tr>\n",
       "    <tr>\n",
       "      <th>7</th>\n",
       "      <td>10</td>\n",
       "      <td>0.705949</td>\n",
       "    </tr>\n",
       "    <tr>\n",
       "      <th>8</th>\n",
       "      <td>11</td>\n",
       "      <td>0.707450</td>\n",
       "    </tr>\n",
       "    <tr>\n",
       "      <th>9</th>\n",
       "      <td>12</td>\n",
       "      <td>0.707119</td>\n",
       "    </tr>\n",
       "    <tr>\n",
       "      <th>10</th>\n",
       "      <td>13</td>\n",
       "      <td>0.707480</td>\n",
       "    </tr>\n",
       "    <tr>\n",
       "      <th>11</th>\n",
       "      <td>14</td>\n",
       "      <td>0.707780</td>\n",
       "    </tr>\n",
       "    <tr>\n",
       "      <th>12</th>\n",
       "      <td>15</td>\n",
       "      <td>0.708140</td>\n",
       "    </tr>\n",
       "    <tr>\n",
       "      <th>13</th>\n",
       "      <td>16</td>\n",
       "      <td>0.707300</td>\n",
       "    </tr>\n",
       "  </tbody>\n",
       "</table>\n",
       "</div>"
      ],
      "text/plain": [
       "     k  accuracy\n",
       "0    3  0.689268\n",
       "1    4  0.698089\n",
       "2    5  0.699919\n",
       "3    6  0.703279\n",
       "4    7  0.703549\n",
       "5    8  0.704779\n",
       "6    9  0.704989\n",
       "7   10  0.705949\n",
       "8   11  0.707450\n",
       "9   12  0.707119\n",
       "10  13  0.707480\n",
       "11  14  0.707780\n",
       "12  15  0.708140\n",
       "13  16  0.707300"
      ]
     },
     "execution_count": 9,
     "metadata": {},
     "output_type": "execute_result"
    }
   ],
   "source": [
    "from sklearn.neighbors import KNeighborsClassifier # классификатор\n",
    "from sklearn.neighbors import KNeighborsRegressor # регрессор\n",
    "\n",
    "from sklearn.metrics import accuracy_score, confusion_matrix, recall_score, precision_score\n",
    "\n",
    "# Список для хранения всех вариантов модели\n",
    "# и метрик для каждой из них\n",
    "scores = []\n",
    "\n",
    "# переберем соседей от 3 до 16 включительно\n",
    "for i in range(3, 17):\n",
    "    # словарь для сохренение метрик для одной модели\n",
    "    score = {}\n",
    "    # создаем модель с количеством соседей i\n",
    "    knn = KNeighborsClassifier(i)\n",
    "    # обучаем модель\n",
    "    knn.fit(X_train,y_train)\n",
    "    # метод predict возвращает вектор ответов для X_test\n",
    "    answers = knn.predict(X_test) \n",
    "\n",
    "    # Оцениваем KNN  с кол-вом сосдей i и сохраняем\n",
    "    score['k'] = i\n",
    "    score['accuracy'] = accuracy_score(answers,y_test)\n",
    "    scores.append(score)\n",
    "\n",
    "# вывод всех вариантов и их метрик\n",
    "scores = pd.DataFrame(scores)\n",
    "scores"
   ]
  },
  {
   "cell_type": "code",
   "execution_count": 10,
   "metadata": {
    "execution": {
     "iopub.execute_input": "2025-04-08T16:16:03.374287Z",
     "iopub.status.busy": "2025-04-08T16:16:03.373893Z",
     "iopub.status.idle": "2025-04-08T16:16:05.558628Z",
     "shell.execute_reply": "2025-04-08T16:16:05.557302Z",
     "shell.execute_reply.started": "2025-04-08T16:16:03.374257Z"
    },
    "trusted": true
   },
   "outputs": [],
   "source": [
    "knn = KNeighborsClassifier(15)\n",
    "\n",
    "# обучаем\n",
    "knn.fit(X_train,y_train)\n",
    "\n",
    "# предсказываем значения\n",
    "y_pred = knn.predict(X_test)"
   ]
  },
  {
   "cell_type": "code",
   "execution_count": 11,
   "metadata": {
    "execution": {
     "iopub.execute_input": "2025-04-08T16:17:45.024448Z",
     "iopub.status.busy": "2025-04-08T16:17:45.024082Z",
     "iopub.status.idle": "2025-04-08T16:17:45.321396Z",
     "shell.execute_reply": "2025-04-08T16:17:45.320432Z",
     "shell.execute_reply.started": "2025-04-08T16:17:45.024418Z"
    },
    "trusted": true
   },
   "outputs": [
    {
     "data": {
      "text/plain": [
       "<sklearn.metrics._plot.confusion_matrix.ConfusionMatrixDisplay at 0x21514574c80>"
      ]
     },
     "execution_count": 11,
     "metadata": {},
     "output_type": "execute_result"
    },
    {
     "data": {
      "image/png": "[encoded data removed]",
      "text/plain": [
       "<Figure size 800x600 with 2 Axes>"
      ]
     },
     "metadata": {},
     "output_type": "display_data"
    }
   ],
   "source": [
    "from sklearn.metrics import ConfusionMatrixDisplay\n",
    "from sklearn.metrics import confusion_matrix\n",
    "\n",
    "conf_matrix = confusion_matrix(y_test, y_pred)\n",
    "\n",
    "fig, ax = plt.subplots(figsize=(8,6), dpi=100)\n",
    "\n",
    "display = ConfusionMatrixDisplay(conf_matrix, display_labels=knn.classes_)\n",
    "\n",
    "display.plot(ax=ax, cmap='YlGnBu')"
   ]
  },
  {
   "cell_type": "code",
   "execution_count": 12,
   "metadata": {
    "execution": {
     "iopub.execute_input": "2025-04-08T16:22:16.386870Z",
     "iopub.status.busy": "2025-04-08T16:22:16.386525Z",
     "iopub.status.idle": "2025-04-08T16:22:16.566916Z",
     "shell.execute_reply": "2025-04-08T16:22:16.565957Z",
     "shell.execute_reply.started": "2025-04-08T16:22:16.386843Z"
    },
    "trusted": true
   },
   "outputs": [
    {
     "name": "stdout",
     "output_type": "stream",
     "text": [
      "Accuracy: 0.7081\n",
      "Precision Macro: 0.6828\n",
      "Precision Micro: 0.7081\n",
      "Precision Weighted: 0.7078\n",
      "Recall Macro: 0.5808\n",
      "Recall Micro: 0.7081\n",
      "Recall Weighted: 0.7081\n",
      "F1 Macro: 0.6082\n",
      "F1 Micro: 0.7081\n",
      "F1 Weighted: 0.6894\n",
      "Confusion Matrix:\n",
      "[[17933  1495   445]\n",
      " [ 3422  2502   279]\n",
      " [ 3089   998  3168]]\n",
      "Classification Report:\n",
      "              precision    recall  f1-score   support\n",
      "\n",
      "           0       0.73      0.90      0.81     19873\n",
      "           1       0.50      0.40      0.45      6203\n",
      "           2       0.81      0.44      0.57      7255\n",
      "\n",
      "    accuracy                           0.71     33331\n",
      "   macro avg       0.68      0.58      0.61     33331\n",
      "weighted avg       0.71      0.71      0.69     33331\n",
      "\n"
     ]
    }
   ],
   "source": [
    "from sklearn.metrics import accuracy_score, precision_score, recall_score, f1_score, classification_report, confusion_matrix\n",
    "\n",
    "accuracy = accuracy_score(y_test, y_pred)\n",
    "print(f\"Accuracy: {accuracy:.4f}\")\n",
    "\n",
    "# 2. Precision (по классам и усредненный)\n",
    "precision_macro = precision_score(y_test, y_pred, average='macro')\n",
    "precision_micro = precision_score(y_test, y_pred, average='micro')\n",
    "precision_weighted = precision_score(y_test, y_pred, average='weighted')\n",
    "\n",
    "print(f\"Precision Macro: {precision_macro:.4f}\")\n",
    "print(f\"Precision Micro: {precision_micro:.4f}\")\n",
    "print(f\"Precision Weighted: {precision_weighted:.4f}\")\n",
    "\n",
    "# 3. Recall (по классам и усредненный)\n",
    "recall_macro = recall_score(y_test, y_pred, average='macro')\n",
    "recall_micro = recall_score(y_test, y_pred, average='micro')\n",
    "recall_weighted = recall_score(y_test, y_pred, average='weighted')\n",
    "\n",
    "print(f\"Recall Macro: {recall_macro:.4f}\")\n",
    "print(f\"Recall Micro: {recall_micro:.4f}\")\n",
    "print(f\"Recall Weighted: {recall_weighted:.4f}\")\n",
    "\n",
    "# 4. F1-score (по классам и усредненный)\n",
    "f1_macro = f1_score(y_test, y_pred, average='macro')\n",
    "f1_micro = f1_score(y_test, y_pred, average='micro')\n",
    "f1_weighted = f1_score(y_test, y_pred, average='weighted')\n",
    "\n",
    "print(f\"F1 Macro: {f1_macro:.4f}\")\n",
    "print(f\"F1 Micro: {f1_micro:.4f}\")\n",
    "print(f\"F1 Weighted: {f1_weighted:.4f}\")\n",
    "\n",
    "# 5. Матрица ошибок (Confusion Matrix)\n",
    "conf_matrix = confusion_matrix(y_test, y_pred)\n",
    "print(\"Confusion Matrix:\")\n",
    "print(conf_matrix)\n",
    "\n",
    "# 6. Подробный отчет по классам\n",
    "print(\"Classification Report:\")\n",
    "print(classification_report(y_test, y_pred))"
   ]
  },
  {
   "cell_type": "code",
   "execution_count": 13,
   "metadata": {
    "execution": {
     "iopub.execute_input": "2025-04-08T16:31:13.425570Z",
     "iopub.status.busy": "2025-04-08T16:31:13.425202Z",
     "iopub.status.idle": "2025-04-08T16:31:14.645444Z",
     "shell.execute_reply": "2025-04-08T16:31:14.644348Z",
     "shell.execute_reply.started": "2025-04-08T16:31:13.425539Z"
    },
    "trusted": true
   },
   "outputs": [
    {
     "name": "stdout",
     "output_type": "stream",
     "text": [
      "Features shape after SMOTE: (178311, 14)\n",
      "Classes distribution after SMOTE:\n",
      "class\n",
      "0        59437\n",
      "1        59437\n",
      "2        59437\n",
      "Name: count, dtype: int64\n"
     ]
    }
   ],
   "source": [
    "from imblearn.over_sampling import SMOTE\n",
    "\n",
    "os = SMOTE(random_state=0, k_neighbors=10)\n",
    "\n",
    "columns = X.columns\n",
    "\n",
    "os_data_X, os_data_y = os.fit_resample(X, y)\n",
    "# fit()\n",
    "# resample()\n",
    "\n",
    "os_data_X = pd.DataFrame(os_data_X, columns = columns)\n",
    "os_data_y = pd.DataFrame(os_data_y, columns = ['class'])\n",
    "\n",
    "print(f'Features shape after SMOTE: {os_data_X.shape}')\n",
    "print(f'Classes distribution after SMOTE:\\n{os_data_y.value_counts()}')"
   ]
  },
  {
   "cell_type": "code",
   "execution_count": 14,
   "metadata": {
    "execution": {
     "iopub.execute_input": "2025-04-08T16:31:44.415456Z",
     "iopub.status.busy": "2025-04-08T16:31:44.414859Z",
     "iopub.status.idle": "2025-04-08T16:31:47.625480Z",
     "shell.execute_reply": "2025-04-08T16:31:47.624423Z",
     "shell.execute_reply.started": "2025-04-08T16:31:44.415420Z"
    },
    "trusted": true
   },
   "outputs": [
    {
     "name": "stderr",
     "output_type": "stream",
     "text": [
      "c:\\Users\\dimac\\anaconda3\\Lib\\site-packages\\sklearn\\neighbors\\_classification.py:238: DataConversionWarning: A column-vector y was passed when a 1d array was expected. Please change the shape of y to (n_samples,), for example using ravel().\n",
      "  return self._fit(X, y)\n"
     ]
    },
    {
     "name": "stdout",
     "output_type": "stream",
     "text": [
      "Accuracy: 0.6702\n",
      "Precision Macro: 0.6773\n",
      "Precision Micro: 0.6702\n",
      "Precision Weighted: 0.6778\n",
      "Recall Macro: 0.6705\n",
      "Recall Micro: 0.6702\n",
      "Recall Weighted: 0.6702\n",
      "F1 Macro: 0.6705\n",
      "F1 Micro: 0.6702\n",
      "F1 Weighted: 0.6705\n"
     ]
    }
   ],
   "source": [
    "from sklearn.model_selection import train_test_split\n",
    "from sklearn.metrics import accuracy_score, precision_score, recall_score, f1_score, classification_report, confusion_matrix\n",
    "\n",
    "X_train, X_test, y_train, y_test = train_test_split(os_data_X, os_data_y, test_size=0.2, random_state=42)\n",
    "\n",
    "knn = KNeighborsClassifier(15)\n",
    "# обучаем\n",
    "knn.fit(X_train,y_train)\n",
    "# предсказываем значения\n",
    "y_pred = knn.predict(X_test)\n",
    "\n",
    "accuracy = accuracy_score(y_test, y_pred)\n",
    "print(f\"Accuracy: {accuracy:.4f}\")\n",
    "\n",
    "# 2. Precision (по классам и усредненный)\n",
    "precision_macro = precision_score(y_test, y_pred, average='macro')\n",
    "precision_micro = precision_score(y_test, y_pred, average='micro')\n",
    "precision_weighted = precision_score(y_test, y_pred, average='weighted')\n",
    "\n",
    "print(f\"Precision Macro: {precision_macro:.4f}\")\n",
    "print(f\"Precision Micro: {precision_micro:.4f}\")\n",
    "print(f\"Precision Weighted: {precision_weighted:.4f}\")\n",
    "\n",
    "# 3. Recall (по классам и усредненный)\n",
    "recall_macro = recall_score(y_test, y_pred, average='macro')\n",
    "recall_micro = recall_score(y_test, y_pred, average='micro')\n",
    "recall_weighted = recall_score(y_test, y_pred, average='weighted')\n",
    "\n",
    "print(f\"Recall Macro: {recall_macro:.4f}\")\n",
    "print(f\"Recall Micro: {recall_micro:.4f}\")\n",
    "print(f\"Recall Weighted: {recall_weighted:.4f}\")\n",
    "\n",
    "# 4. F1-score (по классам и усредненный)\n",
    "f1_macro = f1_score(y_test, y_pred, average='macro')\n",
    "f1_micro = f1_score(y_test, y_pred, average='micro')\n",
    "f1_weighted = f1_score(y_test, y_pred, average='weighted')\n",
    "\n",
    "print(f\"F1 Macro: {f1_macro:.4f}\")\n",
    "print(f\"F1 Micro: {f1_micro:.4f}\")\n",
    "print(f\"F1 Weighted: {f1_weighted:.4f}\")"
   ]
  }
 ],
 "metadata": {
  "kaggle": {
   "accelerator": "none",
   "dataSources": [],
   "dockerImageVersionId": 30918,
   "isGpuEnabled": false,
   "isInternetEnabled": true,
   "language": "python",
   "sourceType": "notebook"
  },
  "kernelspec": {
   "display_name": "base",
   "language": "python",
   "name": "python3"
  },
  "language_info": {
   "codemirror_mode": {
    "name": "ipython",
    "version": 3
   },
   "file_extension": ".py",
   "mimetype": "text/x-python",
   "name": "python",
   "nbconvert_exporter": "python",
   "pygments_lexer": "ipython3",
   "version": "3.12.4"
  }
 },
 "nbformat": 4,
 "nbformat_minor": 4
}
