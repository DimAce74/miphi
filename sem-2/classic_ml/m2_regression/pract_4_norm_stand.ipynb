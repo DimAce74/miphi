{
 "cells": [
  {
   "cell_type": "code",
   "execution_count": 1,
   "id": "1dc6c0fc",
   "metadata": {},
   "outputs": [
    {
     "data": {
      "text/html": [
       "<div>\n",
       "<style scoped>\n",
       "    .dataframe tbody tr th:only-of-type {\n",
       "        vertical-align: middle;\n",
       "    }\n",
       "\n",
       "    .dataframe tbody tr th {\n",
       "        vertical-align: top;\n",
       "    }\n",
       "\n",
       "    .dataframe thead th {\n",
       "        text-align: right;\n",
       "    }\n",
       "</style>\n",
       "<table border=\"1\" class=\"dataframe\">\n",
       "  <thead>\n",
       "    <tr style=\"text-align: right;\">\n",
       "      <th></th>\n",
       "      <th>f1</th>\n",
       "      <th>f2</th>\n",
       "      <th>f3</th>\n",
       "    </tr>\n",
       "  </thead>\n",
       "  <tbody>\n",
       "    <tr>\n",
       "      <th>0</th>\n",
       "      <td>1000.0</td>\n",
       "      <td>-15.0</td>\n",
       "      <td>2.0</td>\n",
       "    </tr>\n",
       "    <tr>\n",
       "      <th>1</th>\n",
       "      <td>2500.0</td>\n",
       "      <td>10.0</td>\n",
       "      <td>1.0</td>\n",
       "    </tr>\n",
       "    <tr>\n",
       "      <th>2</th>\n",
       "      <td>3000.0</td>\n",
       "      <td>13.0</td>\n",
       "      <td>-1.0</td>\n",
       "    </tr>\n",
       "  </tbody>\n",
       "</table>\n",
       "</div>"
      ],
      "text/plain": [
       "       f1    f2   f3\n",
       "0  1000.0 -15.0  2.0\n",
       "1  2500.0  10.0  1.0\n",
       "2  3000.0  13.0 -1.0"
      ]
     },
     "execution_count": 1,
     "metadata": {},
     "output_type": "execute_result"
    }
   ],
   "source": [
    "from sklearn.preprocessing import MinMaxScaler, StandardScaler\n",
    "import numpy as np\n",
    "import pandas as pd\n",
    "\n",
    "# вектор признаков\n",
    "X = np.array([[ 1000., -15.,  2.],\n",
    "              [ 2500.,  10.,  1.],\n",
    "              [ 3000.,  13., -1.]])\n",
    "\n",
    "X = pd.DataFrame(X, columns=['f1','f2','f3'])\n",
    "X"
   ]
  },
  {
   "cell_type": "code",
   "execution_count": 2,
   "id": "248c6bf1",
   "metadata": {},
   "outputs": [
    {
     "data": {
      "text/plain": [
       "f1    2166.666667\n",
       "f2       2.666667\n",
       "f3       0.666667\n",
       "dtype: float64"
      ]
     },
     "execution_count": 2,
     "metadata": {},
     "output_type": "execute_result"
    }
   ],
   "source": [
    "X.mean(axis=0)"
   ]
  },
  {
   "cell_type": "code",
   "execution_count": 3,
   "id": "5913f452",
   "metadata": {},
   "outputs": [
    {
     "data": {
      "text/plain": [
       "array([[-1.37281295, -1.40746549,  1.06904497],\n",
       "       [ 0.39223227,  0.58423096,  0.26726124],\n",
       "       [ 0.98058068,  0.82323453, -1.33630621]])"
      ]
     },
     "execution_count": 3,
     "metadata": {},
     "output_type": "execute_result"
    }
   ],
   "source": [
    "std = StandardScaler()\n",
    "X_std = std.fit_transform(X)\n",
    "X_std"
   ]
  },
  {
   "cell_type": "code",
   "execution_count": 4,
   "id": "7954dcb9",
   "metadata": {},
   "outputs": [
    {
     "data": {
      "text/plain": [
       "f1    0.0\n",
       "f2    0.0\n",
       "f3    0.0\n",
       "dtype: float64"
      ]
     },
     "execution_count": 4,
     "metadata": {},
     "output_type": "execute_result"
    }
   ],
   "source": [
    "X_std = pd.DataFrame(X_std, columns=['f1','f2','f3'])\n",
    "# среднее значение по каждому столбцу\n",
    "X_std.mean(axis=0).round(0)"
   ]
  },
  {
   "cell_type": "code",
   "execution_count": 5,
   "id": "4e5a4882",
   "metadata": {},
   "outputs": [
    {
     "data": {
      "text/plain": [
       "f1    1.0\n",
       "f2    1.0\n",
       "f3    1.0\n",
       "dtype: float64"
      ]
     },
     "execution_count": 5,
     "metadata": {},
     "output_type": "execute_result"
    }
   ],
   "source": [
    "X_std.std(axis=0).round()"
   ]
  },
  {
   "cell_type": "code",
   "execution_count": 6,
   "id": "f5247674",
   "metadata": {},
   "outputs": [],
   "source": [
    "mmsc = MinMaxScaler()\n",
    "X_norm = mmsc.fit_transform(X) # type - numpy array\n",
    "\n",
    "X_norm = pd.DataFrame(X_norm, columns=['f1','f2','f3'])"
   ]
  },
  {
   "cell_type": "code",
   "execution_count": 7,
   "id": "867ad651",
   "metadata": {},
   "outputs": [
    {
     "data": {
      "text/plain": [
       "f1    0.583333\n",
       "f2    0.630952\n",
       "f3    0.555556\n",
       "dtype: float64"
      ]
     },
     "execution_count": 7,
     "metadata": {},
     "output_type": "execute_result"
    }
   ],
   "source": [
    "X_norm.mean(axis=0)"
   ]
  },
  {
   "cell_type": "code",
   "execution_count": 8,
   "id": "05a1ece1",
   "metadata": {},
   "outputs": [
    {
     "data": {
      "text/plain": [
       "f1    0.520416\n",
       "f2    0.549041\n",
       "f3    0.509175\n",
       "dtype: float64"
      ]
     },
     "execution_count": 8,
     "metadata": {},
     "output_type": "execute_result"
    }
   ],
   "source": [
    "X_norm.std(axis=0)"
   ]
  }
 ],
 "metadata": {
  "kernelspec": {
   "display_name": "base",
   "language": "python",
   "name": "python3"
  },
  "language_info": {
   "codemirror_mode": {
    "name": "ipython",
    "version": 3
   },
   "file_extension": ".py",
   "mimetype": "text/x-python",
   "name": "python",
   "nbconvert_exporter": "python",
   "pygments_lexer": "ipython3",
   "version": "3.12.4"
  }
 },
 "nbformat": 4,
 "nbformat_minor": 5
}
