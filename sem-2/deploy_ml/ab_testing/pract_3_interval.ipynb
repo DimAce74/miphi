{
 "cells": [
  {
   "cell_type": "code",
   "execution_count": 1,
   "id": "baa5cda0",
   "metadata": {},
   "outputs": [],
   "source": [
    "n = 36 # размер выборки\n",
    "x_mean = 16100 # выборочное среднее\n",
    "sigma = 12000 # истинное стандартное отклонение\n",
    "gamma = 0.95 # уровень надёжности\n",
    "alpha = 1 - gamma # уровень значимости"
   ]
  },
  {
   "cell_type": "code",
   "execution_count": 2,
   "id": "a05eed77",
   "metadata": {},
   "outputs": [
    {
     "name": "stdout",
     "output_type": "stream",
     "text": [
      "1.959963984540054\n"
     ]
    }
   ],
   "source": [
    "from scipy.stats import norm\n",
    "z_crit = -norm.ppf(alpha/2) # z-критическое\n",
    "print(z_crit)\n",
    "# 1.959963984540054"
   ]
  },
  {
   "cell_type": "code",
   "execution_count": 3,
   "id": "dfbb06f1",
   "metadata": {},
   "outputs": [
    {
     "name": "stdout",
     "output_type": "stream",
     "text": [
      "Доверительный интервал: (12180, 20020)\n"
     ]
    }
   ],
   "source": [
    "def z_mean_conf_interval(x_mean, sigma, n, gamma=0.95):  \n",
    "    alpha = 1 - gamma  # уровень значимости\n",
    "    z_crit = -norm.ppf(alpha/2)  # z-критическое\n",
    "    eps = z_crit * sigma/(n ** 0.5) # погрешность\n",
    "    lower_bound = x_mean - eps  # левая (нижняя) граница\n",
    "    upper_bound = x_mean + eps  # правая (верхняя) граница\n",
    "    # возвращаем кортеж из границ интервала\n",
    "    return lower_bound, upper_bound\n",
    "\n",
    "# строим доверительный интервал для среднего при известном СКО\n",
    "lower_bound, upper_bound = z_mean_conf_interval(x_mean, sigma, n)\n",
    "\n",
    "# выводим результат\n",
    "print('Доверительный интервал: {}'.format((round(lower_bound), round(upper_bound))))\n",
    "\n",
    "# Доверительный интервал: (12180, 20020)"
   ]
  },
  {
   "cell_type": "code",
   "execution_count": 4,
   "id": "907be71f",
   "metadata": {},
   "outputs": [
    {
     "name": "stdout",
     "output_type": "stream",
     "text": [
      "Доверительный интервал: (12180, 20020)\n"
     ]
    }
   ],
   "source": [
    "# строим доверительный интервал\n",
    "lower, upper = norm.interval(gamma, loc=x_mean, scale=sigma / n**0.5)\n",
    "print('Доверительный интервал: {}'.format((round(lower), round(upper))))\n",
    "# Доверительный интервал: (12180, 20020)"
   ]
  },
  {
   "cell_type": "code",
   "execution_count": 5,
   "id": "fc490997",
   "metadata": {},
   "outputs": [
    {
     "data": {
      "text/plain": [
       "1.6448536269514729"
      ]
     },
     "execution_count": 5,
     "metadata": {},
     "output_type": "execute_result"
    }
   ],
   "source": [
    "n = 64 # размер выборки\n",
    "x_mean = 12.35 # выборочное среднее\n",
    "sigma = 2.4 # истинное стандартное отклонение\n",
    "gamma = 0.9 # уровень надёжности\n",
    "alpha = 1 - gamma # уровень значимости\n",
    "\n",
    "z_crit = -norm.ppf(alpha/2)  # z-критическое\n",
    "z_crit"
   ]
  },
  {
   "cell_type": "code",
   "execution_count": 7,
   "id": "db977d23",
   "metadata": {},
   "outputs": [
    {
     "name": "stdout",
     "output_type": "stream",
     "text": [
      "1.64\n",
      "Доверительный интервал: (12, 13)\n"
     ]
    }
   ],
   "source": [
    "\n",
    "def z_mean_conf_interval(x_mean, sigma, n, gamma=0.95):  \n",
    "    z_cr_r = round(z_crit, 2)  # z-критическое\n",
    "    print(z_cr_r)\n",
    "    eps = z_cr_r * sigma/(n ** 0.5) # погрешность\n",
    "    lower_bound = x_mean - eps  # левая (нижняя) граница\n",
    "    upper_bound = x_mean + eps  # правая (верхняя) граница\n",
    "    # возвращаем кортеж из границ интервала\n",
    "    return lower_bound, upper_bound\n",
    "\n",
    "# строим доверительный интервал для среднего при известном СКО\n",
    "lower_bound, upper_bound = z_mean_conf_interval(x_mean, sigma, n)\n",
    "\n",
    "# выводим результат\n",
    "print('Доверительный интервал: {}'.format((round(lower_bound), round(upper_bound))))"
   ]
  },
  {
   "cell_type": "code",
   "execution_count": 8,
   "id": "cb10f6b0",
   "metadata": {},
   "outputs": [
    {
     "name": "stdout",
     "output_type": "stream",
     "text": [
      "Доверительный интервал: (12, 13)\n"
     ]
    }
   ],
   "source": [
    "# строим доверительный интервал\n",
    "lower, upper = norm.interval(gamma, loc=x_mean, scale=sigma / n**0.5)\n",
    "print('Доверительный интервал: {}'.format((round(lower), round(upper))))\n",
    "# Доверительный интервал: (12180, 20020)"
   ]
  },
  {
   "cell_type": "code",
   "execution_count": 9,
   "id": "1f1e9f73",
   "metadata": {},
   "outputs": [],
   "source": [
    "n = 15 # размер выборки\n",
    "k = n - 1 # число степеней свободы\n",
    "x_mean = 2000 # выборочное среднее\n",
    "x_std = 400 # выборочное стандартное отклонение\n",
    "gamma = 0.95 # уровень надёжности\n",
    "alpha = 1 - gamma # уровень значимости"
   ]
  },
  {
   "cell_type": "code",
   "execution_count": 11,
   "id": "1ce96e41",
   "metadata": {},
   "outputs": [
    {
     "name": "stdout",
     "output_type": "stream",
     "text": [
      "2.1447866879169273\n"
     ]
    }
   ],
   "source": [
    "from scipy.stats import t\n",
    "t_crit = -t.ppf(alpha/2, k) # t-критическое\n",
    "print(t_crit)\n",
    "# 2.1447866879169273"
   ]
  },
  {
   "cell_type": "code",
   "execution_count": 12,
   "id": "6ffce792",
   "metadata": {},
   "outputs": [
    {
     "name": "stdout",
     "output_type": "stream",
     "text": [
      "Доверительный интервал: (1778, 2222)\n"
     ]
    }
   ],
   "source": [
    "def t_mean_conf_interval(x_mean, x_std, n, gamma=0.95):  \n",
    "    alpha = 1 - gamma # уровень значимости\n",
    "    t_crit = -t.ppf(alpha/2, k) # t-критическое\n",
    "    eps = t_crit * x_std/(n ** 0.5) # погрешность\n",
    "    lower_bound = x_mean - eps # левая (нижняя) граница\n",
    "    upper_bound = x_mean + eps # правая (верхняя) граница\n",
    "    # возвращаем кортеж из границ интервала\n",
    "    return lower_bound, upper_bound\n",
    "\n",
    "# cтроим доверительный интервал для среднего при неизвестном СКО\n",
    "lower_bound, upper_bound = t_mean_conf_interval(x_mean, x_std, n)\n",
    "\n",
    "# выводим результат\n",
    "print('Доверительный интервал: {}'.format((round(lower_bound), round(upper_bound))))\n",
    "\n",
    "# Доверительный интервал: (1778, 2222)"
   ]
  },
  {
   "cell_type": "code",
   "execution_count": 14,
   "id": "5269f5f8",
   "metadata": {},
   "outputs": [],
   "source": [
    "import pandas as pd\n",
    "import matplotlib.pyplot as plt\n",
    "import seaborn as sns"
   ]
  },
  {
   "cell_type": "code",
   "execution_count": 15,
   "id": "37aa8330",
   "metadata": {},
   "outputs": [
    {
     "data": {
      "text/html": [
       "<div>\n",
       "<style scoped>\n",
       "    .dataframe tbody tr th:only-of-type {\n",
       "        vertical-align: middle;\n",
       "    }\n",
       "\n",
       "    .dataframe tbody tr th {\n",
       "        vertical-align: top;\n",
       "    }\n",
       "\n",
       "    .dataframe thead th {\n",
       "        text-align: right;\n",
       "    }\n",
       "</style>\n",
       "<table border=\"1\" class=\"dataframe\">\n",
       "  <thead>\n",
       "    <tr style=\"text-align: right;\">\n",
       "      <th></th>\n",
       "      <th>user_id</th>\n",
       "      <th>timestamp</th>\n",
       "      <th>group</th>\n",
       "      <th>converted</th>\n",
       "    </tr>\n",
       "  </thead>\n",
       "  <tbody>\n",
       "    <tr>\n",
       "      <th>0</th>\n",
       "      <td>851104</td>\n",
       "      <td>2017-01-21</td>\n",
       "      <td>A</td>\n",
       "      <td>0</td>\n",
       "    </tr>\n",
       "    <tr>\n",
       "      <th>1</th>\n",
       "      <td>804228</td>\n",
       "      <td>2017-01-12</td>\n",
       "      <td>A</td>\n",
       "      <td>0</td>\n",
       "    </tr>\n",
       "    <tr>\n",
       "      <th>2</th>\n",
       "      <td>661590</td>\n",
       "      <td>2017-01-11</td>\n",
       "      <td>B</td>\n",
       "      <td>0</td>\n",
       "    </tr>\n",
       "    <tr>\n",
       "      <th>3</th>\n",
       "      <td>853541</td>\n",
       "      <td>2017-01-08</td>\n",
       "      <td>B</td>\n",
       "      <td>0</td>\n",
       "    </tr>\n",
       "    <tr>\n",
       "      <th>4</th>\n",
       "      <td>864975</td>\n",
       "      <td>2017-01-21</td>\n",
       "      <td>A</td>\n",
       "      <td>1</td>\n",
       "    </tr>\n",
       "  </tbody>\n",
       "</table>\n",
       "</div>"
      ],
      "text/plain": [
       "   user_id   timestamp group  converted\n",
       "0   851104  2017-01-21     A          0\n",
       "1   804228  2017-01-12     A          0\n",
       "2   661590  2017-01-11     B          0\n",
       "3   853541  2017-01-08     B          0\n",
       "4   864975  2017-01-21     A          1"
      ]
     },
     "execution_count": 15,
     "metadata": {},
     "output_type": "execute_result"
    }
   ],
   "source": [
    "ab_data = pd.read_csv('data/ab_data.csv')\n",
    "ab_data.head()"
   ]
  },
  {
   "cell_type": "code",
   "execution_count": 16,
   "id": "f1cdb02a",
   "metadata": {},
   "outputs": [],
   "source": [
    "# фильтруем данные группы А\n",
    "a_data = ab_data[ab_data['group'] == 'A']\n",
    "# фильтруем данные группы B\n",
    "b_data = ab_data[ab_data['group'] == 'B']"
   ]
  },
  {
   "cell_type": "code",
   "execution_count": 17,
   "id": "58692036",
   "metadata": {},
   "outputs": [],
   "source": [
    "def proportion_conf_interval(x_p, n, gamma=0.95):  \n",
    "    alpha = 1 - gamma # уровень значимости\n",
    "    z_crit = -norm.ppf(alpha/2) # z-критическое\n",
    "    eps = z_crit * (x_p * (1 - x_p) / n) ** 0.5 # погрешность\n",
    "    lower_bound = x_p - eps # левая (нижняя) граница\n",
    "    upper_bound = x_p + eps # правая (верхняя) граница\n",
    "    # возвращаем кортеж из границ интервала\n",
    "    return lower_bound, upper_bound"
   ]
  },
  {
   "cell_type": "code",
   "execution_count": 18,
   "id": "1ad9920d",
   "metadata": {},
   "outputs": [
    {
     "name": "stdout",
     "output_type": "stream",
     "text": [
      "Доверительный интервал для конверсии в группе А: (11.86, 12.19)\n",
      "Доверительный интервал для конверсии в группе B: (11.7, 12.03)\n"
     ]
    }
   ],
   "source": [
    "# строим доверительный интервал для конверсии в группе А\n",
    "lower_bound_a, upper_bound_a  = proportion_conf_interval(\n",
    "    x_p=a_data['converted'].mean(), # выборочная пропорция\n",
    "    n=a_data['user_id'].count() # размер выборки\n",
    ")\n",
    "\n",
    "# строим доверительный интервал для конверсии в группе B\n",
    "lower_bound_b, upper_bound_b  = proportion_conf_interval(\n",
    "    x_p=b_data['converted'].mean(), # выборочная пропорция\n",
    "    n=b_data['user_id'].count() # размер выборки\n",
    ")\n",
    "\n",
    "# выводим результат\n",
    "print('Доверительный интервал для конверсии в группе А: {}'.format((round(lower_bound_a * 100, 2), round(upper_bound_a * 100, 2))))\n",
    "print('Доверительный интервал для конверсии в группе B: {}'.format((round(lower_bound_b * 100, 2), round(upper_bound_b * 100, 2))))\n",
    "\n",
    "# Доверительный интервал для конверсии группы А: (11.86, 12.19)\n",
    "# Доверительный интервал для конверсии группы B: (11.7, 12.03)"
   ]
  },
  {
   "cell_type": "code",
   "execution_count": 19,
   "id": "6ebc30a7",
   "metadata": {},
   "outputs": [
    {
     "name": "stdout",
     "output_type": "stream",
     "text": [
      "Доверительный интервал для конверсии в группе А: (11.86, 12.19)\n",
      "Доверительный интервал для конверсии в группе B: (11.7, 12.03)\n"
     ]
    }
   ],
   "source": [
    "from statsmodels.stats import proportion\n",
    "\n",
    "# вычисляем доверительный интервал для конверсии в группе A с уровнем доверия 0.95\n",
    "lower_bound_a, upper_bound_a = proportion.proportion_confint(\n",
    "    count=a_data['converted'].sum(),\n",
    "    nobs=a_data['user_id'].count(),\n",
    "    alpha=0.05\n",
    ")\n",
    "\n",
    "# вычисляем доверительный интервал для конверсии в группе B с уровнем доверия 0.95\n",
    "lower_bound_b, upper_bound_b = proportion.proportion_confint(\n",
    "    count=b_data['converted'].sum(),\n",
    "    nobs=b_data['user_id'].count(),\n",
    "    alpha=0.05\n",
    ")\n",
    "# выводим результат\n",
    "print('Доверительный интервал для конверсии в группе А: {}'.format((round(lower_bound_a * 100, 2), round(upper_bound_a * 100, 2))))\n",
    "print('Доверительный интервал для конверсии в группе B: {}'.format((round(lower_bound_b * 100, 2), round(upper_bound_b * 100, 2))))\n",
    "# Доверительный интервал для конверсии в группе А: (11.86, 12.19)\n",
    "# Доверительный интервал для конверсии в группе B: (11.7, 12.03)"
   ]
  },
  {
   "cell_type": "code",
   "execution_count": 20,
   "id": "66fe714d",
   "metadata": {},
   "outputs": [],
   "source": [
    "def diff_proportion_conf_interval(x_p, n, gamma=0.95):\n",
    "    alpha = 1 - gamma # уровень значимости\n",
    "    diff = x_p[1] - x_p[0] # выборочная разница конверсий групп B и A\n",
    "    z_crit = -norm.ppf(alpha/2) #z-критическое\n",
    "    eps = z_crit * (x_p[0] * (1 - x_p[0])/n[0] + x_p[1] * (1 - x_p[1])/n[1]) ** 0.5 # погрешность\n",
    "    lower_bound = diff - eps # левая (нижняя) граница\n",
    "    upper_bound = diff + eps # правая (верхняя) граница\n",
    "    # возвращаем кортеж из  границ интервала\n",
    "    return lower_bound, upper_bound"
   ]
  },
  {
   "cell_type": "code",
   "execution_count": 21,
   "id": "f1a07a56",
   "metadata": {},
   "outputs": [
    {
     "name": "stdout",
     "output_type": "stream",
     "text": [
      "Доверительный интервал для разности конверсий: (-0.39, 0.08)\n"
     ]
    }
   ],
   "source": [
    "# размеры выборок групп А и B\n",
    "n = [a_data['user_id'].count(), b_data['user_id'].count()]\n",
    "# выборочная пропорция групп A и B\n",
    "x_p = [a_data['converted'].mean(), b_data['converted'].mean()]\n",
    "\n",
    "\n",
    "# строим доверительный интервал для разности пропорций\n",
    "lower_bound, upper_bound = diff_proportion_conf_interval(x_p=x_p, n=n)\n",
    "\n",
    "\n",
    "# выводим результат\n",
    "print('Доверительный интервал для разности конверсий: {}'.format((round(lower_bound*100, 2), round(upper_bound*100, 2))))"
   ]
  }
 ],
 "metadata": {
  "kernelspec": {
   "display_name": "base",
   "language": "python",
   "name": "python3"
  },
  "language_info": {
   "codemirror_mode": {
    "name": "ipython",
    "version": 3
   },
   "file_extension": ".py",
   "mimetype": "text/x-python",
   "name": "python",
   "nbconvert_exporter": "python",
   "pygments_lexer": "ipython3",
   "version": "3.12.4"
  }
 },
 "nbformat": 4,
 "nbformat_minor": 5
}
