{
 "cells": [
  {
   "cell_type": "code",
   "execution_count": 3,
   "id": "7adf830f",
   "metadata": {},
   "outputs": [],
   "source": [
    "import numpy as np\n",
    "import pandas as pd\n",
    "import matplotlib.pyplot as plt"
   ]
  },
  {
   "cell_type": "code",
   "execution_count": 7,
   "id": "0d22196e",
   "metadata": {},
   "outputs": [],
   "source": [
    "class LinearRegression:\n",
    "    def __init__(self, learning_rate, iterations):\n",
    "        \"\"\"\n",
    "        Конструктор класса.\n",
    "        \n",
    "        Параметры:\n",
    "        ----------\n",
    "        learning_rate : float\n",
    "            Скорость обучения.\n",
    "        iterations : int\n",
    "            Количество итераций.\n",
    "        \"\"\"\n",
    "        self.learning_rate = learning_rate\n",
    "        self.iterations = iterations\n",
    "        self.weights = None\n",
    "        self.bias = None\n",
    "        self.X = None\n",
    "        self.Y = None\n",
    "        self.n_samples = None\n",
    "        self.n_features = None\n",
    "    \n",
    "    def fit(self, X, Y):\n",
    "        \"\"\"\n",
    "        Обучение модели линейной регрессии с использованием градиентного спуска.\n",
    "        \n",
    "        Параметры:\n",
    "        ----------\n",
    "        X : numpy.ndarray\n",
    "            Массив признаков.\n",
    "        Y : numpy.ndarray\n",
    "            Массив целевых значений.\n",
    "        \"\"\"\n",
    "        self.X = X\n",
    "        self.Y = Y\n",
    "        self.n_samples = X.shape[0]\n",
    "        self.n_features = X.shape[1]\n",
    "                \n",
    "        # Инициализация весов и смещения\n",
    "        self.weights = np.zeros(self.n_features)\n",
    "        self.bias = 0\n",
    "        \n",
    "        # Градиентный спуск\n",
    "        for i in range(self.iterations):\n",
    "            self.update_weights()\n",
    "        \n",
    "        return self.weights, self.bias\n",
    "    \n",
    "    def update_weights(self):\n",
    "        \"\"\"\n",
    "        Вспомогательный метод для обновления весов и смещения с использованием градиентного спуска.\n",
    "        \"\"\"\n",
    "        # Предсказание\n",
    "        Y_pred = np.dot(self.X, self.weights) + self.bias\n",
    "        \n",
    "        # Вычисление градиентов\n",
    "        dw = (1 / self.n_samples) * np.dot(self.X.T, (Y_pred - self.Y))\n",
    "        db = (1 / self.n_samples) * np.sum(Y_pred - self.Y)\n",
    "        \n",
    "        # Обновление весов и смещения\n",
    "        self.weights -= self.learning_rate * dw\n",
    "        self.bias -= self.learning_rate * db\n",
    "    \n",
    "    def predict(self, X):\n",
    "        \"\"\"\n",
    "        Предсказание целевых значений для входных данных.\n",
    "        \n",
    "        Параметры:\n",
    "        ----------\n",
    "        X : numpy.ndarray\n",
    "            Массив признаков.\n",
    "            \n",
    "        Возвращает:\n",
    "        ----------\n",
    "        numpy.ndarray\n",
    "            Предсказанные значения.\n",
    "        \"\"\"\n",
    "        return np.dot(X, self.weights) + self.bias"
   ]
  },
  {
   "cell_type": "code",
   "execution_count": 9,
   "id": "dc68eb5b",
   "metadata": {},
   "outputs": [
    {
     "name": "stdout",
     "output_type": "stream",
     "text": [
      "9876.11\n",
      "22920.49\n"
     ]
    }
   ],
   "source": [
    "df = pd.read_csv( \"salary_data.csv\" )\n",
    "\n",
    "X = df.iloc[:,:-1].values\n",
    "Y = df.iloc[:,1].values\n",
    "\n",
    "model = LinearRegression(iterations = 1000, learning_rate = 0.01)\n",
    "model.fit(X, Y)\n",
    "\n",
    "Y_pred = model.predict(X)\n",
    "\n",
    "print(*np.round(model.weights, 2))\n",
    "print(np.round(model.bias, 2))"
   ]
  }
 ],
 "metadata": {
  "kernelspec": {
   "display_name": "base",
   "language": "python",
   "name": "python3"
  },
  "language_info": {
   "codemirror_mode": {
    "name": "ipython",
    "version": 3
   },
   "file_extension": ".py",
   "mimetype": "text/x-python",
   "name": "python",
   "nbconvert_exporter": "python",
   "pygments_lexer": "ipython3",
   "version": "3.12.4"
  }
 },
 "nbformat": 4,
 "nbformat_minor": 5
}
