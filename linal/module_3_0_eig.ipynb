{
 "cells": [
  {
   "cell_type": "code",
   "id": "initial_id",
   "metadata": {
    "collapsed": true,
    "ExecuteTime": {
     "end_time": "2024-11-17T17:03:16.852005Z",
     "start_time": "2024-11-17T17:03:16.848113Z"
    }
   },
   "source": "import numpy as np",
   "outputs": [],
   "execution_count": 1
  },
  {
   "metadata": {
    "ExecuteTime": {
     "end_time": "2024-11-17T17:03:45.878651Z",
     "start_time": "2024-11-17T17:03:45.870330Z"
    }
   },
   "cell_type": "code",
   "source": [
    "# создаем матрицу А\n",
    "A = np.array([\n",
    "    [3, 1],\n",
    "    [2, 2]\n",
    "]).T\n",
    "# вычисляем собственные числа и собственные векторы\n",
    "eig_values, eig_vectors = np.linalg.eig(A)\n",
    "print('Собственные числа: \\n', eig_values)\n",
    "print('Собственные векторы: \\n', eig_vectors)"
   ],
   "id": "c18a3b6e83210c64",
   "outputs": [
    {
     "name": "stdout",
     "output_type": "stream",
     "text": [
      "Собственные числа: \n",
      " [4. 1.]\n",
      "Собственные векторы: \n",
      " [[ 0.89442719 -0.70710678]\n",
      " [ 0.4472136   0.70710678]]\n"
     ]
    }
   ],
   "execution_count": 2
  },
  {
   "metadata": {
    "ExecuteTime": {
     "end_time": "2024-11-17T17:05:23.013388Z",
     "start_time": "2024-11-17T17:05:23.004975Z"
    }
   },
   "cell_type": "code",
   "source": [
    "# создаем матрицу А\n",
    "A = np.array([\n",
    "    [1, -5, -6],\n",
    "    [4, 8, 7],\n",
    "    [5, 9, 11]\n",
    "]).T\n",
    "# вычисляем собственные числа и собственные векторы\n",
    "eig_values, eig_vectors = np.linalg.eig(A)\n",
    "print('Собственные числа: \\n', eig_values)\n",
    "print('Собственные векторы: \\n', eig_vectors)"
   ],
   "id": "bd4cd4efbc377f63",
   "outputs": [
    {
     "name": "stdout",
     "output_type": "stream",
     "text": [
      "Собственные числа: \n",
      " [13.59373746  5.03209301  1.37416954]\n",
      "Собственные векторы: \n",
      " [[ 0.45145779  0.83661458  0.10258363]\n",
      " [ 0.62348353  0.44632316 -0.77299039]\n",
      " [ 0.63832135  0.31760303  0.62606905]]\n"
     ]
    }
   ],
   "execution_count": 3
  },
  {
   "metadata": {
    "ExecuteTime": {
     "end_time": "2024-11-17T17:07:09.860560Z",
     "start_time": "2024-11-17T17:07:09.854544Z"
    }
   },
   "cell_type": "code",
   "source": [
    "# создаем матрицу А\n",
    "A = np.array([\n",
    "    [1, -4, -5, -6],\n",
    "    [4, 12, 8, 7],\n",
    "    [5, 14, 9, 11],\n",
    "    [8, 15, 7, 4]\n",
    "]).T\n",
    "# вычисляем собственные числа и собственные векторы\n",
    "eig_values, eig_vectors = np.linalg.eig(A)\n",
    "print('Собственные числа: \\n', eig_values)\n",
    "print('Собственные векторы: \\n', eig_vectors)"
   ],
   "id": "b84a964748d84366",
   "outputs": [
    {
     "name": "stdout",
     "output_type": "stream",
     "text": [
      "Собственные числа: \n",
      " [ 2.54687092e+01  1.53129080e+00  2.50740922e-14 -1.00000000e+00]\n",
      "Собственные векторы: \n",
      " [[-0.33176532 -0.6739195   0.5479715  -0.5312532 ]\n",
      " [-0.75622544 -0.67703635  0.72006173 -0.64930947]\n",
      " [-0.42446012 -0.00311685 -0.00452869 -0.11805627]\n",
      " [-0.37133334  0.2957103  -0.42569687  0.5312532 ]]\n"
     ]
    }
   ],
   "execution_count": 4
  },
  {
   "metadata": {
    "ExecuteTime": {
     "end_time": "2024-11-17T17:08:00.173681Z",
     "start_time": "2024-11-17T17:08:00.166191Z"
    }
   },
   "cell_type": "code",
   "source": [
    "# создаем матрицу А\n",
    "A = np.array([\n",
    "    [0, 1],\n",
    "    [-1, 0],\n",
    "]).T\n",
    "# вычисляем собственные числа и собственные векторы\n",
    "eig_values, eig_vectors = np.linalg.eig(A)\n",
    "print('Собственные числа: \\n', eig_values)\n",
    "print('Собственные векторы: \\n', eig_vectors)"
   ],
   "id": "d8e3890c5c7bb5de",
   "outputs": [
    {
     "name": "stdout",
     "output_type": "stream",
     "text": [
      "Собственные числа: \n",
      " [0.+1.j 0.-1.j]\n",
      "Собственные векторы: \n",
      " [[0.70710678+0.j         0.70710678-0.j        ]\n",
      " [0.        -0.70710678j 0.        +0.70710678j]]\n"
     ]
    }
   ],
   "execution_count": 5
  },
  {
   "metadata": {
    "ExecuteTime": {
     "end_time": "2024-11-17T17:12:04.536738Z",
     "start_time": "2024-11-17T17:12:04.509953Z"
    }
   },
   "cell_type": "code",
   "source": [
    "from sklearn import datasets\n",
    "import pandas as pd\n",
    "\n",
    "import matplotlib.pyplot as plt\n",
    "import seaborn as sns\n",
    "import warnings\n",
    "warnings.simplefilter(action='ignore', category=FutureWarning)\n",
    "\n",
    "column_names = ['CRIM', 'ZN', 'INDUS', 'CHAS', 'NOX', 'RM', 'AGE', 'DIS', 'RAD', 'TAX', 'PTRATIO', 'B', 'LSTAT', 'PRICE']\n",
    "boston_data = pd.read_csv('data/housing.csv', header=None, delimiter=r\"\\s+\", names=column_names)\n",
    "boston_data.head()"
   ],
   "id": "a6905dfe8b1c9ae6",
   "outputs": [
    {
     "data": {
      "text/plain": [
       "      CRIM    ZN  INDUS  CHAS    NOX     RM   AGE     DIS  RAD    TAX  \\\n",
       "0  0.00632  18.0   2.31     0  0.538  6.575  65.2  4.0900    1  296.0   \n",
       "1  0.02731   0.0   7.07     0  0.469  6.421  78.9  4.9671    2  242.0   \n",
       "2  0.02729   0.0   7.07     0  0.469  7.185  61.1  4.9671    2  242.0   \n",
       "3  0.03237   0.0   2.18     0  0.458  6.998  45.8  6.0622    3  222.0   \n",
       "4  0.06905   0.0   2.18     0  0.458  7.147  54.2  6.0622    3  222.0   \n",
       "\n",
       "   PTRATIO       B  LSTAT  PRICE  \n",
       "0     15.3  396.90   4.98   24.0  \n",
       "1     17.8  396.90   9.14   21.6  \n",
       "2     17.8  392.83   4.03   34.7  \n",
       "3     18.7  394.63   2.94   33.4  \n",
       "4     18.7  396.90   5.33   36.2  "
      ],
      "text/html": [
       "<div>\n",
       "<style scoped>\n",
       "    .dataframe tbody tr th:only-of-type {\n",
       "        vertical-align: middle;\n",
       "    }\n",
       "\n",
       "    .dataframe tbody tr th {\n",
       "        vertical-align: top;\n",
       "    }\n",
       "\n",
       "    .dataframe thead th {\n",
       "        text-align: right;\n",
       "    }\n",
       "</style>\n",
       "<table border=\"1\" class=\"dataframe\">\n",
       "  <thead>\n",
       "    <tr style=\"text-align: right;\">\n",
       "      <th></th>\n",
       "      <th>CRIM</th>\n",
       "      <th>ZN</th>\n",
       "      <th>INDUS</th>\n",
       "      <th>CHAS</th>\n",
       "      <th>NOX</th>\n",
       "      <th>RM</th>\n",
       "      <th>AGE</th>\n",
       "      <th>DIS</th>\n",
       "      <th>RAD</th>\n",
       "      <th>TAX</th>\n",
       "      <th>PTRATIO</th>\n",
       "      <th>B</th>\n",
       "      <th>LSTAT</th>\n",
       "      <th>PRICE</th>\n",
       "    </tr>\n",
       "  </thead>\n",
       "  <tbody>\n",
       "    <tr>\n",
       "      <th>0</th>\n",
       "      <td>0.00632</td>\n",
       "      <td>18.0</td>\n",
       "      <td>2.31</td>\n",
       "      <td>0</td>\n",
       "      <td>0.538</td>\n",
       "      <td>6.575</td>\n",
       "      <td>65.2</td>\n",
       "      <td>4.0900</td>\n",
       "      <td>1</td>\n",
       "      <td>296.0</td>\n",
       "      <td>15.3</td>\n",
       "      <td>396.90</td>\n",
       "      <td>4.98</td>\n",
       "      <td>24.0</td>\n",
       "    </tr>\n",
       "    <tr>\n",
       "      <th>1</th>\n",
       "      <td>0.02731</td>\n",
       "      <td>0.0</td>\n",
       "      <td>7.07</td>\n",
       "      <td>0</td>\n",
       "      <td>0.469</td>\n",
       "      <td>6.421</td>\n",
       "      <td>78.9</td>\n",
       "      <td>4.9671</td>\n",
       "      <td>2</td>\n",
       "      <td>242.0</td>\n",
       "      <td>17.8</td>\n",
       "      <td>396.90</td>\n",
       "      <td>9.14</td>\n",
       "      <td>21.6</td>\n",
       "    </tr>\n",
       "    <tr>\n",
       "      <th>2</th>\n",
       "      <td>0.02729</td>\n",
       "      <td>0.0</td>\n",
       "      <td>7.07</td>\n",
       "      <td>0</td>\n",
       "      <td>0.469</td>\n",
       "      <td>7.185</td>\n",
       "      <td>61.1</td>\n",
       "      <td>4.9671</td>\n",
       "      <td>2</td>\n",
       "      <td>242.0</td>\n",
       "      <td>17.8</td>\n",
       "      <td>392.83</td>\n",
       "      <td>4.03</td>\n",
       "      <td>34.7</td>\n",
       "    </tr>\n",
       "    <tr>\n",
       "      <th>3</th>\n",
       "      <td>0.03237</td>\n",
       "      <td>0.0</td>\n",
       "      <td>2.18</td>\n",
       "      <td>0</td>\n",
       "      <td>0.458</td>\n",
       "      <td>6.998</td>\n",
       "      <td>45.8</td>\n",
       "      <td>6.0622</td>\n",
       "      <td>3</td>\n",
       "      <td>222.0</td>\n",
       "      <td>18.7</td>\n",
       "      <td>394.63</td>\n",
       "      <td>2.94</td>\n",
       "      <td>33.4</td>\n",
       "    </tr>\n",
       "    <tr>\n",
       "      <th>4</th>\n",
       "      <td>0.06905</td>\n",
       "      <td>0.0</td>\n",
       "      <td>2.18</td>\n",
       "      <td>0</td>\n",
       "      <td>0.458</td>\n",
       "      <td>7.147</td>\n",
       "      <td>54.2</td>\n",
       "      <td>6.0622</td>\n",
       "      <td>3</td>\n",
       "      <td>222.0</td>\n",
       "      <td>18.7</td>\n",
       "      <td>396.90</td>\n",
       "      <td>5.33</td>\n",
       "      <td>36.2</td>\n",
       "    </tr>\n",
       "  </tbody>\n",
       "</table>\n",
       "</div>"
      ]
     },
     "execution_count": 8,
     "metadata": {},
     "output_type": "execute_result"
    }
   ],
   "execution_count": 8
  },
  {
   "metadata": {
    "ExecuteTime": {
     "end_time": "2024-11-17T17:12:47.684441Z",
     "start_time": "2024-11-17T17:12:47.678778Z"
    }
   },
   "cell_type": "code",
   "source": [
    "A = boston_data.drop('PRICE', axis=1)\n",
    "y = boston_data[['PRICE']]"
   ],
   "id": "a1650223e93263f1",
   "outputs": [],
   "execution_count": 9
  },
  {
   "metadata": {
    "ExecuteTime": {
     "end_time": "2024-11-17T17:13:05.011198Z",
     "start_time": "2024-11-17T17:13:04.054703Z"
    }
   },
   "cell_type": "code",
   "source": [
    "C = A.corr()\n",
    "fig = plt.figure(figsize=(10, 5))\n",
    "sns.heatmap(C, annot=True, cmap='coolwarm');"
   ],
   "id": "363384c81e46f7d7",
   "outputs": [
    {
     "data": {
      "text/plain": [
       "<Figure size 1000x500 with 2 Axes>"
      ],
      "image/png": "[encoded data removed]"
     },
     "metadata": {},
     "output_type": "display_data"
    }
   ],
   "execution_count": 10
  },
  {
   "metadata": {
    "ExecuteTime": {
     "end_time": "2024-11-17T17:14:43.359775Z",
     "start_time": "2024-11-17T17:14:43.353703Z"
    }
   },
   "cell_type": "code",
   "source": [
    "# вычисляем собственные числа и собственные векторы\n",
    "eig_values, eig_vectors = np.linalg.eig(C)\n",
    "print('Собственные числа: \\n', eig_values)\n",
    "#print('Собственные векторы: \\n', eig_vectors)"
   ],
   "id": "a635d3e14d0d3f9a",
   "outputs": [
    {
     "name": "stdout",
     "output_type": "stream",
     "text": [
      "Собственные числа: \n",
      " [6.12684883 1.43327512 1.24261667 0.85757511 0.83481594 0.65740718\n",
      " 0.53535609 0.39609731 0.06350926 0.27694333 0.16930298 0.18601437\n",
      " 0.22023782]\n"
     ]
    }
   ],
   "execution_count": 13
  },
  {
   "metadata": {
    "ExecuteTime": {
     "end_time": "2024-11-17T17:15:14.923270Z",
     "start_time": "2024-11-17T17:15:14.918711Z"
    }
   },
   "cell_type": "code",
   "source": [
    "# считаем матрицу Грамма L^T*L:\n",
    "print(np.round(eig_vectors.T @ eig_vectors, 2))"
   ],
   "id": "21217710f77d4597",
   "outputs": [
    {
     "name": "stdout",
     "output_type": "stream",
     "text": [
      "[[ 1.  0.  0. -0.  0.  0. -0.  0. -0. -0.  0. -0.  0.]\n",
      " [ 0.  1.  0.  0.  0. -0. -0. -0. -0.  0.  0. -0.  0.]\n",
      " [ 0.  0.  1.  0.  0.  0. -0. -0. -0. -0. -0.  0.  0.]\n",
      " [-0.  0.  0.  1.  0. -0. -0.  0. -0. -0. -0.  0.  0.]\n",
      " [ 0.  0.  0.  0.  1. -0.  0.  0. -0. -0. -0. -0.  0.]\n",
      " [ 0. -0.  0. -0. -0.  1.  0.  0. -0.  0. -0.  0.  0.]\n",
      " [-0. -0. -0. -0.  0.  0.  1. -0.  0.  0.  0.  0.  0.]\n",
      " [ 0. -0. -0.  0.  0.  0. -0.  1. -0.  0. -0. -0.  0.]\n",
      " [-0. -0. -0. -0. -0. -0.  0. -0.  1. -0. -0. -0.  0.]\n",
      " [-0.  0. -0. -0. -0.  0.  0.  0. -0.  1.  0.  0.  0.]\n",
      " [ 0.  0. -0. -0. -0. -0.  0. -0. -0.  0.  1. -0.  0.]\n",
      " [-0. -0.  0.  0. -0.  0.  0. -0. -0.  0. -0.  1.  0.]\n",
      " [ 0.  0.  0.  0.  0.  0.  0.  0.  0.  0.  0.  0.  1.]]\n"
     ]
    }
   ],
   "execution_count": 14
  },
  {
   "metadata": {
    "ExecuteTime": {
     "end_time": "2024-11-17T18:13:22.514517Z",
     "start_time": "2024-11-17T18:13:22.506514Z"
    }
   },
   "cell_type": "code",
   "source": [
    "A = np.array([\n",
    "    [2, 5, -4],\n",
    "    [6, 3, 0],\n",
    "]).T\n",
    "# применяем сингулярное разложение\n",
    "np.linalg.svd(A)"
   ],
   "id": "40ddea2a33c161",
   "outputs": [
    {
     "data": {
      "text/plain": [
       "SVDResult(U=array([[-0.66666667,  0.66666667, -0.33333333],\n",
       "       [-0.66666667, -0.33333333,  0.66666667],\n",
       "       [ 0.33333333,  0.66666667,  0.66666667]]), S=array([8.48528137, 4.24264069]), Vh=array([[-0.70710678, -0.70710678],\n",
       "       [-0.70710678,  0.70710678]]))"
      ]
     },
     "execution_count": 15,
     "metadata": {},
     "output_type": "execute_result"
    }
   ],
   "execution_count": 15
  },
  {
   "metadata": {
    "ExecuteTime": {
     "end_time": "2024-11-17T19:13:12.587428Z",
     "start_time": "2024-11-17T19:13:12.578545Z"
    }
   },
   "cell_type": "code",
   "source": [
    "A = np.array([\n",
    "    [7,1],\n",
    "    [2,8]\n",
    "]).T\n",
    "eig_values, eig_vectors = np.linalg.eig(A)\n",
    "print('Собственные числа: \\n', eig_values)\n",
    "print('Собственные векторы: \\n', eig_vectors)"
   ],
   "id": "123cf5546974ff49",
   "outputs": [
    {
     "name": "stdout",
     "output_type": "stream",
     "text": [
      "Собственные числа: \n",
      " [6. 9.]\n",
      "Собственные векторы: \n",
      " [[-0.70710678 -0.4472136 ]\n",
      " [ 0.70710678 -0.89442719]]\n"
     ]
    }
   ],
   "execution_count": 19
  },
  {
   "metadata": {},
   "cell_type": "markdown",
   "source": [
    "Для нахождения собственных векторов матрицы $A$ необходимо решить уравнение:\n",
    "\n",
    "$$ \\det(A - \\lambda I) = 0 $$\n",
    "\n",
    "где $\\lambda$ - собственные значения, а $I$ - единичная матрица размера $2 \\times 2$.\n",
    "\n",
    "Сначала найдем собственные значения для данной матрицы. Матрица имеет вид:\n",
    "\n",
    "$$ A = \\begin{pmatrix}\n",
    "7 & 1 \\\\\n",
    "2 & 8\n",
    "\\end{pmatrix} $$\n",
    "\n",
    "Единичная матрица $I$ будет иметь вид:\n",
    "\n",
    "$$ I = \\begin{pmatrix}\n",
    "1 & 0 \\\\\n",
    "0 & 1\n",
    "\\end{pmatrix} $$\n",
    "\n",
    "Тогда уравнение для собственных значений примет вид:\n",
    "\n",
    "$$ \\det\\begin{pmatrix}\n",
    "7-\\lambda & 1 \\\\\n",
    "2 & 8-\\lambda\n",
    "\\end{pmatrix} = 0 $$\n",
    "\n",
    "Раскроем определитель:\n",
    "\n",
    "$$ (7-\\lambda)(8-\\lambda) - 2*1 = 0 $$\n",
    "\n",
    "$$ 56 - 7\\lambda - 8\\lambda + \\lambda^2 - 2 = 0 $$\n",
    "\n",
    "$$ \\lambda^2 - 15\\lambda + 54 = 0 $$\n",
    "\n",
    "Решим квадратное уравнение относительно $\\lambda$. Дискриминант равен:\n",
    "\n",
    "$$ D = b^2 - 4ac = (-15)^2 - 4*1*54 = 225 - 216 = 9 $$\n",
    "\n",
    "Так как дискриминант больше нуля, у нас есть два различных корня:\n",
    "\n",
    "$$ \\lambda_1 = \\frac{-b + \\sqrt{D}}{2a} = \\frac{15 + 3}{2} = 9 $$\n",
    "\n",
    "$$ \\lambda_2 = \\frac{-b - \\sqrt{D}}{2a} = \\frac{15 - 3}{2} = 6 $$\n",
    "\n",
    "Теперь найдем соответствующие им собственные векторы. Для этого решим систему линейных уравнений $(A - \\lambda_i I)x = 0$, где $x$ - искомый собственный вектор.\n",
    "\n",
    "### Собственный вектор для $\\lambda_1$\n",
    "\n",
    "Подставляем $\\lambda_1$ в систему:\n",
    "\n",
    "$$ x_1 \\cdot (7 - 9) + x_2 \\cdot 1 = 0 $$\n",
    "\n",
    "$$ 2x_1 + x_2 = 0 $$\n",
    "\n",
    "Выберем $x_1=1$, тогда $x_2=-2$. Таким образом, первый собственный вектор:\n",
    "\n",
    "$$ v_1 = \\begin{pmatrix} 1 \\\\ -2 \\end{pmatrix} $$\n",
    "\n",
    "### Собственный вектор для $\\lambda_2$\n",
    "\n",
    "Подставляем $\\lambda_2$ в систему:\n",
    "\n",
    "$$ x_1 \\cdot (7 - 6) + x_2 \\cdot 1 = 0 $$\n",
    "\n",
    "$$ x_1 + x_2 = 0 $$\n",
    "\n",
    "Выберем $x_1=-1$, тогда $x_2=1$. Таким образом, второй собственный вектор:\n",
    "\n",
    "$$ v_2 = \\begin{pmatrix} -1 \\\\ 1 \\end{pmatrix} $$"
   ],
   "id": "c955c2337cc67f0e"
  },
  {
   "metadata": {},
   "cell_type": "markdown",
   "source": [
    "Чтобы найти вектор, ортогональный к заданному вектору, нужно воспользоваться определением ортогональных векторов. Векторы называются ортогональными, если их скалярное произведение равно нулю.\n",
    "\n",
    "Рассмотрим пример в двумерном пространстве. Пусть дан вектор $ \\vec{a} = (a_1, a_2) $. Нам нужно найти такой вектор $ \\vec{b} = (b_1, b_2) $, чтобы выполнялось условие:\n",
    "\n",
    "$$\n",
    "\\vec{a} \\cdot \\vec{b} = 0\n",
    "$$\n",
    "\n",
    "Это означает, что:\n",
    "\n",
    "$$\n",
    "a_1 \\cdot b_1 + a_2 \\cdot b_2 = 0\n",
    "$$\n",
    "\n",
    "Поскольку мы ищем ненулевой вектор, то можем выбрать одну из компонент вектора $ \\vec{b} $ произвольно, а затем выразить другую через первую. Например, пусть $ b_1 = k $ (произвольное число). Тогда:\n",
    "\n",
    "$$\n",
    "k \\cdot a_1 + b_2 \\cdot a_2 = 0\n",
    "$$\n",
    "\n",
    "Отсюда находим $ b_2 $:\n",
    "\n",
    "$$\n",
    "b_2 = -\\frac{k \\cdot a_1}{a_2}\n",
    "$$\n",
    "\n",
    "Таким образом, вектор $ \\vec{b} $ может быть записан как:\n",
    "\n",
    "$$\n",
    "\\vec{b} = \\left(k, -\\frac{k \\cdot a_1}{a_2}\\right)\n",
    "$$\n",
    "\n",
    "Мы можем упростить выражение, выбрав $ k = a_2 $, тогда получим:\n",
    "\n",
    "$$\n",
    "b_1 = a_2, \\quad b_2 = -a_1\n",
    "$$\n",
    "\n",
    "Или, в векторной форме:\n",
    "\n",
    "$$\n",
    "\\vec{b} = (a_2, -a_1)\n",
    "$$\n",
    "\n",
    "Этот вектор является одним из возможных решений задачи."
   ],
   "id": "499bca7ec7b7cb2e"
  },
  {
   "metadata": {
    "ExecuteTime": {
     "end_time": "2024-11-17T19:53:28.301991Z",
     "start_time": "2024-11-17T19:53:28.295941Z"
    }
   },
   "cell_type": "code",
   "source": [
    "A = np.array([\n",
    "    [5,1],\n",
    "    [1,5]\n",
    "]).T\n",
    "eig_values, eig_vectors = np.linalg.eig(A)\n",
    "print('Собственные числа: \\n', eig_values)\n",
    "print('Собственные векторы: \\n', eig_vectors)"
   ],
   "id": "e437e123d84eef09",
   "outputs": [
    {
     "name": "stdout",
     "output_type": "stream",
     "text": [
      "Собственные числа: \n",
      " [6. 4.]\n",
      "Собственные векторы: \n",
      " [[ 0.70710678 -0.70710678]\n",
      " [ 0.70710678  0.70710678]]\n"
     ]
    }
   ],
   "execution_count": 20
  },
  {
   "metadata": {
    "ExecuteTime": {
     "end_time": "2024-11-18T16:16:16.059635Z",
     "start_time": "2024-11-18T16:16:16.054192Z"
    }
   },
   "cell_type": "code",
   "source": [
    "A = np.array([\n",
    "    [1,4,13],\n",
    "    [3,-4,7],\n",
    "    [5,9,12]\n",
    "]).T\n",
    "eig_values, eig_vectors = np.linalg.eig(A)\n",
    "print('Собственные числа: \\n', np.round(eig_values))\n",
    "print('Собственные векторы: \\n', np.round(eig_vectors))"
   ],
   "id": "701caa8301e3a5e4",
   "outputs": [
    {
     "name": "stdout",
     "output_type": "stream",
     "text": [
      "Собственные числа: \n",
      " [20. -4. -7.]\n",
      "Собственные векторы: \n",
      " [[-0. -1.  0.]\n",
      " [-0.  1. -1.]\n",
      " [-1.  0.  0.]]\n"
     ]
    }
   ],
   "execution_count": 24
  },
  {
   "metadata": {
    "ExecuteTime": {
     "end_time": "2024-11-18T16:18:21.362655Z",
     "start_time": "2024-11-18T16:18:21.354932Z"
    }
   },
   "cell_type": "code",
   "source": [
    "A = np.array([\n",
    "    [1,9,4],\n",
    "    [9,4,7],\n",
    "    [4,7,12]\n",
    "]).T\n",
    "C = A.T@A\n",
    "eig_values, eig_vectors = np.linalg.eig(C)\n",
    "print('Собственные числа: \\n', np.round(eig_values))\n",
    "print('Собственные векторы: \\n', np.round(eig_vectors))"
   ],
   "id": "14699d11b43f7364",
   "outputs": [
    {
     "name": "stdout",
     "output_type": "stream",
     "text": [
      "Собственные числа: \n",
      " [391.  46.  16.]\n",
      "Собственные векторы: \n",
      " [[-0. -1. -1.]\n",
      " [-1.  1. -0.]\n",
      " [-1. -0.  1.]]\n"
     ]
    }
   ],
   "execution_count": 26
  },
  {
   "metadata": {},
   "cell_type": "code",
   "outputs": [],
   "execution_count": null,
   "source": "",
   "id": "afd81aac1b077071"
  },
  {
   "metadata": {},
   "cell_type": "markdown",
   "source": [
    "Главные компоненты находятся путем умножения исходных данных на собственные векторы, нормализованные таким образом, чтобы их длины были равны соответствующим собственным значениям. Это позволяет сохранить масштабирование главных компонент в соответствии с дисперсией, которую они объясняют.\n",
    "\n",
    "В нашем случае, у нас есть два собственных вектора:\n",
    "\n",
    "$$\n",
    "v1 = \\begin{pmatrix}\n",
    "\\frac{\\sqrt{2}}{2} \\\\ -\\frac{\\sqrt{2}}{2}\n",
    "\\end{pmatrix}, \\quad v2 = \\begin{pmatrix}\n",
    "-\\frac{\\sqrt{2}}{2} \\\\ \\frac{\\sqrt{2}}{2}\n",
    "\\end{pmatrix},\n",
    "$$\n",
    "\n",
    "и два соответствующих им собственных значения:\n",
    "\n",
    "$$\n",
    "\\lambda1 \\approx 1.9929, \\quad \\lambda2 \\approx 0.0071.\n",
    "$$\n",
    "\n",
    "Чтобы получить главные компоненты, мы умножаем каждый собственный вектор на квадратный корень соответствующего ему собственного значения:\n",
    "\n",
    "$$\n",
    "w1 = v1\\sqrt{\\lambda1} = \\begin{pmatrix}\n",
    "\\sqrt{1.9929/2} \\\\\n",
    "-\\sqrt{1.9929/2}\n",
    "\\end{pmatrix} \\approx \\begin{pmatrix}\n",
    "0.9987 \\\\\n",
    "-0.9987\n",
    "\\end{pmatrix}.\n",
    "$$\n",
    "\n",
    "$$\n",
    "w2 = v2\\sqrt{\\lambda2} = \\begin{pmatrix}\n",
    "-\\sqrt{0.0071/2} \\\\\n",
    "\\sqrt{0.0071/2}\n",
    "\\end{pmatrix} \\approx \\begin{pmatrix}\n",
    "-0.0593 \\\\\n",
    "0.0593\n",
    "\\end{pmatrix}.\n",
    "$$\n",
    "\n",
    "Эти новые векторы $w1$ и $w2$ являются главными компонентами. Они представляют собой линейные комбинации исходных переменных, которые максимизируют дисперсию данных.\n",
    "\n",
    "Теперь мы можем преобразовать наши исходные данные $X = \\{x1, x2\\}$ в новое пространство главных компонент, используя эти векторы:\n",
    "\n",
    "$$\n",
    "Y = XW,\n",
    "$$\n",
    "\n",
    "где $W = w_1 \\, w_2$ — матрица, составленная из главных компонент."
   ],
   "id": "8f46eeaa1d0f982a"
  },
  {
   "metadata": {},
   "cell_type": "markdown",
   "source": [
    "Давайте рассчитаем значения главной компоненты для двух заданных векторов $x1 = (1, 2, 1, 1)^T$ и $x2 = (70, 130, 65, 60)^T$.\n",
    "\n",
    "Мы нашли две главные компоненты:\n",
    "\n",
    "$$\n",
    "w1 \\approx \\begin{pmatrix}\n",
    "0.9987 \\\\\n",
    "-0.9987\n",
    "\\end{pmatrix}, \\quad w2 \\approx \\begin{pmatrix}\n",
    "-0.0593 \\\\\n",
    "0.0593\n",
    "\\end{pmatrix}.\n",
    "$$\n",
    "\n",
    "Создадим матрицу главных компонент $W$:\n",
    "\n",
    "$$\n",
    "W = \\begin{bmatrix}\n",
    "0.9987 & -0.0593 \\\\\n",
    "-0.9987 & 0.0593\n",
    "\\end{bmatrix}.\n",
    "$$\n",
    "\n",
    "Теперь мы можем использовать эту матрицу для преобразования наших исходных данных в пространство главных компонент. Поскольку у нас два вектора, мы создадим матрицу $X$ из этих векторов:\n",
    "\n",
    "$$\n",
    "X = \\begin{bmatrix}\n",
    "1 & 70 \\\\\n",
    "2 & 130 \\\\\n",
    "1 & 65 \\\\\n",
    "1 & 60\n",
    "\\end{bmatrix}.\n",
    "$$\n",
    "\n",
    "Теперь применим преобразование:\n",
    "\n",
    "$$\n",
    "Y = X W.\n",
    "$$\n",
    "\n",
    "Рассчитаем произведение матриц:\n",
    "\n",
    "$$\n",
    "\\begin{align}\n",
    "Y &= \\begin{bmatrix}\n",
    "1 & 2 & 1 & 1 \\\\\n",
    "70 & 130 & 65 & 60\n",
    "\\end{bmatrix} \\begin{bmatrix}\n",
    "0.9987 & -0.0593 \\\\\n",
    "-0.9987 & 0.0593\n",
    "\\end{bmatrix}\\\\\n",
    "&= \\begin{bmatrix}\n",
    "1 \\cdot 0.9987 + 2 \\cdot (-0.9987) + 1 \\cdot 0.9987 + 1 \\cdot (-0.9987) & 1 \\cdot (-0.0593) + 2 \\cdot 0.0593 + 1 \\cdot (-0.0593) + 1 \\cdot 0.0593\\\\\n",
    "70 \\cdot 0.9987 + 130 \\cdot (-0.9987) + 65 \\cdot 0.9987 + 60 \\cdot (-0.9987) & 70 \\cdot (-0.0593) + 130 \\cdot 0.0593 + 65 \\cdot (-0.0593) + 60 \\cdot 0.0593\n",
    "\\end{bmatrix}\\\\ \n",
    "&= \\begin{bmatrix}\n",
    "-0.9974 & 0.0606 \\\\\n",
    "-49.9870 & 4.5420\n",
    "\\end{bmatrix}. \n",
    "\\end{align}\n",
    "$$\n",
    "\n",
    "Значит, значения первой главной компоненты для каждого из векторов равны $-0.9974$ и $-49.9870$, соответственно, а второй главной компоненты — $0.0606$ и $4.5420$."
   ],
   "id": "d0303f654d035a5b"
  },
  {
   "metadata": {
    "ExecuteTime": {
     "end_time": "2024-11-24T17:20:33.062091Z",
     "start_time": "2024-11-24T17:20:33.057858Z"
    }
   },
   "cell_type": "code",
   "source": [
    "import numpy as np\n",
    "from numpy.linalg import eig\n"
   ],
   "id": "b6344e3e2121c4fc",
   "outputs": [],
   "execution_count": 1
  },
  {
   "metadata": {
    "ExecuteTime": {
     "end_time": "2024-11-24T17:20:59.190004Z",
     "start_time": "2024-11-24T17:20:59.179478Z"
    }
   },
   "cell_type": "code",
   "source": [
    "x1 = np.array([1, 2, 1, 1])\n",
    "x2 = np.array([70, 130, 65, 60])\n",
    "data_matrix = np.vstack((x1, x2))\n",
    "data_matrix"
   ],
   "id": "450b8523f63b782a",
   "outputs": [
    {
     "data": {
      "text/plain": [
       "array([[  1,   2,   1,   1],\n",
       "       [ 70, 130,  65,  60]])"
      ]
     },
     "execution_count": 2,
     "metadata": {},
     "output_type": "execute_result"
    }
   ],
   "execution_count": 2
  },
  {
   "metadata": {
    "ExecuteTime": {
     "end_time": "2024-11-24T17:21:24.162737Z",
     "start_time": "2024-11-24T17:21:24.156395Z"
    }
   },
   "cell_type": "code",
   "source": [
    "covariance_matrix = (data_matrix.T @ data_matrix) / (data_matrix.shape[0] - 1)\n",
    "print(\"Ковариационная матрица:\\n\", covariance_matrix)"
   ],
   "id": "f209617b22937fab",
   "outputs": [
    {
     "name": "stdout",
     "output_type": "stream",
     "text": [
      "Ковариационная матрица:\n",
      " [[ 4901.  9102.  4551.  4201.]\n",
      " [ 9102. 16904.  8452.  7802.]\n",
      " [ 4551.  8452.  4226.  3901.]\n",
      " [ 4201.  7802.  3901.  3601.]]\n"
     ]
    }
   ],
   "execution_count": 3
  },
  {
   "metadata": {
    "ExecuteTime": {
     "end_time": "2024-11-24T17:41:22.549370Z",
     "start_time": "2024-11-24T17:41:22.541941Z"
    }
   },
   "cell_type": "code",
   "source": "corr_m = np.corrcoef(data_matrix)",
   "id": "46ee84dc5112feea",
   "outputs": [],
   "execution_count": 17
  },
  {
   "metadata": {
    "ExecuteTime": {
     "end_time": "2024-11-24T17:28:28.604267Z",
     "start_time": "2024-11-24T17:28:28.596262Z"
    }
   },
   "cell_type": "code",
   "source": [
    "eigenvalues, eigenvectors = eig(np.corrcoef(data_matrix))\n",
    "print(\"Собственные значения:\\n\", eigenvalues)\n",
    "print(\"Собственные векторы:\\n\", eigenvectors)"
   ],
   "id": "33d685572ac4fb62",
   "outputs": [
    {
     "name": "stdout",
     "output_type": "stream",
     "text": [
      "Собственные значения:\n",
      " [1.99220261 0.00779739]\n",
      "Собственные векторы:\n",
      " [[ 0.70710678 -0.70710678]\n",
      " [ 0.70710678  0.70710678]]\n"
     ]
    }
   ],
   "execution_count": 12
  },
  {
   "metadata": {
    "ExecuteTime": {
     "end_time": "2024-11-24T17:28:37.858516Z",
     "start_time": "2024-11-24T17:28:37.853399Z"
    }
   },
   "cell_type": "code",
   "source": [
    "indices = eigenvalues.argsort()[::-1]\n",
    "sorted_eigenvalues = eigenvalues[indices]\n",
    "sorted_eigenvectors = eigenvectors[:, indices]"
   ],
   "id": "463c275e9cc0d0fc",
   "outputs": [],
   "execution_count": 13
  },
  {
   "metadata": {
    "ExecuteTime": {
     "end_time": "2024-11-24T17:41:32.402715Z",
     "start_time": "2024-11-24T17:41:32.394840Z"
    }
   },
   "cell_type": "code",
   "source": [
    "principal_components = corr_m @ sorted_eigenvectors\n",
    "print(\"Главные компоненты:\\n\", principal_components)"
   ],
   "id": "edf00e90789a9efb",
   "outputs": [
    {
     "name": "stdout",
     "output_type": "stream",
     "text": [
      "Главные компоненты:\n",
      " [[ 1.40869998 -0.00551359]\n",
      " [ 1.40869998  0.00551359]]\n"
     ]
    }
   ],
   "execution_count": 18
  },
  {
   "metadata": {},
   "cell_type": "code",
   "outputs": [],
   "execution_count": null,
   "source": "",
   "id": "5b19f7644edb36b6"
  }
 ],
 "metadata": {
  "kernelspec": {
   "display_name": "Python 3",
   "language": "python",
   "name": "python3"
  },
  "language_info": {
   "codemirror_mode": {
    "name": "ipython",
    "version": 2
   },
   "file_extension": ".py",
   "mimetype": "text/x-python",
   "name": "python",
   "nbconvert_exporter": "python",
   "pygments_lexer": "ipython2",
   "version": "2.7.6"
  }
 },
 "nbformat": 4,
 "nbformat_minor": 5
}
