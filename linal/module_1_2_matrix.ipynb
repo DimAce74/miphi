{
 "cells": [
  {
   "cell_type": "code",
   "id": "initial_id",
   "metadata": {
    "collapsed": true,
    "ExecuteTime": {
     "end_time": "2024-10-28T17:42:44.895083Z",
     "start_time": "2024-10-28T17:42:44.508138Z"
    }
   },
   "source": [
    "from zipfile import compressor_names\n",
    "\n",
    "import numpy as np\n"
   ],
   "outputs": [],
   "execution_count": 1
  },
  {
   "metadata": {
    "ExecuteTime": {
     "end_time": "2024-10-28T17:42:44.960738Z",
     "start_time": "2024-10-28T17:42:44.932098Z"
    }
   },
   "cell_type": "code",
   "source": [
    "A = np.array([\n",
    "    [1, -5, 3],\n",
    "    [2, 2, 1],\n",
    "    [0, 3, 1],\n",
    "    [2, 4, 12]\n",
    "])\n",
    "A"
   ],
   "id": "bba1b4a6b07275b8",
   "outputs": [
    {
     "data": {
      "text/plain": [
       "array([[ 1, -5,  3],\n",
       "       [ 2,  2,  1],\n",
       "       [ 0,  3,  1],\n",
       "       [ 2,  4, 12]])"
      ]
     },
     "execution_count": 2,
     "metadata": {},
     "output_type": "execute_result"
    }
   ],
   "execution_count": 2
  },
  {
   "metadata": {
    "ExecuteTime": {
     "end_time": "2024-10-28T17:42:47.906492Z",
     "start_time": "2024-10-28T17:42:47.897665Z"
    }
   },
   "cell_type": "code",
   "source": [
    "print(A.shape)\n",
    "## (4, 3)\n",
    "print('a_23=', A[1, 2], 'a_32=', A[2, 1], 'a_33=', A[2,2])\n",
    "## a_23= 1 a_32= 3 a_33= 1"
   ],
   "id": "5a210c34bc17b81a",
   "outputs": [
    {
     "name": "stdout",
     "output_type": "stream",
     "text": [
      "(4, 3)\n",
      "a_23= 1 a_32= 3 a_33= 1\n"
     ]
    }
   ],
   "execution_count": 3
  },
  {
   "metadata": {
    "ExecuteTime": {
     "end_time": "2024-10-28T17:42:48.055451Z",
     "start_time": "2024-10-28T17:42:48.047022Z"
    }
   },
   "cell_type": "code",
   "source": [
    "Husband_Income = np.array([100,220,140])\n",
    "Wife_Income = np.array([150,200,130])\n",
    "Mother_In_Law_Income = np.array([90,80,100])\n",
    "\n",
    "Husband_Consumption = np.array([50,50,60])\n",
    "Wife_Consumption = np.array([100,80,140])\n",
    "Mother_In_Law_Consumption = np.array([100,20,140])"
   ],
   "id": "ca1b19f393d46875",
   "outputs": [],
   "execution_count": 4
  },
  {
   "metadata": {
    "ExecuteTime": {
     "end_time": "2024-10-28T17:42:48.652266Z",
     "start_time": "2024-10-28T17:42:48.637010Z"
    }
   },
   "cell_type": "code",
   "source": [
    "Inc = np.array([Husband_Income, Wife_Income, Mother_In_Law_Income]).T\n",
    "Inc"
   ],
   "id": "f1a37eced066c213",
   "outputs": [
    {
     "data": {
      "text/plain": [
       "array([[100, 150,  90],\n",
       "       [220, 200,  80],\n",
       "       [140, 130, 100]])"
      ]
     },
     "execution_count": 5,
     "metadata": {},
     "output_type": "execute_result"
    }
   ],
   "execution_count": 5
  },
  {
   "metadata": {
    "ExecuteTime": {
     "end_time": "2024-10-28T17:42:51.664375Z",
     "start_time": "2024-10-28T17:42:51.650838Z"
    }
   },
   "cell_type": "code",
   "source": [
    "Cons = np.array([Husband_Consumption, Wife_Consumption, Mother_In_Law_Consumption]).T\n",
    "Cons"
   ],
   "id": "430316c389537c2a",
   "outputs": [
    {
     "data": {
      "text/plain": [
       "array([[ 50, 100, 100],\n",
       "       [ 50,  80,  20],\n",
       "       [ 60, 140, 140]])"
      ]
     },
     "execution_count": 6,
     "metadata": {},
     "output_type": "execute_result"
    }
   ],
   "execution_count": 6
  },
  {
   "metadata": {
    "ExecuteTime": {
     "end_time": "2024-10-28T17:42:52.026321Z",
     "start_time": "2024-10-28T17:42:52.010528Z"
    }
   },
   "cell_type": "code",
   "source": [
    "Inc_after = 0.87 * Inc\n",
    "Inc_after"
   ],
   "id": "fe670f88ee9d4b22",
   "outputs": [
    {
     "data": {
      "text/plain": [
       "array([[ 87. , 130.5,  78.3],\n",
       "       [191.4, 174. ,  69.6],\n",
       "       [121.8, 113.1,  87. ]])"
      ]
     },
     "execution_count": 7,
     "metadata": {},
     "output_type": "execute_result"
    }
   ],
   "execution_count": 7
  },
  {
   "metadata": {
    "ExecuteTime": {
     "end_time": "2024-10-28T17:42:52.435311Z",
     "start_time": "2024-10-28T17:42:52.414852Z"
    }
   },
   "cell_type": "code",
   "source": [
    "P = Inc_after - Cons\n",
    "P"
   ],
   "id": "4a31289d9b28bb04",
   "outputs": [
    {
     "data": {
      "text/plain": [
       "array([[ 37. ,  30.5, -21.7],\n",
       "       [141.4,  94. ,  49.6],\n",
       "       [ 61.8, -26.9, -53. ]])"
      ]
     },
     "execution_count": 8,
     "metadata": {},
     "output_type": "execute_result"
    }
   ],
   "execution_count": 8
  },
  {
   "metadata": {
    "ExecuteTime": {
     "end_time": "2024-10-28T18:03:27.093546Z",
     "start_time": "2024-10-28T18:03:27.088271Z"
    }
   },
   "cell_type": "code",
   "source": [
    "A = np.matrix(\"1, -5; 2, 2; 0, 3\")\n",
    "B = np.matrix(\"3, 1, 0; -1, 0, 2\")"
   ],
   "id": "bd552491ec4ab1c1",
   "outputs": [],
   "execution_count": 9
  },
  {
   "metadata": {
    "ExecuteTime": {
     "end_time": "2024-10-28T18:03:54.635701Z",
     "start_time": "2024-10-28T18:03:54.628660Z"
    }
   },
   "cell_type": "code",
   "source": "np.dot(A, B)",
   "id": "c5bcf8607e77e973",
   "outputs": [
    {
     "data": {
      "text/plain": [
       "matrix([[  8,   1, -10],\n",
       "        [  4,   2,   4],\n",
       "        [ -3,   0,   6]])"
      ]
     },
     "execution_count": 10,
     "metadata": {},
     "output_type": "execute_result"
    }
   ],
   "execution_count": 10
  },
  {
   "metadata": {
    "ExecuteTime": {
     "end_time": "2024-10-28T18:04:22.657180Z",
     "start_time": "2024-10-28T18:04:22.651452Z"
    }
   },
   "cell_type": "code",
   "source": "np.dot(B, A)",
   "id": "7a6394884aaf66df",
   "outputs": [
    {
     "data": {
      "text/plain": [
       "matrix([[  5, -13],\n",
       "        [ -1,  11]])"
      ]
     },
     "execution_count": 11,
     "metadata": {},
     "output_type": "execute_result"
    }
   ],
   "execution_count": 11
  },
  {
   "metadata": {
    "ExecuteTime": {
     "end_time": "2024-10-28T20:03:22.578304Z",
     "start_time": "2024-10-28T20:03:22.568166Z"
    }
   },
   "cell_type": "code",
   "source": [
    "A = np.array([[5,-1,3,1,2], [-2,8,5,-1,1]])\n",
    "x = np.array([1,2,3,4,5])"
   ],
   "id": "494bf74784184b20",
   "outputs": [],
   "execution_count": 12
  },
  {
   "metadata": {
    "ExecuteTime": {
     "end_time": "2024-10-28T20:03:51.865815Z",
     "start_time": "2024-10-28T20:03:51.859028Z"
    }
   },
   "cell_type": "code",
   "source": "A@x",
   "id": "4ba118038ac4fe7",
   "outputs": [
    {
     "data": {
      "text/plain": [
       "array([26, 30])"
      ]
     },
     "execution_count": 13,
     "metadata": {},
     "output_type": "execute_result"
    }
   ],
   "execution_count": 13
  },
  {
   "metadata": {
    "ExecuteTime": {
     "end_time": "2024-10-28T20:04:34.093053Z",
     "start_time": "2024-10-28T20:04:34.088802Z"
    }
   },
   "cell_type": "code",
   "source": [
    "A = np.array([[1,9,8,5], [3,6,3,2], [3,3,3,3], [0,2,5,9], [4,4,1,2]])\n",
    "B = np.array([[1,-1,0,1,1], [-2,0,2,-1,1]])"
   ],
   "id": "1caf135b0b686b84",
   "outputs": [],
   "execution_count": 14
  },
  {
   "metadata": {
    "ExecuteTime": {
     "end_time": "2024-10-28T20:04:46.891493Z",
     "start_time": "2024-10-28T20:04:46.886095Z"
    }
   },
   "cell_type": "code",
   "source": "B@A",
   "id": "42d9f288e4328481",
   "outputs": [
    {
     "data": {
      "text/plain": [
       "array([[  2,   9,  11,  14],\n",
       "       [  8, -10, -14, -11]])"
      ]
     },
     "execution_count": 15,
     "metadata": {},
     "output_type": "execute_result"
    }
   ],
   "execution_count": 15
  },
  {
   "metadata": {
    "ExecuteTime": {
     "end_time": "2024-10-28T20:05:35.827982Z",
     "start_time": "2024-10-28T20:05:35.822860Z"
    }
   },
   "cell_type": "code",
   "source": [
    "x = np.array([1,2,1,0,4])\n",
    "y = np.array([2,1,-1,1,0])\n",
    "z = np.array([-1,1,-1,0,0])"
   ],
   "id": "aa800f057396c2a9",
   "outputs": [],
   "execution_count": 16
  },
  {
   "metadata": {
    "ExecuteTime": {
     "end_time": "2024-10-28T20:06:56.330827Z",
     "start_time": "2024-10-28T20:06:56.322795Z"
    }
   },
   "cell_type": "code",
   "source": [
    "A=np.array([x,y,z])\n",
    "A.T@A"
   ],
   "id": "119d0bd5d42f3bc1",
   "outputs": [
    {
     "data": {
      "text/plain": [
       "array([[ 6,  3,  0,  2,  4],\n",
       "       [ 3,  6,  0,  1,  8],\n",
       "       [ 0,  0,  3, -1,  4],\n",
       "       [ 2,  1, -1,  1,  0],\n",
       "       [ 4,  8,  4,  0, 16]])"
      ]
     },
     "execution_count": 18,
     "metadata": {},
     "output_type": "execute_result"
    }
   ],
   "execution_count": 18
  },
  {
   "metadata": {
    "ExecuteTime": {
     "end_time": "2024-10-28T20:09:54.864795Z",
     "start_time": "2024-10-28T20:09:54.856674Z"
    }
   },
   "cell_type": "code",
   "source": [
    "import pandas as pd\n",
    "\n",
    "Count_DF = pd.DataFrame({\n",
    "    'Женские стрижки': [10, 2, 12, 4, 6, 10, 22, 7],\n",
    "    'Мужские стрижки': [5, 21, 12, 8, 25, 3, 1, 0],\n",
    "    'Окрашивания':[12, 3, 0, 18, 27, 2, 4, 31],\n",
    "    'Укладка':[15, 25, 30, 14, 25, 17, 25, 31],\n",
    "    'Уход':[10, 6, 4, 5, 18, 12, 20, 28]\n",
    "},\n",
    "    index=['Аня', 'Борис', 'Вика', 'Галя', 'Дима', 'Егор', 'Женя','Юра']\n",
    ")\n",
    "Price_DF = pd.DataFrame({\n",
    "    'Женские стрижки': [2, 1.8, 2, 1.8, 2.5, 5, 1.1, 4.5],\n",
    "    'Мужские стрижки': [1.5, 2.5, 2, 1.2, 3.5, 5, 1, 4],\n",
    "    'Окрашивания':[1, 1, 0, 2.8, 2, 3, 1.5, 2.5],\n",
    "    'Укладка':[0.8, 1, 0.5, 0.8, 1, 2, 0.5, 1],\n",
    "    'Уход':[1, 1, 2, 2, 1.5, 2.5, 1.7, 2]\n",
    "},\n",
    "    index=['Аня', 'Борис', 'Вика', 'Галя', 'Дима', 'Егор', 'Женя','Юра']\n",
    ")"
   ],
   "id": "c5cec92aaacb0e98",
   "outputs": [],
   "execution_count": 19
  },
  {
   "metadata": {
    "ExecuteTime": {
     "end_time": "2024-10-28T20:21:23.574696Z",
     "start_time": "2024-10-28T20:21:23.570996Z"
    }
   },
   "cell_type": "code",
   "source": "com = np.array([0.2, 0.2, 0.3, 0.1, 0.1])",
   "id": "ade0cff94704262f",
   "outputs": [],
   "execution_count": 30
  },
  {
   "metadata": {
    "ExecuteTime": {
     "end_time": "2024-10-28T20:21:58.822388Z",
     "start_time": "2024-10-28T20:21:58.809481Z"
    }
   },
   "cell_type": "code",
   "source": [
    "Com = Price_DF*com\n",
    "Com"
   ],
   "id": "7007225488c3d1fb",
   "outputs": [
    {
     "data": {
      "text/plain": [
       "       Женские стрижки  Мужские стрижки  Окрашивания  Укладка  Уход\n",
       "Аня               0.40             0.30         0.30     0.08  0.10\n",
       "Борис             0.36             0.50         0.30     0.10  0.10\n",
       "Вика              0.40             0.40         0.00     0.05  0.20\n",
       "Галя              0.36             0.24         0.84     0.08  0.20\n",
       "Дима              0.50             0.70         0.60     0.10  0.15\n",
       "Егор              1.00             1.00         0.90     0.20  0.25\n",
       "Женя              0.22             0.20         0.45     0.05  0.17\n",
       "Юра               0.90             0.80         0.75     0.10  0.20"
      ],
      "text/html": [
       "<div>\n",
       "<style scoped>\n",
       "    .dataframe tbody tr th:only-of-type {\n",
       "        vertical-align: middle;\n",
       "    }\n",
       "\n",
       "    .dataframe tbody tr th {\n",
       "        vertical-align: top;\n",
       "    }\n",
       "\n",
       "    .dataframe thead th {\n",
       "        text-align: right;\n",
       "    }\n",
       "</style>\n",
       "<table border=\"1\" class=\"dataframe\">\n",
       "  <thead>\n",
       "    <tr style=\"text-align: right;\">\n",
       "      <th></th>\n",
       "      <th>Женские стрижки</th>\n",
       "      <th>Мужские стрижки</th>\n",
       "      <th>Окрашивания</th>\n",
       "      <th>Укладка</th>\n",
       "      <th>Уход</th>\n",
       "    </tr>\n",
       "  </thead>\n",
       "  <tbody>\n",
       "    <tr>\n",
       "      <th>Аня</th>\n",
       "      <td>0.40</td>\n",
       "      <td>0.30</td>\n",
       "      <td>0.30</td>\n",
       "      <td>0.08</td>\n",
       "      <td>0.10</td>\n",
       "    </tr>\n",
       "    <tr>\n",
       "      <th>Борис</th>\n",
       "      <td>0.36</td>\n",
       "      <td>0.50</td>\n",
       "      <td>0.30</td>\n",
       "      <td>0.10</td>\n",
       "      <td>0.10</td>\n",
       "    </tr>\n",
       "    <tr>\n",
       "      <th>Вика</th>\n",
       "      <td>0.40</td>\n",
       "      <td>0.40</td>\n",
       "      <td>0.00</td>\n",
       "      <td>0.05</td>\n",
       "      <td>0.20</td>\n",
       "    </tr>\n",
       "    <tr>\n",
       "      <th>Галя</th>\n",
       "      <td>0.36</td>\n",
       "      <td>0.24</td>\n",
       "      <td>0.84</td>\n",
       "      <td>0.08</td>\n",
       "      <td>0.20</td>\n",
       "    </tr>\n",
       "    <tr>\n",
       "      <th>Дима</th>\n",
       "      <td>0.50</td>\n",
       "      <td>0.70</td>\n",
       "      <td>0.60</td>\n",
       "      <td>0.10</td>\n",
       "      <td>0.15</td>\n",
       "    </tr>\n",
       "    <tr>\n",
       "      <th>Егор</th>\n",
       "      <td>1.00</td>\n",
       "      <td>1.00</td>\n",
       "      <td>0.90</td>\n",
       "      <td>0.20</td>\n",
       "      <td>0.25</td>\n",
       "    </tr>\n",
       "    <tr>\n",
       "      <th>Женя</th>\n",
       "      <td>0.22</td>\n",
       "      <td>0.20</td>\n",
       "      <td>0.45</td>\n",
       "      <td>0.05</td>\n",
       "      <td>0.17</td>\n",
       "    </tr>\n",
       "    <tr>\n",
       "      <th>Юра</th>\n",
       "      <td>0.90</td>\n",
       "      <td>0.80</td>\n",
       "      <td>0.75</td>\n",
       "      <td>0.10</td>\n",
       "      <td>0.20</td>\n",
       "    </tr>\n",
       "  </tbody>\n",
       "</table>\n",
       "</div>"
      ]
     },
     "execution_count": 31,
     "metadata": {},
     "output_type": "execute_result"
    }
   ],
   "execution_count": 31
  },
  {
   "metadata": {
    "ExecuteTime": {
     "end_time": "2024-10-28T20:25:59.027133Z",
     "start_time": "2024-10-28T20:25:59.017335Z"
    }
   },
   "cell_type": "code",
   "source": [
    "SD = np.sum(Count_DF*Com, axis=1)\n",
    "SD"
   ],
   "id": "8a06987b598cb70e",
   "outputs": [
    {
     "data": {
      "text/plain": [
       "Аня      11.30\n",
       "Борис    15.22\n",
       "Вика     11.90\n",
       "Галя     20.60\n",
       "Дима     41.90\n",
       "Егор     21.20\n",
       "Женя     11.49\n",
       "Юра      38.25\n",
       "dtype: float64"
      ]
     },
     "execution_count": 34,
     "metadata": {},
     "output_type": "execute_result"
    }
   ],
   "execution_count": 34
  },
  {
   "metadata": {
    "ExecuteTime": {
     "end_time": "2024-10-28T20:26:02.614381Z",
     "start_time": "2024-10-28T20:26:02.604353Z"
    }
   },
   "cell_type": "code",
   "source": [
    "Full = np.sum(Count_DF*Price_DF, axis=1)\n",
    "Full"
   ],
   "id": "a3d0b59a066caad9",
   "outputs": [
    {
     "data": {
      "text/plain": [
       "Аня       61.5\n",
       "Борис     90.1\n",
       "Вика      71.0\n",
       "Галя      88.4\n",
       "Дима     208.5\n",
       "Егор     135.0\n",
       "Женя      77.7\n",
       "Юра      196.0\n",
       "dtype: float64"
      ]
     },
     "execution_count": 35,
     "metadata": {},
     "output_type": "execute_result"
    }
   ],
   "execution_count": 35
  },
  {
   "metadata": {
    "ExecuteTime": {
     "end_time": "2024-10-28T20:26:13.695801Z",
     "start_time": "2024-10-28T20:26:13.687971Z"
    }
   },
   "cell_type": "code",
   "source": [
    "ZP = Full-SD\n",
    "ZP"
   ],
   "id": "957d3ed24557e36a",
   "outputs": [
    {
     "data": {
      "text/plain": [
       "Аня       50.20\n",
       "Борис     74.88\n",
       "Вика      59.10\n",
       "Галя      67.80\n",
       "Дима     166.60\n",
       "Егор     113.80\n",
       "Женя      66.21\n",
       "Юра      157.75\n",
       "dtype: float64"
      ]
     },
     "execution_count": 36,
     "metadata": {},
     "output_type": "execute_result"
    }
   ],
   "execution_count": 36
  },
  {
   "metadata": {
    "ExecuteTime": {
     "end_time": "2024-10-28T20:34:00.666777Z",
     "start_time": "2024-10-28T20:34:00.659511Z"
    }
   },
   "cell_type": "code",
   "source": [
    "A = np.matrix('1,2,3; 4,5,6; 7, 8, 10')\n",
    "A"
   ],
   "id": "39c867efab39a76a",
   "outputs": [
    {
     "data": {
      "text/plain": [
       "matrix([[ 1,  2,  3],\n",
       "        [ 4,  5,  6],\n",
       "        [ 7,  8, 10]])"
      ]
     },
     "execution_count": 37,
     "metadata": {},
     "output_type": "execute_result"
    }
   ],
   "execution_count": 37
  },
  {
   "metadata": {
    "ExecuteTime": {
     "end_time": "2024-10-28T20:34:19.581385Z",
     "start_time": "2024-10-28T20:34:19.550293Z"
    }
   },
   "cell_type": "code",
   "source": "np.linalg.inv(A)",
   "id": "914e13394837cacd",
   "outputs": [
    {
     "data": {
      "text/plain": [
       "matrix([[-0.66666667, -1.33333333,  1.        ],\n",
       "        [-0.66666667,  3.66666667, -2.        ],\n",
       "        [ 1.        , -2.        ,  1.        ]])"
      ]
     },
     "execution_count": 38,
     "metadata": {},
     "output_type": "execute_result"
    }
   ],
   "execution_count": 38
  },
  {
   "metadata": {
    "ExecuteTime": {
     "end_time": "2024-10-29T20:20:56.791146Z",
     "start_time": "2024-10-29T20:20:56.723781Z"
    }
   },
   "cell_type": "code",
   "source": [
    "v1 = np.array([1,2,3,1])\n",
    "v2 = np.array([4,5,6,1])\n",
    "v3 = np.array([7,8,9,1])\n",
    "A = np.array([v1, v2, v3]).T\n",
    "print(np.linalg.matrix_rank(A))\n",
    "# 2"
   ],
   "id": "c42f38c3f68aa305",
   "outputs": [
    {
     "name": "stdout",
     "output_type": "stream",
     "text": [
      "2\n"
     ]
    }
   ],
   "execution_count": 39
  },
  {
   "metadata": {
    "ExecuteTime": {
     "end_time": "2024-10-29T20:21:40.024504Z",
     "start_time": "2024-10-29T20:21:40.018767Z"
    }
   },
   "cell_type": "code",
   "source": [
    "v1 = np.array([1,2,3,1])\n",
    "v2 = np.array([4,5,6,1])\n",
    "v3 = np.array([7,8,10,1])\n",
    "A = np.array([v1, v2, v3]).T\n",
    "print(np.linalg.matrix_rank(A))\n",
    "# 3"
   ],
   "id": "799a092f7754769c",
   "outputs": [
    {
     "name": "stdout",
     "output_type": "stream",
     "text": [
      "3\n"
     ]
    }
   ],
   "execution_count": 40
  },
  {
   "metadata": {},
   "cell_type": "code",
   "outputs": [],
   "execution_count": null,
   "source": "",
   "id": "dfd9e2f6dae2fc98"
  }
 ],
 "metadata": {
  "kernelspec": {
   "display_name": "Python 3",
   "language": "python",
   "name": "python3"
  },
  "language_info": {
   "codemirror_mode": {
    "name": "ipython",
    "version": 2
   },
   "file_extension": ".py",
   "mimetype": "text/x-python",
   "name": "python",
   "nbconvert_exporter": "python",
   "pygments_lexer": "ipython2",
   "version": "2.7.6"
  }
 },
 "nbformat": 4,
 "nbformat_minor": 5
}
