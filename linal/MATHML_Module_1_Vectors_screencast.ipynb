{
 "nbformat": 4,
 "nbformat_minor": 0,
 "metadata": {
  "colab": {
   "name": "Module_1_Vectors_screencast.ipynb",
   "provenance": []
  },
  "kernelspec": {
   "display_name": "Python 3",
   "language": "python",
   "name": "python3"
  },
  "language_info": {
   "codemirror_mode": {
    "name": "ipython",
    "version": 3
   },
   "file_extension": ".py",
   "mimetype": "text/x-python",
   "name": "python",
   "nbconvert_exporter": "python",
   "pygments_lexer": "ipython3",
   "version": "3.7.3"
  }
 },
 "cells": [
  {
   "cell_type": "code",
   "metadata": {
    "colab_type": "code",
    "id": "Tc7xkEvkymVV",
    "colab": {},
    "ExecuteTime": {
     "end_time": "2024-10-27T19:20:41.729677Z",
     "start_time": "2024-10-27T19:20:41.577715Z"
    }
   },
   "source": [
    "import numpy as np"
   ],
   "outputs": [],
   "execution_count": 1
  },
  {
   "cell_type": "code",
   "metadata": {
    "colab_type": "code",
    "id": "vJHPEH0xymVm",
    "colab": {}
   },
   "source": [
    "# как создать вектор?\n"
   ],
   "execution_count": 0,
   "outputs": []
  },
  {
   "cell_type": "code",
   "metadata": {
    "colab_type": "code",
    "id": "Cnl8HEfuymVq",
    "colab": {},
    "outputId": "2a66605c-8a14-415a-923e-d592488abf83",
    "ExecuteTime": {
     "end_time": "2024-10-27T19:23:05.628776Z",
     "start_time": "2024-10-27T19:23:05.623744Z"
    }
   },
   "source": [
    "# как одномерный массив numpy\n",
    "a=np.array([1,2,3])\n",
    "print(a, type(a))"
   ],
   "outputs": [
    {
     "name": "stdout",
     "output_type": "stream",
     "text": [
      "[1 2 3] <class 'numpy.ndarray'>\n"
     ]
    }
   ],
   "execution_count": 2
  },
  {
   "cell_type": "code",
   "metadata": {
    "colab_type": "code",
    "id": "Z_4zzU8rymVw",
    "colab": {},
    "outputId": "54f34bca-7c08-40fa-cc9c-10ae082b1d74",
    "ExecuteTime": {
     "end_time": "2024-10-27T19:23:14.195171Z",
     "start_time": "2024-10-27T19:23:14.183970Z"
    }
   },
   "source": [
    "np.array([1,2,3], dtype='float')"
   ],
   "outputs": [
    {
     "data": {
      "text/plain": [
       "array([1., 2., 3.])"
      ]
     },
     "execution_count": 3,
     "metadata": {},
     "output_type": "execute_result"
    }
   ],
   "execution_count": 3
  },
  {
   "cell_type": "code",
   "metadata": {
    "colab_type": "code",
    "id": "FLn74OREymVz",
    "colab": {},
    "outputId": "f2334338-9ac2-441a-ef7d-7f8cf166babe",
    "ExecuteTime": {
     "end_time": "2024-10-27T19:23:20.181266Z",
     "start_time": "2024-10-27T19:23:20.175686Z"
    }
   },
   "source": [
    "# преобразовать из списка (list)\n",
    "x=[1,2,3]\n",
    "x_arr=np.array(x)\n",
    "print(x, type(x))\n",
    "print(x_arr, type(x_arr))"
   ],
   "outputs": [
    {
     "name": "stdout",
     "output_type": "stream",
     "text": [
      "[1, 2, 3] <class 'list'>\n",
      "[1 2 3] <class 'numpy.ndarray'>\n"
     ]
    }
   ],
   "execution_count": 4
  },
  {
   "cell_type": "code",
   "metadata": {
    "colab_type": "code",
    "id": "nGkg5GBwymV3",
    "colab": {},
    "outputId": "33be0248-0ee3-461d-a262-f12a98fd380b",
    "ExecuteTime": {
     "end_time": "2024-10-27T19:23:33.253733Z",
     "start_time": "2024-10-27T19:23:33.247957Z"
    }
   },
   "source": [
    "# нулевой вектор\n",
    "np.zeros(5) "
   ],
   "outputs": [
    {
     "data": {
      "text/plain": [
       "array([0., 0., 0., 0., 0.])"
      ]
     },
     "execution_count": 5,
     "metadata": {},
     "output_type": "execute_result"
    }
   ],
   "execution_count": 5
  },
  {
   "cell_type": "code",
   "metadata": {
    "colab_type": "code",
    "id": "LUDaxkcJymV6",
    "colab": {},
    "outputId": "191da2cb-a5fa-44f4-f74d-961b84fd6e73",
    "ExecuteTime": {
     "end_time": "2024-10-27T19:23:42.204537Z",
     "start_time": "2024-10-27T19:23:42.198014Z"
    }
   },
   "source": [
    "# вектор из единиц\n",
    "np.ones(8)"
   ],
   "outputs": [
    {
     "data": {
      "text/plain": [
       "array([1., 1., 1., 1., 1., 1., 1., 1.])"
      ]
     },
     "execution_count": 6,
     "metadata": {},
     "output_type": "execute_result"
    }
   ],
   "execution_count": 6
  },
  {
   "cell_type": "code",
   "metadata": {
    "colab_type": "code",
    "id": "4JJrxHdLymWB",
    "colab": {},
    "outputId": "c5408ec0-6e97-4a81-c3f6-3d4a63b9358e",
    "ExecuteTime": {
     "end_time": "2024-10-27T19:23:58.816469Z",
     "start_time": "2024-10-27T19:23:58.811136Z"
    }
   },
   "source": [
    "# массив чисел по порядку\n",
    "np.arange(10,50, 5)"
   ],
   "outputs": [
    {
     "data": {
      "text/plain": [
       "array([10, 15, 20, 25, 30, 35, 40, 45])"
      ]
     },
     "execution_count": 7,
     "metadata": {},
     "output_type": "execute_result"
    }
   ],
   "execution_count": 7
  },
  {
   "cell_type": "code",
   "metadata": {
    "colab_type": "code",
    "id": "ul4_CKIkymWF",
    "colab": {},
    "outputId": "f4f0f1ae-5c3b-494c-ac3f-b5b6b4591091",
    "ExecuteTime": {
     "end_time": "2024-10-27T19:24:09.765685Z",
     "start_time": "2024-10-27T19:24:09.755837Z"
    }
   },
   "source": [
    "# случайный вектор\n",
    "np.random.randint(-4, 2, 10) # dim=10, случаные целые числа от -4 до 2"
   ],
   "outputs": [
    {
     "data": {
      "text/plain": [
       "array([ 1,  1, -1, -2,  0, -1, -4, -4,  1,  1])"
      ]
     },
     "execution_count": 8,
     "metadata": {},
     "output_type": "execute_result"
    }
   ],
   "execution_count": 8
  },
  {
   "cell_type": "code",
   "metadata": {
    "colab_type": "code",
    "id": "xSF7nv58ymWJ",
    "colab": {},
    "outputId": "79b775dc-8161-465f-ebd7-e870cf7be016",
    "ExecuteTime": {
     "end_time": "2024-10-27T19:24:18.719560Z",
     "start_time": "2024-10-27T19:24:17.858945Z"
    }
   },
   "source": [
    "# преобразовать из Pandas Series\n",
    "import pandas as pd\n",
    "data = [65, 70, 120, 35]\n",
    "s = pd.Series(data)\n",
    "print('Series:\\n',s)"
   ],
   "outputs": [
    {
     "name": "stdout",
     "output_type": "stream",
     "text": [
      "Series:\n",
      " 0     65\n",
      "1     70\n",
      "2    120\n",
      "3     35\n",
      "dtype: int64\n"
     ]
    }
   ],
   "execution_count": 9
  },
  {
   "cell_type": "code",
   "metadata": {
    "colab_type": "code",
    "id": "znujxj8aymWO",
    "colab": {},
    "outputId": "9d09762e-69f8-4039-d4d6-7d879c9b4c99",
    "ExecuteTime": {
     "end_time": "2024-10-27T19:24:31.237892Z",
     "start_time": "2024-10-27T19:24:31.233708Z"
    }
   },
   "source": [
    "x = s.values # возвращает значения s\n",
    "print('vector:\\n',x)\n",
    "print('type of x:',type(x))"
   ],
   "outputs": [
    {
     "name": "stdout",
     "output_type": "stream",
     "text": [
      "vector:\n",
      " [ 65  70 120  35]\n",
      "type of x: <class 'numpy.ndarray'>\n"
     ]
    }
   ],
   "execution_count": 10
  },
  {
   "cell_type": "code",
   "metadata": {
    "colab_type": "code",
    "id": "0ZYwt1ilymWU",
    "colab": {},
    "outputId": "07ee9250-4476-402e-a59a-79178b2e922d",
    "ExecuteTime": {
     "end_time": "2024-10-27T19:24:59.318836Z",
     "start_time": "2024-10-27T19:24:59.308814Z"
    }
   },
   "source": [
    "# преобразовать из Pandas DataFrame\n",
    "d = {'$$': [65, 70, 120, 35], '2.Area': [50, 52, 80, 33],'3.Rooms':[3,2,1,1], \n",
    "     '4.Floor':[5,12,10,3], '5.Demo':[8,4,5,10]}\n",
    "df = pd.DataFrame(d)\n",
    "print('Data Frame:\\n',df)"
   ],
   "outputs": [
    {
     "name": "stdout",
     "output_type": "stream",
     "text": [
      "Data Frame:\n",
      "     $$  2.Area  3.Rooms  4.Floor  5.Demo\n",
      "0   65      50        3        5       8\n",
      "1   70      52        2       12       4\n",
      "2  120      80        1       10       5\n",
      "3   35      33        1        3      10\n"
     ]
    }
   ],
   "execution_count": 11
  },
  {
   "cell_type": "code",
   "metadata": {
    "colab_type": "code",
    "id": "mnUU7al2ymWa",
    "colab": {},
    "outputId": "461d3383-c973-4aa6-bb61-272d9bfe2e63",
    "ExecuteTime": {
     "end_time": "2024-10-27T19:25:07.527763Z",
     "start_time": "2024-10-27T19:25:07.523120Z"
    }
   },
   "source": [
    "A = df.values # возвращает значения df\n",
    "print('Matrix:\\n',A)"
   ],
   "outputs": [
    {
     "name": "stdout",
     "output_type": "stream",
     "text": [
      "Matrix:\n",
      " [[ 65  50   3   5   8]\n",
      " [ 70  52   2  12   4]\n",
      " [120  80   1  10   5]\n",
      " [ 35  33   1   3  10]]\n"
     ]
    }
   ],
   "execution_count": 12
  },
  {
   "cell_type": "code",
   "metadata": {
    "colab_type": "code",
    "id": "w-4RhmRvymWf",
    "colab": {},
    "outputId": "ff57c7d9-8d15-4b70-f3cd-0148d7a5a200",
    "ExecuteTime": {
     "end_time": "2024-10-27T19:25:16.919695Z",
     "start_time": "2024-10-27T19:25:16.914607Z"
    }
   },
   "source": [
    "x=A[1] # вторая строка матрицы А\n",
    "print('Second apartment vector:\\n',x)\n",
    "print('type of x:',type(x))"
   ],
   "outputs": [
    {
     "name": "stdout",
     "output_type": "stream",
     "text": [
      "Second apartment vector:\n",
      " [70 52  2 12  4]\n",
      "type of x: <class 'numpy.ndarray'>\n"
     ]
    }
   ],
   "execution_count": 13
  },
  {
   "cell_type": "code",
   "metadata": {
    "colab_type": "code",
    "id": "W6_SwmjNymWj",
    "colab": {},
    "outputId": "61676e9a-f456-42d0-be18-34b588b551d5",
    "ExecuteTime": {
     "end_time": "2024-10-27T19:25:23.993448Z",
     "start_time": "2024-10-27T19:25:23.987555Z"
    }
   },
   "source": [
    "y=A[:,0] # первый столбец матрицы А\n",
    "print('$$ vector:\\n',y)"
   ],
   "outputs": [
    {
     "name": "stdout",
     "output_type": "stream",
     "text": [
      "$$ vector:\n",
      " [ 65  70 120  35]\n"
     ]
    }
   ],
   "execution_count": 14
  },
  {
   "cell_type": "code",
   "metadata": {
    "colab_type": "code",
    "id": "xBlKUENeymWn",
    "colab": {},
    "outputId": "0f3d0749-05fc-4aa3-92e8-c7cfee913069",
    "ExecuteTime": {
     "end_time": "2024-10-27T19:25:30.930176Z",
     "start_time": "2024-10-27T19:25:30.925418Z"
    }
   },
   "source": [
    "# индексация векторов - поиск нужной координаты\n",
    "print('$$ of 3 apartment:',y[2]) # третья координата"
   ],
   "outputs": [
    {
     "name": "stdout",
     "output_type": "stream",
     "text": [
      "$$ of 3 apartment: 120\n"
     ]
    }
   ],
   "execution_count": 15
  },
  {
   "cell_type": "code",
   "metadata": {
    "colab_type": "code",
    "id": "NOi0XzfMymWr",
    "colab": {},
    "outputId": "b6085028-5289-4506-fbc7-a0e84a161a0c",
    "ExecuteTime": {
     "end_time": "2024-10-27T19:25:35.595621Z",
     "start_time": "2024-10-27T19:25:35.590219Z"
    }
   },
   "source": [
    "# размерность вектора\n",
    "print('Number of apartments = dim(y):', len(y))"
   ],
   "outputs": [
    {
     "name": "stdout",
     "output_type": "stream",
     "text": [
      "Number of apartments = dim(y): 4\n"
     ]
    }
   ],
   "execution_count": 16
  },
  {
   "cell_type": "code",
   "metadata": {
    "colab_type": "code",
    "id": "Rhk38HtvymWy",
    "colab": {},
    "outputId": "dcd68f3b-30d9-4fee-d004-2de8e5c32196",
    "ExecuteTime": {
     "end_time": "2024-10-27T19:25:47.138428Z",
     "start_time": "2024-10-27T19:25:47.133713Z"
    }
   },
   "source": [
    "# сумма векторов и умножение на число\n",
    "a=np.array([1,2,3])\n",
    "b=np.array([6,7,8])\n",
    "print('a+b:',a+b)\n",
    "print('2a:',2*a)"
   ],
   "outputs": [
    {
     "name": "stdout",
     "output_type": "stream",
     "text": [
      "a+b: [ 7  9 11]\n",
      "2a: [2 4 6]\n"
     ]
    }
   ],
   "execution_count": 17
  },
  {
   "cell_type": "code",
   "metadata": {
    "colab_type": "code",
    "id": "GB9jEZniymW6",
    "colab": {},
    "outputId": "1d90e326-fdc8-4bb2-e7ee-8f40ba365bc6",
    "ExecuteTime": {
     "end_time": "2024-10-27T19:25:57.429381Z",
     "start_time": "2024-10-27T19:25:57.423862Z"
    }
   },
   "source": [
    "# сумма списков и умножение на число не является векторной операцией!\n",
    "a_list=[1,2,3]\n",
    "b_list=[6,7,8]\n",
    "print('a+b:',a_list+b_list)\n",
    "print('2a:',2*a_list)"
   ],
   "outputs": [
    {
     "name": "stdout",
     "output_type": "stream",
     "text": [
      "a+b: [1, 2, 3, 6, 7, 8]\n",
      "2a: [1, 2, 3, 1, 2, 3]\n"
     ]
    }
   ],
   "execution_count": 18
  },
  {
   "cell_type": "code",
   "metadata": {
    "colab_type": "code",
    "id": "Uhem8xWDymXE",
    "colab": {},
    "outputId": "ebc19e52-60d8-4fe9-c068-9a222fa47ebe",
    "ExecuteTime": {
     "end_time": "2024-10-27T19:26:06.892871Z",
     "start_time": "2024-10-27T19:26:06.886966Z"
    }
   },
   "source": [
    "# линейная комбинация с коэффициентами 2, 2, 3\n",
    "a=np.array([1,2,3])\n",
    "b=np.array([6,7,8])\n",
    "c=np.array([1,0,1])\n",
    "\n",
    "d=2*a+2*b+3*c\n",
    "print('linear combination:',d)"
   ],
   "outputs": [
    {
     "name": "stdout",
     "output_type": "stream",
     "text": [
      "linear combination: [17 18 25]\n"
     ]
    }
   ],
   "execution_count": 19
  },
  {
   "cell_type": "code",
   "metadata": {
    "colab_type": "code",
    "id": "5nG5tKovymXK",
    "colab": {},
    "ExecuteTime": {
     "end_time": "2024-10-27T19:26:20.823822Z",
     "start_time": "2024-10-27T19:26:20.818583Z"
    }
   },
   "source": [
    "# скалярное произведение\n",
    "\n",
    "s=np.dot(a,b)\n",
    "print('scalar product:',s)\n",
    "\n",
    "# покоординатное умножение\n",
    "print('coordinate product:',a*b)"
   ],
   "outputs": [
    {
     "name": "stdout",
     "output_type": "stream",
     "text": [
      "scalar product: 44\n",
      "coordinate product: [ 6 14 24]\n"
     ]
    }
   ],
   "execution_count": 20
  },
  {
   "cell_type": "code",
   "metadata": {
    "colab_type": "code",
    "id": "J9PPebk7ymXW",
    "colab": {},
    "ExecuteTime": {
     "end_time": "2024-10-27T19:26:35.789055Z",
     "start_time": "2024-10-27T19:26:35.780314Z"
    }
   },
   "source": [
    "# скалярное произведение - еще один способ\n",
    "s1=a@b\n",
    "print('scalar product:',s1)"
   ],
   "outputs": [
    {
     "name": "stdout",
     "output_type": "stream",
     "text": [
      "scalar product: 44\n"
     ]
    }
   ],
   "execution_count": 21
  },
  {
   "cell_type": "code",
   "metadata": {
    "colab_type": "code",
    "id": "Hpgi94aRymXa",
    "colab": {},
    "ExecuteTime": {
     "end_time": "2024-10-27T19:26:52.473037Z",
     "start_time": "2024-10-27T19:26:52.467771Z"
    }
   },
   "source": [
    "# длина вектора\n",
    "l=np.linalg.norm(a)\n",
    "print('length of a:',l)"
   ],
   "outputs": [
    {
     "name": "stdout",
     "output_type": "stream",
     "text": [
      "length of a: 3.7416573867739413\n"
     ]
    }
   ],
   "execution_count": 22
  },
  {
   "cell_type": "code",
   "metadata": {
    "colab_type": "code",
    "id": "-0HZq_wUymXi",
    "colab": {},
    "ExecuteTime": {
     "end_time": "2024-10-27T19:27:10.113765Z",
     "start_time": "2024-10-27T19:27:10.108380Z"
    }
   },
   "source": [
    "# нормировка\n",
    "a_norm=a/np.linalg.norm(a)\n",
    "print('a_norm:',a_norm)\n",
    "print('length of a_norm:',np.linalg.norm(a_norm))"
   ],
   "outputs": [
    {
     "name": "stdout",
     "output_type": "stream",
     "text": [
      "a_norm: [0.26726124 0.53452248 0.80178373]\n",
      "length of a_norm: 1.0\n"
     ]
    }
   ],
   "execution_count": 23
  },
  {
   "cell_type": "code",
   "metadata": {
    "colab_type": "code",
    "id": "RXKe-abRymXo",
    "colab": {},
    "ExecuteTime": {
     "end_time": "2024-10-27T19:27:23.245185Z",
     "start_time": "2024-10-27T19:27:23.239258Z"
    }
   },
   "source": [
    "#пропорциональность и ортогональность\n",
    "a=np.array([1,2,1])\n",
    "b=a*2\n",
    "c=np.array([-1,1,-1])\n",
    "print('a:',a)\n",
    "print('b:',b)\n",
    "print('c:',c)"
   ],
   "outputs": [
    {
     "name": "stdout",
     "output_type": "stream",
     "text": [
      "a: [1 2 1]\n",
      "b: [2 4 2]\n",
      "c: [-1  1 -1]\n"
     ]
    }
   ],
   "execution_count": 24
  },
  {
   "cell_type": "code",
   "metadata": {
    "colab_type": "code",
    "id": "ze2-yWVDymXq",
    "colab": {},
    "ExecuteTime": {
     "end_time": "2024-10-27T19:27:31.992037Z",
     "start_time": "2024-10-27T19:27:31.987135Z"
    }
   },
   "source": [
    "#пропорциональность и ортогональность\n",
    "print(\"(a,b):\",np.dot(a,b))\n",
    "print(\"(a,c):\",np.dot(a,c))\n",
    "print(\"(b,c):\",np.dot(b,c))"
   ],
   "outputs": [
    {
     "name": "stdout",
     "output_type": "stream",
     "text": [
      "(a,b): 12\n",
      "(a,c): 0\n",
      "(b,c): 0\n"
     ]
    }
   ],
   "execution_count": 25
  },
  {
   "cell_type": "code",
   "metadata": {
    "colab_type": "code",
    "id": "AF7Z9P9WymXy",
    "colab": {},
    "ExecuteTime": {
     "end_time": "2024-10-27T19:27:44.129491Z",
     "start_time": "2024-10-27T19:27:44.123734Z"
    }
   },
   "source": [
    "# попарная ортогональность - да\n",
    "a=np.array([1,0,1])\n",
    "b=np.array([0,1,0])\n",
    "c=np.array([1,0,-1])\n",
    "print('a:',a)\n",
    "print('b:',b)\n",
    "print('c:',c)"
   ],
   "outputs": [
    {
     "name": "stdout",
     "output_type": "stream",
     "text": [
      "a: [1 0 1]\n",
      "b: [0 1 0]\n",
      "c: [ 1  0 -1]\n"
     ]
    }
   ],
   "execution_count": 26
  },
  {
   "cell_type": "code",
   "metadata": {
    "colab_type": "code",
    "id": "F9Xi-O17ymX4",
    "colab": {},
    "ExecuteTime": {
     "end_time": "2024-10-27T19:27:50.399260Z",
     "start_time": "2024-10-27T19:27:50.394504Z"
    }
   },
   "source": [
    "# попарная ортогональность - да\n",
    "print('(a,b):',np.dot(a,b))\n",
    "print('(b,c):',np.dot(b,c))\n",
    "print('(a,c):',np.dot(a,c))"
   ],
   "outputs": [
    {
     "name": "stdout",
     "output_type": "stream",
     "text": [
      "(a,b): 0\n",
      "(b,c): 0\n",
      "(a,c): 0\n"
     ]
    }
   ],
   "execution_count": 27
  },
  {
   "cell_type": "code",
   "metadata": {
    "colab_type": "code",
    "id": "0JhrwPvPymX7",
    "colab": {},
    "ExecuteTime": {
     "end_time": "2024-10-27T19:27:59.097554Z",
     "start_time": "2024-10-27T19:27:59.091467Z"
    }
   },
   "source": [
    "# попарная ортогональность - нет\n",
    "c1=np.array([1,0,4])\n",
    "print('a:',a)\n",
    "print('b:',b)\n",
    "print('с1:',c1)"
   ],
   "outputs": [
    {
     "name": "stdout",
     "output_type": "stream",
     "text": [
      "a: [1 0 1]\n",
      "b: [0 1 0]\n",
      "с1: [1 0 4]\n"
     ]
    }
   ],
   "execution_count": 28
  },
  {
   "cell_type": "code",
   "metadata": {
    "colab_type": "code",
    "id": "ZmeF_7G2ymX-",
    "colab": {},
    "ExecuteTime": {
     "end_time": "2024-10-27T19:28:08.615547Z",
     "start_time": "2024-10-27T19:28:08.609508Z"
    }
   },
   "source": [
    "# попарная ортогональность - нет\n",
    "print('(a,b):',a@b)\n",
    "print('(b,c1):',b@c1)\n",
    "print('(a,c1):',a@c1)"
   ],
   "outputs": [
    {
     "name": "stdout",
     "output_type": "stream",
     "text": [
      "(a,b): 0\n",
      "(b,c1): 0\n",
      "(a,c1): 5\n"
     ]
    }
   ],
   "execution_count": 29
  },
  {
   "cell_type": "code",
   "metadata": {
    "colab_type": "code",
    "id": "2djqzK80ymYE",
    "colab": {}
   },
   "source": [
    ""
   ],
   "execution_count": 0,
   "outputs": []
  }
 ]
}
