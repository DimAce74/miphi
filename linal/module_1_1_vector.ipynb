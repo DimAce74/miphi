{
 "cells": [
  {
   "cell_type": "code",
   "id": "initial_id",
   "metadata": {
    "collapsed": true,
    "ExecuteTime": {
     "end_time": "2024-10-27T17:08:40.154022Z",
     "start_time": "2024-10-27T17:08:39.971159Z"
    }
   },
   "source": "import numpy as np",
   "outputs": [],
   "execution_count": 1
  },
  {
   "metadata": {
    "ExecuteTime": {
     "end_time": "2024-10-27T17:09:08.066504Z",
     "start_time": "2024-10-27T17:09:08.058719Z"
    }
   },
   "cell_type": "code",
   "source": [
    "s = np.array([33, 65, 50, 45])\n",
    "s"
   ],
   "id": "8749496606c339e8",
   "outputs": [
    {
     "data": {
      "text/plain": [
       "array([33, 65, 50, 45])"
      ]
     },
     "execution_count": 2,
     "metadata": {},
     "output_type": "execute_result"
    }
   ],
   "execution_count": 2
  },
  {
   "metadata": {
    "ExecuteTime": {
     "end_time": "2024-10-27T17:29:30.670377Z",
     "start_time": "2024-10-27T17:29:30.663224Z"
    }
   },
   "cell_type": "code",
   "source": "s[2]",
   "id": "19a8ec1e2475e9be",
   "outputs": [
    {
     "data": {
      "text/plain": [
       "50"
      ]
     },
     "execution_count": 3,
     "metadata": {},
     "output_type": "execute_result"
    }
   ],
   "execution_count": 3
  },
  {
   "metadata": {
    "ExecuteTime": {
     "end_time": "2024-10-27T17:29:59.485284Z",
     "start_time": "2024-10-27T17:29:59.478611Z"
    }
   },
   "cell_type": "code",
   "source": "len(s)",
   "id": "f3692ecb5f24e6b2",
   "outputs": [
    {
     "data": {
      "text/plain": [
       "4"
      ]
     },
     "execution_count": 4,
     "metadata": {},
     "output_type": "execute_result"
    }
   ],
   "execution_count": 4
  },
  {
   "metadata": {
    "ExecuteTime": {
     "end_time": "2024-10-27T17:46:30.980631Z",
     "start_time": "2024-10-27T17:46:30.971743Z"
    }
   },
   "cell_type": "code",
   "source": [
    "a = np.array([10, 8, 5, 1])\n",
    "b = np.array([5, 15, 9, 7])\n",
    "display(a + b)\n",
    "## array([15, 23, 14,  8])\n",
    "a - b\n",
    "## array([ 5, -7, -4, -6])"
   ],
   "id": "f3f1ef0393234afa",
   "outputs": [
    {
     "data": {
      "text/plain": [
       "array([15, 23, 14,  8])"
      ]
     },
     "metadata": {},
     "output_type": "display_data"
    },
    {
     "data": {
      "text/plain": [
       "array([ 5, -7, -4, -6])"
      ]
     },
     "execution_count": 7,
     "metadata": {},
     "output_type": "execute_result"
    }
   ],
   "execution_count": 7
  },
  {
   "metadata": {
    "ExecuteTime": {
     "end_time": "2024-10-27T17:50:02.986712Z",
     "start_time": "2024-10-27T17:50:02.979821Z"
    }
   },
   "cell_type": "code",
   "source": [
    "a = np.array([120, 45, 68])\n",
    "omega = 0.2\n",
    "c = a * omega\n",
    "c\n",
    "## array([24. ,  9. , 13.6])"
   ],
   "id": "4d015fea169c21b7",
   "outputs": [
    {
     "data": {
      "text/plain": [
       "array([24. ,  9. , 13.6])"
      ]
     },
     "execution_count": 8,
     "metadata": {},
     "output_type": "execute_result"
    }
   ],
   "execution_count": 8
  },
  {
   "metadata": {},
   "cell_type": "markdown",
   "source": [
    "Доходы мужа: 120, 150 и 190 тысяч рублей.\n",
    "Доходы жены: 130, 130 и 130 тысяч рублей.\n",
    "Доходы тёщи: 2, 3 и 2.5 тысячи евро."
   ],
   "id": "24649698d6735913"
  },
  {
   "metadata": {
    "ExecuteTime": {
     "end_time": "2024-10-27T17:57:28.487282Z",
     "start_time": "2024-10-27T17:57:28.480503Z"
    }
   },
   "cell_type": "code",
   "source": [
    "m = np.array([120, 150, 190])\n",
    "z = np.array([130, 130, 130])\n",
    "te = np.array([2, 3, 2.5])\n",
    "t = te * 72\n",
    "display(t)"
   ],
   "id": "4e66f9c8f6cb1b38",
   "outputs": [
    {
     "data": {
      "text/plain": [
       "array([144., 216., 180.])"
      ]
     },
     "metadata": {},
     "output_type": "display_data"
    }
   ],
   "execution_count": 9
  },
  {
   "metadata": {
    "ExecuteTime": {
     "end_time": "2024-10-27T17:58:54.838975Z",
     "start_time": "2024-10-27T17:58:54.832201Z"
    }
   },
   "cell_type": "code",
   "source": "display(m + z + t)",
   "id": "95dee1a5c4f353e6",
   "outputs": [
    {
     "data": {
      "text/plain": [
       "array([394., 496., 500.])"
      ]
     },
     "metadata": {},
     "output_type": "display_data"
    }
   ],
   "execution_count": 10
  },
  {
   "metadata": {
    "ExecuteTime": {
     "end_time": "2024-10-27T18:18:22.894240Z",
     "start_time": "2024-10-27T18:18:22.885953Z"
    }
   },
   "cell_type": "code",
   "source": [
    "p = np.array([2, 4, 5])\n",
    "v = np.array([8, 10, 2])\n",
    "s = np.array([0, 12, 7])\n",
    "omega1 = 500\n",
    "omega2 = 100\n",
    "omega3 = 0\n",
    "u = omega1*p + omega2*v + omega3*s\n",
    "u"
   ],
   "id": "1a348a9205ec9cb8",
   "outputs": [
    {
     "data": {
      "text/plain": [
       "array([1800, 3000, 2700])"
      ]
     },
     "execution_count": 11,
     "metadata": {},
     "output_type": "execute_result"
    }
   ],
   "execution_count": 11
  },
  {
   "metadata": {
    "ExecuteTime": {
     "end_time": "2024-10-27T18:25:28.450358Z",
     "start_time": "2024-10-27T18:25:28.443086Z"
    }
   },
   "cell_type": "code",
   "source": [
    "x = np.array([4, 5])\n",
    "y = np.array([2, 1])\n",
    "u = np.array([1, 0])\n",
    "om1 = 2\n",
    "om2 = -3\n",
    "om3 = 5\n",
    "\n",
    "display(om1 * x + om2 * y + om3 * u)\n"
   ],
   "id": "1237494f86c40fb5",
   "outputs": [
    {
     "data": {
      "text/plain": [
       "array([7, 7])"
      ]
     },
     "metadata": {},
     "output_type": "display_data"
    }
   ],
   "execution_count": 12
  },
  {
   "metadata": {
    "ExecuteTime": {
     "end_time": "2024-10-27T18:29:18.115440Z",
     "start_time": "2024-10-27T18:29:18.107459Z"
    }
   },
   "cell_type": "code",
   "source": [
    "q = np.array([3,4,5,9])\n",
    "s = np.array([1,5,3,6])\n",
    "ss = 200\n",
    "p = 400\n",
    "display(p * s - ss * q)"
   ],
   "id": "3f0687fb7fd9fdcc",
   "outputs": [
    {
     "data": {
      "text/plain": [
       "array([-200, 1200,  200,  600])"
      ]
     },
     "metadata": {},
     "output_type": "display_data"
    }
   ],
   "execution_count": 13
  },
  {
   "metadata": {
    "ExecuteTime": {
     "end_time": "2024-10-27T18:36:40.800573Z",
     "start_time": "2024-10-27T18:36:40.789089Z"
    }
   },
   "cell_type": "code",
   "source": [
    "a = np.array([65, 70, 120, 30])\n",
    "w = np.array([0.4, 0.4, 0.2, 0.8])\n",
    "np.dot(a, w)\n",
    "## 102.0"
   ],
   "id": "c3cf464a8b4e6164",
   "outputs": [
    {
     "data": {
      "text/plain": [
       "102.0"
      ]
     },
     "execution_count": 14,
     "metadata": {},
     "output_type": "execute_result"
    }
   ],
   "execution_count": 14
  },
  {
   "metadata": {
    "ExecuteTime": {
     "end_time": "2024-10-27T19:28:34.723343Z",
     "start_time": "2024-10-27T19:28:33.229318Z"
    }
   },
   "cell_type": "code",
   "source": [
    "import pandas as pd\n",
    "\n",
    "Hut_Paradise_DF = pd.DataFrame({\n",
    "    '1.Rent': [65, 70, 120, 35, 40, 50, 100, 90, 85],\n",
    "    '2.Area': [50, 52, 80, 33, 33, 44, 80, 65, 65],\n",
    "    '3.Rooms':[3, 2, 1, 1, 1, 2, 4, 3, 2],\n",
    "    '4.Floor':[5, 12, 10, 3, 6, 13, 8, 21, 5],\n",
    "    '5.Demo two weeks':[8, 4, 5, 10, 20, 12, 5, 1, 10],\n",
    "    '6.Liv.Area': [37, 40, 65, 20, 16, 35, 60, 50, 40]\n",
    "})"
   ],
   "id": "d79840a8caa21534",
   "outputs": [],
   "execution_count": 15
  },
  {
   "metadata": {
    "ExecuteTime": {
     "end_time": "2024-10-27T19:32:30.754688Z",
     "start_time": "2024-10-27T19:32:30.749013Z"
    }
   },
   "cell_type": "code",
   "source": "display(Hut_Paradise_DF.values[4])",
   "id": "ab69f9ebaae9179a",
   "outputs": [
    {
     "data": {
      "text/plain": [
       "array([40, 33,  1,  6, 20, 16], dtype=int64)"
      ]
     },
     "metadata": {},
     "output_type": "display_data"
    }
   ],
   "execution_count": 19
  },
  {
   "metadata": {
    "ExecuteTime": {
     "end_time": "2024-10-27T19:33:05.187988Z",
     "start_time": "2024-10-27T19:33:05.181387Z"
    }
   },
   "cell_type": "code",
   "source": "Hut_Paradise_DF.values[:,3]",
   "id": "274485f795c0b99e",
   "outputs": [
    {
     "data": {
      "text/plain": [
       "array([ 5, 12, 10,  3,  6, 13,  8, 21,  5], dtype=int64)"
      ]
     },
     "execution_count": 20,
     "metadata": {},
     "output_type": "execute_result"
    }
   ],
   "execution_count": 20
  },
  {
   "metadata": {
    "ExecuteTime": {
     "end_time": "2024-10-27T19:34:42.341090Z",
     "start_time": "2024-10-27T19:34:42.335524Z"
    }
   },
   "cell_type": "code",
   "source": "Hut_Paradise_DF.values[:, 1] - Hut_Paradise_DF.values[:, 5]",
   "id": "806583222925348",
   "outputs": [
    {
     "data": {
      "text/plain": [
       "array([13, 12, 15, 13, 17,  9, 20, 15, 25], dtype=int64)"
      ]
     },
     "execution_count": 21,
     "metadata": {},
     "output_type": "execute_result"
    }
   ],
   "execution_count": 21
  },
  {
   "metadata": {
    "ExecuteTime": {
     "end_time": "2024-10-27T19:36:01.170206Z",
     "start_time": "2024-10-27T19:36:01.162825Z"
    }
   },
   "cell_type": "code",
   "source": "Hut_Paradise_DF['2.Area'].values - Hut_Paradise_DF['6.Liv.Area'].values",
   "id": "9b3a857acea14614",
   "outputs": [
    {
     "data": {
      "text/plain": [
       "array([13, 12, 15, 13, 17,  9, 20, 15, 25], dtype=int64)"
      ]
     },
     "execution_count": 22,
     "metadata": {},
     "output_type": "execute_result"
    }
   ],
   "execution_count": 22
  },
  {
   "metadata": {
    "ExecuteTime": {
     "end_time": "2024-10-27T19:36:40.546645Z",
     "start_time": "2024-10-27T19:36:40.538971Z"
    }
   },
   "cell_type": "code",
   "source": "(Hut_Paradise_DF['2.Area'] - Hut_Paradise_DF['6.Liv.Area']).values",
   "id": "d637fcc289f372d7",
   "outputs": [
    {
     "data": {
      "text/plain": [
       "array([13, 12, 15, 13, 17,  9, 20, 15, 25], dtype=int64)"
      ]
     },
     "execution_count": 23,
     "metadata": {},
     "output_type": "execute_result"
    }
   ],
   "execution_count": 23
  },
  {
   "metadata": {
    "ExecuteTime": {
     "end_time": "2024-10-27T20:02:39.825257Z",
     "start_time": "2024-10-27T20:02:39.814555Z"
    }
   },
   "cell_type": "code",
   "source": [
    "pr = np.array([10,20,30,15,5,40,20,8,20])\n",
    "Hut_Paradise_DF['5.Demo two weeks'].values@pr"
   ],
   "id": "47920c22c3e823d7",
   "outputs": [
    {
     "data": {
      "text/plain": [
       "1348"
      ]
     },
     "execution_count": 24,
     "metadata": {},
     "output_type": "execute_result"
    }
   ],
   "execution_count": 24
  },
  {
   "metadata": {
    "ExecuteTime": {
     "end_time": "2024-10-27T20:23:50.500346Z",
     "start_time": "2024-10-27T20:23:50.494831Z"
    }
   },
   "cell_type": "code",
   "source": [
    "u=np.array([3,0,1,1,1])\n",
    "v=np.array([0,1,0,2,-2])\n",
    "w=np.array([1,-4,-1,0,-2])"
   ],
   "id": "20442fbbc809f6f5",
   "outputs": [],
   "execution_count": 25
  },
  {
   "metadata": {
    "ExecuteTime": {
     "end_time": "2024-10-27T20:26:45.146502Z",
     "start_time": "2024-10-27T20:26:45.137074Z"
    }
   },
   "cell_type": "code",
   "source": [
    "comb = 2*v + (-3)*w\n",
    "comb"
   ],
   "id": "47353bd1dc533c6c",
   "outputs": [
    {
     "data": {
      "text/plain": [
       "array([-3, 14,  3,  4,  2])"
      ]
     },
     "execution_count": 27,
     "metadata": {},
     "output_type": "execute_result"
    }
   ],
   "execution_count": 27
  },
  {
   "metadata": {
    "ExecuteTime": {
     "end_time": "2024-10-27T20:27:01.113483Z",
     "start_time": "2024-10-27T20:27:01.106208Z"
    }
   },
   "cell_type": "code",
   "source": "comb@u",
   "id": "277ae523da57d66b",
   "outputs": [
    {
     "data": {
      "text/plain": [
       "0"
      ]
     },
     "execution_count": 28,
     "metadata": {},
     "output_type": "execute_result"
    }
   ],
   "execution_count": 28
  },
  {
   "metadata": {},
   "cell_type": "code",
   "outputs": [],
   "execution_count": null,
   "source": "",
   "id": "53dcf9664938d0a6"
  }
 ],
 "metadata": {
  "kernelspec": {
   "display_name": "Python 3",
   "language": "python",
   "name": "python3"
  },
  "language_info": {
   "codemirror_mode": {
    "name": "ipython",
    "version": 2
   },
   "file_extension": ".py",
   "mimetype": "text/x-python",
   "name": "python",
   "nbconvert_exporter": "python",
   "pygments_lexer": "ipython2",
   "version": "2.7.6"
  }
 },
 "nbformat": 4,
 "nbformat_minor": 5
}
