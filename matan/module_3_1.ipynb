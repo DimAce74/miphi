{
 "cells": [
  {
   "cell_type": "code",
   "id": "initial_id",
   "metadata": {
    "collapsed": true,
    "ExecuteTime": {
     "end_time": "2024-12-15T21:38:22.801616Z",
     "start_time": "2024-12-15T21:38:21.383532Z"
    }
   },
   "source": [
    "from scipy import optimize\n",
    "import sympy as sp\n",
    "import numpy as np\n",
    "import pandas as pd"
   ],
   "outputs": [],
   "execution_count": 2
  },
  {
   "metadata": {
    "ExecuteTime": {
     "end_time": "2024-12-15T21:38:22.830561Z",
     "start_time": "2024-12-15T21:38:22.811698Z"
    }
   },
   "cell_type": "code",
   "source": [
    "def f(x):\n",
    "    return -1*x**4 + 6*x**3 - 4*x**2 + 80\n",
    "\n",
    "res = optimize.minimize(lambda x: -f(x), x0=(10))\n",
    "round(f(res.x[0]))"
   ],
   "id": "fd04082948ec677d",
   "outputs": [
    {
     "data": {
      "text/plain": [
       "144"
      ]
     },
     "execution_count": 3,
     "metadata": {},
     "output_type": "execute_result"
    }
   ],
   "execution_count": 3
  },
  {
   "metadata": {
    "ExecuteTime": {
     "end_time": "2024-12-15T21:38:23.037723Z",
     "start_time": "2024-12-15T21:38:22.942705Z"
    }
   },
   "cell_type": "code",
   "source": [
    "x,y,l = sp.symbols('x, y, l')\n",
    "f = x**2 + 2*y**2\n",
    "fl = f + l*(x + y - 20)\n",
    "fdx = fl.diff(x)\n",
    "fdy = fl.diff(y)\n",
    "fdl = fl.diff(l)\n",
    "extr = sp.solve([sp.Eq(fdx,0), sp.Eq(fdy,0), sp.Eq(fdl, 0)], [x,y,l])\n",
    "print(extr)"
   ],
   "id": "fa9ff12abd354313",
   "outputs": [
    {
     "name": "stdout",
     "output_type": "stream",
     "text": [
      "{l: -80/3, x: 40/3, y: 20/3}\n"
     ]
    }
   ],
   "execution_count": 4
  },
  {
   "metadata": {
    "ExecuteTime": {
     "end_time": "2024-12-15T21:41:13.210004Z",
     "start_time": "2024-12-15T21:41:13.198742Z"
    }
   },
   "cell_type": "code",
   "source": "fl.subs({x: round(float(40/3)), y: round(float(20/3)), l:round(float(-80/3))})",
   "id": "998eef6f005360b1",
   "outputs": [
    {
     "data": {
      "text/plain": [
       "267"
      ],
      "text/latex": "$\\displaystyle 267$"
     },
     "execution_count": 12,
     "metadata": {},
     "output_type": "execute_result"
    }
   ],
   "execution_count": 12
  },
  {
   "metadata": {
    "ExecuteTime": {
     "end_time": "2024-12-15T21:38:23.336779Z",
     "start_time": "2024-12-15T21:38:23.223799Z"
    }
   },
   "cell_type": "code",
   "source": [
    "def f(x,y, l):\n",
    "    return x**2 + 2*y**2 - l*(x + y - 20)\n",
    "\n",
    "res = optimize.minimize(lambda x: f(*x), x0=(10, 10, 10))\n",
    "print(res)\n",
    "round(f(round(res.x[0]), round(res.x[1]), round(res.x[2])))"
   ],
   "id": "e8407e40175378df",
   "outputs": [
    {
     "name": "stdout",
     "output_type": "stream",
     "text": [
      "  message: Desired error not necessarily achieved due to precision loss.\n",
      "  success: False\n",
      "   status: 2\n",
      "      fun: -80730789.4791795\n",
      "        x: [-1.414e+04 -1.561e+04 -2.580e+04]\n",
      "      nit: 3\n",
      "      jac: [-2.488e+03 -3.665e+04  2.978e+04]\n",
      " hess_inv: [[ 7.636e-01  1.872e-01 -1.809e-01]\n",
      "            [ 1.872e-01  1.227e+00  1.002e+00]\n",
      "            [-1.809e-01  1.002e+00  3.513e-01]]\n",
      "     nfev: 224\n",
      "     njev: 53\n"
     ]
    },
    {
     "data": {
      "text/plain": [
       "-80726848"
      ]
     },
     "execution_count": 6,
     "metadata": {},
     "output_type": "execute_result"
    }
   ],
   "execution_count": 6
  }
 ],
 "metadata": {
  "kernelspec": {
   "display_name": "Python 3",
   "language": "python",
   "name": "python3"
  },
  "language_info": {
   "codemirror_mode": {
    "name": "ipython",
    "version": 2
   },
   "file_extension": ".py",
   "mimetype": "text/x-python",
   "name": "python",
   "nbconvert_exporter": "python",
   "pygments_lexer": "ipython2",
   "version": "2.7.6"
  }
 },
 "nbformat": 4,
 "nbformat_minor": 5
}
