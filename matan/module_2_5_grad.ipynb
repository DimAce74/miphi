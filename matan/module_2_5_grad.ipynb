{
 "cells": [
  {
   "cell_type": "code",
   "id": "initial_id",
   "metadata": {
    "collapsed": true,
    "ExecuteTime": {
     "end_time": "2024-12-07T22:04:18.420420Z",
     "start_time": "2024-12-07T22:04:17.290384Z"
    }
   },
   "source": [
    "import numpy as np\n",
    "from sympy import *"
   ],
   "outputs": [],
   "execution_count": 1
  },
  {
   "metadata": {
    "ExecuteTime": {
     "end_time": "2024-12-07T22:10:01.459371Z",
     "start_time": "2024-12-07T22:10:01.429790Z"
    }
   },
   "cell_type": "code",
   "source": [
    "a,b = symbols('a, b')\n",
    "f = (5 - a - 2*b)**2\n",
    "fda = f.diff(a)\n",
    "fdb = f.diff(b)\n",
    "np.array([fda, fdb])"
   ],
   "id": "802e02bd6f092147",
   "outputs": [
    {
     "data": {
      "text/plain": [
       "array([2*a + 4*b - 10, 4*a + 8*b - 20], dtype=object)"
      ]
     },
     "execution_count": 6,
     "metadata": {},
     "output_type": "execute_result"
    }
   ],
   "execution_count": 6
  },
  {
   "metadata": {
    "ExecuteTime": {
     "end_time": "2024-12-07T22:10:05.421539Z",
     "start_time": "2024-12-07T22:10:05.410472Z"
    }
   },
   "cell_type": "code",
   "source": [
    "M = {a:1, b:1}\n",
    "np.array([fda.subs(M), fdb.subs(M)])"
   ],
   "id": "6d88635d3cffe072",
   "outputs": [
    {
     "data": {
      "text/plain": [
       "array([-4, -8], dtype=object)"
      ]
     },
     "execution_count": 7,
     "metadata": {},
     "output_type": "execute_result"
    }
   ],
   "execution_count": 7
  },
  {
   "metadata": {
    "ExecuteTime": {
     "end_time": "2024-12-07T22:10:08.623465Z",
     "start_time": "2024-12-07T22:10:08.607420Z"
    }
   },
   "cell_type": "code",
   "source": "solve([fda, fdb], a, b)",
   "id": "a552ca631f2641fd",
   "outputs": [
    {
     "data": {
      "text/plain": [
       "{a: 5 - 2*b}"
      ]
     },
     "execution_count": 8,
     "metadata": {},
     "output_type": "execute_result"
    }
   ],
   "execution_count": 8
  },
  {
   "metadata": {
    "ExecuteTime": {
     "end_time": "2024-12-07T22:14:41.982209Z",
     "start_time": "2024-12-07T22:14:41.858640Z"
    }
   },
   "cell_type": "code",
   "source": [
    "w0, w1 = symbols('w0, w1')\n",
    "f = (2.1 - w0 - w1)**2 + (2.9 - w0 - 3*w1)**2 + (4.1 - w0 - 5*w1)**2\n",
    "fdw0 = f.diff(w0)\n",
    "fdw1 = f.diff(w1)\n",
    "print(fdw0, fdw1)\n",
    "solve([fdw0, fdw1], w0, w1)"
   ],
   "id": "dc86abd5ce836445",
   "outputs": [
    {
     "name": "stdout",
     "output_type": "stream",
     "text": [
      "6.0*w0 + 18.0*w1 - 18.2 18.0*w0 + 70.0*w1 - 62.6\n"
     ]
    },
    {
     "data": {
      "text/plain": [
       "{w0: 1.53333333333333, w1: 0.500000000000000}"
      ]
     },
     "execution_count": 9,
     "metadata": {},
     "output_type": "execute_result"
    }
   ],
   "execution_count": 9
  },
  {
   "metadata": {
    "ExecuteTime": {
     "end_time": "2024-12-07T22:16:48.525710Z",
     "start_time": "2024-12-07T22:16:48.516487Z"
    }
   },
   "cell_type": "code",
   "source": [
    "f = np.array([8, 2, 8, 3, 5, 6, 5, 15])\n",
    "fg = np.gradient(f, 7)\n",
    "fg[7]"
   ],
   "id": "c9cbfb69f3fdcafc",
   "outputs": [
    {
     "data": {
      "text/plain": [
       "1.4285714285714286"
      ]
     },
     "execution_count": 11,
     "metadata": {},
     "output_type": "execute_result"
    }
   ],
   "execution_count": 11
  },
  {
   "metadata": {
    "ExecuteTime": {
     "end_time": "2024-12-07T22:28:51.382870Z",
     "start_time": "2024-12-07T22:28:51.337493Z"
    }
   },
   "cell_type": "code",
   "source": [
    "x, y, z = symbols('x, y, z')\n",
    "f = 2*x**2 - 4*x*z + 4*y**2 - 8*y*z + 9*z**2 + 4*x + 8*y - 20*z\n",
    "fdx = f.diff(x)\n",
    "fdy = f.diff(y)\n",
    "fdz = f.diff(z)\n",
    "print(fdx, fdy, fdz)"
   ],
   "id": "4c24cd196922051c",
   "outputs": [
    {
     "name": "stdout",
     "output_type": "stream",
     "text": [
      "4*x - 4*z + 4 8*y - 8*z + 8 -4*x - 8*y + 18*z - 20\n"
     ]
    }
   ],
   "execution_count": 12
  },
  {
   "metadata": {
    "ExecuteTime": {
     "end_time": "2024-12-07T22:36:17.106391Z",
     "start_time": "2024-12-07T22:36:17.093337Z"
    }
   },
   "cell_type": "code",
   "source": [
    "curr = {x:0, y:0, z:0}\n",
    "curr_p = np.array([0,0,0])\n",
    "alpha = 0.25\n",
    "curr_grad = np.array([fdx.subs(curr), fdy.subs(curr), fdz.subs(curr)])\n",
    "curr_grad"
   ],
   "id": "507e415a9ce7bfa1",
   "outputs": [
    {
     "data": {
      "text/plain": [
       "array([4, 8, -20], dtype=object)"
      ]
     },
     "execution_count": 17,
     "metadata": {},
     "output_type": "execute_result"
    }
   ],
   "execution_count": 17
  },
  {
   "metadata": {
    "ExecuteTime": {
     "end_time": "2024-12-07T22:36:29.402352Z",
     "start_time": "2024-12-07T22:36:29.395347Z"
    }
   },
   "cell_type": "code",
   "source": [
    "new_point = curr_p - alpha * curr_grad\n",
    "new_point"
   ],
   "id": "830f83360fc72686",
   "outputs": [
    {
     "data": {
      "text/plain": [
       "array([-1.00000000000000, -2.00000000000000, 5.00000000000000],\n",
       "      dtype=object)"
      ]
     },
     "execution_count": 19,
     "metadata": {},
     "output_type": "execute_result"
    }
   ],
   "execution_count": 19
  }
 ],
 "metadata": {
  "kernelspec": {
   "display_name": "Python 3",
   "language": "python",
   "name": "python3"
  },
  "language_info": {
   "codemirror_mode": {
    "name": "ipython",
    "version": 2
   },
   "file_extension": ".py",
   "mimetype": "text/x-python",
   "name": "python",
   "nbconvert_exporter": "python",
   "pygments_lexer": "ipython2",
   "version": "2.7.6"
  }
 },
 "nbformat": 4,
 "nbformat_minor": 5
}
