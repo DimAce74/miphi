{
 "cells": [
  {
   "metadata": {
    "ExecuteTime": {
     "end_time": "2024-12-12T04:54:25.818655Z",
     "start_time": "2024-12-12T04:54:06.322959Z"
    }
   },
   "cell_type": "code",
   "source": "! pip install cvxpy",
   "id": "2d6db51154727de6",
   "outputs": [
    {
     "name": "stdout",
     "output_type": "stream",
     "text": [
      "Collecting cvxpy\n",
      "  Downloading cvxpy-1.6.0-cp312-cp312-win_amd64.whl.metadata (9.4 kB)\n",
      "Collecting osqp>=0.6.2 (from cvxpy)\n",
      "  Downloading osqp-0.6.7.post3-cp312-cp312-win_amd64.whl.metadata (2.0 kB)\n",
      "Collecting clarabel>=0.5.0 (from cvxpy)\n",
      "  Downloading clarabel-0.9.0-cp37-abi3-win_amd64.whl.metadata (4.8 kB)\n",
      "Collecting scs>=3.2.4.post1 (from cvxpy)\n",
      "  Downloading scs-3.2.7-cp312-cp312-win_amd64.whl.metadata (2.1 kB)\n",
      "Requirement already satisfied: numpy>=1.20 in c:\\users\\dimac\\anaconda3\\lib\\site-packages (from cvxpy) (1.26.4)\n",
      "Requirement already satisfied: scipy>=1.1.0 in c:\\users\\dimac\\anaconda3\\lib\\site-packages (from cvxpy) (1.13.1)\n",
      "Collecting qdldl (from osqp>=0.6.2->cvxpy)\n",
      "  Downloading qdldl-0.1.7.post4-cp312-cp312-win_amd64.whl.metadata (1.8 kB)\n",
      "Downloading cvxpy-1.6.0-cp312-cp312-win_amd64.whl (1.1 MB)\n",
      "   ---------------------------------------- 0.0/1.1 MB ? eta -:--:--\n",
      "   ---------------------------------------- 0.0/1.1 MB ? eta -:--:--\n",
      "   - -------------------------------------- 0.0/1.1 MB 330.3 kB/s eta 0:00:04\n",
      "   -- ------------------------------------- 0.1/1.1 MB 469.7 kB/s eta 0:00:03\n",
      "   ---- ----------------------------------- 0.1/1.1 MB 656.4 kB/s eta 0:00:02\n",
      "   -------- ------------------------------- 0.2/1.1 MB 1.1 MB/s eta 0:00:01\n",
      "   ------------ --------------------------- 0.3/1.1 MB 1.2 MB/s eta 0:00:01\n",
      "   ------------------ --------------------- 0.5/1.1 MB 1.7 MB/s eta 0:00:01\n",
      "   ------------------------------------ --- 1.0/1.1 MB 2.9 MB/s eta 0:00:01\n",
      "   ---------------------------------------  1.1/1.1 MB 2.7 MB/s eta 0:00:01\n",
      "   ---------------------------------------- 1.1/1.1 MB 2.6 MB/s eta 0:00:00\n",
      "Downloading clarabel-0.9.0-cp37-abi3-win_amd64.whl (736 kB)\n",
      "   ---------------------------------------- 0.0/736.4 kB ? eta -:--:--\n",
      "   --------------------------------------  727.0/736.4 kB 23.1 MB/s eta 0:00:01\n",
      "   --------------------------------------- 736.4/736.4 kB 15.5 MB/s eta 0:00:00\n",
      "Downloading osqp-0.6.7.post3-cp312-cp312-win_amd64.whl (293 kB)\n",
      "   ---------------------------------------- 0.0/293.2 kB ? eta -:--:--\n",
      "   --------------------------------------- 293.2/293.2 kB 17.7 MB/s eta 0:00:00\n",
      "Downloading scs-3.2.7-cp312-cp312-win_amd64.whl (8.4 MB)\n",
      "   ---------------------------------------- 0.0/8.4 MB ? eta -:--:--\n",
      "   ------- -------------------------------- 1.5/8.4 MB 47.6 MB/s eta 0:00:01\n",
      "   ---------- ----------------------------- 2.3/8.4 MB 29.4 MB/s eta 0:00:01\n",
      "   ------------------- -------------------- 4.1/8.4 MB 33.0 MB/s eta 0:00:01\n",
      "   ----------------------------- ---------- 6.1/8.4 MB 32.7 MB/s eta 0:00:01\n",
      "   ------------------------------ --------- 6.5/8.4 MB 34.9 MB/s eta 0:00:01\n",
      "   ------------------------------ --------- 6.5/8.4 MB 34.9 MB/s eta 0:00:01\n",
      "   ---------------------------------------  8.4/8.4 MB 27.0 MB/s eta 0:00:01\n",
      "   ---------------------------------------- 8.4/8.4 MB 24.5 MB/s eta 0:00:00\n",
      "Downloading qdldl-0.1.7.post4-cp312-cp312-win_amd64.whl (87 kB)\n",
      "   ---------------------------------------- 0.0/87.8 kB ? eta -:--:--\n",
      "   ---------------------------------------- 87.8/87.8 kB 4.8 MB/s eta 0:00:00\n",
      "Installing collected packages: scs, qdldl, clarabel, osqp, cvxpy\n",
      "Successfully installed clarabel-0.9.0 cvxpy-1.6.0 osqp-0.6.7.post3 qdldl-0.1.7.post4 scs-3.2.7\n"
     ]
    }
   ],
   "execution_count": 6
  },
  {
   "metadata": {
    "ExecuteTime": {
     "end_time": "2024-12-12T04:58:04.997221Z",
     "start_time": "2024-12-12T04:57:53.622908Z"
    }
   },
   "cell_type": "code",
   "source": "! pip install pulp",
   "id": "e0c3646db44a2c27",
   "outputs": [
    {
     "name": "stdout",
     "output_type": "stream",
     "text": [
      "Collecting pulp\n",
      "  Downloading PuLP-2.9.0-py3-none-any.whl.metadata (5.4 kB)\n",
      "Downloading PuLP-2.9.0-py3-none-any.whl (17.7 MB)\n",
      "   ---------------------------------------- 0.0/17.7 MB ? eta -:--:--\n",
      "   ---------------------------------------- 0.0/17.7 MB ? eta -:--:--\n",
      "   ---------------------------------------- 0.0/17.7 MB 222.6 kB/s eta 0:01:20\n",
      "   ---------------------------------------- 0.0/17.7 MB 262.6 kB/s eta 0:01:08\n",
      "   ---------------------------------------- 0.1/17.7 MB 393.8 kB/s eta 0:00:45\n",
      "   ---------------------------------------- 0.1/17.7 MB 554.9 kB/s eta 0:00:32\n",
      "    --------------------------------------- 0.2/17.7 MB 860.2 kB/s eta 0:00:21\n",
      "    --------------------------------------- 0.3/17.7 MB 864.9 kB/s eta 0:00:21\n",
      "   - -------------------------------------- 0.5/17.7 MB 1.5 MB/s eta 0:00:12\n",
      "   - -------------------------------------- 0.6/17.7 MB 1.6 MB/s eta 0:00:11\n",
      "   -- ------------------------------------- 1.1/17.7 MB 2.4 MB/s eta 0:00:07\n",
      "   --- ------------------------------------ 1.6/17.7 MB 3.2 MB/s eta 0:00:06\n",
      "   ---- ----------------------------------- 2.2/17.7 MB 4.1 MB/s eta 0:00:04\n",
      "   ------ --------------------------------- 2.9/17.7 MB 5.1 MB/s eta 0:00:03\n",
      "   ---------- ----------------------------- 4.5/17.7 MB 7.2 MB/s eta 0:00:02\n",
      "   ------------ --------------------------- 5.6/17.7 MB 8.4 MB/s eta 0:00:02\n",
      "   --------------- ------------------------ 6.8/17.7 MB 9.8 MB/s eta 0:00:02\n",
      "   --------------- ------------------------ 6.8/17.7 MB 9.8 MB/s eta 0:00:02\n",
      "   ------------------ --------------------- 8.0/17.7 MB 9.9 MB/s eta 0:00:01\n",
      "   ----------------------- ---------------- 10.3/17.7 MB 12.6 MB/s eta 0:00:01\n",
      "   ---------------------------- ----------- 12.7/17.7 MB 28.4 MB/s eta 0:00:01\n",
      "   ------------------------------ --------- 13.7/17.7 MB 28.4 MB/s eta 0:00:01\n",
      "   ---------------------------------- ----- 15.3/17.7 MB 29.7 MB/s eta 0:00:01\n",
      "   ---------------------------------- ----- 15.3/17.7 MB 29.7 MB/s eta 0:00:01\n",
      "   ----------------------------------- ---- 15.6/17.7 MB 24.2 MB/s eta 0:00:01\n",
      "   -------------------------------------- - 17.0/17.7 MB 31.1 MB/s eta 0:00:01\n",
      "   ---------------------------------------  17.2/17.7 MB 27.3 MB/s eta 0:00:01\n",
      "   ---------------------------------------  17.7/17.7 MB 25.2 MB/s eta 0:00:01\n",
      "   ---------------------------------------  17.7/17.7 MB 25.2 MB/s eta 0:00:01\n",
      "   ---------------------------------------- 17.7/17.7 MB 21.8 MB/s eta 0:00:00\n",
      "Installing collected packages: pulp\n",
      "Successfully installed pulp-2.9.0\n"
     ]
    }
   ],
   "execution_count": 9
  },
  {
   "cell_type": "code",
   "id": "initial_id",
   "metadata": {
    "collapsed": true,
    "ExecuteTime": {
     "end_time": "2024-12-12T04:58:10.647730Z",
     "start_time": "2024-12-12T04:58:10.484353Z"
    }
   },
   "source": [
    "import numpy as np\n",
    "from scipy.optimize import linprog\n",
    "import cvxpy\n",
    "from pulp import *"
   ],
   "outputs": [],
   "execution_count": 10
  },
  {
   "metadata": {
    "ExecuteTime": {
     "end_time": "2024-12-12T04:48:43.676486Z",
     "start_time": "2024-12-12T04:48:43.667485Z"
    }
   },
   "cell_type": "code",
   "source": [
    "values = [4, 2, 1, 7, 3, 6] #стоимости товаров\n",
    "weights = [5, 9, 8, 2, 6, 5] #вес товаров\n",
    "C = 15 #вместимость сумки\n",
    "n = 6 #количество товаров\n",
    "\n",
    "c = - np.array(values) #изменяем знак, чтобы перейти от задачи максимизации к задаче минимизации\n",
    "A = np.array(weights)  #конвертируем список с весами в массив\n",
    "A = np.expand_dims(A, 0) #преобразуем размерность массива\n",
    "b = np.array([C]) #конвертируем вместимость в массив"
   ],
   "id": "3771bfb6c910fe9f",
   "outputs": [],
   "execution_count": 2
  },
  {
   "metadata": {
    "ExecuteTime": {
     "end_time": "2024-12-12T04:51:51.531947Z",
     "start_time": "2024-12-12T04:51:51.520378Z"
    }
   },
   "cell_type": "code",
   "source": "linprog(c=c, A_ub=A, b_ub=b, method='highs')",
   "id": "c93fc79909fd021f",
   "outputs": [
    {
     "data": {
      "text/plain": [
       "        message: Optimization terminated successfully. (HiGHS Status 7: Optimal)\n",
       "        success: True\n",
       "         status: 0\n",
       "            fun: -52.5\n",
       "              x: [ 0.000e+00  0.000e+00  0.000e+00  7.500e+00  0.000e+00\n",
       "                   0.000e+00]\n",
       "            nit: 0\n",
       "          lower:  residual: [ 0.000e+00  0.000e+00  0.000e+00  7.500e+00\n",
       "                              0.000e+00  0.000e+00]\n",
       "                 marginals: [ 1.350e+01  2.950e+01  2.700e+01  0.000e+00\n",
       "                              1.800e+01  1.150e+01]\n",
       "          upper:  residual: [       inf        inf        inf        inf\n",
       "                                    inf        inf]\n",
       "                 marginals: [ 0.000e+00  0.000e+00  0.000e+00  0.000e+00\n",
       "                              0.000e+00  0.000e+00]\n",
       "          eqlin:  residual: []\n",
       "                 marginals: []\n",
       "        ineqlin:  residual: [ 0.000e+00]\n",
       "                 marginals: [-3.500e+00]\n",
       " mip_node_count: 0\n",
       " mip_dual_bound: 0.0\n",
       "        mip_gap: 0.0"
      ]
     },
     "execution_count": 4,
     "metadata": {},
     "output_type": "execute_result"
    }
   ],
   "execution_count": 4
  },
  {
   "metadata": {
    "ExecuteTime": {
     "end_time": "2024-12-12T04:55:35.696719Z",
     "start_time": "2024-12-12T04:55:35.628236Z"
    }
   },
   "cell_type": "code",
   "source": [
    "x = cvxpy.Variable(shape=n, integer=True)\n",
    "constraint = cvxpy.sum(cvxpy.multiply(A, x)) <= C\n",
    "x_positive = x >= 0\n",
    "total_value = cvxpy.sum(cvxpy.multiply(x, c))\n",
    "\n",
    "problem = cvxpy.Problem(\n",
    "    cvxpy.Minimize(total_value), constraints=[constraint, x_positive]\n",
    ")\n",
    "\n",
    "problem.solve()\n",
    "x.value"
   ],
   "id": "5aedf8cb305c0db9",
   "outputs": [
    {
     "data": {
      "text/plain": [
       "array([-0., -0., -0.,  7., -0.,  0.])"
      ]
     },
     "execution_count": 8,
     "metadata": {},
     "output_type": "execute_result"
    }
   ],
   "execution_count": 8
  },
  {
   "metadata": {
    "ExecuteTime": {
     "end_time": "2024-12-12T17:27:24.006051Z",
     "start_time": "2024-12-12T17:27:23.733788Z"
    }
   },
   "cell_type": "code",
   "source": [
    "problem = LpProblem('Производство машин', LpMaximize)\n",
    "A = LpVariable('Автомобиль A', lowBound=0 , cat=LpInteger)\n",
    "B = LpVariable('Автомобиль B', lowBound=0 , cat=LpInteger)\n",
    "#Целевая функция\n",
    "problem += 20000*A + 45000*B\n",
    "#Ограничения\n",
    "problem += 4*A + 5*B <= 30\n",
    "problem += 3*A + 6*B <=30\n",
    "problem += 2*A + 7*B <=30\n",
    "problem.solve()\n",
    "print(\"Количество автомобилей модели А:\", A.varValue)\n",
    "print(\"Количество автомобилей модели В:\", B.varValue)\n",
    "print(\"Суммарный доход: \", value(problem.objective))\n",
    "#Количество автомобилей модели А:  1.0\n",
    "#Количество автомобилей модели В:  4.0\n",
    "#Суммарный доход:  200000.0"
   ],
   "id": "5929f45e2bce7ca",
   "outputs": [
    {
     "name": "stdout",
     "output_type": "stream",
     "text": [
      "Количество автомобилей модели А: 1.0\n",
      "Количество автомобилей модели В: 4.0\n",
      "Суммарный доход:  200000.0\n"
     ]
    }
   ],
   "execution_count": 12
  }
 ],
 "metadata": {
  "kernelspec": {
   "display_name": "Python 3",
   "language": "python",
   "name": "python3"
  },
  "language_info": {
   "codemirror_mode": {
    "name": "ipython",
    "version": 2
   },
   "file_extension": ".py",
   "mimetype": "text/x-python",
   "name": "python",
   "nbconvert_exporter": "python",
   "pygments_lexer": "ipython2",
   "version": "2.7.6"
  }
 },
 "nbformat": 4,
 "nbformat_minor": 5
}
