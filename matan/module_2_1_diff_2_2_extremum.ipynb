{
 "cells": [
  {
   "cell_type": "code",
   "id": "initial_id",
   "metadata": {
    "collapsed": true,
    "ExecuteTime": {
     "end_time": "2024-12-07T10:03:42.317905Z",
     "start_time": "2024-12-07T10:03:42.291089Z"
    }
   },
   "source": [
    "import numpy as np\n",
    "from sympy import *  # импортируем нужные функции для обозначения переменных\n",
    "from sympy.calculus.util import function_range #импортируем функцию для поиска области значения\n",
    "from sympy.calculus.util import continuous_domain #импортируем функцию для поиска области определения\n",
    "from sympy.codegen.ast import float64\n",
    "\n",
    "x = Symbol(\"x\") #определяем нашу переменную\n",
    "f = 1/x #определяем нашу функцию\n",
    "continuous_domain(f, x, S.Reals) #вычисляем область определения"
   ],
   "outputs": [
    {
     "data": {
      "text/plain": [
       "Union(Interval.open(-oo, 0), Interval.open(0, oo))"
      ],
      "text/latex": "$\\displaystyle \\left(-\\infty, 0\\right) \\cup \\left(0, \\infty\\right)$"
     },
     "execution_count": 138,
     "metadata": {},
     "output_type": "execute_result"
    }
   ],
   "execution_count": 138
  },
  {
   "metadata": {
    "ExecuteTime": {
     "end_time": "2024-12-07T08:03:33.291467Z",
     "start_time": "2024-12-07T08:03:33.229973Z"
    }
   },
   "cell_type": "code",
   "source": [
    "from sympy import log\n",
    "x = Symbol(\"x\")\n",
    "f = log(x)/x\n",
    "continuous_domain(f, x, S.Reals)"
   ],
   "id": "9c656e2d27bd3e2e",
   "outputs": [
    {
     "data": {
      "text/plain": [
       "Interval.open(0, oo)"
      ],
      "text/latex": "$\\displaystyle \\left(0, \\infty\\right)$"
     },
     "execution_count": 57,
     "metadata": {},
     "output_type": "execute_result"
    }
   ],
   "execution_count": 57
  },
  {
   "metadata": {
    "ExecuteTime": {
     "end_time": "2024-12-07T08:03:33.547680Z",
     "start_time": "2024-12-07T08:03:33.389759Z"
    }
   },
   "cell_type": "code",
   "source": [
    "from sympy import Symbol, S, sin #импортируем нужные функции для обозначения переменных\n",
    "from sympy.calculus.util import function_range #импортируем функцию для поиска области значений\n",
    "x = Symbol(\"x\")\n",
    "f = sin(x)\n",
    "function_range(f, x, S.Reals)"
   ],
   "id": "ecbd7b1b69b38c8f",
   "outputs": [
    {
     "data": {
      "text/plain": [
       "Interval(-1, 1)"
      ],
      "text/latex": "$\\displaystyle \\left[-1, 1\\right]$"
     },
     "execution_count": 58,
     "metadata": {},
     "output_type": "execute_result"
    }
   ],
   "execution_count": 58
  },
  {
   "metadata": {
    "ExecuteTime": {
     "end_time": "2024-12-07T08:03:33.935913Z",
     "start_time": "2024-12-07T08:03:33.822661Z"
    }
   },
   "cell_type": "code",
   "source": [
    "from sympy import Symbol, S #импортируем нужные функции для обозначения переменных\n",
    "from sympy.calculus.util import function_range #импортируем функцию для поиска области значений\n",
    "from sympy import exp #добавляем функцию для вычисления экспоненциальной функции\n",
    "x = Symbol(\"x\")\n",
    "f = (x*x-3)/(exp(x))\n",
    "function_range(f, x, S.Reals)"
   ],
   "id": "873d7b2a45b45227",
   "outputs": [
    {
     "data": {
      "text/plain": [
       "Interval(-2*E, oo)"
      ],
      "text/latex": "$\\displaystyle \\left[- 2 e, \\infty\\right)$"
     },
     "execution_count": 59,
     "metadata": {},
     "output_type": "execute_result"
    }
   ],
   "execution_count": 59
  },
  {
   "metadata": {
    "ExecuteTime": {
     "end_time": "2024-12-07T08:03:34.123803Z",
     "start_time": "2024-12-07T08:03:34.113793Z"
    }
   },
   "cell_type": "code",
   "source": [
    "x = Symbol(\"x\")\n",
    "f = x*x+5*x+4\n",
    "f.subs(x, 0)"
   ],
   "id": "484279dbf707880",
   "outputs": [
    {
     "data": {
      "text/plain": [
       "4"
      ],
      "text/latex": "$\\displaystyle 4$"
     },
     "execution_count": 60,
     "metadata": {},
     "output_type": "execute_result"
    }
   ],
   "execution_count": 60
  },
  {
   "metadata": {
    "ExecuteTime": {
     "end_time": "2024-12-07T08:03:34.357202Z",
     "start_time": "2024-12-07T08:03:34.321723Z"
    }
   },
   "cell_type": "code",
   "source": [
    "from sympy import solveset, Eq\n",
    "solveset(Eq(x*x+5*x+4, 0), x)"
   ],
   "id": "ce478b6d1f9f0ed1",
   "outputs": [
    {
     "data": {
      "text/plain": [
       "{-4, -1}"
      ],
      "text/latex": "$\\displaystyle \\left\\{-4, -1\\right\\}$"
     },
     "execution_count": 61,
     "metadata": {},
     "output_type": "execute_result"
    }
   ],
   "execution_count": 61
  },
  {
   "metadata": {
    "ExecuteTime": {
     "end_time": "2024-12-07T08:03:34.656559Z",
     "start_time": "2024-12-07T08:03:34.621541Z"
    }
   },
   "cell_type": "code",
   "source": "solveset(Eq(x*x+2*x-8, 0), x)",
   "id": "766615c0c89cd172",
   "outputs": [
    {
     "data": {
      "text/plain": [
       "{-4, 2}"
      ],
      "text/latex": "$\\displaystyle \\left\\{-4, 2\\right\\}$"
     },
     "execution_count": 62,
     "metadata": {},
     "output_type": "execute_result"
    }
   ],
   "execution_count": 62
  },
  {
   "metadata": {
    "ExecuteTime": {
     "end_time": "2024-12-07T08:03:35.007513Z",
     "start_time": "2024-12-07T08:03:34.802763Z"
    }
   },
   "cell_type": "code",
   "source": [
    "x = Symbol(\"x\")\n",
    "f = 3 / (x*x-10)\n",
    "function_range(f, x, S.Reals)"
   ],
   "id": "a333b5964d1fa968",
   "outputs": [
    {
     "data": {
      "text/plain": [
       "Union(Interval(-oo, -3/10), Interval.open(0, oo))"
      ],
      "text/latex": "$\\displaystyle \\left(-\\infty, - \\frac{3}{10}\\right] \\cup \\left(0, \\infty\\right)$"
     },
     "execution_count": 63,
     "metadata": {},
     "output_type": "execute_result"
    }
   ],
   "execution_count": 63
  },
  {
   "metadata": {
    "ExecuteTime": {
     "end_time": "2024-12-07T08:03:35.145908Z",
     "start_time": "2024-12-07T08:03:35.136691Z"
    }
   },
   "cell_type": "code",
   "source": "24/15",
   "id": "5dfa33a4e744d833",
   "outputs": [
    {
     "data": {
      "text/plain": [
       "1.6"
      ]
     },
     "execution_count": 64,
     "metadata": {},
     "output_type": "execute_result"
    }
   ],
   "execution_count": 64
  },
  {
   "metadata": {
    "ExecuteTime": {
     "end_time": "2024-12-07T08:03:35.319448Z",
     "start_time": "2024-12-07T08:03:35.307593Z"
    }
   },
   "cell_type": "code",
   "source": [
    "import sympy\n",
    "x = sympy.Symbol(\"x\")\n",
    "expr = x**4 + 3*x**3 + 4*x**2 + 8\n",
    "expr.diff(x)"
   ],
   "id": "3d6735aa283494c2",
   "outputs": [
    {
     "data": {
      "text/plain": [
       "4*x**3 + 9*x**2 + 8*x"
      ],
      "text/latex": "$\\displaystyle 4 x^{3} + 9 x^{2} + 8 x$"
     },
     "execution_count": 65,
     "metadata": {},
     "output_type": "execute_result"
    }
   ],
   "execution_count": 65
  },
  {
   "metadata": {
    "ExecuteTime": {
     "end_time": "2024-12-07T08:03:35.534645Z",
     "start_time": "2024-12-07T08:03:35.521777Z"
    }
   },
   "cell_type": "code",
   "source": [
    "from sympy import diff, sin, exp, log, Symbol\n",
    "x = sympy.Symbol(\"x\")\n",
    "expr = log(x**2 + 5*x) + exp(sin(x))\n",
    "expr.diff(x)"
   ],
   "id": "3160b65c20e7aafa",
   "outputs": [
    {
     "data": {
      "text/plain": [
       "(2*x + 5)/(x**2 + 5*x) + exp(sin(x))*cos(x)"
      ],
      "text/latex": "$\\displaystyle \\frac{2 x + 5}{x^{2} + 5 x} + e^{\\sin{\\left(x \\right)}} \\cos{\\left(x \\right)}$"
     },
     "execution_count": 66,
     "metadata": {},
     "output_type": "execute_result"
    }
   ],
   "execution_count": 66
  },
  {
   "metadata": {
    "ExecuteTime": {
     "end_time": "2024-12-07T08:03:35.825960Z",
     "start_time": "2024-12-07T08:03:35.813612Z"
    }
   },
   "cell_type": "code",
   "source": [
    "x = sympy.Symbol(\"x\")\n",
    "expr = sin(x*3 + log(x))*exp((x))\n",
    "expr.diff(x)"
   ],
   "id": "f26f3bb6fb1ff709",
   "outputs": [
    {
     "data": {
      "text/plain": [
       "(3 + 1/x)*exp(x)*cos(3*x + log(x)) + exp(x)*sin(3*x + log(x))"
      ],
      "text/latex": "$\\displaystyle \\left(3 + \\frac{1}{x}\\right) e^{x} \\cos{\\left(3 x + \\log{\\left(x \\right)} \\right)} + e^{x} \\sin{\\left(3 x + \\log{\\left(x \\right)} \\right)}$"
     },
     "execution_count": 67,
     "metadata": {},
     "output_type": "execute_result"
    }
   ],
   "execution_count": 67
  },
  {
   "metadata": {
    "ExecuteTime": {
     "end_time": "2024-12-07T08:03:36.036032Z",
     "start_time": "2024-12-07T08:03:36.012488Z"
    }
   },
   "cell_type": "code",
   "source": [
    "x = sympy.Symbol(\"x\")\n",
    "expr = log(x**2 + 5*x) + exp(sin(x))\n",
    "expr.diff(x,2)"
   ],
   "id": "84dddb76b4fa4d7b",
   "outputs": [
    {
     "data": {
      "text/plain": [
       "-exp(sin(x))*sin(x) + exp(sin(x))*cos(x)**2 + 2/(x*(x + 5)) - (2*x + 5)**2/(x**2*(x + 5)**2)"
      ],
      "text/latex": "$\\displaystyle - e^{\\sin{\\left(x \\right)}} \\sin{\\left(x \\right)} + e^{\\sin{\\left(x \\right)}} \\cos^{2}{\\left(x \\right)} + \\frac{2}{x \\left(x + 5\\right)} - \\frac{\\left(2 x + 5\\right)^{2}}{x^{2} \\left(x + 5\\right)^{2}}$"
     },
     "execution_count": 68,
     "metadata": {},
     "output_type": "execute_result"
    }
   ],
   "execution_count": 68
  },
  {
   "metadata": {
    "ExecuteTime": {
     "end_time": "2024-12-07T08:03:36.333666Z",
     "start_time": "2024-12-07T08:03:36.319022Z"
    }
   },
   "cell_type": "code",
   "source": [
    "expr = x / x**2 + 1\n",
    "expr.diff(x,2)"
   ],
   "id": "aebf6596406ca399",
   "outputs": [
    {
     "data": {
      "text/plain": [
       "2/x**3"
      ],
      "text/latex": "$\\displaystyle \\frac{2}{x^{3}}$"
     },
     "execution_count": 69,
     "metadata": {},
     "output_type": "execute_result"
    }
   ],
   "execution_count": 69
  },
  {
   "metadata": {
    "ExecuteTime": {
     "end_time": "2024-12-07T08:03:36.546498Z",
     "start_time": "2024-12-07T08:03:36.530563Z"
    }
   },
   "cell_type": "code",
   "source": [
    "from sympy import Symbol, S\n",
    "from sympy.calculus.util import continuous_domain\n",
    "x = Symbol(\"x\")\n",
    "f = (x**3)/(x**2-1)\n",
    "continuous_domain(f, x, S.Reals)"
   ],
   "id": "a27321356b8ef68c",
   "outputs": [
    {
     "data": {
      "text/plain": [
       "Union(Interval.open(-oo, -1), Interval.open(-1, 1), Interval.open(1, oo))"
      ],
      "text/latex": "$\\displaystyle \\left(-\\infty, -1\\right) \\cup \\left(-1, 1\\right) \\cup \\left(1, \\infty\\right)$"
     },
     "execution_count": 70,
     "metadata": {},
     "output_type": "execute_result"
    }
   ],
   "execution_count": 70
  },
  {
   "metadata": {
    "ExecuteTime": {
     "end_time": "2024-12-07T08:03:37.229532Z",
     "start_time": "2024-12-07T08:03:36.773782Z"
    }
   },
   "cell_type": "code",
   "source": [
    "from sympy import Symbol, S\n",
    "from sympy.calculus.util import function_range\n",
    "x = Symbol(\"x\")\n",
    "f = (x**3)/(x**2-1)\n",
    "function_range(f, x, S.Reals)"
   ],
   "id": "6c122867177324d0",
   "outputs": [
    {
     "data": {
      "text/plain": [
       "Interval(-oo, oo)"
      ],
      "text/latex": "$\\displaystyle \\left(-\\infty, \\infty\\right)$"
     },
     "execution_count": 71,
     "metadata": {},
     "output_type": "execute_result"
    }
   ],
   "execution_count": 71
  },
  {
   "metadata": {
    "ExecuteTime": {
     "end_time": "2024-12-07T08:03:37.294818Z",
     "start_time": "2024-12-07T08:03:37.262604Z"
    }
   },
   "cell_type": "code",
   "source": [
    "from sympy import solveset, Eq\n",
    "f = (x**3)/(x**2-1)\n",
    "solveset(Eq(f, 0), x)"
   ],
   "id": "9769885682390e8e",
   "outputs": [
    {
     "data": {
      "text/plain": [
       "{0}"
      ],
      "text/latex": "$\\displaystyle \\left\\{0\\right\\}$"
     },
     "execution_count": 72,
     "metadata": {},
     "output_type": "execute_result"
    }
   ],
   "execution_count": 72
  },
  {
   "metadata": {
    "ExecuteTime": {
     "end_time": "2024-12-07T08:03:37.434026Z",
     "start_time": "2024-12-07T08:03:37.423601Z"
    }
   },
   "cell_type": "code",
   "source": [
    "x = Symbol(\"x\")\n",
    "f = (x**3)/(x**2-1)\n",
    "f.subs(x, 0)"
   ],
   "id": "e2316eb97d34df78",
   "outputs": [
    {
     "data": {
      "text/plain": [
       "0"
      ],
      "text/latex": "$\\displaystyle 0$"
     },
     "execution_count": 73,
     "metadata": {},
     "output_type": "execute_result"
    }
   ],
   "execution_count": 73
  },
  {
   "metadata": {
    "ExecuteTime": {
     "end_time": "2024-12-07T08:03:37.699857Z",
     "start_time": "2024-12-07T08:03:37.687409Z"
    }
   },
   "cell_type": "code",
   "source": [
    "import sympy\n",
    "from sympy import diff\n",
    "x = sympy.Symbol(\"x\")\n",
    "expr = (x**3)/(x**2-1)\n",
    "expr.diff(x)"
   ],
   "id": "e64f2d33f74b1edf",
   "outputs": [
    {
     "data": {
      "text/plain": [
       "-2*x**4/(x**2 - 1)**2 + 3*x**2/(x**2 - 1)"
      ],
      "text/latex": "$\\displaystyle - \\frac{2 x^{4}}{\\left(x^{2} - 1\\right)^{2}} + \\frac{3 x^{2}}{x^{2} - 1}$"
     },
     "execution_count": 74,
     "metadata": {},
     "output_type": "execute_result"
    }
   ],
   "execution_count": 74
  },
  {
   "metadata": {
    "ExecuteTime": {
     "end_time": "2024-12-07T08:03:37.920633Z",
     "start_time": "2024-12-07T08:03:37.826490Z"
    }
   },
   "cell_type": "code",
   "source": [
    "y = expr.diff(x)\n",
    "solveset(Eq(y, 0), x)"
   ],
   "id": "d885188beb082783",
   "outputs": [
    {
     "data": {
      "text/plain": [
       "{0, -sqrt(3), sqrt(3)}"
      ],
      "text/latex": "$\\displaystyle \\left\\{0, - \\sqrt{3}, \\sqrt{3}\\right\\}$"
     },
     "execution_count": 75,
     "metadata": {},
     "output_type": "execute_result"
    }
   ],
   "execution_count": 75
  },
  {
   "metadata": {
    "ExecuteTime": {
     "end_time": "2024-12-07T08:03:38.061541Z",
     "start_time": "2024-12-07T08:03:38.041370Z"
    }
   },
   "cell_type": "code",
   "source": [
    "import sympy\n",
    "from sympy import diff\n",
    "x = sympy.Symbol(\"x\")\n",
    "expr = (x**3)/(x**2-1)\n",
    "expr.diff(x,2)"
   ],
   "id": "ff96be29428d0892",
   "outputs": [
    {
     "data": {
      "text/plain": [
       "2*x*(x**2*(4*x**2/(x**2 - 1) - 1)/(x**2 - 1) - 6*x**2/(x**2 - 1) + 3)/(x**2 - 1)"
      ],
      "text/latex": "$\\displaystyle \\frac{2 x \\left(\\frac{x^{2} \\cdot \\left(\\frac{4 x^{2}}{x^{2} - 1} - 1\\right)}{x^{2} - 1} - \\frac{6 x^{2}}{x^{2} - 1} + 3\\right)}{x^{2} - 1}$"
     },
     "execution_count": 76,
     "metadata": {},
     "output_type": "execute_result"
    }
   ],
   "execution_count": 76
  },
  {
   "metadata": {
    "ExecuteTime": {
     "end_time": "2024-12-07T08:03:38.183079Z",
     "start_time": "2024-12-07T08:03:38.169483Z"
    }
   },
   "cell_type": "code",
   "source": [
    "from sympy import Symbol, limit, oo\n",
    "x = Symbol(\"x\")\n",
    "f = (x**3)/(x**2-1)\n",
    "limit(f,x,oo)"
   ],
   "id": "ca41e31dce4fff7e",
   "outputs": [
    {
     "data": {
      "text/plain": [
       "oo"
      ],
      "text/latex": "$\\displaystyle \\infty$"
     },
     "execution_count": 77,
     "metadata": {},
     "output_type": "execute_result"
    }
   ],
   "execution_count": 77
  },
  {
   "metadata": {
    "ExecuteTime": {
     "end_time": "2024-12-07T08:03:38.437378Z",
     "start_time": "2024-12-07T08:03:38.428380Z"
    }
   },
   "cell_type": "code",
   "source": [
    "from sympy import Symbol, limit, oo\n",
    "x = Symbol(\"x\")\n",
    "f = (x**3)/(x**2-1)\n",
    "limit(f,x,1)"
   ],
   "id": "880feb9ae37d463b",
   "outputs": [
    {
     "data": {
      "text/plain": [
       "oo"
      ],
      "text/latex": "$\\displaystyle \\infty$"
     },
     "execution_count": 78,
     "metadata": {},
     "output_type": "execute_result"
    }
   ],
   "execution_count": 78
  },
  {
   "metadata": {
    "ExecuteTime": {
     "end_time": "2024-12-07T08:03:38.614631Z",
     "start_time": "2024-12-07T08:03:38.601632Z"
    }
   },
   "cell_type": "code",
   "source": [
    "from sympy import Symbol, limit, oo\n",
    "x = Symbol(\"x\")\n",
    "f = (x**3)/(x**2-1)\n",
    "limit(f,x,-1)"
   ],
   "id": "159862eaf5e6eb5",
   "outputs": [
    {
     "data": {
      "text/plain": [
       "oo"
      ],
      "text/latex": "$\\displaystyle \\infty$"
     },
     "execution_count": 79,
     "metadata": {},
     "output_type": "execute_result"
    }
   ],
   "execution_count": 79
  },
  {
   "metadata": {
    "ExecuteTime": {
     "end_time": "2024-12-07T08:03:38.833415Z",
     "start_time": "2024-12-07T08:03:38.820409Z"
    }
   },
   "cell_type": "code",
   "source": [
    "from sympy import Symbol, limit, oo\n",
    "x = Symbol(\"x\")\n",
    "f = (x**3)/((x**2-1)*x)\n",
    "limit(f,x,oo)"
   ],
   "id": "a001308d74e1f51",
   "outputs": [
    {
     "data": {
      "text/plain": [
       "1"
      ],
      "text/latex": "$\\displaystyle 1$"
     },
     "execution_count": 80,
     "metadata": {},
     "output_type": "execute_result"
    }
   ],
   "execution_count": 80
  },
  {
   "metadata": {
    "ExecuteTime": {
     "end_time": "2024-12-07T08:03:38.984746Z",
     "start_time": "2024-12-07T08:03:38.975154Z"
    }
   },
   "cell_type": "code",
   "source": [
    "from sympy import Symbol, limit, oo\n",
    "x = Symbol(\"x\")\n",
    "f = (x**3)/((x**2-1)) - 1*x\n",
    "limit(f,x,oo)"
   ],
   "id": "6b5abd7c6ed688d6",
   "outputs": [
    {
     "data": {
      "text/plain": [
       "0"
      ],
      "text/latex": "$\\displaystyle 0$"
     },
     "execution_count": 81,
     "metadata": {},
     "output_type": "execute_result"
    }
   ],
   "execution_count": 81
  },
  {
   "metadata": {},
   "cell_type": "markdown",
   "source": "# Задание 8",
   "id": "4d7d47826cf37e54"
  },
  {
   "metadata": {
    "ExecuteTime": {
     "end_time": "2024-12-07T08:03:39.098411Z",
     "start_time": "2024-12-07T08:03:39.083400Z"
    }
   },
   "cell_type": "code",
   "source": [
    "x = Symbol(\"x\")\n",
    "f = (x**3)/(2*((x+5)**2))\n",
    "continuous_domain(f, x, S.Reals)"
   ],
   "id": "1da5eafab497ff86",
   "outputs": [
    {
     "data": {
      "text/plain": [
       "Union(Interval.open(-oo, -5), Interval.open(-5, oo))"
      ],
      "text/latex": "$\\displaystyle \\left(-\\infty, -5\\right) \\cup \\left(-5, \\infty\\right)$"
     },
     "execution_count": 82,
     "metadata": {},
     "output_type": "execute_result"
    }
   ],
   "execution_count": 82
  },
  {
   "metadata": {
    "ExecuteTime": {
     "end_time": "2024-12-07T08:03:39.532215Z",
     "start_time": "2024-12-07T08:03:39.229596Z"
    }
   },
   "cell_type": "code",
   "source": "function_range(f, x, S.Reals)",
   "id": "5bb57cffa14848c5",
   "outputs": [
    {
     "data": {
      "text/plain": [
       "Interval(-oo, oo)"
      ],
      "text/latex": "$\\displaystyle \\left(-\\infty, \\infty\\right)$"
     },
     "execution_count": 83,
     "metadata": {},
     "output_type": "execute_result"
    }
   ],
   "execution_count": 83
  },
  {
   "metadata": {
    "ExecuteTime": {
     "end_time": "2024-12-07T08:03:39.606583Z",
     "start_time": "2024-12-07T08:03:39.563309Z"
    }
   },
   "cell_type": "code",
   "source": "solveset(Eq(f, 0), x)",
   "id": "eab41a061104f92b",
   "outputs": [
    {
     "data": {
      "text/plain": [
       "{0}"
      ],
      "text/latex": "$\\displaystyle \\left\\{0\\right\\}$"
     },
     "execution_count": 84,
     "metadata": {},
     "output_type": "execute_result"
    }
   ],
   "execution_count": 84
  },
  {
   "metadata": {
    "ExecuteTime": {
     "end_time": "2024-12-07T08:03:39.679086Z",
     "start_time": "2024-12-07T08:03:39.668626Z"
    }
   },
   "cell_type": "code",
   "source": "f.subs(x, 0)",
   "id": "e3c622328fa9a126",
   "outputs": [
    {
     "data": {
      "text/plain": [
       "0"
      ],
      "text/latex": "$\\displaystyle 0$"
     },
     "execution_count": 85,
     "metadata": {},
     "output_type": "execute_result"
    }
   ],
   "execution_count": 85
  },
  {
   "metadata": {
    "ExecuteTime": {
     "end_time": "2024-12-07T08:03:39.801563Z",
     "start_time": "2024-12-07T08:03:39.790559Z"
    }
   },
   "cell_type": "code",
   "source": [
    "fd = f.diff(x)\n",
    "fd"
   ],
   "id": "ee602b8e9b8f03f6",
   "outputs": [
    {
     "data": {
      "text/plain": [
       "-x**3/(x + 5)**3 + 3*x**2/(2*(x + 5)**2)"
      ],
      "text/latex": "$\\displaystyle - \\frac{x^{3}}{\\left(x + 5\\right)^{3}} + \\frac{3 x^{2}}{2 \\left(x + 5\\right)^{2}}$"
     },
     "execution_count": 86,
     "metadata": {},
     "output_type": "execute_result"
    }
   ],
   "execution_count": 86
  },
  {
   "metadata": {
    "ExecuteTime": {
     "end_time": "2024-12-07T08:03:40.045858Z",
     "start_time": "2024-12-07T08:03:39.913335Z"
    }
   },
   "cell_type": "code",
   "source": "solveset(Eq(fd, 0), x)",
   "id": "25f2ab4ef498b960",
   "outputs": [
    {
     "data": {
      "text/plain": [
       "{-15, 0}"
      ],
      "text/latex": "$\\displaystyle \\left\\{-15, 0\\right\\}$"
     },
     "execution_count": 87,
     "metadata": {},
     "output_type": "execute_result"
    }
   ],
   "execution_count": 87
  },
  {
   "metadata": {
    "ExecuteTime": {
     "end_time": "2024-12-07T08:03:40.200141Z",
     "start_time": "2024-12-07T08:03:40.189617Z"
    }
   },
   "cell_type": "code",
   "source": "fd.subs(x, -20)",
   "id": "19841303baeffcde",
   "outputs": [
    {
     "data": {
      "text/plain": [
       "8/27"
      ],
      "text/latex": "$\\displaystyle \\frac{8}{27}$"
     },
     "execution_count": 88,
     "metadata": {},
     "output_type": "execute_result"
    }
   ],
   "execution_count": 88
  },
  {
   "metadata": {
    "ExecuteTime": {
     "end_time": "2024-12-07T08:03:40.318442Z",
     "start_time": "2024-12-07T08:03:40.308439Z"
    }
   },
   "cell_type": "code",
   "source": "fd.subs(x, -10)",
   "id": "ebf7226cf3e2503a",
   "outputs": [
    {
     "data": {
      "text/plain": [
       "-2"
      ],
      "text/latex": "$\\displaystyle -2$"
     },
     "execution_count": 89,
     "metadata": {},
     "output_type": "execute_result"
    }
   ],
   "execution_count": 89
  },
  {
   "metadata": {
    "ExecuteTime": {
     "end_time": "2024-12-07T08:03:40.473109Z",
     "start_time": "2024-12-07T08:03:40.463593Z"
    }
   },
   "cell_type": "code",
   "source": "fd.subs(x, -0.5)",
   "id": "3b1e20d54d0759db",
   "outputs": [
    {
     "data": {
      "text/plain": [
       "0.0198902606310014"
      ],
      "text/latex": "$\\displaystyle 0.0198902606310014$"
     },
     "execution_count": 90,
     "metadata": {},
     "output_type": "execute_result"
    }
   ],
   "execution_count": 90
  },
  {
   "metadata": {
    "ExecuteTime": {
     "end_time": "2024-12-07T08:03:40.589679Z",
     "start_time": "2024-12-07T08:03:40.580125Z"
    }
   },
   "cell_type": "code",
   "source": "fd.subs(x, 2)",
   "id": "4262082102e8d56b",
   "outputs": [
    {
     "data": {
      "text/plain": [
       "34/343"
      ],
      "text/latex": "$\\displaystyle \\frac{34}{343}$"
     },
     "execution_count": 91,
     "metadata": {},
     "output_type": "execute_result"
    }
   ],
   "execution_count": 91
  },
  {
   "metadata": {
    "ExecuteTime": {
     "end_time": "2024-12-07T08:03:40.707580Z",
     "start_time": "2024-12-07T08:03:40.694298Z"
    }
   },
   "cell_type": "code",
   "source": [
    "fdd = fd.diff(x)\n",
    "fdd"
   ],
   "id": "c1ad063e88dc611d",
   "outputs": [
    {
     "data": {
      "text/plain": [
       "3*x**3/(x + 5)**4 - 6*x**2/(x + 5)**3 + 3*x/(x + 5)**2"
      ],
      "text/latex": "$\\displaystyle \\frac{3 x^{3}}{\\left(x + 5\\right)^{4}} - \\frac{6 x^{2}}{\\left(x + 5\\right)^{3}} + \\frac{3 x}{\\left(x + 5\\right)^{2}}$"
     },
     "execution_count": 92,
     "metadata": {},
     "output_type": "execute_result"
    }
   ],
   "execution_count": 92
  },
  {
   "metadata": {
    "ExecuteTime": {
     "end_time": "2024-12-07T08:03:41.043727Z",
     "start_time": "2024-12-07T08:03:40.893492Z"
    }
   },
   "cell_type": "code",
   "source": "solveset(Eq(fdd, 0), x)",
   "id": "4fe6bf2d62ffac6c",
   "outputs": [
    {
     "data": {
      "text/plain": [
       "{0}"
      ],
      "text/latex": "$\\displaystyle \\left\\{0\\right\\}$"
     },
     "execution_count": 93,
     "metadata": {},
     "output_type": "execute_result"
    }
   ],
   "execution_count": 93
  },
  {
   "metadata": {
    "ExecuteTime": {
     "end_time": "2024-12-07T08:03:41.084249Z",
     "start_time": "2024-12-07T08:03:41.072561Z"
    }
   },
   "cell_type": "code",
   "source": "fdd.subs(x, -10)",
   "id": "3ed04331870ec597",
   "outputs": [
    {
     "data": {
      "text/plain": [
       "-6/5"
      ],
      "text/latex": "$\\displaystyle - \\frac{6}{5}$"
     },
     "execution_count": 94,
     "metadata": {},
     "output_type": "execute_result"
    }
   ],
   "execution_count": 94
  },
  {
   "metadata": {
    "ExecuteTime": {
     "end_time": "2024-12-07T08:03:41.186905Z",
     "start_time": "2024-12-07T08:03:41.174668Z"
    }
   },
   "cell_type": "code",
   "source": "fdd.subs(x, -2)",
   "id": "5c4659b242cdadf3",
   "outputs": [
    {
     "data": {
      "text/plain": [
       "-50/27"
      ],
      "text/latex": "$\\displaystyle - \\frac{50}{27}$"
     },
     "execution_count": 95,
     "metadata": {},
     "output_type": "execute_result"
    }
   ],
   "execution_count": 95
  },
  {
   "metadata": {
    "ExecuteTime": {
     "end_time": "2024-12-07T08:03:41.280048Z",
     "start_time": "2024-12-07T08:03:41.268292Z"
    }
   },
   "cell_type": "code",
   "source": "fdd.subs(x, 2)",
   "id": "137140896ea67cd7",
   "outputs": [
    {
     "data": {
      "text/plain": [
       "150/2401"
      ],
      "text/latex": "$\\displaystyle \\frac{150}{2401}$"
     },
     "execution_count": 96,
     "metadata": {},
     "output_type": "execute_result"
    }
   ],
   "execution_count": 96
  },
  {
   "metadata": {
    "ExecuteTime": {
     "end_time": "2024-12-07T08:03:41.373572Z",
     "start_time": "2024-12-07T08:03:41.363562Z"
    }
   },
   "cell_type": "code",
   "source": [
    "f = -x**3 + 3*(x**2)+9\n",
    "continuous_domain(f, x, S.Reals)"
   ],
   "id": "8429ec7cab5cffb1",
   "outputs": [
    {
     "data": {
      "text/plain": [
       "Reals"
      ],
      "text/latex": "$\\displaystyle \\mathbb{R}$"
     },
     "execution_count": 97,
     "metadata": {},
     "output_type": "execute_result"
    }
   ],
   "execution_count": 97
  },
  {
   "metadata": {
    "ExecuteTime": {
     "end_time": "2024-12-07T08:03:41.467339Z",
     "start_time": "2024-12-07T08:03:41.452304Z"
    }
   },
   "cell_type": "code",
   "source": [
    "fd = f.diff(x)\n",
    "fd"
   ],
   "id": "6245c0e01137dcaf",
   "outputs": [
    {
     "data": {
      "text/plain": [
       "-3*x**2 + 6*x"
      ],
      "text/latex": "$\\displaystyle - 3 x^{2} + 6 x$"
     },
     "execution_count": 98,
     "metadata": {},
     "output_type": "execute_result"
    }
   ],
   "execution_count": 98
  },
  {
   "metadata": {
    "ExecuteTime": {
     "end_time": "2024-12-07T08:03:41.601775Z",
     "start_time": "2024-12-07T08:03:41.574247Z"
    }
   },
   "cell_type": "code",
   "source": "solveset(Eq(fd, 0), x)",
   "id": "5f6c25b9071c25a2",
   "outputs": [
    {
     "data": {
      "text/plain": [
       "{0, 2}"
      ],
      "text/latex": "$\\displaystyle \\left\\{0, 2\\right\\}$"
     },
     "execution_count": 99,
     "metadata": {},
     "output_type": "execute_result"
    }
   ],
   "execution_count": 99
  },
  {
   "metadata": {
    "ExecuteTime": {
     "end_time": "2024-12-07T08:03:41.774783Z",
     "start_time": "2024-12-07T08:03:41.765377Z"
    }
   },
   "cell_type": "code",
   "source": "fd.subs(x, -1)",
   "id": "5132e662b35f25c5",
   "outputs": [
    {
     "data": {
      "text/plain": [
       "-9"
      ],
      "text/latex": "$\\displaystyle -9$"
     },
     "execution_count": 100,
     "metadata": {},
     "output_type": "execute_result"
    }
   ],
   "execution_count": 100
  },
  {
   "metadata": {
    "ExecuteTime": {
     "end_time": "2024-12-07T08:03:41.878221Z",
     "start_time": "2024-12-07T08:03:41.869619Z"
    }
   },
   "cell_type": "code",
   "source": "fd.subs(x, 1)",
   "id": "dc90ee2b6d3b2722",
   "outputs": [
    {
     "data": {
      "text/plain": [
       "3"
      ],
      "text/latex": "$\\displaystyle 3$"
     },
     "execution_count": 101,
     "metadata": {},
     "output_type": "execute_result"
    }
   ],
   "execution_count": 101
  },
  {
   "metadata": {
    "ExecuteTime": {
     "end_time": "2024-12-07T08:03:42.031588Z",
     "start_time": "2024-12-07T08:03:42.023626Z"
    }
   },
   "cell_type": "code",
   "source": "fd.subs(x, 3)",
   "id": "965657b44df653eb",
   "outputs": [
    {
     "data": {
      "text/plain": [
       "-9"
      ],
      "text/latex": "$\\displaystyle -9$"
     },
     "execution_count": 102,
     "metadata": {},
     "output_type": "execute_result"
    }
   ],
   "execution_count": 102
  },
  {
   "metadata": {
    "ExecuteTime": {
     "end_time": "2024-12-07T08:03:42.180079Z",
     "start_time": "2024-12-07T08:03:42.172369Z"
    }
   },
   "cell_type": "code",
   "source": [
    "f = log(x) + x**3\n",
    "f.diff(x)"
   ],
   "id": "af5bdd1b82e68f4e",
   "outputs": [
    {
     "data": {
      "text/plain": [
       "3*x**2 + 1/x"
      ],
      "text/latex": "$\\displaystyle 3 x^{2} + \\frac{1}{x}$"
     },
     "execution_count": 103,
     "metadata": {},
     "output_type": "execute_result"
    }
   ],
   "execution_count": 103
  },
  {
   "metadata": {
    "ExecuteTime": {
     "end_time": "2024-12-07T08:03:42.283530Z",
     "start_time": "2024-12-07T08:03:42.272540Z"
    }
   },
   "cell_type": "code",
   "source": [
    "f = -((x**2 + 1) / x)\n",
    "fd = f.diff(x)\n",
    "fd"
   ],
   "id": "1607bce6b463abf7",
   "outputs": [
    {
     "data": {
      "text/plain": [
       "-2 + (x**2 + 1)/x**2"
      ],
      "text/latex": "$\\displaystyle -2 + \\frac{x^{2} + 1}{x^{2}}$"
     },
     "execution_count": 104,
     "metadata": {},
     "output_type": "execute_result"
    }
   ],
   "execution_count": 104
  },
  {
   "metadata": {
    "ExecuteTime": {
     "end_time": "2024-12-07T08:03:42.415257Z",
     "start_time": "2024-12-07T08:03:42.385715Z"
    }
   },
   "cell_type": "code",
   "source": "solveset(Eq(fd, 0), x)",
   "id": "7e98d4f7baff6b96",
   "outputs": [
    {
     "data": {
      "text/plain": [
       "{-1, 1}"
      ],
      "text/latex": "$\\displaystyle \\left\\{-1, 1\\right\\}$"
     },
     "execution_count": 105,
     "metadata": {},
     "output_type": "execute_result"
    }
   ],
   "execution_count": 105
  },
  {
   "metadata": {
    "ExecuteTime": {
     "end_time": "2024-12-07T08:03:42.509019Z",
     "start_time": "2024-12-07T08:03:42.499619Z"
    }
   },
   "cell_type": "code",
   "source": "fd.subs(x, -2)",
   "id": "e1540ca8e6c7610",
   "outputs": [
    {
     "data": {
      "text/plain": [
       "-3/4"
      ],
      "text/latex": "$\\displaystyle - \\frac{3}{4}$"
     },
     "execution_count": 106,
     "metadata": {},
     "output_type": "execute_result"
    }
   ],
   "execution_count": 106
  },
  {
   "metadata": {
    "ExecuteTime": {
     "end_time": "2024-12-07T08:03:42.632552Z",
     "start_time": "2024-12-07T08:03:42.623542Z"
    }
   },
   "cell_type": "code",
   "source": "fd.subs(x, -0.5)",
   "id": "713ae8e72a9dedb9",
   "outputs": [
    {
     "data": {
      "text/plain": [
       "3.00000000000000"
      ],
      "text/latex": "$\\displaystyle 3.0$"
     },
     "execution_count": 107,
     "metadata": {},
     "output_type": "execute_result"
    }
   ],
   "execution_count": 107
  },
  {
   "metadata": {
    "ExecuteTime": {
     "end_time": "2024-12-07T08:03:42.743756Z",
     "start_time": "2024-12-07T08:03:42.732653Z"
    }
   },
   "cell_type": "code",
   "source": "fd.subs(x, 0.5)",
   "id": "c4b9e5350b582134",
   "outputs": [
    {
     "data": {
      "text/plain": [
       "3.00000000000000"
      ],
      "text/latex": "$\\displaystyle 3.0$"
     },
     "execution_count": 108,
     "metadata": {},
     "output_type": "execute_result"
    }
   ],
   "execution_count": 108
  },
  {
   "metadata": {
    "ExecuteTime": {
     "end_time": "2024-12-07T08:03:42.857778Z",
     "start_time": "2024-12-07T08:03:42.845463Z"
    }
   },
   "cell_type": "code",
   "source": "fd.subs(x, 2)",
   "id": "43810bfb8cd1b16b",
   "outputs": [
    {
     "data": {
      "text/plain": [
       "-3/4"
      ],
      "text/latex": "$\\displaystyle - \\frac{3}{4}$"
     },
     "execution_count": 109,
     "metadata": {},
     "output_type": "execute_result"
    }
   ],
   "execution_count": 109
  },
  {
   "metadata": {},
   "cell_type": "markdown",
   "source": [
    "Для функции $f(x, y) = e^x + 5y^3x$ найдём частные производные первого и второго порядка:\n",
    "\n",
    "$f_x' = e^x + 5yx^2$,\n",
    "$f_{xx}'' = 5yx^2$.\n",
    "\n",
    "$f_y' = 15y^2x$,\n",
    "$f_{yy}'' = 30y$.\n",
    "\n",
    "Таким образом, матрица Гессе будет иметь вид:\n",
    "\n",
    "$$\n",
    "H = \\begin{bmatrix}\n",
    "5yx^2 & 15y^2x \\\n",
    "15y^2x & 30y\n",
    "\\end{bmatrix}.\n",
    "$$"
   ],
   "id": "4e2d6fa38712eb84"
  },
  {
   "metadata": {
    "ExecuteTime": {
     "end_time": "2024-12-07T08:07:59.847911Z",
     "start_time": "2024-12-07T08:07:59.835986Z"
    }
   },
   "cell_type": "code",
   "source": [
    "x,y = symbols('x, y')\n",
    "f = exp(x) + 5 * y**3 * x\n",
    "fdx = f.diff(x)\n",
    "fdy = f.diff(y)\n",
    "fdxx = fdx.diff(x)\n",
    "fdxy = fdx.diff(y)\n",
    "fdyx = fdy.diff(x)\n",
    "fdyy = fdy.diff(y)\n",
    "print(fdxx, fdxy, fdyx, fdyy)"
   ],
   "id": "75b86c1850232e2e",
   "outputs": [
    {
     "name": "stdout",
     "output_type": "stream",
     "text": [
      "exp(x) 15*y**2 15*y**2 30*x*y\n"
     ]
    }
   ],
   "execution_count": 111
  },
  {
   "metadata": {
    "ExecuteTime": {
     "end_time": "2024-12-07T08:21:03.049229Z",
     "start_time": "2024-12-07T08:21:03.040708Z"
    }
   },
   "cell_type": "code",
   "source": [
    "x,y = symbols('x, y')\n",
    "f = -1 * x**2 + 6*x - 2*y**2 + 4*y\n",
    "fdx = f.diff(x)\n",
    "fdy = f.diff(y)\n",
    "fdxx = fdx.diff(x)\n",
    "fdxy = fdx.diff(y)\n",
    "fdyx = fdy.diff(x)\n",
    "fdyy = fdy.diff(y)\n",
    "print(f'fdx = {fdx}')\n",
    "print(f'fdy = {fdy}')\n",
    "print(f'fdxx = {fdxx}')\n",
    "print(f'fdxy = {fdxy}')\n",
    "print(f'fdyx = {fdyx}')\n",
    "print(f'fdyy = {fdyy}')"
   ],
   "id": "fa0615d2d8e0f82c",
   "outputs": [
    {
     "name": "stdout",
     "output_type": "stream",
     "text": [
      "fdx = 6 - 2*x\n",
      "fdy = 4 - 4*y\n",
      "fdxx = -2\n",
      "fdxy = 0\n",
      "fdyx = 0\n",
      "fdyy = -4\n"
     ]
    }
   ],
   "execution_count": 114
  },
  {
   "metadata": {
    "ExecuteTime": {
     "end_time": "2024-12-07T08:21:18.348206Z",
     "start_time": "2024-12-07T08:21:18.327253Z"
    }
   },
   "cell_type": "code",
   "source": "solveset(Eq(fdx, 0), x)",
   "id": "35dd8631be238964",
   "outputs": [
    {
     "data": {
      "text/plain": [
       "{3}"
      ],
      "text/latex": "$\\displaystyle \\left\\{3\\right\\}$"
     },
     "execution_count": 115,
     "metadata": {},
     "output_type": "execute_result"
    }
   ],
   "execution_count": 115
  },
  {
   "metadata": {
    "ExecuteTime": {
     "end_time": "2024-12-07T08:22:05.286282Z",
     "start_time": "2024-12-07T08:22:05.263334Z"
    }
   },
   "cell_type": "code",
   "source": "solveset(Eq(fdy, 0), y)",
   "id": "fad4230f7d108349",
   "outputs": [
    {
     "data": {
      "text/plain": [
       "{1}"
      ],
      "text/latex": "$\\displaystyle \\left\\{1\\right\\}$"
     },
     "execution_count": 116,
     "metadata": {},
     "output_type": "execute_result"
    }
   ],
   "execution_count": 116
  },
  {
   "metadata": {
    "ExecuteTime": {
     "end_time": "2024-12-07T09:00:20.310732Z",
     "start_time": "2024-12-07T09:00:20.301490Z"
    }
   },
   "cell_type": "code",
   "source": [
    "Hesse = np.array([[float(fdxx), float(fdxy)],[float(fdyx), float(fdyy)]])\n",
    "Hesse"
   ],
   "id": "b8679dda16568c2b",
   "outputs": [
    {
     "data": {
      "text/plain": [
       "array([[-2.,  0.],\n",
       "       [ 0., -4.]])"
      ]
     },
     "execution_count": 131,
     "metadata": {},
     "output_type": "execute_result"
    }
   ],
   "execution_count": 131
  },
  {
   "metadata": {
    "ExecuteTime": {
     "end_time": "2024-12-07T09:00:40.224728Z",
     "start_time": "2024-12-07T09:00:40.211279Z"
    }
   },
   "cell_type": "code",
   "source": "np.linalg.eig(Hesse)\n",
   "id": "a643aa11a88b1280",
   "outputs": [
    {
     "data": {
      "text/plain": [
       "EigResult(eigenvalues=array([-2., -4.]), eigenvectors=array([[1., 0.],\n",
       "       [0., 1.]]))"
      ]
     },
     "execution_count": 133,
     "metadata": {},
     "output_type": "execute_result"
    }
   ],
   "execution_count": 133
  },
  {
   "metadata": {
    "ExecuteTime": {
     "end_time": "2024-12-07T10:09:48.055043Z",
     "start_time": "2024-12-07T10:09:48.047043Z"
    }
   },
   "cell_type": "code",
   "source": [
    "x,y = symbols('x, y')\n",
    "f = x**3 + 3*x*y**2 - 15*x - 12*y + 1 \n",
    "fdx = f.diff(x)\n",
    "fdy = f.diff(y)\n",
    "fdxx = fdx.diff(x)\n",
    "fdxy = fdx.diff(y)\n",
    "fdyy = fdy.diff(y)\n",
    "print(f'fdx = {fdx}')\n",
    "print(f'fdy = {fdy}')\n",
    "print(f'fdxx = {fdxx}')\n",
    "print(f'fdxy = {fdxy}')\n",
    "print(f'fdyy = {fdyy}')"
   ],
   "id": "a4e9adfe0485bcac",
   "outputs": [
    {
     "name": "stdout",
     "output_type": "stream",
     "text": [
      "fdx = 3*x**2 + 3*y**2 - 15\n",
      "fdy = 6*x*y - 12\n",
      "fdxx = 6*x\n",
      "fdxy = 6*y\n",
      "fdyy = 6*x\n"
     ]
    }
   ],
   "execution_count": 144
  },
  {
   "metadata": {
    "ExecuteTime": {
     "end_time": "2024-12-07T10:04:02.409738Z",
     "start_time": "2024-12-07T10:04:02.379812Z"
    }
   },
   "cell_type": "code",
   "source": [
    "extr = solve([Eq(fdx, 0), Eq(fdy, 0)], [x,y])\n",
    "extr"
   ],
   "id": "b9c160db068e1482",
   "outputs": [
    {
     "data": {
      "text/plain": [
       "[(-2, -1), (-1, -2), (1, 2), (2, 1)]"
      ]
     },
     "execution_count": 140,
     "metadata": {},
     "output_type": "execute_result"
    }
   ],
   "execution_count": 140
  },
  {
   "metadata": {
    "ExecuteTime": {
     "end_time": "2024-12-07T10:09:58.937375Z",
     "start_time": "2024-12-07T10:09:58.927229Z"
    }
   },
   "cell_type": "code",
   "source": [
    "Hesse = np.array([[fdxx, fdxy],[fdxy, fdyy]])\n",
    "Hesse"
   ],
   "id": "a4ad25e0fc0112d6",
   "outputs": [
    {
     "data": {
      "text/plain": [
       "array([[6*x, 6*y],\n",
       "       [6*y, 6*x]], dtype=object)"
      ]
     },
     "execution_count": 145,
     "metadata": {},
     "output_type": "execute_result"
    }
   ],
   "execution_count": 145
  },
  {
   "metadata": {
    "ExecuteTime": {
     "end_time": "2024-12-07T10:17:39.764793Z",
     "start_time": "2024-12-07T10:17:39.755788Z"
    }
   },
   "cell_type": "code",
   "source": [
    "for point in extr:\n",
    "    H = fdxx.subs(x, point[0]) * fdyy.subs(x, point[0]) - fdxy.subs(y, point[1])**2\n",
    "    if H > 0 and fdxx.subs(x, point[0]) > 0:\n",
    "        print(\"Минимум в точке\", point)\n",
    "    elif H > 0 and fdxx.subs(x, point[0]) < 0:\n",
    "        print(\"Максимум в точке\", point)\n",
    "    elif H < 0:\n",
    "        print(\"Седловая точка в точке\", point)\n",
    "    else:\n",
    "        print(\"Точка\", point, \"не является точкой экстремума\")\n"
   ],
   "id": "2573907d95971578",
   "outputs": [
    {
     "name": "stdout",
     "output_type": "stream",
     "text": [
      "Максимум в точке (-2, -1)\n",
      "Седловая точка в точке (-1, -2)\n",
      "Седловая точка в точке (1, 2)\n",
      "Минимум в точке (2, 1)\n"
     ]
    }
   ],
   "execution_count": 148
  },
  {
   "metadata": {
    "ExecuteTime": {
     "end_time": "2024-12-07T10:22:38.857500Z",
     "start_time": "2024-12-07T10:22:38.850294Z"
    }
   },
   "cell_type": "code",
   "source": [
    "x,y = symbols('x, y')\n",
    "f = 4*x**2 - 6*x*y - 34*x + 5*y**2 + 42*y + 7\n",
    "fdx = f.diff(x)\n",
    "fdy = f.diff(y)\n",
    "print(f'fdx = {fdx}')\n",
    "print(f'fdy = {fdy}')"
   ],
   "id": "c766455ea36fef3",
   "outputs": [
    {
     "name": "stdout",
     "output_type": "stream",
     "text": [
      "fdx = 8*x - 6*y - 34\n",
      "fdy = -6*x + 10*y + 42\n"
     ]
    }
   ],
   "execution_count": 150
  },
  {
   "metadata": {
    "ExecuteTime": {
     "end_time": "2024-12-07T10:22:57.166605Z",
     "start_time": "2024-12-07T10:22:57.147311Z"
    }
   },
   "cell_type": "code",
   "source": "solve([Eq(fdx, 0), Eq(fdy, 0)], [x,y])",
   "id": "1b9d3f8802807c8e",
   "outputs": [
    {
     "data": {
      "text/plain": [
       "{x: 2, y: -3}"
      ]
     },
     "execution_count": 151,
     "metadata": {},
     "output_type": "execute_result"
    }
   ],
   "execution_count": 151
  },
  {
   "metadata": {
    "ExecuteTime": {
     "end_time": "2024-12-07T10:24:56.746907Z",
     "start_time": "2024-12-07T10:24:56.721172Z"
    }
   },
   "cell_type": "code",
   "source": [
    "x,y = symbols('x, y')\n",
    "f = x**3 - 2*x*y - y**6\n",
    "fdx = f.diff(x)\n",
    "fdy = f.diff(y)\n",
    "fdxx = fdx.diff(x)\n",
    "fdxy = fdx.diff(y)\n",
    "fdyy = fdy.diff(y)\n",
    "Hesse = np.array([[fdxx, fdxy],[fdxy, fdyy]])\n",
    "Hesse"
   ],
   "id": "b3ef9a6faf1207ba",
   "outputs": [
    {
     "data": {
      "text/plain": [
       "array([[6*x, -2],\n",
       "       [-2, -30*y**4]], dtype=object)"
      ]
     },
     "execution_count": 152,
     "metadata": {},
     "output_type": "execute_result"
    }
   ],
   "execution_count": 152
  },
  {
   "metadata": {
    "ExecuteTime": {
     "end_time": "2024-12-07T10:25:56.972814Z",
     "start_time": "2024-12-07T10:25:56.958915Z"
    }
   },
   "cell_type": "code",
   "source": "fdxx.subs(x, 1) * fdyy.subs(y, 2) - fdxy**2",
   "id": "508d4f2531b93ae2",
   "outputs": [
    {
     "data": {
      "text/plain": [
       "-2884"
      ],
      "text/latex": "$\\displaystyle -2884$"
     },
     "execution_count": 153,
     "metadata": {},
     "output_type": "execute_result"
    }
   ],
   "execution_count": 153
  },
  {
   "metadata": {
    "ExecuteTime": {
     "end_time": "2024-12-07T10:29:05.597494Z",
     "start_time": "2024-12-07T10:29:05.542159Z"
    }
   },
   "cell_type": "code",
   "source": [
    "x,y = symbols('x, y')\n",
    "f = x**3 + y**3 - 3*x*y\n",
    "fdx = f.diff(x)\n",
    "fdy = f.diff(y)\n",
    "fdxx = fdx.diff(x)\n",
    "fdxy = fdx.diff(y)\n",
    "fdyy = fdy.diff(y)\n",
    "print(f'fdx = {fdx}')\n",
    "print(f'fdy = {fdy}')\n",
    "print(f'fdxx = {fdxx}')\n",
    "print(f'fdxy = {fdxy}')\n",
    "print(f'fdyy = {fdyy}')\n",
    "extr = solve([Eq(fdx, 0), Eq(fdy, 0)], [x,y])\n",
    "print(f'Экстремумы - {extr}')\n"
   ],
   "id": "ba005b89bbb24859",
   "outputs": [
    {
     "name": "stdout",
     "output_type": "stream",
     "text": [
      "fdx = 3*x**2 - 3*y\n",
      "fdy = -3*x + 3*y**2\n",
      "fdxx = 6*x\n",
      "fdxy = -3\n",
      "fdyy = 6*y\n",
      "Экстремумы - [(0, 0), (1, 1), ((-1/2 - sqrt(3)*I/2)**2, -1/2 - sqrt(3)*I/2), ((-1/2 + sqrt(3)*I/2)**2, -1/2 + sqrt(3)*I/2)]\n"
     ]
    }
   ],
   "execution_count": 155
  },
  {
   "metadata": {
    "ExecuteTime": {
     "end_time": "2024-12-07T10:30:00.131033Z",
     "start_time": "2024-12-07T10:29:59.797544Z"
    }
   },
   "cell_type": "code",
   "source": [
    "for point in extr:\n",
    "    H = fdxx.subs(x, point[0]) * fdyy.subs(y, point[1]) - fdxy**2\n",
    "    if H > 0 and fdxx.subs(x, point[0]) > 0:\n",
    "        print(\"Минимум в точке\", point)\n",
    "    elif H > 0 and fdxx.subs(x, point[0]) < 0:\n",
    "        print(\"Максимум в точке\", point)\n",
    "    elif H < 0:\n",
    "        print(\"Седловая точка в точке\", point)\n",
    "    else:\n",
    "        print(\"Точка\", point, \"не является точкой экстремума\")"
   ],
   "id": "3eef1fd2ec10c173",
   "outputs": [
    {
     "name": "stdout",
     "output_type": "stream",
     "text": [
      "Седловая точка в точке (0, 0)\n",
      "Минимум в точке (1, 1)\n"
     ]
    },
    {
     "ename": "TypeError",
     "evalue": "Invalid comparison of non-real 6*(-1/2 - sqrt(3)*I/2)**2",
     "output_type": "error",
     "traceback": [
      "\u001B[1;31m---------------------------------------------------------------------------\u001B[0m",
      "\u001B[1;31mTypeError\u001B[0m                                 Traceback (most recent call last)",
      "Cell \u001B[1;32mIn[156], line 3\u001B[0m\n\u001B[0;32m      1\u001B[0m \u001B[38;5;28;01mfor\u001B[39;00m point \u001B[38;5;129;01min\u001B[39;00m extr:\n\u001B[0;32m      2\u001B[0m     H \u001B[38;5;241m=\u001B[39m fdxx\u001B[38;5;241m.\u001B[39msubs(x, point[\u001B[38;5;241m0\u001B[39m]) \u001B[38;5;241m*\u001B[39m fdyy\u001B[38;5;241m.\u001B[39msubs(y, point[\u001B[38;5;241m1\u001B[39m]) \u001B[38;5;241m-\u001B[39m fdxy\u001B[38;5;241m*\u001B[39m\u001B[38;5;241m*\u001B[39m\u001B[38;5;241m2\u001B[39m\n\u001B[1;32m----> 3\u001B[0m     \u001B[38;5;28;01mif\u001B[39;00m H \u001B[38;5;241m>\u001B[39m \u001B[38;5;241m0\u001B[39m \u001B[38;5;129;01mand\u001B[39;00m fdxx\u001B[38;5;241m.\u001B[39msubs(x, point[\u001B[38;5;241m0\u001B[39m]) \u001B[38;5;241m>\u001B[39m \u001B[38;5;241m0\u001B[39m:\n\u001B[0;32m      4\u001B[0m         \u001B[38;5;28mprint\u001B[39m(\u001B[38;5;124m\"\u001B[39m\u001B[38;5;124mМинимум в точке\u001B[39m\u001B[38;5;124m\"\u001B[39m, point)\n\u001B[0;32m      5\u001B[0m     \u001B[38;5;28;01melif\u001B[39;00m H \u001B[38;5;241m>\u001B[39m \u001B[38;5;241m0\u001B[39m \u001B[38;5;129;01mand\u001B[39;00m fdxx\u001B[38;5;241m.\u001B[39msubs(x, point[\u001B[38;5;241m0\u001B[39m]) \u001B[38;5;241m<\u001B[39m \u001B[38;5;241m0\u001B[39m:\n",
      "File \u001B[1;32m~\\anaconda3\\Lib\\site-packages\\sympy\\core\\decorators.py:236\u001B[0m, in \u001B[0;36m_SympifyWrapper.make_wrapped.<locals>._func\u001B[1;34m(self, other)\u001B[0m\n\u001B[0;32m    234\u001B[0m \u001B[38;5;28;01mif\u001B[39;00m \u001B[38;5;129;01mnot\u001B[39;00m \u001B[38;5;28misinstance\u001B[39m(other, expectedcls):\n\u001B[0;32m    235\u001B[0m     \u001B[38;5;28;01mreturn\u001B[39;00m retval\n\u001B[1;32m--> 236\u001B[0m \u001B[38;5;28;01mreturn\u001B[39;00m func(\u001B[38;5;28mself\u001B[39m, other)\n",
      "File \u001B[1;32m~\\anaconda3\\Lib\\site-packages\\sympy\\core\\expr.py:371\u001B[0m, in \u001B[0;36mExpr.__gt__\u001B[1;34m(self, other)\u001B[0m\n\u001B[0;32m    368\u001B[0m \u001B[38;5;129m@sympify_return\u001B[39m([(\u001B[38;5;124m'\u001B[39m\u001B[38;5;124mother\u001B[39m\u001B[38;5;124m'\u001B[39m, \u001B[38;5;124m'\u001B[39m\u001B[38;5;124mExpr\u001B[39m\u001B[38;5;124m'\u001B[39m)], \u001B[38;5;28mNotImplemented\u001B[39m)\n\u001B[0;32m    369\u001B[0m \u001B[38;5;28;01mdef\u001B[39;00m \u001B[38;5;21m__gt__\u001B[39m(\u001B[38;5;28mself\u001B[39m, other):\n\u001B[0;32m    370\u001B[0m     \u001B[38;5;28;01mfrom\u001B[39;00m \u001B[38;5;21;01m.\u001B[39;00m\u001B[38;5;21;01mrelational\u001B[39;00m \u001B[38;5;28;01mimport\u001B[39;00m StrictGreaterThan\n\u001B[1;32m--> 371\u001B[0m     \u001B[38;5;28;01mreturn\u001B[39;00m StrictGreaterThan(\u001B[38;5;28mself\u001B[39m, other)\n",
      "File \u001B[1;32m~\\anaconda3\\Lib\\site-packages\\sympy\\core\\relational.py:822\u001B[0m, in \u001B[0;36m_Inequality.__new__\u001B[1;34m(cls, lhs, rhs, **options)\u001B[0m\n\u001B[0;32m    820\u001B[0m \u001B[38;5;28;01mfor\u001B[39;00m me \u001B[38;5;129;01min\u001B[39;00m (lhs, rhs):\n\u001B[0;32m    821\u001B[0m     \u001B[38;5;28;01mif\u001B[39;00m me\u001B[38;5;241m.\u001B[39mis_extended_real \u001B[38;5;129;01mis\u001B[39;00m \u001B[38;5;28;01mFalse\u001B[39;00m:\n\u001B[1;32m--> 822\u001B[0m         \u001B[38;5;28;01mraise\u001B[39;00m \u001B[38;5;167;01mTypeError\u001B[39;00m(\u001B[38;5;124m\"\u001B[39m\u001B[38;5;124mInvalid comparison of non-real \u001B[39m\u001B[38;5;132;01m%s\u001B[39;00m\u001B[38;5;124m\"\u001B[39m \u001B[38;5;241m%\u001B[39m me)\n\u001B[0;32m    823\u001B[0m     \u001B[38;5;28;01mif\u001B[39;00m me \u001B[38;5;129;01mis\u001B[39;00m S\u001B[38;5;241m.\u001B[39mNaN:\n\u001B[0;32m    824\u001B[0m         \u001B[38;5;28;01mraise\u001B[39;00m \u001B[38;5;167;01mTypeError\u001B[39;00m(\u001B[38;5;124m\"\u001B[39m\u001B[38;5;124mInvalid NaN comparison\u001B[39m\u001B[38;5;124m\"\u001B[39m)\n",
      "\u001B[1;31mTypeError\u001B[0m: Invalid comparison of non-real 6*(-1/2 - sqrt(3)*I/2)**2"
     ]
    }
   ],
   "execution_count": 156
  }
 ],
 "metadata": {
  "kernelspec": {
   "display_name": "Python 3",
   "language": "python",
   "name": "python3"
  },
  "language_info": {
   "codemirror_mode": {
    "name": "ipython",
    "version": 2
   },
   "file_extension": ".py",
   "mimetype": "text/x-python",
   "name": "python",
   "nbconvert_exporter": "python",
   "pygments_lexer": "ipython2",
   "version": "2.7.6"
  }
 },
 "nbformat": 4,
 "nbformat_minor": 5
}
