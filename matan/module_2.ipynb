{
 "cells": [
  {
   "cell_type": "code",
   "id": "initial_id",
   "metadata": {
    "collapsed": true,
    "ExecuteTime": {
     "end_time": "2024-11-21T17:35:56.743843Z",
     "start_time": "2024-11-21T17:35:55.594425Z"
    }
   },
   "source": [
    "from sympy import Symbol, S #импортируем нужные функции для обозначения переменных\n",
    "from sympy.calculus.util import function_range #импортируем функцию для поиска области значения\n",
    "from sympy.calculus.util import continuous_domain #импортируем функцию для поиска области определения\n",
    "x = Symbol(\"x\") #определяем нашу переменную\n",
    "f = 1/x #определяем нашу функцию\n",
    "continuous_domain(f, x, S.Reals) #вычисляем область определения"
   ],
   "outputs": [
    {
     "data": {
      "text/plain": [
       "Union(Interval.open(-oo, 0), Interval.open(0, oo))"
      ],
      "text/latex": "$\\displaystyle \\left(-\\infty, 0\\right) \\cup \\left(0, \\infty\\right)$"
     },
     "execution_count": 1,
     "metadata": {},
     "output_type": "execute_result"
    }
   ],
   "execution_count": 1
  },
  {
   "metadata": {
    "ExecuteTime": {
     "end_time": "2024-11-21T17:36:24.271247Z",
     "start_time": "2024-11-21T17:36:23.947989Z"
    }
   },
   "cell_type": "code",
   "source": [
    "from sympy import log\n",
    "x = Symbol(\"x\")\n",
    "f = log(x)/x\n",
    "continuous_domain(f, x, S.Reals)"
   ],
   "id": "9c656e2d27bd3e2e",
   "outputs": [
    {
     "data": {
      "text/plain": [
       "Interval.open(0, oo)"
      ],
      "text/latex": "$\\displaystyle \\left(0, \\infty\\right)$"
     },
     "execution_count": 2,
     "metadata": {},
     "output_type": "execute_result"
    }
   ],
   "execution_count": 2
  },
  {
   "metadata": {
    "ExecuteTime": {
     "end_time": "2024-11-21T17:38:18.658112Z",
     "start_time": "2024-11-21T17:38:18.518810Z"
    }
   },
   "cell_type": "code",
   "source": [
    "from sympy import Symbol, S, sin #импортируем нужные функции для обозначения переменных\n",
    "from sympy.calculus.util import function_range #импортируем функцию для поиска области значений\n",
    "x = Symbol(\"x\")\n",
    "f = sin(x)\n",
    "function_range(f, x, S.Reals)"
   ],
   "id": "ecbd7b1b69b38c8f",
   "outputs": [
    {
     "data": {
      "text/plain": [
       "Interval(-1, 1)"
      ],
      "text/latex": "$\\displaystyle \\left[-1, 1\\right]$"
     },
     "execution_count": 3,
     "metadata": {},
     "output_type": "execute_result"
    }
   ],
   "execution_count": 3
  },
  {
   "metadata": {
    "ExecuteTime": {
     "end_time": "2024-11-21T17:38:43.961490Z",
     "start_time": "2024-11-21T17:38:43.644600Z"
    }
   },
   "cell_type": "code",
   "source": [
    "from sympy import Symbol, S #импортируем нужные функции для обозначения переменных\n",
    "from sympy.calculus.util import function_range #импортируем функцию для поиска области значений\n",
    "from sympy import exp #добавляем функцию для вычисления экспоненциальной функции\n",
    "x = Symbol(\"x\")\n",
    "f = (x*x-3)/(exp(x))\n",
    "function_range(f, x, S.Reals)"
   ],
   "id": "873d7b2a45b45227",
   "outputs": [
    {
     "data": {
      "text/plain": [
       "Interval(-2*E, oo)"
      ],
      "text/latex": "$\\displaystyle \\left[- 2 e, \\infty\\right)$"
     },
     "execution_count": 4,
     "metadata": {},
     "output_type": "execute_result"
    }
   ],
   "execution_count": 4
  },
  {
   "metadata": {
    "ExecuteTime": {
     "end_time": "2024-11-21T17:39:43.262440Z",
     "start_time": "2024-11-21T17:39:43.254447Z"
    }
   },
   "cell_type": "code",
   "source": [
    "x = Symbol(\"x\")\n",
    "f = x*x+5*x+4\n",
    "f.subs(x, 0)"
   ],
   "id": "484279dbf707880",
   "outputs": [
    {
     "data": {
      "text/plain": [
       "4"
      ],
      "text/latex": "$\\displaystyle 4$"
     },
     "execution_count": 5,
     "metadata": {},
     "output_type": "execute_result"
    }
   ],
   "execution_count": 5
  },
  {
   "metadata": {
    "ExecuteTime": {
     "end_time": "2024-11-21T17:40:19.360940Z",
     "start_time": "2024-11-21T17:40:19.336104Z"
    }
   },
   "cell_type": "code",
   "source": [
    "from sympy import solveset, Eq\n",
    "solveset(Eq(x*x+5*x+4, 0), x)"
   ],
   "id": "ce478b6d1f9f0ed1",
   "outputs": [
    {
     "data": {
      "text/plain": [
       "{-4, -1}"
      ],
      "text/latex": "$\\displaystyle \\left\\{-4, -1\\right\\}$"
     },
     "execution_count": 6,
     "metadata": {},
     "output_type": "execute_result"
    }
   ],
   "execution_count": 6
  },
  {
   "metadata": {
    "ExecuteTime": {
     "end_time": "2024-11-21T20:05:55.757261Z",
     "start_time": "2024-11-21T20:05:55.731049Z"
    }
   },
   "cell_type": "code",
   "source": "solveset(Eq(x*x+2*x-8, 0), x)",
   "id": "766615c0c89cd172",
   "outputs": [
    {
     "data": {
      "text/plain": [
       "{-4, 2}"
      ],
      "text/latex": "$\\displaystyle \\left\\{-4, 2\\right\\}$"
     },
     "execution_count": 7,
     "metadata": {},
     "output_type": "execute_result"
    }
   ],
   "execution_count": 7
  },
  {
   "metadata": {
    "ExecuteTime": {
     "end_time": "2024-11-21T20:07:52.963912Z",
     "start_time": "2024-11-21T20:07:52.545121Z"
    }
   },
   "cell_type": "code",
   "source": [
    "x = Symbol(\"x\")\n",
    "f = 3 / (x*x-10)\n",
    "function_range(f, x, S.Reals)"
   ],
   "id": "a333b5964d1fa968",
   "outputs": [
    {
     "data": {
      "text/plain": [
       "Union(Interval(-oo, -3/10), Interval.open(0, oo))"
      ],
      "text/latex": "$\\displaystyle \\left(-\\infty, - \\frac{3}{10}\\right] \\cup \\left(0, \\infty\\right)$"
     },
     "execution_count": 8,
     "metadata": {},
     "output_type": "execute_result"
    }
   ],
   "execution_count": 8
  },
  {
   "metadata": {
    "ExecuteTime": {
     "end_time": "2024-11-21T20:22:01.387380Z",
     "start_time": "2024-11-21T20:22:01.379890Z"
    }
   },
   "cell_type": "code",
   "source": "24/15",
   "id": "5dfa33a4e744d833",
   "outputs": [
    {
     "data": {
      "text/plain": [
       "1.6"
      ]
     },
     "execution_count": 9,
     "metadata": {},
     "output_type": "execute_result"
    }
   ],
   "execution_count": 9
  },
  {
   "metadata": {
    "ExecuteTime": {
     "end_time": "2024-11-22T05:16:49.892578Z",
     "start_time": "2024-11-22T05:16:49.249015Z"
    }
   },
   "cell_type": "code",
   "source": [
    "import sympy\n",
    "x = sympy.Symbol(\"x\")\n",
    "expr = x**4 + 3*x**3 + 4*x**2 + 8\n",
    "expr.diff(x)"
   ],
   "id": "3d6735aa283494c2",
   "outputs": [
    {
     "data": {
      "text/plain": [
       "4*x**3 + 9*x**2 + 8*x"
      ],
      "text/latex": "$\\displaystyle 4 x^{3} + 9 x^{2} + 8 x$"
     },
     "execution_count": 10,
     "metadata": {},
     "output_type": "execute_result"
    }
   ],
   "execution_count": 10
  },
  {
   "metadata": {
    "ExecuteTime": {
     "end_time": "2024-11-22T05:17:33.041890Z",
     "start_time": "2024-11-22T05:17:32.650821Z"
    }
   },
   "cell_type": "code",
   "source": [
    "from sympy import diff, sin, exp, log, Symbol\n",
    "x = sympy.Symbol(\"x\")\n",
    "expr = log(x**2 + 5*x) + exp(sin(x))\n",
    "expr.diff(x)"
   ],
   "id": "3160b65c20e7aafa",
   "outputs": [
    {
     "data": {
      "text/plain": [
       "(2*x + 5)/(x**2 + 5*x) + exp(sin(x))*cos(x)"
      ],
      "text/latex": "$\\displaystyle \\frac{2 x + 5}{x^{2} + 5 x} + e^{\\sin{\\left(x \\right)}} \\cos{\\left(x \\right)}$"
     },
     "execution_count": 11,
     "metadata": {},
     "output_type": "execute_result"
    }
   ],
   "execution_count": 11
  },
  {
   "metadata": {
    "ExecuteTime": {
     "end_time": "2024-11-22T05:18:44.940191Z",
     "start_time": "2024-11-22T05:18:44.919908Z"
    }
   },
   "cell_type": "code",
   "source": [
    "x = sympy.Symbol(\"x\")\n",
    "expr = sin(x*3 + log(x))*exp((x))\n",
    "expr.diff(x)"
   ],
   "id": "f26f3bb6fb1ff709",
   "outputs": [
    {
     "data": {
      "text/plain": [
       "(3 + 1/x)*exp(x)*cos(3*x + log(x)) + exp(x)*sin(3*x + log(x))"
      ],
      "text/latex": "$\\displaystyle \\left(3 + \\frac{1}{x}\\right) e^{x} \\cos{\\left(3 x + \\log{\\left(x \\right)} \\right)} + e^{x} \\sin{\\left(3 x + \\log{\\left(x \\right)} \\right)}$"
     },
     "execution_count": 12,
     "metadata": {},
     "output_type": "execute_result"
    }
   ],
   "execution_count": 12
  },
  {
   "metadata": {
    "ExecuteTime": {
     "end_time": "2024-11-22T05:21:24.528503Z",
     "start_time": "2024-11-22T05:21:24.479717Z"
    }
   },
   "cell_type": "code",
   "source": [
    "x = sympy.Symbol(\"x\")\n",
    "expr = log(x**2 + 5*x) + exp(sin(x))\n",
    "expr.diff(x,2)"
   ],
   "id": "84dddb76b4fa4d7b",
   "outputs": [
    {
     "data": {
      "text/plain": [
       "-exp(sin(x))*sin(x) + exp(sin(x))*cos(x)**2 + 2/(x*(x + 5)) - (2*x + 5)**2/(x**2*(x + 5)**2)"
      ],
      "text/latex": "$\\displaystyle - e^{\\sin{\\left(x \\right)}} \\sin{\\left(x \\right)} + e^{\\sin{\\left(x \\right)}} \\cos^{2}{\\left(x \\right)} + \\frac{2}{x \\left(x + 5\\right)} - \\frac{\\left(2 x + 5\\right)^{2}}{x^{2} \\left(x + 5\\right)^{2}}$"
     },
     "execution_count": 13,
     "metadata": {},
     "output_type": "execute_result"
    }
   ],
   "execution_count": 13
  },
  {
   "metadata": {},
   "cell_type": "code",
   "outputs": [],
   "execution_count": null,
   "source": [
    "expr = x / x**2 + 1\n",
    "expr.diff(x,2)"
   ],
   "id": "aebf6596406ca399"
  },
  {
   "metadata": {
    "ExecuteTime": {
     "end_time": "2024-11-23T11:44:20.437467Z",
     "start_time": "2024-11-23T11:44:19.622148Z"
    }
   },
   "cell_type": "code",
   "source": [
    "from sympy import Symbol, S\n",
    "from sympy.calculus.util import continuous_domain\n",
    "x = Symbol(\"x\")\n",
    "f = (x**3)/(x**2-1)\n",
    "continuous_domain(f, x, S.Reals)"
   ],
   "id": "a27321356b8ef68c",
   "outputs": [
    {
     "data": {
      "text/plain": [
       "Union(Interval.open(-oo, -1), Interval.open(-1, 1), Interval.open(1, oo))"
      ],
      "text/latex": "$\\displaystyle \\left(-\\infty, -1\\right) \\cup \\left(-1, 1\\right) \\cup \\left(1, \\infty\\right)$"
     },
     "execution_count": 14,
     "metadata": {},
     "output_type": "execute_result"
    }
   ],
   "execution_count": 14
  },
  {
   "metadata": {
    "ExecuteTime": {
     "end_time": "2024-11-23T11:48:09.309638Z",
     "start_time": "2024-11-23T11:48:08.072651Z"
    }
   },
   "cell_type": "code",
   "source": [
    "from sympy import Symbol, S\n",
    "from sympy.calculus.util import function_range\n",
    "x = Symbol(\"x\")\n",
    "f = (x**3)/(x**2-1)\n",
    "function_range(f, x, S.Reals)"
   ],
   "id": "6c122867177324d0",
   "outputs": [
    {
     "data": {
      "text/plain": [
       "Interval(-oo, oo)"
      ],
      "text/latex": "$\\displaystyle \\left(-\\infty, \\infty\\right)$"
     },
     "execution_count": 15,
     "metadata": {},
     "output_type": "execute_result"
    }
   ],
   "execution_count": 15
  },
  {
   "metadata": {
    "ExecuteTime": {
     "end_time": "2024-11-23T11:48:44.412091Z",
     "start_time": "2024-11-23T11:48:44.212326Z"
    }
   },
   "cell_type": "code",
   "source": [
    "from sympy import solveset, Eq\n",
    "f = (x**3)/(x**2-1)\n",
    "solveset(Eq(f, 0), x)"
   ],
   "id": "9769885682390e8e",
   "outputs": [
    {
     "data": {
      "text/plain": [
       "{0}"
      ],
      "text/latex": "$\\displaystyle \\left\\{0\\right\\}$"
     },
     "execution_count": 16,
     "metadata": {},
     "output_type": "execute_result"
    }
   ],
   "execution_count": 16
  },
  {
   "metadata": {
    "ExecuteTime": {
     "end_time": "2024-11-23T11:49:11.648154Z",
     "start_time": "2024-11-23T11:49:11.638127Z"
    }
   },
   "cell_type": "code",
   "source": [
    "x = Symbol(\"x\")\n",
    "f = (x**3)/(x**2-1)\n",
    "f.subs(x, 0)"
   ],
   "id": "e2316eb97d34df78",
   "outputs": [
    {
     "data": {
      "text/plain": [
       "0"
      ],
      "text/latex": "$\\displaystyle 0$"
     },
     "execution_count": 17,
     "metadata": {},
     "output_type": "execute_result"
    }
   ],
   "execution_count": 17
  },
  {
   "metadata": {
    "ExecuteTime": {
     "end_time": "2024-11-23T11:50:28.956551Z",
     "start_time": "2024-11-23T11:50:28.946467Z"
    }
   },
   "cell_type": "code",
   "source": [
    "import sympy\n",
    "from sympy import diff\n",
    "x = sympy.Symbol(\"x\")\n",
    "expr = (x**3)/(x**2-1)\n",
    "expr.diff(x)"
   ],
   "id": "e64f2d33f74b1edf",
   "outputs": [
    {
     "data": {
      "text/plain": [
       "-2*x**4/(x**2 - 1)**2 + 3*x**2/(x**2 - 1)"
      ],
      "text/latex": "$\\displaystyle - \\frac{2 x^{4}}{\\left(x^{2} - 1\\right)^{2}} + \\frac{3 x^{2}}{x^{2} - 1}$"
     },
     "execution_count": 18,
     "metadata": {},
     "output_type": "execute_result"
    }
   ],
   "execution_count": 18
  },
  {
   "metadata": {
    "ExecuteTime": {
     "end_time": "2024-11-23T11:50:52.627935Z",
     "start_time": "2024-11-23T11:50:52.500883Z"
    }
   },
   "cell_type": "code",
   "source": [
    "y = expr.diff(x)\n",
    "solveset(Eq(y, 0), x)"
   ],
   "id": "d885188beb082783",
   "outputs": [
    {
     "data": {
      "text/plain": [
       "{0, -sqrt(3), sqrt(3)}"
      ],
      "text/latex": "$\\displaystyle \\left\\{0, - \\sqrt{3}, \\sqrt{3}\\right\\}$"
     },
     "execution_count": 19,
     "metadata": {},
     "output_type": "execute_result"
    }
   ],
   "execution_count": 19
  },
  {
   "metadata": {
    "ExecuteTime": {
     "end_time": "2024-11-23T11:51:57.333335Z",
     "start_time": "2024-11-23T11:51:57.308404Z"
    }
   },
   "cell_type": "code",
   "source": [
    "import sympy\n",
    "from sympy import diff\n",
    "x = sympy.Symbol(\"x\")\n",
    "expr = (x**3)/(x**2-1)\n",
    "expr.diff(x,2)"
   ],
   "id": "ff96be29428d0892",
   "outputs": [
    {
     "data": {
      "text/plain": [
       "2*x*(x**2*(4*x**2/(x**2 - 1) - 1)/(x**2 - 1) - 6*x**2/(x**2 - 1) + 3)/(x**2 - 1)"
      ],
      "text/latex": "$\\displaystyle \\frac{2 x \\left(\\frac{x^{2} \\cdot \\left(\\frac{4 x^{2}}{x^{2} - 1} - 1\\right)}{x^{2} - 1} - \\frac{6 x^{2}}{x^{2} - 1} + 3\\right)}{x^{2} - 1}$"
     },
     "execution_count": 20,
     "metadata": {},
     "output_type": "execute_result"
    }
   ],
   "execution_count": 20
  },
  {
   "metadata": {
    "ExecuteTime": {
     "end_time": "2024-11-23T11:53:14.479545Z",
     "start_time": "2024-11-23T11:53:14.469890Z"
    }
   },
   "cell_type": "code",
   "source": [
    "from sympy import Symbol, limit, oo\n",
    "x = Symbol(\"x\")\n",
    "f = (x**3)/(x**2-1)\n",
    "limit(f,x,oo)"
   ],
   "id": "ca41e31dce4fff7e",
   "outputs": [
    {
     "data": {
      "text/plain": [
       "oo"
      ],
      "text/latex": "$\\displaystyle \\infty$"
     },
     "execution_count": 21,
     "metadata": {},
     "output_type": "execute_result"
    }
   ],
   "execution_count": 21
  },
  {
   "metadata": {
    "ExecuteTime": {
     "end_time": "2024-11-23T11:53:45.834357Z",
     "start_time": "2024-11-23T11:53:45.826401Z"
    }
   },
   "cell_type": "code",
   "source": [
    "from sympy import Symbol, limit, oo\n",
    "x = Symbol(\"x\")\n",
    "f = (x**3)/(x**2-1)\n",
    "limit(f,x,1)"
   ],
   "id": "880feb9ae37d463b",
   "outputs": [
    {
     "data": {
      "text/plain": [
       "oo"
      ],
      "text/latex": "$\\displaystyle \\infty$"
     },
     "execution_count": 22,
     "metadata": {},
     "output_type": "execute_result"
    }
   ],
   "execution_count": 22
  },
  {
   "metadata": {
    "ExecuteTime": {
     "end_time": "2024-11-23T11:53:55.281282Z",
     "start_time": "2024-11-23T11:53:55.273331Z"
    }
   },
   "cell_type": "code",
   "source": [
    "from sympy import Symbol, limit, oo\n",
    "x = Symbol(\"x\")\n",
    "f = (x**3)/(x**2-1)\n",
    "limit(f,x,-1)"
   ],
   "id": "159862eaf5e6eb5",
   "outputs": [
    {
     "data": {
      "text/plain": [
       "oo"
      ],
      "text/latex": "$\\displaystyle \\infty$"
     },
     "execution_count": 23,
     "metadata": {},
     "output_type": "execute_result"
    }
   ],
   "execution_count": 23
  },
  {
   "metadata": {
    "ExecuteTime": {
     "end_time": "2024-11-23T11:55:04.573171Z",
     "start_time": "2024-11-23T11:55:04.563338Z"
    }
   },
   "cell_type": "code",
   "source": [
    "from sympy import Symbol, limit, oo\n",
    "x = Symbol(\"x\")\n",
    "f = (x**3)/((x**2-1)*x)\n",
    "limit(f,x,oo)"
   ],
   "id": "a001308d74e1f51",
   "outputs": [
    {
     "data": {
      "text/plain": [
       "1"
      ],
      "text/latex": "$\\displaystyle 1$"
     },
     "execution_count": 24,
     "metadata": {},
     "output_type": "execute_result"
    }
   ],
   "execution_count": 24
  },
  {
   "metadata": {
    "ExecuteTime": {
     "end_time": "2024-11-23T11:56:07.159148Z",
     "start_time": "2024-11-23T11:56:06.207946Z"
    }
   },
   "cell_type": "code",
   "outputs": [
    {
     "data": {
      "text/plain": [
       "0"
      ],
      "text/latex": "$\\displaystyle 0$"
     },
     "execution_count": 25,
     "metadata": {},
     "output_type": "execute_result"
    }
   ],
   "execution_count": 25,
   "source": [
    "from sympy import Symbol, limit, oo\n",
    "x = Symbol(\"x\")\n",
    "f = (x**3)/((x**2-1)) - 1*x\n",
    "limit(f,x,oo)"
   ],
   "id": "6b5abd7c6ed688d6"
  },
  {
   "metadata": {},
   "cell_type": "markdown",
   "source": "# Задание 8",
   "id": "4d7d47826cf37e54"
  },
  {
   "metadata": {
    "ExecuteTime": {
     "end_time": "2024-11-23T12:02:56.257661Z",
     "start_time": "2024-11-23T12:02:56.242025Z"
    }
   },
   "cell_type": "code",
   "source": [
    "x = Symbol(\"x\")\n",
    "f = (x**3)/(2*((x+5)**2))\n",
    "continuous_domain(f, x, S.Reals)"
   ],
   "id": "1da5eafab497ff86",
   "outputs": [
    {
     "data": {
      "text/plain": [
       "Union(Interval.open(-oo, -5), Interval.open(-5, oo))"
      ],
      "text/latex": "$\\displaystyle \\left(-\\infty, -5\\right) \\cup \\left(-5, \\infty\\right)$"
     },
     "execution_count": 26,
     "metadata": {},
     "output_type": "execute_result"
    }
   ],
   "execution_count": 26
  },
  {
   "metadata": {
    "ExecuteTime": {
     "end_time": "2024-11-23T12:03:32.095228Z",
     "start_time": "2024-11-23T12:03:31.717464Z"
    }
   },
   "cell_type": "code",
   "source": "function_range(f, x, S.Reals)",
   "id": "5bb57cffa14848c5",
   "outputs": [
    {
     "data": {
      "text/plain": [
       "Interval(-oo, oo)"
      ],
      "text/latex": "$\\displaystyle \\left(-\\infty, \\infty\\right)$"
     },
     "execution_count": 27,
     "metadata": {},
     "output_type": "execute_result"
    }
   ],
   "execution_count": 27
  },
  {
   "metadata": {
    "ExecuteTime": {
     "end_time": "2024-11-23T12:04:38.538124Z",
     "start_time": "2024-11-23T12:04:38.493740Z"
    }
   },
   "cell_type": "code",
   "source": "solveset(Eq(f, 0), x)",
   "id": "eab41a061104f92b",
   "outputs": [
    {
     "data": {
      "text/plain": [
       "{0}"
      ],
      "text/latex": "$\\displaystyle \\left\\{0\\right\\}$"
     },
     "execution_count": 28,
     "metadata": {},
     "output_type": "execute_result"
    }
   ],
   "execution_count": 28
  },
  {
   "metadata": {
    "ExecuteTime": {
     "end_time": "2024-11-23T12:05:11.433559Z",
     "start_time": "2024-11-23T12:05:11.426416Z"
    }
   },
   "cell_type": "code",
   "source": "f.subs(x, 0)",
   "id": "e3c622328fa9a126",
   "outputs": [
    {
     "data": {
      "text/plain": [
       "0"
      ],
      "text/latex": "$\\displaystyle 0$"
     },
     "execution_count": 29,
     "metadata": {},
     "output_type": "execute_result"
    }
   ],
   "execution_count": 29
  },
  {
   "metadata": {
    "ExecuteTime": {
     "end_time": "2024-11-23T13:32:35.873616Z",
     "start_time": "2024-11-23T13:32:35.862426Z"
    }
   },
   "cell_type": "code",
   "source": [
    "fd = f.diff(x)\n",
    "fd"
   ],
   "id": "ee602b8e9b8f03f6",
   "outputs": [
    {
     "data": {
      "text/plain": [
       "-x**3/(x + 5)**3 + 3*x**2/(2*(x + 5)**2)"
      ],
      "text/latex": "$\\displaystyle - \\frac{x^{3}}{\\left(x + 5\\right)^{3}} + \\frac{3 x^{2}}{2 \\left(x + 5\\right)^{2}}$"
     },
     "execution_count": 32,
     "metadata": {},
     "output_type": "execute_result"
    }
   ],
   "execution_count": 32
  },
  {
   "metadata": {
    "ExecuteTime": {
     "end_time": "2024-11-23T13:33:04.257509Z",
     "start_time": "2024-11-23T13:33:04.004223Z"
    }
   },
   "cell_type": "code",
   "source": "solveset(Eq(fd, 0), x)",
   "id": "25f2ab4ef498b960",
   "outputs": [
    {
     "data": {
      "text/plain": [
       "{-15, 0}"
      ],
      "text/latex": "$\\displaystyle \\left\\{-15, 0\\right\\}$"
     },
     "execution_count": 33,
     "metadata": {},
     "output_type": "execute_result"
    }
   ],
   "execution_count": 33
  },
  {
   "metadata": {
    "ExecuteTime": {
     "end_time": "2024-11-23T13:39:13.991331Z",
     "start_time": "2024-11-23T13:39:13.983540Z"
    }
   },
   "cell_type": "code",
   "source": "fd.subs(x, -20)",
   "id": "19841303baeffcde",
   "outputs": [
    {
     "data": {
      "text/plain": [
       "8/27"
      ],
      "text/latex": "$\\displaystyle \\frac{8}{27}$"
     },
     "execution_count": 34,
     "metadata": {},
     "output_type": "execute_result"
    }
   ],
   "execution_count": 34
  },
  {
   "metadata": {
    "ExecuteTime": {
     "end_time": "2024-11-23T13:39:34.892765Z",
     "start_time": "2024-11-23T13:39:34.885813Z"
    }
   },
   "cell_type": "code",
   "source": "fd.subs(x, -10)",
   "id": "ebf7226cf3e2503a",
   "outputs": [
    {
     "data": {
      "text/plain": [
       "-2"
      ],
      "text/latex": "$\\displaystyle -2$"
     },
     "execution_count": 35,
     "metadata": {},
     "output_type": "execute_result"
    }
   ],
   "execution_count": 35
  },
  {
   "metadata": {
    "ExecuteTime": {
     "end_time": "2024-11-23T13:39:53.362710Z",
     "start_time": "2024-11-23T13:39:53.214289Z"
    }
   },
   "cell_type": "code",
   "source": "fd.subs(x, -0.5)",
   "id": "3b1e20d54d0759db",
   "outputs": [
    {
     "data": {
      "text/plain": [
       "0.0198902606310014"
      ],
      "text/latex": "$\\displaystyle 0.0198902606310014$"
     },
     "execution_count": 36,
     "metadata": {},
     "output_type": "execute_result"
    }
   ],
   "execution_count": 36
  },
  {
   "metadata": {
    "ExecuteTime": {
     "end_time": "2024-11-23T13:40:21.578308Z",
     "start_time": "2024-11-23T13:40:21.570913Z"
    }
   },
   "cell_type": "code",
   "source": "fd.subs(x, 2)",
   "id": "4262082102e8d56b",
   "outputs": [
    {
     "data": {
      "text/plain": [
       "34/343"
      ],
      "text/latex": "$\\displaystyle \\frac{34}{343}$"
     },
     "execution_count": 38,
     "metadata": {},
     "output_type": "execute_result"
    }
   ],
   "execution_count": 38
  },
  {
   "metadata": {
    "ExecuteTime": {
     "end_time": "2024-11-23T15:41:32.156236Z",
     "start_time": "2024-11-23T15:41:32.103824Z"
    }
   },
   "cell_type": "code",
   "source": [
    "fdd = fd.diff(x)\n",
    "fdd"
   ],
   "id": "c1ad063e88dc611d",
   "outputs": [
    {
     "data": {
      "text/plain": [
       "3*x**3/(x + 5)**4 - 6*x**2/(x + 5)**3 + 3*x/(x + 5)**2"
      ],
      "text/latex": "$\\displaystyle \\frac{3 x^{3}}{\\left(x + 5\\right)^{4}} - \\frac{6 x^{2}}{\\left(x + 5\\right)^{3}} + \\frac{3 x}{\\left(x + 5\\right)^{2}}$"
     },
     "execution_count": 40,
     "metadata": {},
     "output_type": "execute_result"
    }
   ],
   "execution_count": 40
  },
  {
   "metadata": {
    "ExecuteTime": {
     "end_time": "2024-11-23T15:41:48.886543Z",
     "start_time": "2024-11-23T15:41:48.251641Z"
    }
   },
   "cell_type": "code",
   "source": "solveset(Eq(fdd, 0), x)",
   "id": "4fe6bf2d62ffac6c",
   "outputs": [
    {
     "data": {
      "text/plain": [
       "{0}"
      ],
      "text/latex": "$\\displaystyle \\left\\{0\\right\\}$"
     },
     "execution_count": 41,
     "metadata": {},
     "output_type": "execute_result"
    }
   ],
   "execution_count": 41
  },
  {
   "metadata": {
    "ExecuteTime": {
     "end_time": "2024-11-23T15:43:32.491429Z",
     "start_time": "2024-11-23T15:43:32.484375Z"
    }
   },
   "cell_type": "code",
   "source": "fdd.subs(x, -10)",
   "id": "3ed04331870ec597",
   "outputs": [
    {
     "data": {
      "text/plain": [
       "-6/5"
      ],
      "text/latex": "$\\displaystyle - \\frac{6}{5}$"
     },
     "execution_count": 42,
     "metadata": {},
     "output_type": "execute_result"
    }
   ],
   "execution_count": 42
  },
  {
   "metadata": {
    "ExecuteTime": {
     "end_time": "2024-11-23T15:43:46.719034Z",
     "start_time": "2024-11-23T15:43:46.711771Z"
    }
   },
   "cell_type": "code",
   "source": "fdd.subs(x, -2)",
   "id": "5c4659b242cdadf3",
   "outputs": [
    {
     "data": {
      "text/plain": [
       "-50/27"
      ],
      "text/latex": "$\\displaystyle - \\frac{50}{27}$"
     },
     "execution_count": 43,
     "metadata": {},
     "output_type": "execute_result"
    }
   ],
   "execution_count": 43
  },
  {
   "metadata": {
    "ExecuteTime": {
     "end_time": "2024-11-23T15:43:58.292332Z",
     "start_time": "2024-11-23T15:43:58.284713Z"
    }
   },
   "cell_type": "code",
   "source": "fdd.subs(x, 2)",
   "id": "137140896ea67cd7",
   "outputs": [
    {
     "data": {
      "text/plain": [
       "150/2401"
      ],
      "text/latex": "$\\displaystyle \\frac{150}{2401}$"
     },
     "execution_count": 44,
     "metadata": {},
     "output_type": "execute_result"
    }
   ],
   "execution_count": 44
  },
  {
   "metadata": {
    "ExecuteTime": {
     "end_time": "2024-11-23T15:46:23.724041Z",
     "start_time": "2024-11-23T15:46:23.469870Z"
    }
   },
   "cell_type": "code",
   "source": [
    "f = -x**3 + 3*(x**2)+9\n",
    "continuous_domain(f, x, S.Reals)"
   ],
   "id": "8429ec7cab5cffb1",
   "outputs": [
    {
     "data": {
      "text/plain": [
       "Reals"
      ],
      "text/latex": "$\\displaystyle \\mathbb{R}$"
     },
     "execution_count": 45,
     "metadata": {},
     "output_type": "execute_result"
    }
   ],
   "execution_count": 45
  },
  {
   "metadata": {
    "ExecuteTime": {
     "end_time": "2024-11-23T15:46:56.533252Z",
     "start_time": "2024-11-23T15:46:56.525854Z"
    }
   },
   "cell_type": "code",
   "source": [
    "fd = f.diff(x)\n",
    "fd"
   ],
   "id": "6245c0e01137dcaf",
   "outputs": [
    {
     "data": {
      "text/plain": [
       "-3*x**2 + 6*x"
      ],
      "text/latex": "$\\displaystyle - 3 x^{2} + 6 x$"
     },
     "execution_count": 47,
     "metadata": {},
     "output_type": "execute_result"
    }
   ],
   "execution_count": 47
  },
  {
   "metadata": {
    "ExecuteTime": {
     "end_time": "2024-11-23T15:47:26.447918Z",
     "start_time": "2024-11-23T15:47:26.081854Z"
    }
   },
   "cell_type": "code",
   "source": "solveset(Eq(fd, 0), x)",
   "id": "5f6c25b9071c25a2",
   "outputs": [
    {
     "data": {
      "text/plain": [
       "{0, 2}"
      ],
      "text/latex": "$\\displaystyle \\left\\{0, 2\\right\\}$"
     },
     "execution_count": 48,
     "metadata": {},
     "output_type": "execute_result"
    }
   ],
   "execution_count": 48
  },
  {
   "metadata": {
    "ExecuteTime": {
     "end_time": "2024-11-23T15:47:41.120867Z",
     "start_time": "2024-11-23T15:47:41.113809Z"
    }
   },
   "cell_type": "code",
   "source": "fd.subs(x, -1)",
   "id": "5132e662b35f25c5",
   "outputs": [
    {
     "data": {
      "text/plain": [
       "-9"
      ],
      "text/latex": "$\\displaystyle -9$"
     },
     "execution_count": 49,
     "metadata": {},
     "output_type": "execute_result"
    }
   ],
   "execution_count": 49
  },
  {
   "metadata": {
    "ExecuteTime": {
     "end_time": "2024-11-23T15:47:53.883769Z",
     "start_time": "2024-11-23T15:47:53.877141Z"
    }
   },
   "cell_type": "code",
   "source": "fd.subs(x, 1)",
   "id": "dc90ee2b6d3b2722",
   "outputs": [
    {
     "data": {
      "text/plain": [
       "3"
      ],
      "text/latex": "$\\displaystyle 3$"
     },
     "execution_count": 50,
     "metadata": {},
     "output_type": "execute_result"
    }
   ],
   "execution_count": 50
  },
  {
   "metadata": {
    "ExecuteTime": {
     "end_time": "2024-11-23T15:48:00.297014Z",
     "start_time": "2024-11-23T15:48:00.288248Z"
    }
   },
   "cell_type": "code",
   "source": "fd.subs(x, 3)",
   "id": "965657b44df653eb",
   "outputs": [
    {
     "data": {
      "text/plain": [
       "-9"
      ],
      "text/latex": "$\\displaystyle -9$"
     },
     "execution_count": 51,
     "metadata": {},
     "output_type": "execute_result"
    }
   ],
   "execution_count": 51
  },
  {
   "metadata": {
    "ExecuteTime": {
     "end_time": "2024-11-23T15:49:17.424764Z",
     "start_time": "2024-11-23T15:49:17.417166Z"
    }
   },
   "cell_type": "code",
   "source": [
    "f = log(x) + x**3\n",
    "f.diff(x)"
   ],
   "id": "af5bdd1b82e68f4e",
   "outputs": [
    {
     "data": {
      "text/plain": [
       "3*x**2 + 1/x"
      ],
      "text/latex": "$\\displaystyle 3 x^{2} + \\frac{1}{x}$"
     },
     "execution_count": 52,
     "metadata": {},
     "output_type": "execute_result"
    }
   ],
   "execution_count": 52
  },
  {
   "metadata": {
    "ExecuteTime": {
     "end_time": "2024-11-23T15:50:50.190272Z",
     "start_time": "2024-11-23T15:50:50.180602Z"
    }
   },
   "cell_type": "code",
   "source": [
    "f = -((x**2 + 1) / x)\n",
    "fd = f.diff(x)\n",
    "fd"
   ],
   "id": "1607bce6b463abf7",
   "outputs": [
    {
     "data": {
      "text/plain": [
       "-2 + (x**2 + 1)/x**2"
      ],
      "text/latex": "$\\displaystyle -2 + \\frac{x^{2} + 1}{x^{2}}$"
     },
     "execution_count": 53,
     "metadata": {},
     "output_type": "execute_result"
    }
   ],
   "execution_count": 53
  },
  {
   "metadata": {
    "ExecuteTime": {
     "end_time": "2024-11-23T15:51:01.368676Z",
     "start_time": "2024-11-23T15:51:01.340324Z"
    }
   },
   "cell_type": "code",
   "source": "solveset(Eq(fd, 0), x)",
   "id": "7e98d4f7baff6b96",
   "outputs": [
    {
     "data": {
      "text/plain": [
       "{-1, 1}"
      ],
      "text/latex": "$\\displaystyle \\left\\{-1, 1\\right\\}$"
     },
     "execution_count": 54,
     "metadata": {},
     "output_type": "execute_result"
    }
   ],
   "execution_count": 54
  },
  {
   "metadata": {
    "ExecuteTime": {
     "end_time": "2024-11-23T15:51:17.114659Z",
     "start_time": "2024-11-23T15:51:17.108179Z"
    }
   },
   "cell_type": "code",
   "source": "fd.subs(x, -2)",
   "id": "e1540ca8e6c7610",
   "outputs": [
    {
     "data": {
      "text/plain": [
       "-3/4"
      ],
      "text/latex": "$\\displaystyle - \\frac{3}{4}$"
     },
     "execution_count": 55,
     "metadata": {},
     "output_type": "execute_result"
    }
   ],
   "execution_count": 55
  },
  {
   "metadata": {
    "ExecuteTime": {
     "end_time": "2024-11-23T15:52:08.906219Z",
     "start_time": "2024-11-23T15:52:08.898001Z"
    }
   },
   "cell_type": "code",
   "source": "fd.subs(x, -0.5)",
   "id": "713ae8e72a9dedb9",
   "outputs": [
    {
     "data": {
      "text/plain": [
       "3.00000000000000"
      ],
      "text/latex": "$\\displaystyle 3.0$"
     },
     "execution_count": 57,
     "metadata": {},
     "output_type": "execute_result"
    }
   ],
   "execution_count": 57
  },
  {
   "metadata": {
    "ExecuteTime": {
     "end_time": "2024-11-23T15:52:19.235065Z",
     "start_time": "2024-11-23T15:52:19.227098Z"
    }
   },
   "cell_type": "code",
   "source": "fd.subs(x, 0.5)",
   "id": "c4b9e5350b582134",
   "outputs": [
    {
     "data": {
      "text/plain": [
       "3.00000000000000"
      ],
      "text/latex": "$\\displaystyle 3.0$"
     },
     "execution_count": 58,
     "metadata": {},
     "output_type": "execute_result"
    }
   ],
   "execution_count": 58
  },
  {
   "metadata": {
    "ExecuteTime": {
     "end_time": "2024-11-23T15:52:27.091099Z",
     "start_time": "2024-11-23T15:52:27.083776Z"
    }
   },
   "cell_type": "code",
   "source": "fd.subs(x, 2)",
   "id": "43810bfb8cd1b16b",
   "outputs": [
    {
     "data": {
      "text/plain": [
       "-3/4"
      ],
      "text/latex": "$\\displaystyle - \\frac{3}{4}$"
     },
     "execution_count": 59,
     "metadata": {},
     "output_type": "execute_result"
    }
   ],
   "execution_count": 59
  },
  {
   "metadata": {},
   "cell_type": "code",
   "outputs": [],
   "execution_count": null,
   "source": "",
   "id": "4f8968de9c6e7f56"
  }
 ],
 "metadata": {
  "kernelspec": {
   "display_name": "Python 3",
   "language": "python",
   "name": "python3"
  },
  "language_info": {
   "codemirror_mode": {
    "name": "ipython",
    "version": 2
   },
   "file_extension": ".py",
   "mimetype": "text/x-python",
   "name": "python",
   "nbconvert_exporter": "python",
   "pygments_lexer": "ipython2",
   "version": "2.7.6"
  }
 },
 "nbformat": 4,
 "nbformat_minor": 5
}
