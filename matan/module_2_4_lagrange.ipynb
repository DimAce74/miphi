{
 "cells": [
  {
   "cell_type": "code",
   "id": "initial_id",
   "metadata": {
    "collapsed": true,
    "ExecuteTime": {
     "end_time": "2024-12-07T22:03:57.094689Z",
     "start_time": "2024-12-07T22:03:57.088401Z"
    }
   },
   "source": [
    "import numpy as np\n",
    "from sympy import *"
   ],
   "outputs": [],
   "execution_count": 36
  },
  {
   "metadata": {
    "ExecuteTime": {
     "end_time": "2024-12-07T14:23:09.006765Z",
     "start_time": "2024-12-07T14:23:08.908268Z"
    }
   },
   "cell_type": "code",
   "source": [
    "x,y,l = symbols('x, y, l')\n",
    "f = 2*x + y + l*(x**2 + y**2 - 1)\n",
    "fdx = f.diff(x)\n",
    "fdy = f.diff(y)\n",
    "fdl = f.diff(l)\n",
    "print(fdx, fdy, fdl)"
   ],
   "id": "b954dc8b93bcb746",
   "outputs": [
    {
     "name": "stdout",
     "output_type": "stream",
     "text": [
      "2*l*x + 2 2*l*y + 1 x**2 + y**2 - 1\n"
     ]
    }
   ],
   "execution_count": 2
  },
  {
   "metadata": {
    "ExecuteTime": {
     "end_time": "2024-12-07T14:25:25.571214Z",
     "start_time": "2024-12-07T14:25:25.258734Z"
    }
   },
   "cell_type": "code",
   "source": [
    "extr = solve([Eq(fdx, 0), Eq(fdy, 0), Eq(fdl, 0)], [x,y,l])\n",
    "extr"
   ],
   "id": "4e0c6061e403ca54",
   "outputs": [
    {
     "data": {
      "text/plain": [
       "[(2*sqrt(5)/5, sqrt(5)/5, -sqrt(5)/2), (-2*sqrt(5)/5, -sqrt(5)/5, sqrt(5)/2)]"
      ]
     },
     "execution_count": 3,
     "metadata": {},
     "output_type": "execute_result"
    }
   ],
   "execution_count": 3
  },
  {
   "metadata": {
    "ExecuteTime": {
     "end_time": "2024-12-07T14:36:55.654547Z",
     "start_time": "2024-12-07T14:36:55.648085Z"
    }
   },
   "cell_type": "code",
   "source": [
    "print(float(f.subs({x:extr[0][0], y:extr[0][1]})))\n",
    "print(float(f.subs({x:extr[1][0], y:extr[1][1]})))"
   ],
   "id": "f52cbbb804eae58",
   "outputs": [
    {
     "name": "stdout",
     "output_type": "stream",
     "text": [
      "2.23606797749979\n",
      "-2.23606797749979\n"
     ]
    }
   ],
   "execution_count": 8
  },
  {
   "metadata": {
    "ExecuteTime": {
     "end_time": "2024-12-07T14:40:34.727569Z",
     "start_time": "2024-12-07T14:40:34.715292Z"
    }
   },
   "cell_type": "code",
   "source": [
    "x,y,l = symbols('x, y, l')\n",
    "f = 4*x + 3*y + l*(x**2 + y**2 - 1)\n",
    "fdx = f.diff(x)\n",
    "fdy = f.diff(y)\n",
    "fdl = f.diff(l)\n",
    "print(fdx, fdy, fdl)"
   ],
   "id": "e307541333ae00bb",
   "outputs": [
    {
     "name": "stdout",
     "output_type": "stream",
     "text": [
      "2*l*x + 4 2*l*y + 3 x**2 + y**2 - 1\n"
     ]
    }
   ],
   "execution_count": 9
  },
  {
   "metadata": {
    "ExecuteTime": {
     "end_time": "2024-12-07T14:40:45.239665Z",
     "start_time": "2024-12-07T14:40:45.207063Z"
    }
   },
   "cell_type": "code",
   "source": [
    "extr = solve([Eq(fdx, 0), Eq(fdy, 0), Eq(fdl, 0)], [x,y,l])\n",
    "extr"
   ],
   "id": "8718ba141b325634",
   "outputs": [
    {
     "data": {
      "text/plain": [
       "[(4/5, 3/5, -5/2), (-4/5, -3/5, 5/2)]"
      ]
     },
     "execution_count": 10,
     "metadata": {},
     "output_type": "execute_result"
    }
   ],
   "execution_count": 10
  },
  {
   "metadata": {
    "ExecuteTime": {
     "end_time": "2024-12-07T14:40:56.598865Z",
     "start_time": "2024-12-07T14:40:56.591415Z"
    }
   },
   "cell_type": "code",
   "source": [
    "print(float(f.subs({x:extr[0][0], y:extr[0][1]})))\n",
    "print(float(f.subs({x:extr[1][0], y:extr[1][1]})))"
   ],
   "id": "e8dd714ad7b90b11",
   "outputs": [
    {
     "name": "stdout",
     "output_type": "stream",
     "text": [
      "5.0\n",
      "-5.0\n"
     ]
    }
   ],
   "execution_count": 11
  },
  {
   "metadata": {
    "ExecuteTime": {
     "end_time": "2024-12-07T17:07:22.614186Z",
     "start_time": "2024-12-07T17:07:22.599186Z"
    }
   },
   "cell_type": "code",
   "source": [
    "x,y,l = symbols('x, y, l')\n",
    "f = -1*x*y + l*(x + y - 10)\n",
    "fdx = f.diff(x)\n",
    "fdy = f.diff(y)\n",
    "fdl = f.diff(l)\n",
    "extr = solve([Eq(fdx, 0), Eq(fdy, 0), Eq(fdl, 0)], [x,y,l])\n",
    "extr"
   ],
   "id": "19e802daceea9482",
   "outputs": [
    {
     "data": {
      "text/plain": [
       "{l: 5, x: 5, y: 5}"
      ]
     },
     "execution_count": 15,
     "metadata": {},
     "output_type": "execute_result"
    }
   ],
   "execution_count": 15
  },
  {
   "metadata": {
    "ExecuteTime": {
     "end_time": "2024-12-07T17:34:02.239471Z",
     "start_time": "2024-12-07T17:34:02.232164Z"
    }
   },
   "cell_type": "code",
   "source": [
    "\n",
    "print(float(f.subs({x:5, y:5})))"
   ],
   "id": "89c0feaf1f9ce53d",
   "outputs": [
    {
     "name": "stdout",
     "output_type": "stream",
     "text": [
      "-25.0\n"
     ]
    }
   ],
   "execution_count": 17
  },
  {
   "metadata": {
    "ExecuteTime": {
     "end_time": "2024-12-07T17:38:54.794160Z",
     "start_time": "2024-12-07T17:38:53.524064Z"
    }
   },
   "cell_type": "code",
   "source": [
    "h,s,l = symbols('h, s, l')\n",
    "f = 200*h**(2/3)*s**(1/3) - l*(20*h + 170*s - 20000)\n",
    "fdh = f.diff(h)\n",
    "fds = f.diff(s)\n",
    "fdl = f.diff(l)\n",
    "extr = solve([Eq(fdh, 0), Eq(fds, 0), Eq(fdl, 0)], [h,s,l])\n",
    "extr"
   ],
   "id": "dcc027dbf8df85da",
   "outputs": [
    {
     "data": {
      "text/plain": [
       "[(666.666666666667, 39.2156862745098, 2.59274079155214)]"
      ]
     },
     "execution_count": 18,
     "metadata": {},
     "output_type": "execute_result"
    }
   ],
   "execution_count": 18
  },
  {
   "metadata": {
    "ExecuteTime": {
     "end_time": "2024-12-07T17:43:01.364461Z",
     "start_time": "2024-12-07T17:43:01.356533Z"
    }
   },
   "cell_type": "code",
   "source": "print(200*round(extr[0][0])**(2/3)*round(extr[0][1])**(1/3))",
   "id": "3d8b272fa22c0634",
   "outputs": [
    {
     "name": "stdout",
     "output_type": "stream",
     "text": [
      "51776.8255982103\n"
     ]
    }
   ],
   "execution_count": 23
  },
  {
   "metadata": {
    "ExecuteTime": {
     "end_time": "2024-12-07T17:45:03.249540Z",
     "start_time": "2024-12-07T17:45:03.212949Z"
    }
   },
   "cell_type": "code",
   "source": [
    "a,b,w=symbols(' a b w' )\n",
    "g = 3*a**2 + a + 4*b + 5*b**2\n",
    "print('Целевая функция для аргументов a и b :\\n f = ', g)\n",
    "q = a + b - 200\n",
    "print('Функция ограничений: ', q,'= 0')\n",
    "f = 3*a**2 + a + 4*b + 5*b**2 + w*(a + b - 200)\n",
    "print('Функция Лагранжа :\\n ',f)\n",
    "fa = f.diff(a)\n",
    "print('df/da =',fa,'= 0')\n",
    "fb = f.diff(b)\n",
    "print('df/db =',fb,'= 0')\n",
    "fw = f.diff(w)\n",
    "print('df/dw =',fw,'= 0')\n",
    "sols = solve([fa,fb,fw],a,b,w)\n",
    "print('Стационарная точка M(x,y):\\n',float(sols[a]),',',float(sols[b]))\n",
    "\n",
    "#Целевая функция для аргументов a и b :\n",
    "#f =  3*a**2 + a + 5*b**2 + 4*b\n",
    "#Функция ограничений:  a + b - 200 = 0\n",
    "#Функция Лагранжа :\n",
    "#3*a**2 + a + 5*b**2 + 4*b + w*(a + b - 200)\n",
    "#df/da = 6*a + w + 1 = 0\n",
    "#df/db = 10*b + w + 4 = 0\n",
    "#df/dw = a + b - 200 = 0\n",
    "#Стационарная точка M(x,y):\n",
    "#125.1875 , 74.8125"
   ],
   "id": "3ab490a63cd4ed16",
   "outputs": [
    {
     "name": "stdout",
     "output_type": "stream",
     "text": [
      "Целевая функция для аргументов a и b :\n",
      " f =  3*a**2 + a + 5*b**2 + 4*b\n",
      "Функция ограничений:  a + b - 200 = 0\n",
      "Функция Лагранжа :\n",
      "  3*a**2 + a + 5*b**2 + 4*b + w*(a + b - 200)\n",
      "df/da = 6*a + w + 1 = 0\n",
      "df/db = 10*b + w + 4 = 0\n",
      "df/dw = a + b - 200 = 0\n",
      "Стационарная точка M(x,y):\n",
      " 125.1875 , 74.8125\n"
     ]
    }
   ],
   "execution_count": 24
  },
  {
   "metadata": {
    "ExecuteTime": {
     "end_time": "2024-12-07T21:11:10.739357Z",
     "start_time": "2024-12-07T21:11:10.724533Z"
    }
   },
   "cell_type": "code",
   "source": [
    "x,y,l = symbols('x, y, l')\n",
    "f = (2-x)**2 + (1-y)**2\n",
    "fl = f + l*(x + y - 1)\n",
    "fdx = fl.diff(x)\n",
    "fdy = fl.diff(y)\n",
    "fdl = fl.diff(l)\n",
    "extr = solve([Eq(fdx, 0), Eq(fdy, 0), Eq(fdl, 0)], [x,y,l])\n",
    "extr"
   ],
   "id": "1d34d40cca719e9c",
   "outputs": [
    {
     "data": {
      "text/plain": [
       "{l: 2, x: 1, y: 0}"
      ]
     },
     "execution_count": 28,
     "metadata": {},
     "output_type": "execute_result"
    }
   ],
   "execution_count": 28
  },
  {
   "metadata": {
    "ExecuteTime": {
     "end_time": "2024-12-07T21:12:00.698511Z",
     "start_time": "2024-12-07T21:12:00.686507Z"
    }
   },
   "cell_type": "code",
   "source": "print(float(f.subs(extr)))",
   "id": "7cd9705ef737c6c4",
   "outputs": [
    {
     "name": "stdout",
     "output_type": "stream",
     "text": [
      "2.0\n"
     ]
    }
   ],
   "execution_count": 29
  },
  {
   "metadata": {
    "ExecuteTime": {
     "end_time": "2024-12-07T21:17:28.707081Z",
     "start_time": "2024-12-07T21:17:28.259447Z"
    }
   },
   "cell_type": "code",
   "source": [
    "x,y,z,l = symbols('x, y, z, l')\n",
    "f = x*y*2 + x*z*2 + z*y*2\n",
    "fl = f + l*(x*y*z - 1)\n",
    "fdx = fl.diff(x)\n",
    "fdy = fl.diff(y)\n",
    "fdz = fl.diff(z)\n",
    "fdl = fl.diff(l)\n",
    "extr = solve([Eq(fdx, 0), Eq(fdy, 0), Eq(fdz, 0), Eq(fdl, 0)], [x,y,z,l])\n",
    "extr"
   ],
   "id": "ee8909f12609bbf",
   "outputs": [
    {
     "data": {
      "text/plain": [
       "[(1, 1, 1, -4),\n",
       " (-1/2 - sqrt(3)*I/2, -1/2 - sqrt(3)*I/2, -1/2 - sqrt(3)*I/2, 2 - 2*sqrt(3)*I),\n",
       " (-1/2 + sqrt(3)*I/2, -1/2 + sqrt(3)*I/2, -1/2 + sqrt(3)*I/2, 2 + 2*sqrt(3)*I)]"
      ]
     },
     "execution_count": 31,
     "metadata": {},
     "output_type": "execute_result"
    }
   ],
   "execution_count": 31
  },
  {
   "metadata": {
    "ExecuteTime": {
     "end_time": "2024-12-07T21:20:43.865971Z",
     "start_time": "2024-12-07T21:20:43.856599Z"
    }
   },
   "cell_type": "code",
   "source": [
    "for point in extr:\n",
    "    print(f.subs({x: point[0], y: point[1], z: point[2]}))"
   ],
   "id": "42c019cc6a5bbfe3",
   "outputs": [
    {
     "name": "stdout",
     "output_type": "stream",
     "text": [
      "6\n",
      "6*(-1/2 - sqrt(3)*I/2)**2\n",
      "6*(-1/2 + sqrt(3)*I/2)**2\n"
     ]
    }
   ],
   "execution_count": 33
  },
  {
   "metadata": {
    "ExecuteTime": {
     "end_time": "2024-12-07T21:26:05.437129Z",
     "start_time": "2024-12-07T21:26:05.385619Z"
    }
   },
   "cell_type": "code",
   "source": [
    "# Подключаем аккуратный вывод формул\n",
    "init_printing()\n",
    "\n",
    "# Создаём переменные\n",
    "x1, x2, x1_tilde, lambda1, lambda2 = symbols(\n",
    "    \"x_1 x_2 xtilde_2 lambda_1 lambda_2\", real=True\n",
    ")\n",
    "\n",
    "# Пишем систему уравнений для переменных\n",
    "dLdx1 = -x2 + lambda1 - lambda2\n",
    "dLdx2 = -x1 + lambda1\n",
    "dLdx1_tilde = 2 * lambda2 * x1_tilde\n",
    "dLdlambda1 = x1 + x2 - 10\n",
    "dLdlambda2 = -x1 + 6 + x1_tilde**2\n",
    "\n",
    "# Решаем систему уравнений с помощью функции solve\n",
    "solution = solve(\n",
    "    [dLdx1, dLdx2, dLdx1_tilde, dLdlambda1, dLdlambda2],\n",
    "    x1,\n",
    "    x2,\n",
    "    x1_tilde,\n",
    "    lambda1,\n",
    "    lambda2,\n",
    ")\n",
    "\n",
    "print(solution)"
   ],
   "id": "5c3d91b3087bc0fd",
   "outputs": [
    {
     "name": "stdout",
     "output_type": "stream",
     "text": [
      "[(6, 4, 0, 6, 2)]\n"
     ]
    }
   ],
   "execution_count": 35
  },
  {
   "metadata": {},
   "cell_type": "code",
   "outputs": [],
   "execution_count": null,
   "source": "",
   "id": "a44c43f0e37910ff"
  }
 ],
 "metadata": {
  "kernelspec": {
   "display_name": "Python 3",
   "language": "python",
   "name": "python3"
  },
  "language_info": {
   "codemirror_mode": {
    "name": "ipython",
    "version": 2
   },
   "file_extension": ".py",
   "mimetype": "text/x-python",
   "name": "python",
   "nbconvert_exporter": "python",
   "pygments_lexer": "ipython2",
   "version": "2.7.6"
  }
 },
 "nbformat": 4,
 "nbformat_minor": 5
}
