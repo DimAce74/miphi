{
 "cells": [
  {
   "cell_type": "code",
   "id": "initial_id",
   "metadata": {
    "collapsed": true,
    "ExecuteTime": {
     "end_time": "2024-12-21T18:03:50.101009Z",
     "start_time": "2024-12-21T18:03:50.095841Z"
    }
   },
   "source": [
    "import numpy as np\n",
    "from holoviews.examples.gallery.apps.bokeh.game_of_life import panel\n",
    "from scipy import stats\n",
    "from scipy.integrate import quad\n",
    "from scipy.special.cython_special import binom\n",
    "from sympy import symbols, Eq, solve, exp"
   ],
   "outputs": [],
   "execution_count": 31
  },
  {
   "metadata": {},
   "cell_type": "markdown",
   "source": "# Раздел 1",
   "id": "68671dd79f87e11d"
  },
  {
   "metadata": {
    "ExecuteTime": {
     "end_time": "2024-12-21T16:45:08.164237Z",
     "start_time": "2024-12-21T16:45:08.157389Z"
    }
   },
   "cell_type": "code",
   "source": "X = np.array([10,7,14,15,7,10,23,15,15,21,19,18,11,23,23,23,17,18,7,14])\n",
   "id": "78841c251a7c918c",
   "outputs": [],
   "execution_count": 2
  },
  {
   "metadata": {
    "ExecuteTime": {
     "end_time": "2024-12-21T16:45:18.029446Z",
     "start_time": "2024-12-21T16:45:18.020071Z"
    }
   },
   "cell_type": "code",
   "source": [
    "# 1.1\n",
    "X.mean()"
   ],
   "id": "e2ff7a40f2c663f1",
   "outputs": [
    {
     "data": {
      "text/plain": [
       "15.5"
      ]
     },
     "execution_count": 3,
     "metadata": {},
     "output_type": "execute_result"
    }
   ],
   "execution_count": 3
  },
  {
   "metadata": {
    "ExecuteTime": {
     "end_time": "2024-12-21T16:47:14.576148Z",
     "start_time": "2024-12-21T16:47:14.562734Z"
    }
   },
   "cell_type": "code",
   "source": [
    "# 1.2\n",
    "np.median(X)"
   ],
   "id": "8f7547ec21e517cb",
   "outputs": [
    {
     "data": {
      "text/plain": [
       "15.0"
      ]
     },
     "execution_count": 5,
     "metadata": {},
     "output_type": "execute_result"
    }
   ],
   "execution_count": 5
  },
  {
   "metadata": {
    "ExecuteTime": {
     "end_time": "2024-12-21T16:49:24.214272Z",
     "start_time": "2024-12-21T16:49:24.206269Z"
    }
   },
   "cell_type": "code",
   "source": [
    "# 1.3\n",
    "mode = stats.mode(X)\n",
    "mode.mode"
   ],
   "id": "1f741ce2d5405428",
   "outputs": [
    {
     "data": {
      "text/plain": [
       "23"
      ]
     },
     "execution_count": 9,
     "metadata": {},
     "output_type": "execute_result"
    }
   ],
   "execution_count": 9
  },
  {
   "metadata": {
    "ExecuteTime": {
     "end_time": "2024-12-21T18:07:33.341168Z",
     "start_time": "2024-12-21T18:07:33.323970Z"
    }
   },
   "cell_type": "code",
   "source": [
    "# 1.4\n",
    "X.std(ddof=0)"
   ],
   "id": "8e1dbf1a654a660d",
   "outputs": [
    {
     "data": {
      "text/plain": [
       "5.408326913195984"
      ]
     },
     "execution_count": 34,
     "metadata": {},
     "output_type": "execute_result"
    }
   ],
   "execution_count": 34
  },
  {
   "metadata": {
    "ExecuteTime": {
     "end_time": "2024-12-21T17:03:08.321375Z",
     "start_time": "2024-12-21T17:03:08.309437Z"
    }
   },
   "cell_type": "code",
   "source": [
    "# 1.5\n",
    "X.std(ddof=1)"
   ],
   "id": "d1db68f509f42a09",
   "outputs": [
    {
     "data": {
      "text/plain": [
       "5.548826333938604"
      ]
     },
     "execution_count": 22,
     "metadata": {},
     "output_type": "execute_result"
    }
   ],
   "execution_count": 22
  },
  {
   "metadata": {},
   "cell_type": "markdown",
   "source": "# Раздел 2",
   "id": "d627b46c29a00d78"
  },
  {
   "metadata": {
    "ExecuteTime": {
     "end_time": "2024-12-21T17:05:59.455865Z",
     "start_time": "2024-12-21T17:05:59.446853Z"
    }
   },
   "cell_type": "code",
   "source": [
    "# 2.1\n",
    "p = 0.7\n",
    "n = 30\n",
    "k = 20\n",
    "\n",
    "stats.binom.sf(k, n, p)"
   ],
   "id": "942a69704bd8a4e7",
   "outputs": [
    {
     "data": {
      "text/plain": [
       "0.5888086852407222"
      ]
     },
     "execution_count": 29,
     "metadata": {},
     "output_type": "execute_result"
    }
   ],
   "execution_count": 29
  },
  {
   "metadata": {
    "ExecuteTime": {
     "end_time": "2024-12-21T18:04:00.767058Z",
     "start_time": "2024-12-21T18:04:00.710722Z"
    }
   },
   "cell_type": "code",
   "source": [
    "# 2.2\n",
    "x = symbols('x')\n",
    "C = symbols('C')\n",
    "\n",
    "# Определяем функцию f(x)\n",
    "f = C * exp(-4*x + 2)\n",
    "\n",
    "# Вычисляем интеграл от функции f(x) по области определения\n",
    "integral, error = quad(lambda x: exp(-4*x + 2), 0, np.inf)\n",
    "\n",
    "# Решаем уравнение C * integral = 1 для C\n",
    "C_value = solve(Eq(C * integral, 1), C)[0]\n",
    "\n",
    "print(\"Значение C:\", C_value)"
   ],
   "id": "2849e32d9f027f77",
   "outputs": [
    {
     "name": "stdout",
     "output_type": "stream",
     "text": [
      "Значение C: 0.541341132946451\n"
     ]
    }
   ],
   "execution_count": 32
  },
  {
   "metadata": {
    "ExecuteTime": {
     "end_time": "2024-12-21T20:13:27.491121Z",
     "start_time": "2024-12-21T20:13:27.484083Z"
    }
   },
   "cell_type": "code",
   "source": [
    "# 2.3\n",
    "p = 0.00007\n",
    "win = 2000000\n",
    "cost = 135\n",
    "\n",
    "# вычислим количество билетов до выигрыша\n",
    "tickets = 1/p\n",
    "total_cost = cost * tickets\n",
    "res = win - total_cost\n",
    "print(res/1000)\n"
   ],
   "id": "c1c50a0645110e19",
   "outputs": [
    {
     "name": "stdout",
     "output_type": "stream",
     "text": [
      "71.42857142857136\n"
     ]
    }
   ],
   "execution_count": 64
  },
  {
   "metadata": {
    "ExecuteTime": {
     "end_time": "2024-12-21T20:25:18.600536Z",
     "start_time": "2024-12-21T20:25:18.592152Z"
    }
   },
   "cell_type": "code",
   "source": [
    "# 2.4\n",
    "# ответ от матгпт - 4.57\n",
    "# ?????????????????"
   ],
   "id": "bf6b9c70a002e778",
   "outputs": [
    {
     "name": "stdout",
     "output_type": "stream",
     "text": [
      "Стандартное отклонение: 0.547484168354357\n"
     ]
    }
   ],
   "execution_count": 66
  },
  {
   "metadata": {
    "ExecuteTime": {
     "end_time": "2024-12-22T16:28:36.297934Z",
     "start_time": "2024-12-22T16:28:36.286809Z"
    }
   },
   "cell_type": "code",
   "source": [
    "# 2.5\n",
    "p = 0.7\n",
    "n = 10\n",
    "k = 7\n",
    "\n",
    "stats.binom.pmf(k, n, p )\n",
    "# не подходит 0,25, 0,27"
   ],
   "id": "30dcb1b34c09d347",
   "outputs": [
    {
     "data": {
      "text/plain": [
       "0.26682793200000005"
      ]
     },
     "execution_count": 92,
     "metadata": {},
     "output_type": "execute_result"
    }
   ],
   "execution_count": 92
  },
  {
   "metadata": {
    "ExecuteTime": {
     "end_time": "2024-12-21T21:31:58.764913Z",
     "start_time": "2024-12-21T21:31:58.757728Z"
    }
   },
   "cell_type": "code",
   "source": [
    "# 2.6\n",
    "import math\n",
    "a = 1.7\n",
    "b = 1.8\n",
    "diameter = (a+b)/2\n",
    "radius = diameter / 2\n",
    "\n",
    "volume = 4/3 * math.pi * radius**3\n",
    "\n",
    "print(\"Объем шара:\", volume)\n"
   ],
   "id": "5beae200eb279adf",
   "outputs": [
    {
     "name": "stdout",
     "output_type": "stream",
     "text": [
      "Объем шара: 2.8061621879721326\n"
     ]
    }
   ],
   "execution_count": 72
  },
  {
   "metadata": {
    "ExecuteTime": {
     "end_time": "2024-12-22T14:44:25.553003Z",
     "start_time": "2024-12-22T14:44:25.544478Z"
    }
   },
   "cell_type": "code",
   "source": [
    "# Заказ такси представляет собой пуассоновский поток со средней интенсивностью 30 вызовов в час. Найти вероятность того, что в течение 5 минут будет хотя бы один вызов\n",
    "p = 30/60\n",
    "k = 1\n",
    "n = 5\n",
    "\n",
    "?????\n"
   ],
   "id": "914040f21cb572fc",
   "outputs": [
    {
     "data": {
      "text/plain": [
       "0.0"
      ]
     },
     "execution_count": 78,
     "metadata": {},
     "output_type": "execute_result"
    }
   ],
   "execution_count": 78
  },
  {
   "metadata": {},
   "cell_type": "markdown",
   "source": "# Раздел 3\n",
   "id": "44b88fed288ffbda"
  },
  {
   "metadata": {},
   "cell_type": "markdown",
   "source": "Найдите минимально необходимый объем выборки для того, чтобы с точностью 2.5 и уровнем значимости 0.02 найти среднее значение выборки из генеральной совокупности нормальных величин с дисперсией 8",
   "id": "5a361ce8b65fb266"
  },
  {
   "metadata": {
    "ExecuteTime": {
     "end_time": "2024-12-22T15:02:19.922827Z",
     "start_time": "2024-12-22T15:02:19.910899Z"
    }
   },
   "cell_type": "code",
   "source": [
    "E = 2.5\n",
    "alpha = 0.02\n",
    "var = 8\n",
    "std = var**0.5\n",
    "print(std)\n",
    "z = abs(stats.norm.ppf(alpha/2))\n",
    "print(z)\n",
    "res= ((z*std)/E)**2\n",
    "res\n",
    "# ответ гпт 9"
   ],
   "id": "8a49b733e723e218",
   "outputs": [
    {
     "name": "stdout",
     "output_type": "stream",
     "text": [
      "2.8284271247461903\n",
      "2.3263478740408408\n"
     ]
    },
    {
     "data": {
      "text/plain": [
       "6.927224871749557"
      ]
     },
     "execution_count": 82,
     "metadata": {},
     "output_type": "execute_result"
    }
   ],
   "execution_count": 82
  },
  {
   "metadata": {
    "ExecuteTime": {
     "end_time": "2024-12-22T15:54:56.821054Z",
     "start_time": "2024-12-22T15:54:56.812115Z"
    }
   },
   "cell_type": "code",
   "source": [
    "n = 80\n",
    "m = n-56\n",
    "alpha = 0.03\n",
    "p = m/n\n",
    "q = 1-p\n",
    "z = abs(stats.norm.ppf(alpha/2))\n",
    "print(f'Доверительный интервал: ({round((p-(p*q/n)**0.5*z)*100,2)} %; {round((p+(p*q/n)**0.5*z)*100,2)} %)')\n"
   ],
   "id": "da7cfbdf88d5dd",
   "outputs": [
    {
     "name": "stdout",
     "output_type": "stream",
     "text": [
      "Доверительный интервал: (18.88 %; 41.12 %)\n"
     ]
    }
   ],
   "execution_count": 83
  },
  {
   "metadata": {
    "ExecuteTime": {
     "end_time": "2024-12-22T16:50:16.631110Z",
     "start_time": "2024-12-22T16:50:16.618587Z"
    }
   },
   "cell_type": "code",
   "source": [
    "# Определение параметров нормального распределения\n",
    "n = 80  # Общее количество товаров в выборке\n",
    "k = 56  # Количество неиспорченных товаров в выборке\n",
    "p_hat = k / n  # Оценка доли неиспорченных товаров\n",
    "q_hat = 1 - p_hat  # Оценка доли испорченных товаров\n",
    "\n",
    "# Вычисление границ доверительного интервала\n",
    "alpha = 0.97  # Уровень надёжности\n",
    "z_alpha = stats.norm.ppf(alpha / 2)  # Квантиль нормального распределения для уровня значимости\n",
    "lower_bound = q_hat - z_alpha * np.sqrt(q_hat * (1 - q_hat) / n)\n",
    "upper_bound = q_hat + z_alpha * np.sqrt(q_hat * (1 - q_hat) / n)\n",
    "\n",
    "# Вывод результатов\n",
    "print(\"Доля испорченных товаров:\", q_hat)\n",
    "print(\"Границы доверительного интервала:\")\n",
    "print(\"Нижняя граница:\", lower_bound)\n",
    "print(\"Верхняя граница:\", upper_bound)"
   ],
   "id": "99156dc1d7b140ae",
   "outputs": [
    {
     "name": "stdout",
     "output_type": "stream",
     "text": [
      "Доля испорченных товаров: 0.30000000000000004\n",
      "Границы доверительного интервала:\n",
      "Нижняя граница: 0.30192685136028474\n",
      "Верхняя граница: 0.29807314863971535\n"
     ]
    }
   ],
   "execution_count": 93
  },
  {
   "metadata": {
    "ExecuteTime": {
     "end_time": "2024-12-22T16:58:07.626163Z",
     "start_time": "2024-12-22T16:58:07.607216Z"
    }
   },
   "cell_type": "code",
   "source": [
    "from scipy.stats import norm\n",
    "\n",
    "p = 0.7\n",
    "n = 80\n",
    "confidence_level = 0.97\n",
    "\n",
    "# Находим стандартное отклонение\n",
    "sigma = math.sqrt(p * (1 - p) / n)\n",
    "\n",
    "# Находим доверительный интервал\n",
    "lower_bound, upper_bound = norm.interval(confidence_level, loc=p, scale=sigma)\n",
    "\n",
    "print(\"Нижняя граница:\", lower_bound)\n",
    "print(\"Верхняя граница:\", upper_bound)"
   ],
   "id": "c3bc46e841b89a0",
   "outputs": [
    {
     "name": "stdout",
     "output_type": "stream",
     "text": [
      "Нижняя граница: 0.5888159537160417\n",
      "Верхняя граница: 0.8111840462839582\n"
     ]
    }
   ],
   "execution_count": 95
  },
  {
   "metadata": {},
   "cell_type": "code",
   "outputs": [],
   "execution_count": null,
   "source": "",
   "id": "26bd0ccfa6d40627"
  }
 ],
 "metadata": {
  "kernelspec": {
   "display_name": "Python 3",
   "language": "python",
   "name": "python3"
  },
  "language_info": {
   "codemirror_mode": {
    "name": "ipython",
    "version": 2
   },
   "file_extension": ".py",
   "mimetype": "text/x-python",
   "name": "python",
   "nbconvert_exporter": "python",
   "pygments_lexer": "ipython2",
   "version": "2.7.6"
  }
 },
 "nbformat": 4,
 "nbformat_minor": 5
}
