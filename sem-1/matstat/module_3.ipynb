{
 "cells": [
  {
   "cell_type": "code",
   "id": "b067fb070eab9eab",
   "metadata": {
    "ExecuteTime": {
     "end_time": "2024-11-24T14:01:05.617676Z",
     "start_time": "2024-11-24T14:01:05.611889Z"
    }
   },
   "source": [
    "import numpy as np\n",
    "import scipy.stats as stats\n",
    "import pandas as pd"
   ],
   "outputs": [],
   "execution_count": 6
  },
  {
   "metadata": {
    "collapsed": true,
    "ExecuteTime": {
     "end_time": "2024-11-24T13:45:02.096836Z",
     "start_time": "2024-11-24T13:45:02.090328Z"
    }
   },
   "cell_type": "code",
   "source": [
    "x = np.array([9, 5, 7, 7, 4, 10])\n",
    "n = len(x)\n",
    "sigma = 1\n",
    "alpha = 0.01\n",
    "x0 = x.mean()\n",
    "z = abs(stats.norm.ppf(alpha/2))\n",
    "print(f'Доверительный интервал: ({round(x0-sigma/n**0.5*z,2)} ; {round(x0+sigma/n**0.5*z,2)})')\n"
   ],
   "id": "initial_id",
   "outputs": [
    {
     "name": "stdout",
     "output_type": "stream",
     "text": [
      "Доверительный интервал: (5.95 ; 8.05)\n"
     ]
    }
   ],
   "execution_count": 4
  },
  {
   "metadata": {
    "ExecuteTime": {
     "end_time": "2024-11-24T13:45:04.410069Z",
     "start_time": "2024-11-24T13:45:04.402069Z"
    }
   },
   "cell_type": "code",
   "source": [
    "n = 25\n",
    "sigma = 12\n",
    "alpha = 0.02\n",
    "x0 = 130\n",
    "z = abs(stats.norm.ppf(alpha/2))\n",
    "print(f'Доверительный интервал: ({round(x0-sigma/n**0.5*z,2)} ; {round(x0+sigma/n**0.5*z,2)})')"
   ],
   "id": "d0b52b199090f00f",
   "outputs": [
    {
     "name": "stdout",
     "output_type": "stream",
     "text": [
      "Доверительный интервал: (124.42 ; 135.58)\n"
     ]
    }
   ],
   "execution_count": 5
  },
  {
   "metadata": {
    "ExecuteTime": {
     "end_time": "2024-11-24T14:02:19.324261Z",
     "start_time": "2024-11-24T14:02:18.425860Z"
    }
   },
   "cell_type": "code",
   "source": [
    "x = np.array([9, 5, 7, 7, 4, 10, 2, 4, 6, 8, 3, 6, 2, 1, 3, 6, 3, 4, 2, 6, 4, 5, 3, 5, 4, 5, 6, 7, 5, 6, 8, 3, 4, 7, 1, 0, 5, 9, 7, 4])\n",
    "df = pd.DataFrame(x)\n",
    "df.hist(bins=11)\n",
    "n = len(x)\n",
    "s_not_bias = (x.var()*n/(n-1))**0.5\n",
    "s_bias = x.var()**0.5\n",
    "alpha = 0.01\n",
    "x0 = x.mean()\n",
    "z = abs(stats.norm.ppf(alpha/2))\n",
    "print(f'Доверительный интервал (несмещенная дисперсия): ({round(x0-s_not_bias/n**0.5*z,2)} ; {round(x0+s_not_bias/n**0.5*z,2)})')\n",
    "print(f'Доверительный интервал (смещенная дисперсия): ({round(x0-s_bias/n**0.5*z,2)} ; {round(x0+s_bias/n**0.5*z,2)})')\n"
   ],
   "id": "d9b3abe329ec936c",
   "outputs": [
    {
     "name": "stdout",
     "output_type": "stream",
     "text": [
      "Доверительный интервал (несмещенная дисперсия): (3.95 ; 5.85)\n",
      "Доверительный интервал (смещенная дисперсия): (3.96 ; 5.84)\n"
     ]
    },
    {
     "data": {
      "text/plain": [
       "<Figure size 640x480 with 1 Axes>"
      ],
      "image/png": "[encoded data removed]"
     },
     "metadata": {},
     "output_type": "display_data"
    }
   ],
   "execution_count": 7
  },
  {
   "metadata": {
    "ExecuteTime": {
     "end_time": "2024-11-24T14:06:51.289177Z",
     "start_time": "2024-11-24T14:06:51.279151Z"
    }
   },
   "cell_type": "code",
   "source": [
    "n = 17\n",
    "s_not_bias = (16*n/(n-1))**0.5\n",
    "s_bias = 16**0.5\n",
    "alpha = 0.1\n",
    "x0 = 20.5\n",
    "t = abs(stats.t.ppf(alpha/2, df=n-1))\n",
    "print(f'Доверительный интервал (несмещенная дисперсия): ({round(x0-s_not_bias/n**0.5*t,2)} ; {round(x0+s_not_bias/n**0.5*t,2)})')\n",
    "print(f'Доверительный интервал (смещенная дисперсия): ({round(x0-s_bias/n**0.5*t,2)} ; {round(x0+s_bias/n**0.5*t,2)})')"
   ],
   "id": "58ddcb6cfcda3d7b",
   "outputs": [
    {
     "name": "stdout",
     "output_type": "stream",
     "text": [
      "Доверительный интервал (несмещенная дисперсия): (18.75 ; 22.25)\n",
      "Доверительный интервал (смещенная дисперсия): (18.81 ; 22.19)\n"
     ]
    }
   ],
   "execution_count": 8
  },
  {
   "metadata": {
    "ExecuteTime": {
     "end_time": "2024-11-24T14:09:12.022350Z",
     "start_time": "2024-11-24T14:09:12.014874Z"
    }
   },
   "cell_type": "code",
   "source": [
    "x = np.array([8.3, 8.6, 8.7, 8.8, 9.1, 9.3, 9.4, 13.4, 13.5, 13.8, 13.9, 14.1, 14.3])\n",
    "n = len(x)\n",
    "x0 = x.mean()\n",
    "alpha = 0.05\n",
    "s_not_bias = (x.var()*n/(n-1))**0.5\n",
    "s_bias = x.var()**0.5\n",
    "t = abs(stats.t.ppf(alpha/2, df=n-1))\n",
    "print(f'Доверительный интервал (несмещенная дисперсия): ({round(x0-s_not_bias/n**0.5*t,2)} ; {round(x0+s_not_bias/n**0.5*t,2)})')\n",
    "print(f'Доверительный интервал (смещенная дисперсия): ({round(x0-s_bias/n**0.5*t,2)} ; {round(x0+s_bias/n**0.5*t,2)})')\n"
   ],
   "id": "344a11e53e9de7cc",
   "outputs": [
    {
     "name": "stdout",
     "output_type": "stream",
     "text": [
      "Доверительный интервал (несмещенная дисперсия): (9.6 ; 12.74)\n",
      "Доверительный интервал (смещенная дисперсия): (9.66 ; 12.67)\n"
     ]
    }
   ],
   "execution_count": 9
  },
  {
   "metadata": {
    "ExecuteTime": {
     "end_time": "2024-11-24T14:12:55.828166Z",
     "start_time": "2024-11-24T14:12:55.820040Z"
    }
   },
   "cell_type": "code",
   "source": [
    "n = 420\n",
    "m = 170\n",
    "alpha = 0.09\n",
    "p = m/n\n",
    "q = 1-p\n",
    "z = abs(stats.norm.ppf(alpha/2))\n",
    "print(f'Доверительный интервал: ({round(p-(p*q/n)**0.5*z,2)} ; {round(p+(p*q/n)**0.5*z,2)})')\n",
    "print(f'Лучший вариант охвата: {round(p+(p*q/n)**0.5*z,2)}')\n"
   ],
   "id": "8245f7cab3b3e95b",
   "outputs": [
    {
     "name": "stdout",
     "output_type": "stream",
     "text": [
      "Доверительный интервал: (0.36 ; 0.45)\n",
      "Лучший вариант охвата: 0.45\n"
     ]
    }
   ],
   "execution_count": 10
  },
  {
   "metadata": {
    "ExecuteTime": {
     "end_time": "2024-11-24T14:15:26.594962Z",
     "start_time": "2024-11-24T14:15:26.585812Z"
    }
   },
   "cell_type": "code",
   "source": [
    "n = 1000\n",
    "m = 68\n",
    "alpha = 0.05\n",
    "p = m/n\n",
    "q = 1-p\n",
    "z = abs(stats.norm.ppf(alpha/2))\n",
    "print(f'Доверительный интервал: ({round((p-(p*q/n)**0.5*z)*100,2)} %; {round((p+(p*q/n)**0.5*z)*100,2)} %)')\n"
   ],
   "id": "b6067fb4ad9d1ab8",
   "outputs": [
    {
     "name": "stdout",
     "output_type": "stream",
     "text": [
      "Доверительный интервал: (5.24 %; 8.36 %)\n"
     ]
    }
   ],
   "execution_count": 12
  },
  {
   "metadata": {
    "ExecuteTime": {
     "end_time": "2024-11-24T14:30:30.100466Z",
     "start_time": "2024-11-24T14:30:30.088432Z"
    }
   },
   "cell_type": "code",
   "source": [
    "n = 12\n",
    "sum_x = 216\n",
    "sum_x_2 = 4046\n",
    "alpha = 0.1\n",
    "x_mean = sum_x/n\n",
    "D = 1/(n-1)*(sum_x_2 - n*x_mean**2)\n",
    "chi2_r = stats.chi2.ppf(1-alpha/2, df=n-1)\n",
    "chi2_l = stats.chi2.ppf(alpha/2, df=n-1)\n",
    "print(f'Доверительный интервал: ({round((n-1)*D/chi2_r,2)}; {round((n-1)*D/chi2_l,2)})')\n"
   ],
   "id": "7f8c25ff42012a4",
   "outputs": [
    {
     "name": "stdout",
     "output_type": "stream",
     "text": [
      "Доверительный интервал: (8.03; 34.54)\n"
     ]
    }
   ],
   "execution_count": 13
  },
  {
   "metadata": {},
   "cell_type": "code",
   "outputs": [],
   "execution_count": null,
   "source": "",
   "id": "d42396545100c8e7"
  }
 ],
 "metadata": {
  "kernelspec": {
   "display_name": "Python 3",
   "language": "python",
   "name": "python3"
  },
  "language_info": {
   "codemirror_mode": {
    "name": "ipython",
    "version": 2
   },
   "file_extension": ".py",
   "mimetype": "text/x-python",
   "name": "python",
   "nbconvert_exporter": "python",
   "pygments_lexer": "ipython2",
   "version": "2.7.6"
  }
 },
 "nbformat": 4,
 "nbformat_minor": 5
}
