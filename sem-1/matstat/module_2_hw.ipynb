{
 "cells": [
  {
   "cell_type": "code",
   "id": "initial_id",
   "metadata": {
    "collapsed": true,
    "ExecuteTime": {
     "end_time": "2024-12-01T13:14:37.295884Z",
     "start_time": "2024-12-01T13:14:37.290452Z"
    }
   },
   "source": [
    "import pandas as pd\n",
    "from scipy import stats"
   ],
   "outputs": [],
   "execution_count": 2
  },
  {
   "metadata": {
    "ExecuteTime": {
     "end_time": "2024-11-23T19:19:03.687383Z",
     "start_time": "2024-11-23T19:19:03.678771Z"
    }
   },
   "cell_type": "code",
   "source": [
    "low, high = 10, 20\n",
    "mean, var1, skew, kurt = stats.randint.stats(low, high, moments='mvsk')\n",
    "print(var1)"
   ],
   "id": "3768dc410eaa3263",
   "outputs": [
    {
     "name": "stdout",
     "output_type": "stream",
     "text": [
      "8.25\n"
     ]
    }
   ],
   "execution_count": 7
  },
  {
   "metadata": {
    "ExecuteTime": {
     "end_time": "2024-11-23T19:19:06.002369Z",
     "start_time": "2024-11-23T19:19:05.993881Z"
    }
   },
   "cell_type": "code",
   "source": [
    "low, high = 35, 45\n",
    "mean, var2, skew, kurt = stats.randint.stats(low, high, moments='mvsk')\n",
    "print(var2)"
   ],
   "id": "ca0f02fcaa5b70a4",
   "outputs": [
    {
     "name": "stdout",
     "output_type": "stream",
     "text": [
      "8.25\n"
     ]
    }
   ],
   "execution_count": 8
  },
  {
   "metadata": {
    "ExecuteTime": {
     "end_time": "2024-11-23T19:24:46.430206Z",
     "start_time": "2024-11-23T19:24:46.424488Z"
    }
   },
   "cell_type": "code",
   "source": [
    "def variance(X):\n",
    "    # Среднее значение X\n",
    "    mean_X = sum(X) / len(X)\n",
    "\n",
    "    # Дисперсия\n",
    "    variance = sum([(x - mean_X)**2 for x in X]) / len(X)\n",
    "    return variance\n",
    "# Список возможных значений X (номера этажей)\n",
    "X = [10, 11, 12, 13, 14, 15, 16, 17, 18, 19, 35, 36, 37, 38, 39, 40, 41, 42, 43, 44]\n",
    "\n",
    "# Вычисление дисперсии\n",
    "variance_result = variance(X)\n",
    "print(\"Дисперсия:\", variance_result)\n"
   ],
   "id": "108981daedca6f89",
   "outputs": [
    {
     "name": "stdout",
     "output_type": "stream",
     "text": [
      "Дисперсия: 164.5\n"
     ]
    }
   ],
   "execution_count": 9
  },
  {
   "metadata": {
    "ExecuteTime": {
     "end_time": "2024-11-24T10:11:06.270911Z",
     "start_time": "2024-11-24T10:11:06.138480Z"
    }
   },
   "cell_type": "code",
   "source": [
    "var = stats.geom.stats(0.4, moments='v')\n",
    "round(var, 2)"
   ],
   "id": "a57222fd756bb780",
   "outputs": [
    {
     "data": {
      "text/plain": [
       "3.75"
      ]
     },
     "execution_count": 20,
     "metadata": {},
     "output_type": "execute_result"
    }
   ],
   "execution_count": 20
  },
  {
   "metadata": {
    "ExecuteTime": {
     "end_time": "2024-12-01T13:15:07.379060Z",
     "start_time": "2024-12-01T13:15:07.368887Z"
    }
   },
   "cell_type": "code",
   "source": "round(stats.poisson.pmf(k=2, mu=4) * (0.2 + 0.2*0.8), 3)",
   "id": "8b1e334597390f2f",
   "outputs": [
    {
     "data": {
      "text/plain": [
       "0.053"
      ]
     },
     "execution_count": 5,
     "metadata": {},
     "output_type": "execute_result"
    }
   ],
   "execution_count": 5
  },
  {
   "metadata": {
    "ExecuteTime": {
     "end_time": "2024-11-24T11:02:04.658253Z",
     "start_time": "2024-11-24T11:02:04.299284Z"
    }
   },
   "cell_type": "code",
   "source": [
    "data = pd.read_csv('data/data.csv', sep=',')\n",
    "data"
   ],
   "id": "74c5c6172ac8129c",
   "outputs": [
    {
     "data": {
      "text/plain": [
       "       column_1  column_2  column_3   column_4   column_5  column_6\n",
       "0     27.596143       218        28 -20.746787  15.840945        48\n",
       "1     33.838907       231        25  -6.419991  19.347807        42\n",
       "2     29.024062       226        38   4.472388  15.770979        44\n",
       "3     28.462851       227        31  -9.647105  15.352260        41\n",
       "4     34.734580       232        24  19.402531  15.060842        50\n",
       "...         ...       ...       ...        ...        ...       ...\n",
       "9995  26.404022       224        28  32.065897  20.925720        43\n",
       "9996  34.087082       218        29  -5.273347  19.761991        51\n",
       "9997  31.047074       234        29   8.477591  24.571603        43\n",
       "9998  29.002059       216        31   7.320368  15.041266        42\n",
       "9999  36.524241       220        31  12.230551  21.203195        43\n",
       "\n",
       "[10000 rows x 6 columns]"
      ],
      "text/html": [
       "<div>\n",
       "<style scoped>\n",
       "    .dataframe tbody tr th:only-of-type {\n",
       "        vertical-align: middle;\n",
       "    }\n",
       "\n",
       "    .dataframe tbody tr th {\n",
       "        vertical-align: top;\n",
       "    }\n",
       "\n",
       "    .dataframe thead th {\n",
       "        text-align: right;\n",
       "    }\n",
       "</style>\n",
       "<table border=\"1\" class=\"dataframe\">\n",
       "  <thead>\n",
       "    <tr style=\"text-align: right;\">\n",
       "      <th></th>\n",
       "      <th>column_1</th>\n",
       "      <th>column_2</th>\n",
       "      <th>column_3</th>\n",
       "      <th>column_4</th>\n",
       "      <th>column_5</th>\n",
       "      <th>column_6</th>\n",
       "    </tr>\n",
       "  </thead>\n",
       "  <tbody>\n",
       "    <tr>\n",
       "      <th>0</th>\n",
       "      <td>27.596143</td>\n",
       "      <td>218</td>\n",
       "      <td>28</td>\n",
       "      <td>-20.746787</td>\n",
       "      <td>15.840945</td>\n",
       "      <td>48</td>\n",
       "    </tr>\n",
       "    <tr>\n",
       "      <th>1</th>\n",
       "      <td>33.838907</td>\n",
       "      <td>231</td>\n",
       "      <td>25</td>\n",
       "      <td>-6.419991</td>\n",
       "      <td>19.347807</td>\n",
       "      <td>42</td>\n",
       "    </tr>\n",
       "    <tr>\n",
       "      <th>2</th>\n",
       "      <td>29.024062</td>\n",
       "      <td>226</td>\n",
       "      <td>38</td>\n",
       "      <td>4.472388</td>\n",
       "      <td>15.770979</td>\n",
       "      <td>44</td>\n",
       "    </tr>\n",
       "    <tr>\n",
       "      <th>3</th>\n",
       "      <td>28.462851</td>\n",
       "      <td>227</td>\n",
       "      <td>31</td>\n",
       "      <td>-9.647105</td>\n",
       "      <td>15.352260</td>\n",
       "      <td>41</td>\n",
       "    </tr>\n",
       "    <tr>\n",
       "      <th>4</th>\n",
       "      <td>34.734580</td>\n",
       "      <td>232</td>\n",
       "      <td>24</td>\n",
       "      <td>19.402531</td>\n",
       "      <td>15.060842</td>\n",
       "      <td>50</td>\n",
       "    </tr>\n",
       "    <tr>\n",
       "      <th>...</th>\n",
       "      <td>...</td>\n",
       "      <td>...</td>\n",
       "      <td>...</td>\n",
       "      <td>...</td>\n",
       "      <td>...</td>\n",
       "      <td>...</td>\n",
       "    </tr>\n",
       "    <tr>\n",
       "      <th>9995</th>\n",
       "      <td>26.404022</td>\n",
       "      <td>224</td>\n",
       "      <td>28</td>\n",
       "      <td>32.065897</td>\n",
       "      <td>20.925720</td>\n",
       "      <td>43</td>\n",
       "    </tr>\n",
       "    <tr>\n",
       "      <th>9996</th>\n",
       "      <td>34.087082</td>\n",
       "      <td>218</td>\n",
       "      <td>29</td>\n",
       "      <td>-5.273347</td>\n",
       "      <td>19.761991</td>\n",
       "      <td>51</td>\n",
       "    </tr>\n",
       "    <tr>\n",
       "      <th>9997</th>\n",
       "      <td>31.047074</td>\n",
       "      <td>234</td>\n",
       "      <td>29</td>\n",
       "      <td>8.477591</td>\n",
       "      <td>24.571603</td>\n",
       "      <td>43</td>\n",
       "    </tr>\n",
       "    <tr>\n",
       "      <th>9998</th>\n",
       "      <td>29.002059</td>\n",
       "      <td>216</td>\n",
       "      <td>31</td>\n",
       "      <td>7.320368</td>\n",
       "      <td>15.041266</td>\n",
       "      <td>42</td>\n",
       "    </tr>\n",
       "    <tr>\n",
       "      <th>9999</th>\n",
       "      <td>36.524241</td>\n",
       "      <td>220</td>\n",
       "      <td>31</td>\n",
       "      <td>12.230551</td>\n",
       "      <td>21.203195</td>\n",
       "      <td>43</td>\n",
       "    </tr>\n",
       "  </tbody>\n",
       "</table>\n",
       "<p>10000 rows × 6 columns</p>\n",
       "</div>"
      ]
     },
     "execution_count": 23,
     "metadata": {},
     "output_type": "execute_result"
    }
   ],
   "execution_count": 23
  },
  {
   "metadata": {
    "ExecuteTime": {
     "end_time": "2024-11-24T11:02:42.038097Z",
     "start_time": "2024-11-24T11:02:40.566774Z"
    }
   },
   "cell_type": "code",
   "source": "data['column_1'].hist(bins=15)",
   "id": "3b83cd05f5b37164",
   "outputs": [
    {
     "data": {
      "text/plain": [
       "<Axes: >"
      ]
     },
     "execution_count": 24,
     "metadata": {},
     "output_type": "execute_result"
    },
    {
     "data": {
      "text/plain": [
       "<Figure size 640x480 with 1 Axes>"
      ],
      "image/png": "[encoded data removed]"
     },
     "metadata": {},
     "output_type": "display_data"
    }
   ],
   "execution_count": 24
  },
  {
   "metadata": {},
   "cell_type": "markdown",
   "source": "Нормальное",
   "id": "b2b7d0155ab6d96f"
  },
  {
   "metadata": {
    "ExecuteTime": {
     "end_time": "2024-11-24T11:03:02.861747Z",
     "start_time": "2024-11-24T11:03:02.663736Z"
    }
   },
   "cell_type": "code",
   "source": "data['column_2'].hist(bins=15)",
   "id": "19b28aa274ae0df8",
   "outputs": [
    {
     "data": {
      "text/plain": [
       "<Axes: >"
      ]
     },
     "execution_count": 25,
     "metadata": {},
     "output_type": "execute_result"
    },
    {
     "data": {
      "text/plain": [
       "<Figure size 640x480 with 1 Axes>"
      ],
      "image/png": "[encoded data removed]"
     },
     "metadata": {},
     "output_type": "display_data"
    }
   ],
   "execution_count": 25
  },
  {
   "metadata": {},
   "cell_type": "markdown",
   "source": "Биномиальное",
   "id": "a7d6a42fec0691e3"
  },
  {
   "metadata": {
    "ExecuteTime": {
     "end_time": "2024-11-24T11:03:24.908526Z",
     "start_time": "2024-11-24T11:03:24.681607Z"
    }
   },
   "cell_type": "code",
   "source": "data['column_3'].hist(bins=15)",
   "id": "103a2f06fa53d51e",
   "outputs": [
    {
     "data": {
      "text/plain": [
       "<Axes: >"
      ]
     },
     "execution_count": 26,
     "metadata": {},
     "output_type": "execute_result"
    },
    {
     "data": {
      "text/plain": [
       "<Figure size 640x480 with 1 Axes>"
      ],
      "image/png": "[encoded data removed]"
     },
     "metadata": {},
     "output_type": "display_data"
    }
   ],
   "execution_count": 26
  },
  {
   "metadata": {},
   "cell_type": "markdown",
   "source": "Пуассона",
   "id": "8e4c0043cd4482"
  },
  {
   "metadata": {
    "ExecuteTime": {
     "end_time": "2024-11-24T11:03:35.925522Z",
     "start_time": "2024-11-24T11:03:35.741256Z"
    }
   },
   "cell_type": "code",
   "source": "data['column_4'].hist(bins=15)",
   "id": "1fb9a4d857c01be6",
   "outputs": [
    {
     "data": {
      "text/plain": [
       "<Axes: >"
      ]
     },
     "execution_count": 27,
     "metadata": {},
     "output_type": "execute_result"
    },
    {
     "data": {
      "text/plain": [
       "<Figure size 640x480 with 1 Axes>"
      ],
      "image/png": "[encoded data removed]"
     },
     "metadata": {},
     "output_type": "display_data"
    }
   ],
   "execution_count": 27
  },
  {
   "metadata": {},
   "cell_type": "markdown",
   "source": "Лапласса",
   "id": "b53b8c7db6ca41e8"
  },
  {
   "metadata": {
    "ExecuteTime": {
     "end_time": "2024-11-24T11:03:47.224935Z",
     "start_time": "2024-11-24T11:03:47.043516Z"
    }
   },
   "cell_type": "code",
   "source": "data['column_5'].hist(bins=15)",
   "id": "2ecf76f29a5b2dd1",
   "outputs": [
    {
     "data": {
      "text/plain": [
       "<Axes: >"
      ]
     },
     "execution_count": 28,
     "metadata": {},
     "output_type": "execute_result"
    },
    {
     "data": {
      "text/plain": [
       "<Figure size 640x480 with 1 Axes>"
      ],
      "image/png": "[encoded data removed]"
     },
     "metadata": {},
     "output_type": "display_data"
    }
   ],
   "execution_count": 28
  },
  {
   "metadata": {},
   "cell_type": "markdown",
   "source": "Равномерное",
   "id": "54aad8b393fab767"
  },
  {
   "metadata": {
    "ExecuteTime": {
     "end_time": "2024-11-24T11:03:57.374689Z",
     "start_time": "2024-11-24T11:03:57.135978Z"
    }
   },
   "cell_type": "code",
   "source": "data['column_6'].hist(bins=15)",
   "id": "cb488a35466bc459",
   "outputs": [
    {
     "data": {
      "text/plain": [
       "<Axes: >"
      ]
     },
     "execution_count": 29,
     "metadata": {},
     "output_type": "execute_result"
    },
    {
     "data": {
      "text/plain": [
       "<Figure size 640x480 with 1 Axes>"
      ],
      "image/png": "[encoded data removed]"
     },
     "metadata": {},
     "output_type": "display_data"
    }
   ],
   "execution_count": 29
  },
  {
   "metadata": {},
   "cell_type": "markdown",
   "source": "Геометрическое",
   "id": "572ee6b581c10128"
  },
  {
   "metadata": {
    "ExecuteTime": {
     "end_time": "2024-11-24T11:10:52.392655Z",
     "start_time": "2024-11-24T11:10:52.383205Z"
    }
   },
   "cell_type": "code",
   "source": "data['column_1'].var()",
   "id": "b8e20819540da059",
   "outputs": [
    {
     "data": {
      "text/plain": [
       "25.139431483249012"
      ]
     },
     "execution_count": 30,
     "metadata": {},
     "output_type": "execute_result"
    }
   ],
   "execution_count": 30
  },
  {
   "metadata": {
    "ExecuteTime": {
     "end_time": "2024-11-24T11:11:41.931014Z",
     "start_time": "2024-11-24T11:11:41.924678Z"
    }
   },
   "cell_type": "code",
   "source": "data['column_3'].mean()",
   "id": "3661f4088ccfe395",
   "outputs": [
    {
     "data": {
      "text/plain": [
       "29.9561"
      ]
     },
     "execution_count": 32,
     "metadata": {},
     "output_type": "execute_result"
    }
   ],
   "execution_count": 32
  },
  {
   "metadata": {
    "ExecuteTime": {
     "end_time": "2024-11-24T11:12:35.114172Z",
     "start_time": "2024-11-24T11:12:35.108316Z"
    }
   },
   "cell_type": "code",
   "source": "data['column_6'].median()",
   "id": "72f6d772ad5243ef",
   "outputs": [
    {
     "data": {
      "text/plain": [
       "43.0"
      ]
     },
     "execution_count": 34,
     "metadata": {},
     "output_type": "execute_result"
    }
   ],
   "execution_count": 34
  },
  {
   "metadata": {},
   "cell_type": "code",
   "outputs": [],
   "execution_count": null,
   "source": "",
   "id": "2e928733db3999bb"
  }
 ],
 "metadata": {
  "kernelspec": {
   "display_name": "Python 3",
   "language": "python",
   "name": "python3"
  },
  "language_info": {
   "codemirror_mode": {
    "name": "ipython",
    "version": 2
   },
   "file_extension": ".py",
   "mimetype": "text/x-python",
   "name": "python",
   "nbconvert_exporter": "python",
   "pygments_lexer": "ipython2",
   "version": "2.7.6"
  }
 },
 "nbformat": 4,
 "nbformat_minor": 5
}
