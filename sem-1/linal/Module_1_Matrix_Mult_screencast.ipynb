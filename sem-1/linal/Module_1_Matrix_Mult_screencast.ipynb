{
 "cells": [
  {
   "cell_type": "code",
   "metadata": {
    "collapsed": true,
    "ExecuteTime": {
     "end_time": "2024-10-28T19:58:24.443993Z",
     "start_time": "2024-10-28T19:58:24.280201Z"
    }
   },
   "source": [
    "import numpy as np"
   ],
   "outputs": [],
   "execution_count": 1
  },
  {
   "cell_type": "code",
   "metadata": {
    "collapsed": true,
    "ExecuteTime": {
     "end_time": "2024-10-28T19:58:24.458870Z",
     "start_time": "2024-10-28T19:58:24.454008Z"
    }
   },
   "source": [
    "# произведение матриц\n",
    "A=np.random.randint(5, 12, (3,3))\n",
    "B=np.random.randint(-2, 4, (3,3))"
   ],
   "outputs": [],
   "execution_count": 2
  },
  {
   "cell_type": "code",
   "metadata": {
    "collapsed": false,
    "ExecuteTime": {
     "end_time": "2024-10-28T19:58:24.783794Z",
     "start_time": "2024-10-28T19:58:24.775430Z"
    }
   },
   "source": [
    "A"
   ],
   "outputs": [
    {
     "data": {
      "text/plain": [
       "array([[10,  5,  5],\n",
       "       [ 7,  6,  7],\n",
       "       [11, 10,  6]])"
      ]
     },
     "execution_count": 3,
     "metadata": {},
     "output_type": "execute_result"
    }
   ],
   "execution_count": 3
  },
  {
   "cell_type": "code",
   "metadata": {
    "collapsed": false,
    "ExecuteTime": {
     "end_time": "2024-10-28T19:58:25.413078Z",
     "start_time": "2024-10-28T19:58:25.407091Z"
    }
   },
   "source": [
    "B"
   ],
   "outputs": [
    {
     "data": {
      "text/plain": [
       "array([[-1,  2,  1],\n",
       "       [-1, -1,  2],\n",
       "       [ 1,  1,  1]])"
      ]
     },
     "execution_count": 4,
     "metadata": {},
     "output_type": "execute_result"
    }
   ],
   "execution_count": 4
  },
  {
   "cell_type": "code",
   "metadata": {
    "collapsed": false,
    "ExecuteTime": {
     "end_time": "2024-10-28T19:58:25.488244Z",
     "start_time": "2024-10-28T19:58:25.479833Z"
    }
   },
   "source": [
    "# Поэлементное умножение\n",
    "A*B"
   ],
   "outputs": [
    {
     "data": {
      "text/plain": [
       "array([[-10,  10,   5],\n",
       "       [ -7,  -6,  14],\n",
       "       [ 11,  10,   6]])"
      ]
     },
     "execution_count": 5,
     "metadata": {},
     "output_type": "execute_result"
    }
   ],
   "execution_count": 5
  },
  {
   "cell_type": "code",
   "metadata": {
    "collapsed": false,
    "ExecuteTime": {
     "end_time": "2024-10-28T19:58:25.655976Z",
     "start_time": "2024-10-28T19:58:25.650944Z"
    }
   },
   "source": [
    "# тип np.matrix\n",
    "A_m=np.matrix(A)\n",
    "B_m=np.matrix(B)\n",
    "print(A_m*B_m)"
   ],
   "outputs": [
    {
     "name": "stdout",
     "output_type": "stream",
     "text": [
      "[[-10  20  25]\n",
      " [ -6  15  26]\n",
      " [-15  18  37]]\n"
     ]
    }
   ],
   "execution_count": 6
  },
  {
   "cell_type": "code",
   "metadata": {
    "collapsed": false,
    "ExecuteTime": {
     "end_time": "2024-10-28T19:58:25.862744Z",
     "start_time": "2024-10-28T19:58:25.856256Z"
    }
   },
   "source": [
    "# Матричное умножение\n",
    "np.dot(A,B)"
   ],
   "outputs": [
    {
     "data": {
      "text/plain": [
       "array([[-10,  20,  25],\n",
       "       [ -6,  15,  26],\n",
       "       [-15,  18,  37]])"
      ]
     },
     "execution_count": 7,
     "metadata": {},
     "output_type": "execute_result"
    }
   ],
   "execution_count": 7
  },
  {
   "cell_type": "code",
   "metadata": {
    "collapsed": false,
    "ExecuteTime": {
     "end_time": "2024-10-28T19:58:26.056376Z",
     "start_time": "2024-10-28T19:58:26.049656Z"
    }
   },
   "source": [
    "# Матричное умножение\n",
    "A@B"
   ],
   "outputs": [
    {
     "data": {
      "text/plain": [
       "array([[-10,  20,  25],\n",
       "       [ -6,  15,  26],\n",
       "       [-15,  18,  37]])"
      ]
     },
     "execution_count": 8,
     "metadata": {},
     "output_type": "execute_result"
    }
   ],
   "execution_count": 8
  },
  {
   "cell_type": "code",
   "metadata": {
    "collapsed": false,
    "ExecuteTime": {
     "end_time": "2024-10-28T19:58:26.171264Z",
     "start_time": "2024-10-28T19:58:26.166255Z"
    }
   },
   "source": [
    "# Порядок умножения AB != BA\n",
    "B@A"
   ],
   "outputs": [
    {
     "data": {
      "text/plain": [
       "array([[15, 17, 15],\n",
       "       [ 5,  9,  0],\n",
       "       [28, 21, 18]])"
      ]
     },
     "execution_count": 9,
     "metadata": {},
     "output_type": "execute_result"
    }
   ],
   "execution_count": 9
  },
  {
   "cell_type": "code",
   "metadata": {
    "collapsed": false,
    "ExecuteTime": {
     "end_time": "2024-10-28T19:58:26.374945Z",
     "start_time": "2024-10-28T19:58:26.368176Z"
    }
   },
   "source": [
    "# Умножение прямоугольных матриц возможно не в любом порядке\n",
    "A=np.random.randint(5, 12, (3,5))\n",
    "B=np.random.randint(-2, 4, (5,2))\n",
    "print('A:\\n',A)\n",
    "print('B:\\n',B)"
   ],
   "outputs": [
    {
     "name": "stdout",
     "output_type": "stream",
     "text": [
      "A:\n",
      " [[ 9  8  5  9  5]\n",
      " [ 5 10  5  8  8]\n",
      " [10  5  7  5 10]]\n",
      "B:\n",
      " [[ 1  0]\n",
      " [ 0  3]\n",
      " [ 1  2]\n",
      " [-1  3]\n",
      " [ 2  3]]\n"
     ]
    }
   ],
   "execution_count": 10
  },
  {
   "cell_type": "code",
   "metadata": {
    "collapsed": false,
    "ExecuteTime": {
     "end_time": "2024-10-28T19:58:26.531847Z",
     "start_time": "2024-10-28T19:58:26.526114Z"
    }
   },
   "source": [
    "# Умножение прямоугольных матриц возможно не в любом порядке\n",
    "A@B"
   ],
   "outputs": [
    {
     "data": {
      "text/plain": [
       "array([[15, 76],\n",
       "       [18, 88],\n",
       "       [32, 74]])"
      ]
     },
     "execution_count": 11,
     "metadata": {},
     "output_type": "execute_result"
    }
   ],
   "execution_count": 11
  },
  {
   "cell_type": "code",
   "metadata": {
    "collapsed": false,
    "ExecuteTime": {
     "end_time": "2024-10-28T19:58:27.701182Z",
     "start_time": "2024-10-28T19:58:26.684572Z"
    }
   },
   "source": [
    "# Умножение прямоугольных матриц возможно не в любом порядке\n",
    "B@A"
   ],
   "outputs": [
    {
     "ename": "ValueError",
     "evalue": "matmul: Input operand 1 has a mismatch in its core dimension 0, with gufunc signature (n?,k),(k,m?)->(n?,m?) (size 3 is different from 2)",
     "output_type": "error",
     "traceback": [
      "\u001B[1;31m---------------------------------------------------------------------------\u001B[0m",
      "\u001B[1;31mValueError\u001B[0m                                Traceback (most recent call last)",
      "Cell \u001B[1;32mIn[12], line 2\u001B[0m\n\u001B[0;32m      1\u001B[0m \u001B[38;5;66;03m# Умножение прямоугольных матриц возможно не в любом порядке\u001B[39;00m\n\u001B[1;32m----> 2\u001B[0m B\u001B[38;5;129m@A\u001B[39m\n",
      "\u001B[1;31mValueError\u001B[0m: matmul: Input operand 1 has a mismatch in its core dimension 0, with gufunc signature (n?,k),(k,m?)->(n?,m?) (size 3 is different from 2)"
     ]
    }
   ],
   "execution_count": 12
  },
  {
   "cell_type": "code",
   "metadata": {
    "collapsed": false,
    "ExecuteTime": {
     "end_time": "2024-10-28T19:59:59.325969Z",
     "start_time": "2024-10-28T19:59:59.320909Z"
    }
   },
   "source": [
    "# размер произведения матриц\n",
    "print('shape of A:', np.shape(A))\n",
    "print('shape of B:', np.shape(B))\n",
    "print('shape of AB:', np.shape(A@B))"
   ],
   "outputs": [
    {
     "name": "stdout",
     "output_type": "stream",
     "text": [
      "shape of A: (3, 5)\n",
      "shape of B: (5, 2)\n",
      "shape of AB: (3, 2)\n"
     ]
    }
   ],
   "execution_count": 13
  },
  {
   "cell_type": "code",
   "metadata": {
    "collapsed": false,
    "ExecuteTime": {
     "end_time": "2024-10-28T20:00:37.131430Z",
     "start_time": "2024-10-28T20:00:37.124629Z"
    }
   },
   "source": [
    "# умножение на специальные матрицы\n",
    "A=np.random.randint(-4, 4, (4,4))\n",
    "D=np.diag([1,2,0,-1])\n",
    "print('A:\\n',A)\n",
    "print('D:\\n',D)\n",
    "print('AD:\\n',A@D)\n",
    "print('DA:\\n',D@A)"
   ],
   "outputs": [
    {
     "name": "stdout",
     "output_type": "stream",
     "text": [
      "A:\n",
      " [[ 1 -2  3  0]\n",
      " [ 0 -3 -3 -3]\n",
      " [ 1  0 -1 -2]\n",
      " [ 3 -4  0  1]]\n",
      "D:\n",
      " [[ 1  0  0  0]\n",
      " [ 0  2  0  0]\n",
      " [ 0  0  0  0]\n",
      " [ 0  0  0 -1]]\n",
      "AD:\n",
      " [[ 1 -4  0  0]\n",
      " [ 0 -6  0  3]\n",
      " [ 1  0  0  2]\n",
      " [ 3 -8  0 -1]]\n",
      "DA:\n",
      " [[ 1 -2  3  0]\n",
      " [ 0 -6 -6 -6]\n",
      " [ 0  0  0  0]\n",
      " [-3  4  0 -1]]\n"
     ]
    }
   ],
   "execution_count": 14
  },
  {
   "cell_type": "code",
   "metadata": {
    "collapsed": false,
    "ExecuteTime": {
     "end_time": "2024-10-28T20:00:55.973222Z",
     "start_time": "2024-10-28T20:00:55.964757Z"
    }
   },
   "source": [
    "# умножение на одномерный массив numpy\n",
    "A=np.array([[1,0,1],[1,1,1]])\n",
    "b=np.array([-3,4,5])\n",
    "A@b"
   ],
   "outputs": [
    {
     "data": {
      "text/plain": [
       "array([2, 6])"
      ]
     },
     "execution_count": 15,
     "metadata": {},
     "output_type": "execute_result"
    }
   ],
   "execution_count": 15
  },
  {
   "cell_type": "code",
   "metadata": {
    "collapsed": false,
    "ExecuteTime": {
     "end_time": "2024-10-28T20:01:03.735438Z",
     "start_time": "2024-10-28T20:01:03.709667Z"
    }
   },
   "source": [
    "b@A"
   ],
   "outputs": [
    {
     "ename": "ValueError",
     "evalue": "matmul: Input operand 1 has a mismatch in its core dimension 0, with gufunc signature (n?,k),(k,m?)->(n?,m?) (size 2 is different from 3)",
     "output_type": "error",
     "traceback": [
      "\u001B[1;31m---------------------------------------------------------------------------\u001B[0m",
      "\u001B[1;31mValueError\u001B[0m                                Traceback (most recent call last)",
      "Cell \u001B[1;32mIn[16], line 1\u001B[0m\n\u001B[1;32m----> 1\u001B[0m b\u001B[38;5;129m@A\u001B[39m\n",
      "\u001B[1;31mValueError\u001B[0m: matmul: Input operand 1 has a mismatch in its core dimension 0, with gufunc signature (n?,k),(k,m?)->(n?,m?) (size 2 is different from 3)"
     ]
    }
   ],
   "execution_count": 16
  },
  {
   "cell_type": "code",
   "metadata": {
    "collapsed": false,
    "ExecuteTime": {
     "end_time": "2024-10-28T20:01:13.921949Z",
     "start_time": "2024-10-28T20:01:13.911702Z"
    }
   },
   "source": [
    "# матрица Грама ортогональной системы векторов\n",
    "x=np.array([1,1,1])\n",
    "y=np.array([1,0,-1])\n",
    "z=np.array([-1,2,-1])\n",
    "A=np.array([x,y,z])\n",
    "print (A, type(A))"
   ],
   "outputs": [
    {
     "name": "stdout",
     "output_type": "stream",
     "text": [
      "[[ 1  1  1]\n",
      " [ 1  0 -1]\n",
      " [-1  2 -1]] <class 'numpy.ndarray'>\n"
     ]
    }
   ],
   "execution_count": 17
  },
  {
   "cell_type": "code",
   "metadata": {
    "collapsed": false,
    "ExecuteTime": {
     "end_time": "2024-10-28T20:01:36.356997Z",
     "start_time": "2024-10-28T20:01:36.350183Z"
    }
   },
   "source": [
    "# матрица Грама ортогональной системы векторов\n",
    "A@A.T"
   ],
   "outputs": [
    {
     "data": {
      "text/plain": [
       "array([[3, 0, 0],\n",
       "       [0, 2, 0],\n",
       "       [0, 0, 6]])"
      ]
     },
     "execution_count": 18,
     "metadata": {},
     "output_type": "execute_result"
    }
   ],
   "execution_count": 18
  },
  {
   "cell_type": "code",
   "metadata": {
    "collapsed": false,
    "ExecuteTime": {
     "end_time": "2024-10-28T20:01:49.886475Z",
     "start_time": "2024-10-28T20:01:49.873827Z"
    }
   },
   "source": [
    "# матрица Грама ортонормированной системы векторов\n",
    "x_norm=x/np.linalg.norm(x)\n",
    "y_norm=y/np.linalg.norm(y)\n",
    "z_norm=z/np.linalg.norm(z)\n",
    "A_norm=np.array([x_norm,y_norm,z_norm])\n",
    "print (A_norm, type(A_norm))"
   ],
   "outputs": [
    {
     "name": "stdout",
     "output_type": "stream",
     "text": [
      "[[ 0.57735027  0.57735027  0.57735027]\n",
      " [ 0.70710678  0.         -0.70710678]\n",
      " [-0.40824829  0.81649658 -0.40824829]] <class 'numpy.ndarray'>\n"
     ]
    }
   ],
   "execution_count": 19
  },
  {
   "cell_type": "code",
   "metadata": {
    "collapsed": false,
    "ExecuteTime": {
     "end_time": "2024-10-28T20:01:53.262348Z",
     "start_time": "2024-10-28T20:01:53.073038Z"
    }
   },
   "source": [
    "# матрица Грама ортонормированной системы векторов\n",
    "A_norm@A_norm.T"
   ],
   "outputs": [
    {
     "data": {
      "text/plain": [
       "array([[ 1.00000000e+00, -1.77961928e-17,  1.66584120e-17],\n",
       "       [-1.77961928e-17,  1.00000000e+00, -2.45142679e-17],\n",
       "       [ 1.66584120e-17, -2.45142679e-17,  1.00000000e+00]])"
      ]
     },
     "execution_count": 20,
     "metadata": {},
     "output_type": "execute_result"
    }
   ],
   "execution_count": 20
  },
  {
   "cell_type": "code",
   "metadata": {
    "collapsed": false,
    "ExecuteTime": {
     "end_time": "2024-10-28T20:01:59.254038Z",
     "start_time": "2024-10-28T20:01:59.246982Z"
    }
   },
   "source": [
    "# ортонормированные системы рулят! :)\n",
    "np.round(A_norm@A_norm.T,1)"
   ],
   "outputs": [
    {
     "data": {
      "text/plain": [
       "array([[ 1., -0.,  0.],\n",
       "       [-0.,  1., -0.],\n",
       "       [ 0., -0.,  1.]])"
      ]
     },
     "execution_count": 21,
     "metadata": {},
     "output_type": "execute_result"
    }
   ],
   "execution_count": 21
  }
 ],
 "metadata": {
  "kernelspec": {
   "display_name": "Python 3",
   "language": "python",
   "name": "python3"
  },
  "language_info": {
   "codemirror_mode": {
    "name": "ipython",
    "version": 3
   },
   "file_extension": ".py",
   "mimetype": "text/x-python",
   "name": "python",
   "nbconvert_exporter": "python",
   "pygments_lexer": "ipython3",
   "version": "3.6.0"
  }
 },
 "nbformat": 4,
 "nbformat_minor": 2
}
