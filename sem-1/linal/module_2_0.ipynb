{
 "cells": [
  {
   "cell_type": "code",
   "id": "initial_id",
   "metadata": {
    "collapsed": true,
    "ExecuteTime": {
     "end_time": "2024-10-29T20:51:00.495860Z",
     "start_time": "2024-10-29T20:51:00.491351Z"
    }
   },
   "source": "import numpy as np",
   "outputs": [],
   "execution_count": 1
  },
  {
   "metadata": {
    "ExecuteTime": {
     "end_time": "2024-10-29T20:51:39.765266Z",
     "start_time": "2024-10-29T20:51:39.755088Z"
    }
   },
   "cell_type": "code",
   "source": [
    "A = np.array([[1,1], [1,2]])\n",
    "A"
   ],
   "id": "4d2398c3180275d9",
   "outputs": [
    {
     "data": {
      "text/plain": [
       "array([[1, 1],\n",
       "       [1, 2]])"
      ]
     },
     "execution_count": 2,
     "metadata": {},
     "output_type": "execute_result"
    }
   ],
   "execution_count": 2
  },
  {
   "metadata": {
    "ExecuteTime": {
     "end_time": "2024-10-29T20:51:54.528483Z",
     "start_time": "2024-10-29T20:51:54.522649Z"
    }
   },
   "cell_type": "code",
   "source": "A.T@A",
   "id": "44dd752cb3d2e9f3",
   "outputs": [
    {
     "data": {
      "text/plain": [
       "array([[2, 3],\n",
       "       [3, 5]])"
      ]
     },
     "execution_count": 3,
     "metadata": {},
     "output_type": "execute_result"
    }
   ],
   "execution_count": 3
  },
  {
   "metadata": {
    "ExecuteTime": {
     "end_time": "2024-10-29T20:53:01.766405Z",
     "start_time": "2024-10-29T20:53:01.759278Z"
    }
   },
   "cell_type": "code",
   "source": [
    "A = np.array([[1,2], [3,7]])\n",
    "A"
   ],
   "id": "11802126c479e7be",
   "outputs": [
    {
     "data": {
      "text/plain": [
       "array([[1, 2],\n",
       "       [3, 7]])"
      ]
     },
     "execution_count": 4,
     "metadata": {},
     "output_type": "execute_result"
    }
   ],
   "execution_count": 4
  },
  {
   "metadata": {
    "ExecuteTime": {
     "end_time": "2024-10-29T20:53:17.329953Z",
     "start_time": "2024-10-29T20:53:17.322011Z"
    }
   },
   "cell_type": "code",
   "source": "np.linalg.inv(A)",
   "id": "9ef627aa6f75e8e3",
   "outputs": [
    {
     "data": {
      "text/plain": [
       "array([[ 7., -2.],\n",
       "       [-3.,  1.]])"
      ]
     },
     "execution_count": 5,
     "metadata": {},
     "output_type": "execute_result"
    }
   ],
   "execution_count": 5
  },
  {
   "metadata": {
    "ExecuteTime": {
     "end_time": "2024-10-29T20:55:51.645734Z",
     "start_time": "2024-10-29T20:55:51.638298Z"
    }
   },
   "cell_type": "code",
   "source": [
    "v1 = np.array([2,10,-2])\n",
    "v2 = np.array([3,2,-2])\n",
    "v3 = np.array([8,14,-6])\n",
    "M = np.array([v1,v2,v3]).T\n",
    "M"
   ],
   "id": "6e0dfc25a174fbda",
   "outputs": [
    {
     "data": {
      "text/plain": [
       "array([[ 2,  3,  8],\n",
       "       [10,  2, 14],\n",
       "       [-2, -2, -6]])"
      ]
     },
     "execution_count": 6,
     "metadata": {},
     "output_type": "execute_result"
    }
   ],
   "execution_count": 6
  },
  {
   "metadata": {
    "ExecuteTime": {
     "end_time": "2024-10-29T20:56:14.347708Z",
     "start_time": "2024-10-29T20:56:14.330860Z"
    }
   },
   "cell_type": "code",
   "source": "np.linalg.matrix_rank(M)",
   "id": "12e970745e7d37c5",
   "outputs": [
    {
     "data": {
      "text/plain": [
       "2"
      ]
     },
     "execution_count": 7,
     "metadata": {},
     "output_type": "execute_result"
    }
   ],
   "execution_count": 7
  },
  {
   "metadata": {
    "ExecuteTime": {
     "end_time": "2024-10-29T20:57:17.096685Z",
     "start_time": "2024-10-29T20:57:17.091273Z"
    }
   },
   "cell_type": "code",
   "source": [
    "A = np.array([[5,10], [1,2]])\n",
    "A"
   ],
   "id": "de519de570b1409d",
   "outputs": [
    {
     "data": {
      "text/plain": [
       "array([[ 5, 10],\n",
       "       [ 1,  2]])"
      ]
     },
     "execution_count": 8,
     "metadata": {},
     "output_type": "execute_result"
    }
   ],
   "execution_count": 8
  },
  {
   "metadata": {
    "ExecuteTime": {
     "end_time": "2024-10-29T20:57:39.443713Z",
     "start_time": "2024-10-29T20:57:39.438296Z"
    }
   },
   "cell_type": "code",
   "source": "np.linalg.matrix_rank(A)",
   "id": "dff4b17718872dc5",
   "outputs": [
    {
     "data": {
      "text/plain": [
       "1"
      ]
     },
     "execution_count": 9,
     "metadata": {},
     "output_type": "execute_result"
    }
   ],
   "execution_count": 9
  },
  {
   "metadata": {},
   "cell_type": "code",
   "outputs": [],
   "execution_count": null,
   "source": "",
   "id": "2f0f4691e12d178"
  }
 ],
 "metadata": {
  "kernelspec": {
   "display_name": "Python 3",
   "language": "python",
   "name": "python3"
  },
  "language_info": {
   "codemirror_mode": {
    "name": "ipython",
    "version": 2
   },
   "file_extension": ".py",
   "mimetype": "text/x-python",
   "name": "python",
   "nbconvert_exporter": "python",
   "pygments_lexer": "ipython2",
   "version": "2.7.6"
  }
 },
 "nbformat": 4,
 "nbformat_minor": 5
}
