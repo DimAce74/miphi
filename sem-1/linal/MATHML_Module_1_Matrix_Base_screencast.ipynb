{
 "cells": [
  {
   "cell_type": "code",
   "metadata": {
    "collapsed": true,
    "ExecuteTime": {
     "end_time": "2024-10-27T20:47:50.221764Z",
     "start_time": "2024-10-27T20:47:49.996730Z"
    }
   },
   "source": [
    "import numpy as np"
   ],
   "outputs": [],
   "execution_count": 1
  },
  {
   "cell_type": "code",
   "metadata": {
    "collapsed": true,
    "ExecuteTime": {
     "end_time": "2024-10-27T20:47:50.258128Z",
     "start_time": "2024-10-27T20:47:50.254296Z"
    }
   },
   "source": [
    "# как создать матрицу?"
   ],
   "outputs": [],
   "execution_count": 2
  },
  {
   "cell_type": "code",
   "metadata": {
    "ExecuteTime": {
     "end_time": "2024-10-27T20:47:50.431610Z",
     "start_time": "2024-10-27T20:47:50.414823Z"
    }
   },
   "source": [
    "# как двумерный массив Numpy\n",
    "np.array( [ [1,1] , [2,3] , [4,5] ] )"
   ],
   "outputs": [
    {
     "data": {
      "text/plain": [
       "array([[1, 1],\n",
       "       [2, 3],\n",
       "       [4, 5]])"
      ]
     },
     "execution_count": 3,
     "metadata": {},
     "output_type": "execute_result"
    }
   ],
   "execution_count": 3
  },
  {
   "cell_type": "code",
   "metadata": {
    "ExecuteTime": {
     "end_time": "2024-10-27T20:47:51.110345Z",
     "start_time": "2024-10-27T20:47:51.100723Z"
    }
   },
   "source": [
    "# преобразовать из Pandas DataFrame\n",
    "import pandas as pd\n",
    "\n",
    "data=[[1,2,3],[4,5,6],[7,8,9],[10,11,12]]\n",
    "df = pd.DataFrame(data)\n",
    "\n",
    "A = df.values\n",
    "\n",
    "print('Data Frame:')\n",
    "print(df)\n",
    "print('Matrix:')\n",
    "print(A)"
   ],
   "outputs": [
    {
     "name": "stdout",
     "output_type": "stream",
     "text": [
      "Data Frame:\n",
      "    0   1   2\n",
      "0   1   2   3\n",
      "1   4   5   6\n",
      "2   7   8   9\n",
      "3  10  11  12\n",
      "Matrix:\n",
      "[[ 1  2  3]\n",
      " [ 4  5  6]\n",
      " [ 7  8  9]\n",
      " [10 11 12]]\n"
     ]
    }
   ],
   "execution_count": 4
  },
  {
   "cell_type": "code",
   "metadata": {
    "ExecuteTime": {
     "end_time": "2024-10-27T20:47:51.170516Z",
     "start_time": "2024-10-27T20:47:51.163863Z"
    }
   },
   "source": [
    "# размер матрицы\n",
    "np.shape(A)"
   ],
   "outputs": [
    {
     "data": {
      "text/plain": [
       "(4, 3)"
      ]
     },
     "execution_count": 5,
     "metadata": {},
     "output_type": "execute_result"
    }
   ],
   "execution_count": 5
  },
  {
   "cell_type": "code",
   "metadata": {
    "ExecuteTime": {
     "end_time": "2024-10-27T20:47:51.353051Z",
     "start_time": "2024-10-27T20:47:51.343878Z"
    }
   },
   "source": [
    "# вектор-столбец\n",
    "x=np.array([1,2,3])\n",
    "np.reshape(x,(3,1))"
   ],
   "outputs": [
    {
     "data": {
      "text/plain": [
       "array([[1],\n",
       "       [2],\n",
       "       [3]])"
      ]
     },
     "execution_count": 6,
     "metadata": {},
     "output_type": "execute_result"
    }
   ],
   "execution_count": 6
  },
  {
   "cell_type": "code",
   "metadata": {
    "ExecuteTime": {
     "end_time": "2024-10-27T20:47:51.453988Z",
     "start_time": "2024-10-27T20:47:51.444540Z"
    }
   },
   "source": [
    "# вектор-строка\n",
    "np.reshape(x,(1,3))"
   ],
   "outputs": [
    {
     "data": {
      "text/plain": [
       "array([[1, 2, 3]])"
      ]
     },
     "execution_count": 7,
     "metadata": {},
     "output_type": "execute_result"
    }
   ],
   "execution_count": 7
  },
  {
   "cell_type": "code",
   "metadata": {
    "ExecuteTime": {
     "end_time": "2024-10-27T20:47:51.611082Z",
     "start_time": "2024-10-27T20:47:51.605384Z"
    }
   },
   "source": [
    "# вектор-строка\n",
    "x_row=np.array([1, 2, 3], ndmin=2)\n",
    "print(x_row,np.shape(x_row))"
   ],
   "outputs": [
    {
     "name": "stdout",
     "output_type": "stream",
     "text": [
      "[[1 2 3]] (1, 3)\n"
     ]
    }
   ],
   "execution_count": 8
  },
  {
   "cell_type": "code",
   "metadata": {
    "ExecuteTime": {
     "end_time": "2024-10-27T20:47:51.742276Z",
     "start_time": "2024-10-27T20:47:51.736239Z"
    }
   },
   "source": [
    "# индексация матриц (двумерных массивов numpy)\n",
    "print('матрица А:')\n",
    "print(A)\n",
    "print('Первая строка матрицы А:')\n",
    "print(A[0])\n",
    "print('Третий столбец матрицы А:')\n",
    "print(A[:,2])\n",
    "print('Элемент а_43:')\n",
    "print(A[3,2])"
   ],
   "outputs": [
    {
     "name": "stdout",
     "output_type": "stream",
     "text": [
      "матрица А:\n",
      "[[ 1  2  3]\n",
      " [ 4  5  6]\n",
      " [ 7  8  9]\n",
      " [10 11 12]]\n",
      "Первая строка матрицы А:\n",
      "[1 2 3]\n",
      "Третий столбец матрицы А:\n",
      "[ 3  6  9 12]\n",
      "Элемент а_43:\n",
      "12\n"
     ]
    }
   ],
   "execution_count": 9
  },
  {
   "cell_type": "code",
   "metadata": {
    "collapsed": true,
    "ExecuteTime": {
     "end_time": "2024-10-27T20:47:51.990785Z",
     "start_time": "2024-10-27T20:47:51.986729Z"
    }
   },
   "source": [
    "# создание специальных матриц"
   ],
   "outputs": [],
   "execution_count": 10
  },
  {
   "cell_type": "code",
   "metadata": {
    "ExecuteTime": {
     "end_time": "2024-10-27T20:47:52.092273Z",
     "start_time": "2024-10-27T20:47:52.082612Z"
    }
   },
   "source": [
    "# нулевая\n",
    "np.zeros((2,3))"
   ],
   "outputs": [
    {
     "data": {
      "text/plain": [
       "array([[0., 0., 0.],\n",
       "       [0., 0., 0.]])"
      ]
     },
     "execution_count": 11,
     "metadata": {},
     "output_type": "execute_result"
    }
   ],
   "execution_count": 11
  },
  {
   "cell_type": "code",
   "metadata": {
    "ExecuteTime": {
     "end_time": "2024-10-27T20:47:52.361044Z",
     "start_time": "2024-10-27T20:47:52.352932Z"
    }
   },
   "source": [
    "# единичная\n",
    "np.eye(3)"
   ],
   "outputs": [
    {
     "data": {
      "text/plain": [
       "array([[1., 0., 0.],\n",
       "       [0., 1., 0.],\n",
       "       [0., 0., 1.]])"
      ]
     },
     "execution_count": 12,
     "metadata": {},
     "output_type": "execute_result"
    }
   ],
   "execution_count": 12
  },
  {
   "cell_type": "code",
   "metadata": {
    "ExecuteTime": {
     "end_time": "2024-10-27T20:47:52.502142Z",
     "start_time": "2024-10-27T20:47:52.495870Z"
    }
   },
   "source": [
    "# матрица единиц\n",
    "np.ones((3,5))"
   ],
   "outputs": [
    {
     "data": {
      "text/plain": [
       "array([[1., 1., 1., 1., 1.],\n",
       "       [1., 1., 1., 1., 1.],\n",
       "       [1., 1., 1., 1., 1.]])"
      ]
     },
     "execution_count": 13,
     "metadata": {},
     "output_type": "execute_result"
    }
   ],
   "execution_count": 13
  },
  {
   "cell_type": "code",
   "metadata": {
    "ExecuteTime": {
     "end_time": "2024-10-27T20:47:52.591826Z",
     "start_time": "2024-10-27T20:47:52.585984Z"
    }
   },
   "source": [
    "# Диагональная\n",
    "diagonal=[1,2,3]\n",
    "np.diag(diagonal)"
   ],
   "outputs": [
    {
     "data": {
      "text/plain": [
       "array([[1, 0, 0],\n",
       "       [0, 2, 0],\n",
       "       [0, 0, 3]])"
      ]
     },
     "execution_count": 14,
     "metadata": {},
     "output_type": "execute_result"
    }
   ],
   "execution_count": 14
  },
  {
   "cell_type": "code",
   "metadata": {
    "ExecuteTime": {
     "end_time": "2024-10-27T20:47:52.793442Z",
     "start_time": "2024-10-27T20:47:52.786804Z"
    }
   },
   "source": [
    "# Шаровая\n",
    "5*np.eye(3)"
   ],
   "outputs": [
    {
     "data": {
      "text/plain": [
       "array([[5., 0., 0.],\n",
       "       [0., 5., 0.],\n",
       "       [0., 0., 5.]])"
      ]
     },
     "execution_count": 15,
     "metadata": {},
     "output_type": "execute_result"
    }
   ],
   "execution_count": 15
  },
  {
   "cell_type": "code",
   "metadata": {
    "collapsed": true,
    "ExecuteTime": {
     "end_time": "2024-10-27T20:47:52.984059Z",
     "start_time": "2024-10-27T20:47:52.979824Z"
    }
   },
   "source": [
    "A=np.array([[1,1],[2,3],[4,5]])\n",
    "B=np.array([[1,-1],[-2,3],[4,-5]])"
   ],
   "outputs": [],
   "execution_count": 16
  },
  {
   "cell_type": "code",
   "metadata": {
    "ExecuteTime": {
     "end_time": "2024-10-27T20:47:53.200248Z",
     "start_time": "2024-10-27T20:47:53.195208Z"
    }
   },
   "source": [
    "A"
   ],
   "outputs": [
    {
     "data": {
      "text/plain": [
       "array([[1, 1],\n",
       "       [2, 3],\n",
       "       [4, 5]])"
      ]
     },
     "execution_count": 17,
     "metadata": {},
     "output_type": "execute_result"
    }
   ],
   "execution_count": 17
  },
  {
   "cell_type": "code",
   "metadata": {
    "ExecuteTime": {
     "end_time": "2024-10-27T20:47:53.372574Z",
     "start_time": "2024-10-27T20:47:53.366905Z"
    }
   },
   "source": [
    "B"
   ],
   "outputs": [
    {
     "data": {
      "text/plain": [
       "array([[ 1, -1],\n",
       "       [-2,  3],\n",
       "       [ 4, -5]])"
      ]
     },
     "execution_count": 18,
     "metadata": {},
     "output_type": "execute_result"
    }
   ],
   "execution_count": 18
  },
  {
   "cell_type": "code",
   "metadata": {
    "ExecuteTime": {
     "end_time": "2024-10-27T20:47:53.554032Z",
     "start_time": "2024-10-27T20:47:53.546578Z"
    }
   },
   "source": [
    "A+B"
   ],
   "outputs": [
    {
     "data": {
      "text/plain": [
       "array([[2, 0],\n",
       "       [0, 6],\n",
       "       [8, 0]])"
      ]
     },
     "execution_count": 19,
     "metadata": {},
     "output_type": "execute_result"
    }
   ],
   "execution_count": 19
  },
  {
   "cell_type": "code",
   "metadata": {
    "ExecuteTime": {
     "end_time": "2024-10-27T20:47:53.737275Z",
     "start_time": "2024-10-27T20:47:53.731210Z"
    }
   },
   "source": [
    "B+A"
   ],
   "outputs": [
    {
     "data": {
      "text/plain": [
       "array([[2, 0],\n",
       "       [0, 6],\n",
       "       [8, 0]])"
      ]
     },
     "execution_count": 20,
     "metadata": {},
     "output_type": "execute_result"
    }
   ],
   "execution_count": 20
  },
  {
   "cell_type": "code",
   "metadata": {
    "ExecuteTime": {
     "end_time": "2024-10-27T20:47:53.918344Z",
     "start_time": "2024-10-27T20:47:53.910226Z"
    }
   },
   "source": [
    "A-B"
   ],
   "outputs": [
    {
     "data": {
      "text/plain": [
       "array([[ 0,  2],\n",
       "       [ 4,  0],\n",
       "       [ 0, 10]])"
      ]
     },
     "execution_count": 21,
     "metadata": {},
     "output_type": "execute_result"
    }
   ],
   "execution_count": 21
  },
  {
   "cell_type": "code",
   "metadata": {
    "ExecuteTime": {
     "end_time": "2024-10-27T20:47:54.082499Z",
     "start_time": "2024-10-27T20:47:54.076601Z"
    }
   },
   "source": [
    "2*A"
   ],
   "outputs": [
    {
     "data": {
      "text/plain": [
       "array([[ 2,  2],\n",
       "       [ 4,  6],\n",
       "       [ 8, 10]])"
      ]
     },
     "execution_count": 22,
     "metadata": {},
     "output_type": "execute_result"
    }
   ],
   "execution_count": 22
  },
  {
   "cell_type": "code",
   "metadata": {
    "ExecuteTime": {
     "end_time": "2024-10-27T20:47:54.243177Z",
     "start_time": "2024-10-27T20:47:54.236824Z"
    }
   },
   "source": [
    "A.T"
   ],
   "outputs": [
    {
     "data": {
      "text/plain": [
       "array([[1, 2, 4],\n",
       "       [1, 3, 5]])"
      ]
     },
     "execution_count": 23,
     "metadata": {},
     "output_type": "execute_result"
    }
   ],
   "execution_count": 23
  },
  {
   "cell_type": "code",
   "metadata": {
    "ExecuteTime": {
     "end_time": "2024-10-27T20:47:54.500598Z",
     "start_time": "2024-10-27T20:47:54.492496Z"
    }
   },
   "source": [
    "# как транспонировать вектор?\n",
    "x=np.array([1,2,3])\n",
    "x.T"
   ],
   "outputs": [
    {
     "data": {
      "text/plain": [
       "array([1, 2, 3])"
      ]
     },
     "execution_count": 24,
     "metadata": {},
     "output_type": "execute_result"
    }
   ],
   "execution_count": 24
  },
  {
   "cell_type": "code",
   "metadata": {
    "ExecuteTime": {
     "end_time": "2024-10-27T20:47:54.644681Z",
     "start_time": "2024-10-27T20:47:54.640013Z"
    }
   },
   "source": [
    "x_col=np.reshape(x,(3,1))\n",
    "print(x_col)\n",
    "print(np.shape(x_col))"
   ],
   "outputs": [
    {
     "name": "stdout",
     "output_type": "stream",
     "text": [
      "[[1]\n",
      " [2]\n",
      " [3]]\n",
      "(3, 1)\n"
     ]
    }
   ],
   "execution_count": 25
  },
  {
   "cell_type": "code",
   "metadata": {
    "ExecuteTime": {
     "end_time": "2024-10-27T20:47:54.810197Z",
     "start_time": "2024-10-27T20:47:54.803209Z"
    }
   },
   "source": [
    "x_col.T"
   ],
   "outputs": [
    {
     "data": {
      "text/plain": [
       "array([[1, 2, 3]])"
      ]
     },
     "execution_count": 26,
     "metadata": {},
     "output_type": "execute_result"
    }
   ],
   "execution_count": 26
  },
  {
   "cell_type": "code",
   "metadata": {
    "ExecuteTime": {
     "end_time": "2024-10-27T20:47:55.124119Z",
     "start_time": "2024-10-27T20:47:55.114876Z"
    }
   },
   "source": [
    "print(np.shape(x))\n",
    "print(np.shape(x_col))\n",
    "print(np.shape(x_col.T))"
   ],
   "outputs": [
    {
     "name": "stdout",
     "output_type": "stream",
     "text": [
      "(3,)\n",
      "(3, 1)\n",
      "(1, 3)\n"
     ]
    }
   ],
   "execution_count": 27
  },
  {
   "cell_type": "code",
   "metadata": {
    "collapsed": true,
    "ExecuteTime": {
     "end_time": "2024-10-27T20:47:55.187085Z",
     "start_time": "2024-10-27T20:47:55.182893Z"
    }
   },
   "source": [],
   "outputs": [],
   "execution_count": null
  }
 ],
 "metadata": {
  "kernelspec": {
   "display_name": "Python 3",
   "language": "python",
   "name": "python3"
  },
  "language_info": {
   "codemirror_mode": {
    "name": "ipython",
    "version": 3
   },
   "file_extension": ".py",
   "mimetype": "text/x-python",
   "name": "python",
   "nbconvert_exporter": "python",
   "pygments_lexer": "ipython3",
   "version": "3.7.1"
  }
 },
 "nbformat": 4,
 "nbformat_minor": 2
}
