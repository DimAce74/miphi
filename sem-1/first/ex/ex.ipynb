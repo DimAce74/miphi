{
 "cells": [
  {
   "metadata": {
    "ExecuteTime": {
     "end_time": "2025-01-10T17:25:18.468115Z",
     "start_time": "2025-01-10T17:25:18.459791Z"
    }
   },
   "cell_type": "code",
   "source": [
    "import math\n",
    "import random\n",
    "import string\n",
    "import time\n",
    "from enum import Enum"
   ],
   "id": "4f4479bdb2904ac3",
   "outputs": [],
   "execution_count": 47
  },
  {
   "metadata": {},
   "cell_type": "markdown",
   "source": [
    "# Задание 1 (4 балла)\n",
    "\n",
    "Обратный порядок слов в блоках текста\n",
    "Дан текстовый файл, каждое предложение которого занимает одну строку. Напишите программу, которая разделяет текст на блоки — каждый блок состоит из нескольких предложений. Затем переворачивает порядок слов только внутри каждого предложения, не меняя порядок самих предложений в блоке."
   ],
   "id": "857860f315693423"
  },
  {
   "cell_type": "code",
   "id": "initial_id",
   "metadata": {
    "collapsed": true,
    "ExecuteTime": {
     "end_time": "2025-01-10T04:36:48.271918Z",
     "start_time": "2025-01-10T04:36:48.265010Z"
    }
   },
   "source": [
    "def reverse_words(file_path, blocks_count = 2):\n",
    "    # функция для разделения списка строк на блоки \n",
    "    def split_list(input_list, num_splits):\n",
    "        split_size = math.ceil(len(input_list) / num_splits)\n",
    "        return [input_list[i:i + split_size] for i in range(0, len(input_list), split_size)]\n",
    "    \n",
    "    # функция для разворачивания строки\n",
    "    def reverse_line(line_str):\n",
    "        words = line_str.split()\n",
    "        return ' '.join(words[::-1])\n",
    "    \n",
    "    # функция для разворачивания строк в блоке\n",
    "    def reverse_block(block):\n",
    "        return [reverse_line(line) for line in block]\n",
    "            \n",
    "    # читаем строки из файла в список\n",
    "    with open(file_path, 'r') as file:\n",
    "        lines = file.readlines()\n",
    "        \n",
    "    blocks = split_list(lines, blocks_count)\n",
    "    \n",
    "    return [reverse_block(bl) for bl in blocks]\n",
    "\n"
   ],
   "outputs": [],
   "execution_count": 15
  },
  {
   "metadata": {
    "ExecuteTime": {
     "end_time": "2025-01-10T04:37:19.420831Z",
     "start_time": "2025-01-10T04:37:19.414871Z"
    }
   },
   "cell_type": "code",
   "source": "print(reverse_words('data/ex_1.txt', 2))\n",
   "id": "d6a7dbca8fd648b3",
   "outputs": [
    {
     "name": "stdout",
     "output_type": "stream",
     "text": [
      "[['дела как Привет', 'дождь идет улице На'], ['программирование люблю Я']]\n"
     ]
    }
   ],
   "execution_count": 20
  },
  {
   "metadata": {},
   "cell_type": "markdown",
   "source": [
    "# Задание 2\n",
    "\n",
    "Напишите функцию, которая принимает строку и сжимает её определённым образом. Строки содержат произвольные символы, включая пробелы и спецсимволы, и требуют точного учета длины при кодировании. Сжатие строки происходит сериями одинаковых символов в формате символ+количество, но только если длина сжатой строки не превышает исходную."
   ],
   "id": "28d0a7181d4fa055"
  },
  {
   "metadata": {
    "ExecuteTime": {
     "end_time": "2025-01-10T18:42:40.568904Z",
     "start_time": "2025-01-10T18:42:40.559889Z"
    }
   },
   "cell_type": "code",
   "source": [
    "def compress_string(input_string):\n",
    "    compressed_string = ''\n",
    "    count = 1\n",
    "    for i in range(len(input_string)):\n",
    "        if i < len(input_string) - 1 and input_string[i] == input_string[i + 1]:\n",
    "            count += 1\n",
    "        else:\n",
    "            compressed_string += input_string[i]\n",
    "            if count > 1:\n",
    "                compressed_string += str(count)\n",
    "            count = 1\n",
    "    return compressed_string if len(compressed_string) < len(input_string) else input_string"
   ],
   "id": "ab7ffc29b21b6b8f",
   "outputs": [],
   "execution_count": 57
  },
  {
   "metadata": {
    "ExecuteTime": {
     "end_time": "2025-01-10T18:43:00.578944Z",
     "start_time": "2025-01-10T18:43:00.573840Z"
    }
   },
   "cell_type": "code",
   "source": [
    "my_string = ('abbbcd')\n",
    "print(compress_string(my_string))\n"
   ],
   "id": "efb043845ba3145c",
   "outputs": [
    {
     "name": "stdout",
     "output_type": "stream",
     "text": [
      "ab3cd\n"
     ]
    }
   ],
   "execution_count": 60
  },
  {
   "metadata": {},
   "cell_type": "markdown",
   "source": [
    "# Задание 3 (4 балла)\n",
    "\n",
    "Хаотичные скобки\n",
    "Реализуйте функцию, которая проверяет, правильно ли расставлены скобки в строке (включая круглые, квадратные и фигурные скобки)."
   ],
   "id": "2c872e50e01f969b"
  },
  {
   "metadata": {
    "ExecuteTime": {
     "end_time": "2025-01-10T04:50:25.670306Z",
     "start_time": "2025-01-10T04:50:25.664855Z"
    }
   },
   "cell_type": "code",
   "source": [
    "def check_brackets(input_string):\n",
    "    stack = []\n",
    "    brackets = {')': '(', ']': '[', '}': '{'}\n",
    "    for char in input_string:\n",
    "        if char in brackets.values():\n",
    "            stack.append(char)\n",
    "        elif char in brackets.keys():\n",
    "            if stack == [] or brackets[char] != stack.pop():\n",
    "                return False\n",
    "    return stack == []\n"
   ],
   "id": "a20bdb92a144a89d",
   "outputs": [],
   "execution_count": 36
  },
  {
   "metadata": {
    "ExecuteTime": {
     "end_time": "2025-01-10T04:50:39.479135Z",
     "start_time": "2025-01-10T04:50:39.470673Z"
    }
   },
   "cell_type": "code",
   "source": [
    "my_string = '({[})]'\n",
    "print(check_brackets(my_string))"
   ],
   "id": "d4d829e2a55a5927",
   "outputs": [
    {
     "name": "stdout",
     "output_type": "stream",
     "text": [
      "False\n"
     ]
    }
   ],
   "execution_count": 38
  },
  {
   "metadata": {},
   "cell_type": "markdown",
   "source": [
    "# Задание 4 (4 балла)\n",
    "\n",
    "Генератор случайных паролей\n",
    "Напишите функцию, которая генерирует пароль заданной длины. В реализации надо учитывать, что:\n",
    "\n",
    "Пароль должен содержать буквы, цифры и специальные символы.\n",
    "Длина пароля задается пользователем."
   ],
   "id": "be2d277548567c86"
  },
  {
   "metadata": {
    "ExecuteTime": {
     "end_time": "2025-01-10T05:29:16.977668Z",
     "start_time": "2025-01-10T05:29:16.970288Z"
    }
   },
   "cell_type": "code",
   "source": [
    "def generate_password(length):\n",
    "    if length < 3:\n",
    "        raise ValueError('Длина пароля не может быть менее 3')\n",
    "    \n",
    "    res_chars = [random.choice(string.ascii_letters), random.choice(string.digits), random.choice(string.punctuation)]\n",
    "\n",
    "    characters = string.ascii_letters + string.digits + string.punctuation\n",
    "\n",
    "    for _ in range(length - 3):\n",
    "        res_chars.append(random.choice(characters))\n",
    "    \n",
    "    random.shuffle(res_chars)\n",
    "    return ''.join(res_chars)\n"
   ],
   "id": "81f37c2c88ae8845",
   "outputs": [],
   "execution_count": 40
  },
  {
   "metadata": {
    "ExecuteTime": {
     "end_time": "2025-01-10T05:30:20.916674Z",
     "start_time": "2025-01-10T05:30:20.909207Z"
    }
   },
   "cell_type": "code",
   "source": "print(generate_password(20))",
   "id": "29d7b89335e13ba2",
   "outputs": [
    {
     "name": "stdout",
     "output_type": "stream",
     "text": [
      "eMJFY2<3V]$`!dUwN(!S\n"
     ]
    }
   ],
   "execution_count": 45
  },
  {
   "metadata": {},
   "cell_type": "markdown",
   "source": [
    "# Задание 5 (6 баллов)\n",
    "\n",
    "Эмуляция работы электронной очереди\n",
    "Напишите класс для симуляции работы электронной очереди, например, в банке.\n",
    "\n",
    "Критерии оценки:\n",
    "\n",
    "Система должна поддерживать добавление клиентов с указанием их приоритета (например, VIP, обычный) — 1 балл.\n",
    "Выбор клиента для следующей обработки должен учитывать приоритет — 1 балл.\n",
    "Реализуйте отчет для администрации с информацией, сколько времени заняло обслуживание клиентов — 4 балла."
   ],
   "id": "922cb915864ec44c"
  },
  {
   "metadata": {
    "ExecuteTime": {
     "end_time": "2025-01-10T17:58:33.037396Z",
     "start_time": "2025-01-10T17:58:30.025878Z"
    }
   },
   "cell_type": "code",
   "source": [
    "class Priority(Enum):\n",
    "    VIP = 1\n",
    "    OTHER = 0\n",
    "\n",
    "class ElectronicQueue:\n",
    "    def __init__(self):\n",
    "        self.vip_queue = []\n",
    "        self.other_queue = []\n",
    "        self.service_times = []\n",
    "\n",
    "    def add_client(self, client, priority: Priority):\n",
    "        if priority == Priority.VIP:\n",
    "            self.vip_queue.append(client)\n",
    "        else:\n",
    "            self.other_queue.append(client)\n",
    "\n",
    "    def next_client(self):\n",
    "        if len(self.vip_queue) == 0:\n",
    "            curr_client = self.other_queue.pop()\n",
    "            start_time = time.time()\n",
    "            time.sleep(1)\n",
    "        else:\n",
    "            curr_client = self.vip_queue.pop()\n",
    "            start_time = time.time()\n",
    "            time.sleep(0.5)\n",
    "        end_time = time.time()\n",
    "        self.service_times.append(end_time - start_time)\n",
    "        return curr_client\n",
    "\n",
    "    def get_service_report(self):\n",
    "        return self.service_times\n",
    "\n",
    "# Пример использования\n",
    "queue = ElectronicQueue()\n",
    "queue.add_client(\"VIP клиент\", Priority.VIP)\n",
    "queue.add_client(\"Обычный клиент\", Priority.OTHER)\n",
    "queue.add_client(\"VIP клиент\", Priority.VIP)\n",
    "queue.add_client(\"Обычный клиент\", Priority.OTHER)\n",
    "\n",
    "for _ in range(4):\n",
    "    curr_client = queue.next_client()\n",
    "    print(f\"Обслужен клиент: {curr_client}\")\n",
    "\n",
    "service_report = queue.get_service_report()\n",
    "print(f\"Отчет об обслуживании: {service_report}\")\n"
   ],
   "id": "10708da7add5c858",
   "outputs": [
    {
     "name": "stdout",
     "output_type": "stream",
     "text": [
      "Обслужен клиент: VIP клиент\n",
      "Обслужен клиент: VIP клиент\n",
      "Обслужен клиент: Обычный клиент\n",
      "Обслужен клиент: Обычный клиент\n",
      "Отчет об обслуживании: [0.5008504390716553, 0.5005955696105957, 1.0004899501800537, 1.0006566047668457]\n"
     ]
    }
   ],
   "execution_count": 53
  },
  {
   "metadata": {},
   "cell_type": "markdown",
   "source": [
    "# Задание 6 (2 балла)\n",
    "\n",
    "Проверка на «почти палиндром»\n",
    "Напишите программу, которая проверяет, является ли строка палиндромом или «почти палиндромом». «Почти палиндром» означает, что можно удалить одну букву, чтобы строка стала палиндромом."
   ],
   "id": "c0f81dfdc80a3160"
  },
  {
   "metadata": {
    "ExecuteTime": {
     "end_time": "2025-01-10T18:23:14.076975Z",
     "start_time": "2025-01-10T18:23:14.057335Z"
    }
   },
   "cell_type": "code",
   "source": [
    "def is_palindrome(input_string):\n",
    "    return input_string == input_string[::-1]\n",
    "\n",
    "def is_almost_palindrome(input_string):\n",
    "    for i in range(len(input_string)):\n",
    "        if is_palindrome(input_string[:i] + input_string[i+1:]):\n",
    "            return True\n",
    "    return False\n",
    "\n",
    "# Пример использования\n",
    "my_string = \"abca\"\n",
    "is_palindrome_string = is_palindrome(my_string)\n",
    "is_almost_palindrome_string = is_almost_palindrome(my_string)\n",
    "print(f\"Является ли строка палиндромом: {is_palindrome_string}\")\n",
    "print(f\"Является ли строка почти палиндромом: {is_almost_palindrome_string}\")"
   ],
   "id": "8436bfbb3243751a",
   "outputs": [
    {
     "name": "stdout",
     "output_type": "stream",
     "text": [
      "Является ли строка палиндромом: False\n",
      "Является ли строка почти палиндромом: True\n"
     ]
    }
   ],
   "execution_count": 54
  },
  {
   "metadata": {},
   "cell_type": "markdown",
   "source": [
    "# Задание 7 (9 баллов)\n",
    "\n",
    "Задача Шредингера\n",
    "Разработайте программу, которая «стирает» фрагменты текста в файле. Например:\n",
    "\n",
    "Пользователь указывает файл и процент текста, который нужно удалить (например, 30%).\n",
    "Программа случайно выбирает слова или части абзацев и заменяет их на пробел или ..., сохраняя общий объем документа.\n",
    "Вход:\n",
    "«Сегодня солнечный день, и я собираюсь гулять в парке с моими друзьями.»\n",
    "\n",
    "Вывод (удалено ~30%):\n",
    "«Сегодня ... день, и я собираюсь гулять ... моими друзьями.»"
   ],
   "id": "1e6ab25a52243c29"
  },
  {
   "metadata": {
    "ExecuteTime": {
     "end_time": "2025-01-10T18:34:20.149564Z",
     "start_time": "2025-01-10T18:33:58.821850Z"
    }
   },
   "cell_type": "code",
   "source": [
    "def shred_text(file_path, percentage):\n",
    "    with open(file_path, 'r') as file:\n",
    "        text = file.read()\n",
    "\n",
    "    words = text.split()\n",
    "    num_words_to_remove = int(len(words) * percentage / 100)\n",
    "\n",
    "    for _ in range(num_words_to_remove):\n",
    "        index = random.randint(0, len(words) - 1)\n",
    "        words[index] = '...'\n",
    "\n",
    "    shredded_text = ' '.join(words)\n",
    "\n",
    "    with open(file_path, 'w') as file:\n",
    "        file.write(shredded_text)\n",
    "    print('Стирание фрагментов текста завершено')\n",
    "\n",
    "path = input('Введите путь к файлу')\n",
    "perc = int(input('Введите долю заменяемых слов в процентах'))\n",
    "\n",
    "shred_text(path, perc)"
   ],
   "id": "ffbe18ba5bcdb4fb",
   "outputs": [
    {
     "name": "stdout",
     "output_type": "stream",
     "text": [
      "Стирание фрагментов текста завершено\n"
     ]
    }
   ],
   "execution_count": 55
  }
 ],
 "metadata": {
  "kernelspec": {
   "display_name": "Python 3",
   "language": "python",
   "name": "python3"
  },
  "language_info": {
   "codemirror_mode": {
    "name": "ipython",
    "version": 2
   },
   "file_extension": ".py",
   "mimetype": "text/x-python",
   "name": "python",
   "nbconvert_exporter": "python",
   "pygments_lexer": "ipython2",
   "version": "2.7.6"
  }
 },
 "nbformat": 4,
 "nbformat_minor": 5
}
