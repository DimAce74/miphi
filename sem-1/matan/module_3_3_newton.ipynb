{
 "cells": [
  {
   "metadata": {
    "ExecuteTime": {
     "end_time": "2024-12-11T20:46:48.867178Z",
     "start_time": "2024-12-11T20:46:48.861179Z"
    }
   },
   "cell_type": "code",
   "source": [
    "import sympy as sp\n",
    "from scipy.optimize import newton\n"
   ],
   "id": "b0e388e50db9e301",
   "outputs": [],
   "execution_count": 8
  },
  {
   "cell_type": "code",
   "id": "initial_id",
   "metadata": {
    "collapsed": true,
    "ExecuteTime": {
     "end_time": "2024-12-11T20:46:57.206083Z",
     "start_time": "2024-12-11T20:46:57.200073Z"
    }
   },
   "source": [
    "def func1(x):\n",
    "    return 3*x**2 - 6*x -45\n",
    "def func2(x):\n",
    "    return 6*x - 6"
   ],
   "outputs": [],
   "execution_count": 10
  },
  {
   "metadata": {
    "ExecuteTime": {
     "end_time": "2024-12-11T20:47:24.026599Z",
     "start_time": "2024-12-11T20:47:24.021244Z"
    }
   },
   "cell_type": "code",
   "source": [
    "x = sp.symbols('x')\n",
    "f = 3*x**2 - 6*x -45\n",
    "fdx = f.diff(x)"
   ],
   "id": "d765ff16f16bd430",
   "outputs": [],
   "execution_count": 12
  },
  {
   "metadata": {
    "ExecuteTime": {
     "end_time": "2024-12-11T20:51:14.681649Z",
     "start_time": "2024-12-11T20:51:14.671791Z"
    }
   },
   "cell_type": "code",
   "source": [
    "def newtons_method(f, fprime, x0, tol=0.0001):\n",
    "    iter_count = 0\n",
    "    x_curr = x0\n",
    "    f_val = f.subs(x, x_curr)\n",
    "    while abs(f_val) > tol:\n",
    "        f_val = f.subs(x, x_curr)\n",
    "        f_prime_val = fprime.subs(x, x_curr)\n",
    "        x_curr = float(x_curr - f_val / f_prime_val)\n",
    "        iter_count += 1\n",
    "\n",
    "    return x_curr\n",
    "\n",
    "\n",
    "newtons_method(f=f, fprime=fdx, x0=50, tol=0.0001)"
   ],
   "id": "bdf23f73766477d6",
   "outputs": [
    {
     "data": {
      "text/plain": [
       "5.0"
      ]
     },
     "execution_count": 18,
     "metadata": {},
     "output_type": "execute_result"
    }
   ],
   "execution_count": 18
  },
  {
   "metadata": {
    "ExecuteTime": {
     "end_time": "2024-12-11T21:03:45.343134Z",
     "start_time": "2024-12-11T21:03:45.331813Z"
    }
   },
   "cell_type": "code",
   "source": [
    "x = sp.symbols('x')\n",
    "f = 3*x**2 - 6*x -45\n",
    "fdx = f.diff(x)\n",
    "def func1(x_val):\n",
    "    return float(f.subs(x, x_val))\n",
    "def func2(x_val):\n",
    "    return float(fdx.subs(x, x_val))\n",
    "newton(func=func1, fprime=func2, x0=50, tol=0.0001)\n",
    "# 5"
   ],
   "id": "d8e2fedc67121426",
   "outputs": [
    {
     "data": {
      "text/plain": [
       "5.0"
      ]
     },
     "execution_count": 22,
     "metadata": {},
     "output_type": "execute_result"
    }
   ],
   "execution_count": 22
  },
  {
   "metadata": {
    "ExecuteTime": {
     "end_time": "2024-12-11T21:05:16.497090Z",
     "start_time": "2024-12-11T21:05:16.473567Z"
    }
   },
   "cell_type": "code",
   "source": [
    "x = sp.symbols('x')\n",
    "f = x**3 - 72*x - 220\n",
    "fdx = f.diff(x)\n",
    "def func1(x_val):\n",
    "    return float(f.subs(x, x_val))\n",
    "def func2(x_val):\n",
    "    return float(fdx.subs(x, x_val))\n",
    "newton(func=func1, fprime=func2, x0=12, tol=0.0001)"
   ],
   "id": "24c5adbff95f0044",
   "outputs": [
    {
     "data": {
      "text/plain": [
       "9.727134419408875"
      ]
     },
     "execution_count": 23,
     "metadata": {},
     "output_type": "execute_result"
    }
   ],
   "execution_count": 23
  },
  {
   "metadata": {
    "ExecuteTime": {
     "end_time": "2024-12-11T21:06:20.128503Z",
     "start_time": "2024-12-11T21:06:20.114170Z"
    }
   },
   "cell_type": "code",
   "source": [
    "x = sp.symbols('x')\n",
    "f = x**2 + 9*x - 5\n",
    "fdx = f.diff(x)\n",
    "def func1(x_val):\n",
    "    return float(f.subs(x, x_val))\n",
    "def func2(x_val):\n",
    "    return float(fdx.subs(x, x_val))\n",
    "newton(func=func1, fprime=func2, x0=2.2, tol=0.0001)"
   ],
   "id": "fef1bea68b808180",
   "outputs": [
    {
     "data": {
      "text/plain": [
       "0.5249378105607477"
      ]
     },
     "execution_count": 25,
     "metadata": {},
     "output_type": "execute_result"
    }
   ],
   "execution_count": 25
  },
  {
   "metadata": {
    "ExecuteTime": {
     "end_time": "2024-12-11T21:09:18.828838Z",
     "start_time": "2024-12-11T21:09:18.815863Z"
    }
   },
   "cell_type": "code",
   "source": [
    "x = sp.symbols('x')\n",
    "f = 8*x**3 - 2*x**2 - 450\n",
    "fdx = f.diff(x)\n",
    "def func1(x_val):\n",
    "    return float(f.subs(x, x_val))\n",
    "def func2(x_val):\n",
    "    return float(fdx.subs(x, x_val))\n",
    "newton(func=func1, fprime=func2, x0=42, tol=0.0001)"
   ],
   "id": "39b51ac30cc545cb",
   "outputs": [
    {
     "data": {
      "text/plain": [
       "3.916719200750909"
      ]
     },
     "execution_count": 28,
     "metadata": {},
     "output_type": "execute_result"
    }
   ],
   "execution_count": 28
  },
  {
   "metadata": {
    "ExecuteTime": {
     "end_time": "2024-12-11T21:09:54.194758Z",
     "start_time": "2024-12-11T21:09:54.163682Z"
    }
   },
   "cell_type": "code",
   "source": "newtons_method(f=f, fprime=fdx, x0=50, tol=0.0001)",
   "id": "39fa61c39eae5d44",
   "outputs": [
    {
     "data": {
      "text/plain": [
       "3.9167192007506753"
      ]
     },
     "execution_count": 29,
     "metadata": {},
     "output_type": "execute_result"
    }
   ],
   "execution_count": 29
  }
 ],
 "metadata": {
  "kernelspec": {
   "display_name": "Python 3",
   "language": "python",
   "name": "python3"
  },
  "language_info": {
   "codemirror_mode": {
    "name": "ipython",
    "version": 2
   },
   "file_extension": ".py",
   "mimetype": "text/x-python",
   "name": "python",
   "nbconvert_exporter": "python",
   "pygments_lexer": "ipython2",
   "version": "2.7.6"
  }
 },
 "nbformat": 4,
 "nbformat_minor": 5
}
