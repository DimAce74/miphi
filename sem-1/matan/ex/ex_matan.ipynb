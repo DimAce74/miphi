{
 "cells": [
  {
   "metadata": {},
   "cell_type": "markdown",
   "source": [
    "# Задание 1\n",
    "\n",
    "Найдите производные функций. Подробно распишите решение. Задание должно быть решено без использования Python.\n",
    "\n",
    "а) $y = e^{x*ln(3x + 1)}$\n",
    "\n",
    "б) $y = e^{x^2} \\sqrt{x^3 + 4x^2 - 7}$\n",
    "\n",
    "в) $y = \\frac{x \\sqrt{1 - x^2}}{1 + x^2}$\n"
   ],
   "id": "a22fcc0fc6322bf9"
  },
  {
   "metadata": {},
   "cell_type": "markdown",
   "source": [
    "## Решение\n",
    "\n",
    "\n",
    "\n",
    "### a) $y = e^{x \\ln(3x + 1)}$\n",
    "\n",
    "Чтобы найти производную функции $y = e^{x \\ln(3x + 1)}$, нужно воспользоваться правилом дифференцирования сложной функции.\n",
    "\n",
    "Пусть $u = x \\ln(3x + 1)$, тогда $y$ можно представить как $y = e^u$.\n",
    "\n",
    "Найдём производную $u$ по $x$:\n",
    "\n",
    "$u' = (x \\ln(3x + 1))' = \\ln(3x + 1) + \\frac{x}{3x + 1}$.\n",
    "\n",
    "Теперь найдём производную $y$ по $u$:\n",
    "\n",
    "$y' = (e^u)' = e^u$,\n",
    "\n",
    "тогда производная исходной функции будет равна:\n",
    "\n",
    "$(y)'_x = y' \\cdot u' = e^{u} \\cdot (\\ln(3x + 1) + \\frac{x}{3x + 1})$.\n",
    "\n",
    "Подставляя обратно $u = x \\ln(3x + 1)$ в полученное выражение, получаем:\n",
    "\n",
    "$y'_x = e^{x \\ln(3x + 1)} \\cdot (\\ln(3x + 1) + \\frac{x}{3x + 1})$ — это и есть искомая производная.\n",
    "\n",
    "### б) $y = e^{x^2} \\sqrt{x^3 + 4x^2 - 7}$\n",
    "\n",
    "Применим правило произведения  \n",
    "\n",
    "$\\frac{d}{dx}(u \\cdot v) = u' \\cdot v + u \\cdot v'$  \n",
    "\n",
    "Здесь:  \n",
    "$u(x) = e^{x^2}, \\quad v(x) = (x^3 + 4x^2 - 7)^{1/2}$\n",
    "\n",
    "Производная $ u(x) $:\n",
    "$\n",
    "u'(x) = \\frac{d}{dx} \\left(e^{x^2}\\right) = e^{x^2} \\cdot 2x\n",
    "$\n",
    "\n",
    "Производная $ v(x) $:  \n",
    "\n",
    "$v'(x) = \\frac{d}{dx} \\left( (x^3 + 4x^2 - 7)^{1/2} \\right)$\n",
    "\n",
    "$v'(x) = \\frac{1}{2}(x^3 + 4x^2 - 7)^{-1/2} \\cdot \\frac{d}{dx}(x^3 + 4x^2 - 7) = \\frac{1}{2}(x^3 + 4x^2 - 7)^{-1/2} \\cdot (3x^2 + 8x)\n",
    "$\n",
    "\n",
    "Сложим производные\n",
    "\n",
    "$y' = \\left(e^{x^2} \\cdot 2x\\right) \\cdot (x^3 + 4x^2 - 7)^{1/2} + e^{x^2} \\cdot \\left[\\frac{1}{2}(x^3 + 4x^2 - 7)^{-1/2} \\cdot (3x^2 + 8x)\\right] $\n",
    "\n",
    "Упростим\n",
    "Вынесем общий множитель $ e^{x^2} $:\n",
    "\n",
    "$y' = e^{x^2} \\left[ 2x(x^3 + 4x^2 - 7)^{1/2} + \\frac{(3x^2 + 8x)}{2(x^3 + 4x^2 - 7)^{1/2}} \\right]$\n",
    "\n",
    "Ответ:\n",
    "$y' = e^{x^2} \\left[ \\frac{4x^4+16x^3-20x+3x^2}{2(x^3 + 4x^2 - 7)^{1/2}} \\right]$\n",
    "\n",
    "\n",
    "### в) $y = \\frac{x \\sqrt{1 - x^2}}{1 + x^2}$\n",
    "\n",
    "Применение правила производной частного\n",
    "\n",
    "Для функции $ y = \\frac{u(x)}{v(x)} $, производная задается формулой:\n",
    "$\n",
    "\\frac{d}{dx}\\left(\\frac{u}{v}\\right) = \\frac{u'v - uv'}{v^2}\n",
    "$\n",
    "\n",
    "Здесь:\n",
    "$\n",
    "u(x) = x\\sqrt{1-x^2}, \\quad v(x) = 1+x^2\n",
    "$\n",
    "\n",
    "Найдем $ u'(x) $:\n",
    "\n",
    "Используем правило произведения: $ u' = u_1' u_2 + u_1 u_2' $, где $ u_1 = x $ и $ u_2 = \\sqrt{1-x^2} $\n",
    "\n",
    "1. Производная $ u_1 = x $:\n",
    "$\n",
    "u_1' = 1\n",
    "$\n",
    "\n",
    "2. Производная $ u_2 = \\sqrt{1-x^2} $:\n",
    "$\n",
    "u_2 = (1-x^2)^{1/2}, \\quad u_2' = \\frac{1}{2}(1-x^2)^{-1/2} \\cdot (-2x) = \\frac{-x}{\\sqrt{1-x^2}}\n",
    "$\n",
    "\n",
    "Теперь подставим:\n",
    "$\n",
    "u'(x) = 1 \\cdot \\sqrt{1-x^2} + x \\cdot \\frac{-x}{\\sqrt{1-x^2}} = \\sqrt{1-x^2} - \\frac{x^2}{\\sqrt{1-x^2}}\n",
    "$\n",
    "\n",
    "Приведем к общему знаменателю:\n",
    "$\n",
    "u'(x) = \\frac{(1-x^2) - x^2}{\\sqrt{1-x^2}} = \\frac{1-2x^2}{\\sqrt{1-x^2}}\n",
    "$\n",
    "\n",
    "Найдем $ v'(x) $:\n",
    "$\n",
    "v(x) = 1+x^2, \\quad v'(x) = 2x\n",
    "$\n",
    "\n",
    "Подставим в формулу производной частного\n",
    "\n",
    "$\n",
    "y' = \\frac{u'v - uv'}{v^2}\n",
    "$\n",
    "\n",
    "$\n",
    "y' = \\frac{\\left(\\frac{1-2x^2}{\\sqrt{1-x^2}}\\right)(1+x^2) - \\left(x\\sqrt{1-x^2}\\right)(2x)}{(1+x^2)^2}\n",
    "$\n",
    "\n",
    "1. Упростим числитель:\n",
    "$\n",
    "\\frac{(1-2x^2)(1+x^2)}{\\sqrt{1-x^2}} - \\frac{2x^2\\sqrt{1-x^2}}{\\sqrt{1-x^2}}\n",
    "= \\frac{(1-2x^2)(1+x^2) - 2x^2(1-x^2)}{\\sqrt{1-x^2}}.\n",
    "$\n",
    "\n",
    "2. Раскроем скобки:\n",
    "$\n",
    "(1-2x^2)(1+x^2) = 1 + x^2 - 2x^2 - 2x^4 = 1 - x^2 - 2x^4\n",
    "$\n",
    "\n",
    "$\n",
    "-2x^2(1-x^2) = -2x^2 + 2x^4\n",
    "$\n",
    "\n",
    "Итак, числитель:\n",
    "$\n",
    "1 - x^2 - 2x^4 - 2x^2 + 2x^4 = 1 - x^2 - 2x^2 = 1 - 3x^2\n",
    "$\n",
    "\n",
    "\n",
    "Ответ:\n",
    "$\n",
    "y' = \\frac{1 - 3x^2}{\\sqrt{1-x^2}(1+x^2)^2}.\n",
    "$\n"
   ],
   "id": "d4bc75d0ed5722b0"
  },
  {
   "metadata": {},
   "cell_type": "markdown",
   "source": [
    "# Задание 2\n",
    "Найдите безусловные экстремумы функции:\n",
    "$$u=3 x^{3}+y^{2}+z^{2}+6 x y-2 z+1$$"
   ],
   "id": "93f9f3d93dadf327"
  },
  {
   "metadata": {},
   "cell_type": "markdown",
   "source": [
    "Найдем частные производные функции:\n",
    "По $ x $:\n",
    "$\n",
    "\\frac{\\partial u}{\\partial x} = 9x^2 + 6y\n",
    "$  \n",
    "По $ y $:\n",
    "$  \n",
    "\\frac{\\partial u}{\\partial y} = 2y + 6x\n",
    "$  \n",
    "По $ z $:\n",
    "$\n",
    "\\frac{\\partial u}{\\partial z} = 2z - 2\n",
    "$\n",
    "\n",
    "Условие стационарных точек\n",
    "Найдём точки, где все частные производные равны нулю:\n",
    "\n",
    "$\n",
    "\\frac{\\partial u}{\\partial x} = 0, \\quad \\frac{\\partial u}{\\partial y} = 0, \\quad \\frac{\\partial u}{\\partial z} = 0\n",
    "$\n",
    "\n",
    "1. Из $ \\frac{\\partial u}{\\partial x} = 9x^2 + 6y = 0 $:\n",
    "$\n",
    "y = -\\frac{3}{2}x^2 \n",
    "$\n",
    "\n",
    "2. Из $ \\frac{\\partial u}{\\partial y} = 2y + 6x = 0 $:\n",
    "$\n",
    "y = -3x\n",
    "$\n",
    "\n",
    "Приравняем $ y = -\\frac{3}{2}x^2 $ и $ y = -3x $:\n",
    "\n",
    "$\n",
    "-\\frac{3}{2}x^2 = -3x \\quad \\Rightarrow \\quad \\frac{3}{2}x^2 - 3x = 0 \\quad \\Rightarrow \\quad \\frac{3}{2}x(x - 2) = 0\n",
    "$\n",
    "\n",
    "Отсюда:\n",
    "$\n",
    "x = 0 \\quad \\text{или} \\quad x = 2\n",
    "$\n",
    "\n",
    "3. Из $ \\frac{\\partial u}{\\partial z} = 2z - 2 = 0 $:\n",
    "$\n",
    "z = 1\n",
    "$\n",
    "\n",
    "Найдём точки\n",
    "При $ x = 0 $:\n",
    "$\n",
    "y = -3 \\cdot 0 = 0, \\quad z = 1 \\quad \\Rightarrow \\quad (x, y, z) = (0, 0, 1)\n",
    "$\n",
    "При $ x = 2 $:\n",
    "$\n",
    "y = -3 \\cdot 2 = -6, \\quad z = 1 \\quad \\Rightarrow \\quad (x, y, z) = (2, -6, 1)\n",
    "$\n",
    "\n",
    "Для исследования характера стационарных точек используем **матрицу Гессе** (матрицу вторых частных производных)\n",
    "\n",
    "$\n",
    "\\frac{\\partial^2 u}{\\partial x^2} = 18x, \\quad \\frac{\\partial^2 u}{\\partial y^2} = 2, \\quad \\frac{\\partial^2 u}{\\partial z^2} = 2,\n",
    "$\n",
    "$\n",
    "\\frac{\\partial^2 u}{\\partial x \\partial y} = 6, \\quad \\frac{\\partial^2 u}{\\partial x \\partial z} = 0, \\quad \\frac{\\partial^2 u}{\\partial y \\partial z} = 0\n",
    "$\n",
    "\n",
    "Матрица Гессе:\n",
    "$\n",
    "H =\n",
    "\\begin{pmatrix}\n",
    "18x & 6 & 0 \\\\\n",
    "6 & 2 & 0 \\\\\n",
    "0 & 0 & 2\n",
    "\\end{pmatrix}\n",
    "$\n",
    "\n",
    "\n",
    "Для точки $ (0, 0, 1) $:\n",
    "$\n",
    "H =\n",
    "\\begin{pmatrix}\n",
    "0 & 6 & 0 \\\\\n",
    "6 & 2 & 0 \\\\\n",
    "0 & 0 & 2\n",
    "\\end{pmatrix}\n",
    "$\n",
    "\n",
    "Старший минор 1-го порядка:\n",
    "$\n",
    "\\Delta_1 = 0\n",
    "$\n",
    "\n",
    "Старший минор 2-го порядка:\n",
    "$\n",
    "\\Delta_2 =\n",
    "\\begin{vmatrix}\n",
    "0 & 6 \\\\\n",
    "6 & 2\n",
    "\\end{vmatrix}\n",
    "= 0 - 36 = -36\n",
    "$\n",
    "\n",
    "Так как $\\Delta_2 < 0$, точка $(0, 0, 1)$ — седловая\n",
    "\n",
    "\n",
    "\n",
    "Для точки $ (2, -6, 1) $:\n",
    "$\n",
    "H =\n",
    "\\begin{pmatrix}\n",
    "36 & 6 & 0 \\\\\n",
    "6 & 2 & 0 \\\\\n",
    "0 & 0 & 2\n",
    "\\end{pmatrix}\n",
    "$\n",
    "\n",
    "Старший минор 1-го порядка:\n",
    "$\n",
    "\\Delta_1 = 36 > 0\n",
    "$\n",
    "\n",
    "Старший минор 2-го порядка:\n",
    "$\n",
    "\\Delta_2 =\n",
    "\\begin{vmatrix}\n",
    "36 & 6 \\\\\n",
    "6 & 2\n",
    "\\end{vmatrix}\n",
    "= 36 \\cdot 2 - 6 \\cdot 6 = 72 - 36 = 36 > 0\n",
    "$\n",
    "\n",
    "Определитель матрицы:\n",
    "$\n",
    "\\Delta_3 = \\det H = 36 \\cdot (2 \\cdot 2 - 0) - 6 \\cdot (6 \\cdot 2 - 0) + 0 = 144 - 72 + 0 = 72 > 0\n",
    "$\n",
    "\n",
    "Так как все главные миноры положительны, точка $(2, -6, 1)$ — точка минимума\n",
    "\n",
    "### Ответ:\n",
    "- Седловая точка: $(0, 0, 1)$,\n",
    "- Точка минимума: $(2, -6, 1)$"
   ],
   "id": "5ea64fd4f4e80b54"
  },
  {
   "metadata": {},
   "cell_type": "markdown",
   "source": [
    "# Задание 3\n",
    "\n",
    "Найдите условный экстремум функции: $z=e^{-х-y}$\n",
    "\n",
    "Если задано следующее условие: $\\frac{x^2}{4} + y^2 = 5$\n",
    "\n",
    "\n",
    "Подробно распишите решение. Задание должно быть решено без использования Python."
   ],
   "id": "f2004882b651de25"
  },
  {
   "metadata": {},
   "cell_type": "markdown",
   "source": [
    "Используем метод множителей Лагранжа\n",
    "\n",
    "Определяем функцию Лагранжа:\n",
    "\n",
    "$\n",
    "\\mathcal{L}(x, y, \\lambda) = e^{-x-y} + \\lambda \\left( \\frac{x^2}{4} + y^2 - 5 \\right)\n",
    "$\n",
    "\n",
    "Нам нужно найти критические точки, решив систему уравнений, полученную при вычислении частных производных от $\\mathcal{L}$\n",
    "\n",
    "1. Вычисляем частные производные:\n",
    "\n",
    "$\n",
    "\\frac{\\partial \\mathcal{L}}{\\partial x} = -e^{-x-y} + \\lambda \\cdot \\frac{x}{2} = 0\n",
    "$\n",
    "\n",
    "$\n",
    "\\frac{\\partial \\mathcal{L}}{\\partial y} = -e^{-x-y} + 2\\lambda y = 0\n",
    "$\n",
    "\n",
    "$\n",
    "\\frac{\\partial \\mathcal{L}}{\\partial \\lambda} = \\frac{x^2}{4} + y^2 - 5 = 0\n",
    "$\n",
    "\n",
    "2. Решим систему уравнени:\n",
    "\n",
    "Из 1 уравнения:\n",
    "\n",
    "$\n",
    "\\lambda = \\frac{2 e^{-x-y}}{x}\n",
    "$\n",
    "\n",
    "Из 2:\n",
    "\n",
    "$\n",
    "\\lambda = \\frac{e^{-x-y}}{2y}\n",
    "$\n",
    "\n",
    "Приравниваем выражения для $\\lambda$:\n",
    "\n",
    "$\n",
    "\\frac{2 e^{-x-y}}{x} = \\frac{e^{-x-y}}{2y}\n",
    "$\n",
    "\n",
    "Упрощаем:\n",
    "\n",
    "$\n",
    "\\frac{2}{x} = \\frac{1}{2y} \\quad \\Rightarrow \\quad 4y = x\n",
    "$\n",
    "\n",
    "Заменяем $x = 4y$ в ограничении:\n",
    "\n",
    "$\n",
    "\\frac{(4y)^2}{4} + y^2 = 5\n",
    "$\n",
    "\n",
    "$\n",
    "\\frac{16y^2}{4} + y^2 = 5 \\quad \\Rightarrow \\quad 4y^2 + y^2 = 5\n",
    "$\n",
    "\n",
    "$\n",
    "5y^2 = 5 \\quad \\Rightarrow \\quad y^2 = 1 \\quad \\Rightarrow \\quad y = \\pm 1\n",
    "$\n",
    "\n",
    "Для $y = 1$, $x = 4 \\times 1 = 4$.\n",
    "\n",
    "Для $y = -1$, $x = 4 \\times (-1) = -4$.\n",
    "\n",
    "Подставим точки в $z = e^{-x-y}$:\n",
    "\n",
    "Для $(x, y) = (4, 1)$:\n",
    "$\n",
    "z = e^{-4-1} = e^{-5}\n",
    "$\n",
    "\n",
    "Для $(x, y) = (-4, -1)$:\n",
    "$\n",
    "z = e^{-(-4) - (-1)} = e^{5}\n",
    "$\n",
    "\n",
    "Ответ: минимум в точке (4,1) со значением $e^{-5}$, максимум в точке (-4, -1) со значением $e^{5}$."
   ],
   "id": "4a579db99868a176"
  },
  {
   "metadata": {},
   "cell_type": "markdown",
   "source": [
    "# Задание 4\n",
    "\n",
    "Вам предоставлены данные о людях с наличием или отсутствием заболевания.\n",
    "\n",
    "Признаки:\n",
    "\n",
    "- Age — возрастная группа.\n",
    "- Test — позитивный или негативный тест на заболевание.\n",
    "- Status — целевая переменная, есть инфекция или нет.\n",
    "\n",
    "Необходимо реализовать алгоритм Наивного Байеса для решения задачи классификации. Обязательно оцените качество полученного результата по итогу.\n"
   ],
   "id": "9ad80064da4ca477"
  },
  {
   "metadata": {
    "ExecuteTime": {
     "end_time": "2025-01-15T18:45:20.846312Z",
     "start_time": "2025-01-15T18:45:20.251543Z"
    }
   },
   "cell_type": "code",
   "source": [
    "import pandas as pd\n",
    "from sklearn.model_selection import train_test_split\n",
    "from sklearn.preprocessing import LabelEncoder\n",
    "from sklearn.naive_bayes import GaussianNB\n",
    "from sklearn.metrics import accuracy_score, classification_report, confusion_matrix"
   ],
   "id": "297f47e92f1824b8",
   "outputs": [],
   "execution_count": 1
  },
  {
   "metadata": {
    "ExecuteTime": {
     "end_time": "2025-01-15T18:47:00.689809Z",
     "start_time": "2025-01-15T18:47:00.649290Z"
    }
   },
   "cell_type": "code",
   "source": [
    "data = pd.read_csv(\n",
    "    \"data/ex_4.csv\"\n",
    ")\n",
    "data.head()"
   ],
   "id": "af5141ac01fd5800",
   "outputs": [
    {
     "data": {
      "text/plain": [
       "       Test Age_Group    Status\n",
       "0  Positive     Young  Infected\n",
       "1  Positive     Young  Infected\n",
       "2  Positive     Young  Infected\n",
       "3  Positive       Old  Infected\n",
       "4  Positive       Old  Infected"
      ],
      "text/html": [
       "<div>\n",
       "<style scoped>\n",
       "    .dataframe tbody tr th:only-of-type {\n",
       "        vertical-align: middle;\n",
       "    }\n",
       "\n",
       "    .dataframe tbody tr th {\n",
       "        vertical-align: top;\n",
       "    }\n",
       "\n",
       "    .dataframe thead th {\n",
       "        text-align: right;\n",
       "    }\n",
       "</style>\n",
       "<table border=\"1\" class=\"dataframe\">\n",
       "  <thead>\n",
       "    <tr style=\"text-align: right;\">\n",
       "      <th></th>\n",
       "      <th>Test</th>\n",
       "      <th>Age_Group</th>\n",
       "      <th>Status</th>\n",
       "    </tr>\n",
       "  </thead>\n",
       "  <tbody>\n",
       "    <tr>\n",
       "      <th>0</th>\n",
       "      <td>Positive</td>\n",
       "      <td>Young</td>\n",
       "      <td>Infected</td>\n",
       "    </tr>\n",
       "    <tr>\n",
       "      <th>1</th>\n",
       "      <td>Positive</td>\n",
       "      <td>Young</td>\n",
       "      <td>Infected</td>\n",
       "    </tr>\n",
       "    <tr>\n",
       "      <th>2</th>\n",
       "      <td>Positive</td>\n",
       "      <td>Young</td>\n",
       "      <td>Infected</td>\n",
       "    </tr>\n",
       "    <tr>\n",
       "      <th>3</th>\n",
       "      <td>Positive</td>\n",
       "      <td>Old</td>\n",
       "      <td>Infected</td>\n",
       "    </tr>\n",
       "    <tr>\n",
       "      <th>4</th>\n",
       "      <td>Positive</td>\n",
       "      <td>Old</td>\n",
       "      <td>Infected</td>\n",
       "    </tr>\n",
       "  </tbody>\n",
       "</table>\n",
       "</div>"
      ]
     },
     "execution_count": 3,
     "metadata": {},
     "output_type": "execute_result"
    }
   ],
   "execution_count": 3
  },
  {
   "metadata": {
    "ExecuteTime": {
     "end_time": "2025-01-15T18:50:54.537063Z",
     "start_time": "2025-01-15T18:50:54.508573Z"
    }
   },
   "cell_type": "code",
   "source": [
    "# преобразуем категориальные признаки в числовые\n",
    "\n",
    "encoder = LabelEncoder()\n",
    "\n",
    "data[\"Age_Group\"] = encoder.fit_transform(data[\"Age_Group\"])\n",
    "data[\"Test\"] = encoder.fit_transform(data[\"Test\"])\n",
    "data[\"Status\"] = encoder.fit_transform(data[\"Status\"])\n",
    "\n",
    "# выделяем признаки и целевую переменную\n",
    "X = data[[\"Age_Group\", \"Test\"]]\n",
    "y = data[\"Status\"]\n",
    "\n",
    "# разделим данные на обучающую и тестовую выборки (70% - обучение, 30% - тест)\n",
    "X_train, X_test, y_train, y_test = train_test_split(\n",
    "    X, y, test_size=0.3, random_state=42\n",
    ")\n",
    "\n",
    "# обучение модели\n",
    "nb_classifier = GaussianNB()\n",
    "nb_classifier.fit(X_train, y_train)\n",
    "\n",
    "# предсказания на тестовой выборке\n",
    "y_pred = nb_classifier.predict(X_test)"
   ],
   "id": "d1606cf5a6f05e98",
   "outputs": [],
   "execution_count": 4
  },
  {
   "metadata": {
    "ExecuteTime": {
     "end_time": "2025-01-15T18:51:08.857725Z",
     "start_time": "2025-01-15T18:51:08.849750Z"
    }
   },
   "cell_type": "code",
   "source": [
    "\n",
    "# оцениваем качество\n",
    "accuracy = accuracy_score(y_test, y_pred)\n",
    "print(f\"Accuracy: {accuracy:.2f}\\n\")"
   ],
   "id": "7ff93b53d7e0afed",
   "outputs": [
    {
     "name": "stdout",
     "output_type": "stream",
     "text": [
      "Accuracy: 0.67\n",
      "\n"
     ]
    }
   ],
   "execution_count": 5
  },
  {
   "metadata": {
    "ExecuteTime": {
     "end_time": "2025-01-15T18:51:27.268367Z",
     "start_time": "2025-01-15T18:51:27.249513Z"
    }
   },
   "cell_type": "code",
   "source": [
    "\n",
    "print(\"Confusion matrix:\")\n",
    "display(pd.DataFrame(confusion_matrix(y_test, y_pred)))"
   ],
   "id": "d68653cfc6694d9d",
   "outputs": [
    {
     "name": "stdout",
     "output_type": "stream",
     "text": [
      "Confusion matrix:\n"
     ]
    },
    {
     "data": {
      "text/plain": [
       "    0   1\n",
       "0  18  25\n",
       "1   3  38"
      ],
      "text/html": [
       "<div>\n",
       "<style scoped>\n",
       "    .dataframe tbody tr th:only-of-type {\n",
       "        vertical-align: middle;\n",
       "    }\n",
       "\n",
       "    .dataframe tbody tr th {\n",
       "        vertical-align: top;\n",
       "    }\n",
       "\n",
       "    .dataframe thead th {\n",
       "        text-align: right;\n",
       "    }\n",
       "</style>\n",
       "<table border=\"1\" class=\"dataframe\">\n",
       "  <thead>\n",
       "    <tr style=\"text-align: right;\">\n",
       "      <th></th>\n",
       "      <th>0</th>\n",
       "      <th>1</th>\n",
       "    </tr>\n",
       "  </thead>\n",
       "  <tbody>\n",
       "    <tr>\n",
       "      <th>0</th>\n",
       "      <td>18</td>\n",
       "      <td>25</td>\n",
       "    </tr>\n",
       "    <tr>\n",
       "      <th>1</th>\n",
       "      <td>3</td>\n",
       "      <td>38</td>\n",
       "    </tr>\n",
       "  </tbody>\n",
       "</table>\n",
       "</div>"
      ]
     },
     "metadata": {},
     "output_type": "display_data"
    }
   ],
   "execution_count": 6
  },
  {
   "metadata": {
    "ExecuteTime": {
     "end_time": "2025-01-15T18:51:30.496830Z",
     "start_time": "2025-01-15T18:51:30.478732Z"
    }
   },
   "cell_type": "code",
   "source": [
    "\n",
    "# классификационные метрики: precision, recall, f1-score\n",
    "print(\"Classification Report:\")\n",
    "print(classification_report(y_test, y_pred))\n"
   ],
   "id": "6d0c3e845a58d66a",
   "outputs": [
    {
     "name": "stdout",
     "output_type": "stream",
     "text": [
      "Classification Report:\n",
      "              precision    recall  f1-score   support\n",
      "\n",
      "           0       0.86      0.42      0.56        43\n",
      "           1       0.60      0.93      0.73        41\n",
      "\n",
      "    accuracy                           0.67        84\n",
      "   macro avg       0.73      0.67      0.65        84\n",
      "weighted avg       0.73      0.67      0.64        84\n",
      "\n"
     ]
    }
   ],
   "execution_count": 7
  },
  {
   "metadata": {},
   "cell_type": "markdown",
   "source": [
    "# Задание 5\n",
    "\n",
    "Дана функция: $ f(x) = x^4 + 3x^3 - 12x^2 + 7x - 2$\n",
    "\n",
    "Оптимизируйте её с помощью метода Ньютона, используя язык программирования Python.\n",
    "\n",
    "За начальную точку возьмите х = 10, необходимую точность 0.0001."
   ],
   "id": "7b13feff167663d9"
  },
  {
   "metadata": {
    "ExecuteTime": {
     "end_time": "2025-01-15T18:53:30.716451Z",
     "start_time": "2025-01-15T18:53:28.875208Z"
    }
   },
   "cell_type": "code",
   "source": "import sympy as sp",
   "id": "894e813ef569c3d5",
   "outputs": [],
   "execution_count": 8
  },
  {
   "metadata": {
    "ExecuteTime": {
     "end_time": "2025-01-15T18:55:19.590837Z",
     "start_time": "2025-01-15T18:55:19.479303Z"
    }
   },
   "cell_type": "code",
   "source": [
    "# определим переменную x и функцию f(x)\n",
    "x = sp.symbols(\"x\")\n",
    "f_x = x**4 + 3 * x**3 - 12 * x**2 + 7 * x - 2\n",
    "\n",
    "# вычислим первую и вторую производные\n",
    "f_prime_x = sp.diff(f_x, x)\n",
    "f_double_prime_x = sp.diff(f_prime_x, x)\n",
    "\n",
    "# преобразуем производные в функции для вычислений\n",
    "f_prime_func = sp.lambdify(x, f_prime_x, \"numpy\")\n",
    "f_double_prime_func = sp.lambdify(x, f_double_prime_x, \"numpy\")\n",
    "\n",
    "# реализуем метод Ньютона\n",
    "def newton_method(x0, tolerance=0.0001, max_iter=1000):\n",
    "    x = x0\n",
    "\n",
    "    for i in range(max_iter):\n",
    "        # вычисляем значение функции и её производных в точке x\n",
    "        f_prime_val = f_prime_func(x)\n",
    "        f_double_prime_val = f_double_prime_func(x)\n",
    "\n",
    "        if f_double_prime_val == 0:\n",
    "            print(\"Вторая производная равна нулю\")\n",
    "            return None\n",
    "\n",
    "        x_new = x - f_prime_val / f_double_prime_val\n",
    "\n",
    "        # проверим, достигается ли нужная точность\n",
    "        if abs(x_new - x) < tolerance:\n",
    "            print(f\"Найден корень: {x_new}\")\n",
    "            return x_new\n",
    "\n",
    "        x = x_new\n",
    "\n",
    "    print(\"Не удалось найти корень за максимальное количество итераций.\")\n",
    "    return None"
   ],
   "id": "bcbd4a3ef6b6ea8e",
   "outputs": [],
   "execution_count": 9
  },
  {
   "metadata": {
    "ExecuteTime": {
     "end_time": "2025-01-15T18:55:22.953869Z",
     "start_time": "2025-01-15T18:55:22.947992Z"
    }
   },
   "cell_type": "code",
   "source": [
    "initial_guess = 10\n",
    "result = newton_method(initial_guess, tolerance=0.0001)"
   ],
   "id": "b3b9d7666c998bf7",
   "outputs": [
    {
     "name": "stdout",
     "output_type": "stream",
     "text": [
      "Найден корень: 1.3101356031490567\n"
     ]
    }
   ],
   "execution_count": 10
  },
  {
   "metadata": {},
   "cell_type": "markdown",
   "source": [
    "# Задание 6\n",
    "\n",
    "Дано распределение случайной величины, которая отражает вероятность получения разного количества спам-писем в течение дня:\n",
    "\n",
    "|  0  |  1  |  2  |  3  |  4  |  5  |  6  |  7  |\n",
    "|-----|-----|-----|-----|-----|-----|-----|-----|\n",
    "| 0.1 | 0.3 | 0.1 | 0.25| 0.05| 0.05| 0.1 |  ?  |\n",
    "\n",
    "\n",
    "- Найдите вероятность получения 7 спам-писем.\n",
    "- Найдите математическое ожидание для количества полученных писем.\n",
    "- Найдите дисперсию для количества полученных писем. Ответ округлите до сотых.\n",
    "\n",
    "Задание должно быть решено без использования готовых функций Python.\n"
   ],
   "id": "bb59a237051e6746"
  },
  {
   "metadata": {
    "ExecuteTime": {
     "end_time": "2025-01-15T19:01:50.769423Z",
     "start_time": "2025-01-15T19:01:50.759937Z"
    }
   },
   "cell_type": "code",
   "source": [
    "# Сумма всех вероятностей случайной величины должна равняться 1\n",
    "# Найдем вероятность, получения 7 спам-писем\n",
    "probabilities = [0.1, 0.3, 0.1, 0.25, 0.05, 0.05, 0.1]\n",
    "\n",
    "p7 = 1 - sum(probabilities)\n",
    "p7"
   ],
   "id": "36a2da01305ed78d",
   "outputs": [
    {
     "data": {
      "text/plain": [
       "0.050000000000000044"
      ]
     },
     "execution_count": 11,
     "metadata": {},
     "output_type": "execute_result"
    }
   ],
   "execution_count": 11
  },
  {
   "metadata": {
    "ExecuteTime": {
     "end_time": "2025-01-15T19:03:18.947451Z",
     "start_time": "2025-01-15T19:03:18.942536Z"
    }
   },
   "cell_type": "code",
   "source": [
    "probabilities.append(p7)\n",
    "values = list(range(len(probabilities)))"
   ],
   "id": "e2855910b1d20678",
   "outputs": [],
   "execution_count": 12
  },
  {
   "metadata": {
    "ExecuteTime": {
     "end_time": "2025-01-15T19:03:29.874961Z",
     "start_time": "2025-01-15T19:03:29.866400Z"
    }
   },
   "cell_type": "code",
   "source": [
    "mean_value = sum(x * p for x, p in zip(values, probabilities))\n",
    "mean_value"
   ],
   "id": "d21e5363f475bbe5",
   "outputs": [
    {
     "data": {
      "text/plain": [
       "[0, 1, 2, 3, 4, 5, 6, 7]"
      ]
     },
     "execution_count": 13,
     "metadata": {},
     "output_type": "execute_result"
    }
   ],
   "execution_count": 13
  },
  {
   "metadata": {
    "ExecuteTime": {
     "end_time": "2025-01-15T19:06:51.544868Z",
     "start_time": "2025-01-15T19:06:51.538900Z"
    }
   },
   "cell_type": "code",
   "source": [
    "mean = 0\n",
    "\n",
    "for i in range(len(probabilities)):\n",
    "    mean += probabilities[i] * values[i]\n",
    "\n",
    "print(f'Математическое ожидание = {mean}')"
   ],
   "id": "48cda8f3aef5528d",
   "outputs": [
    {
     "name": "stdout",
     "output_type": "stream",
     "text": [
      "Математическое ожидание = 2.6500000000000004\n"
     ]
    }
   ],
   "execution_count": 14
  },
  {
   "metadata": {
    "ExecuteTime": {
     "end_time": "2025-01-15T19:12:27.540997Z",
     "start_time": "2025-01-15T19:12:27.531127Z"
    }
   },
   "cell_type": "code",
   "source": [
    "variance = 0\n",
    "\n",
    "for i in range(len(probabilities)):\n",
    "    variance += probabilities[i] * (values[i] - mean) ** 2\n",
    "\n",
    "print(f'Дисперсия = {round(variance, 2)}')"
   ],
   "id": "79590006c403d5f5",
   "outputs": [
    {
     "name": "stdout",
     "output_type": "stream",
     "text": [
      "Дисперсия = 4.03\n"
     ]
    }
   ],
   "execution_count": 17
  },
  {
   "metadata": {},
   "cell_type": "markdown",
   "source": [
    "# Задание 7\n",
    "\n",
    "За 8 часов рабочего дня в колл-центр поступает в среднем 16 звонков. \n",
    "Найдите вероятность, что за час в колл-центр поступит не более 4 и не менее 2 звонков.\n",
    "Ответ округлите до тысячных. \n",
    "Задание должно быть решено без использования готовых функций Python.\n"
   ],
   "id": "1475c0280c4bf0a0"
  },
  {
   "metadata": {
    "ExecuteTime": {
     "end_time": "2025-01-15T19:18:38.522992Z",
     "start_time": "2025-01-15T19:18:38.512988Z"
    }
   },
   "cell_type": "code",
   "source": [
    "# Реализация факториала\n",
    "def factorial(n):\n",
    "    if n == 0 or n == 1:\n",
    "        return 1\n",
    "    res = 1\n",
    "    for i in range(2, n + 1):\n",
    "        res *= i\n",
    "    return res\n",
    "\n",
    "# Реализация экспоненты e^-a\n",
    "def exp_appr(a, terms=15):\n",
    "    res = 1\n",
    "    term = 1\n",
    "    for i in range(1, terms):\n",
    "        term *= -a / i\n",
    "        res += term\n",
    "    return res\n",
    "\n",
    "# Расчет вероятности по распределению Пуассона\n",
    "def poisson_probability(a, k):\n",
    "    return a**k * exp_appr(a) / factorial(k)\n",
    "\n",
    "# Среднее число звонков за час\n",
    "mean_calls = 16 / 8\n",
    "# Минимальное количество звонков\n",
    "min_calls = 2\n",
    "# Максимальное количество звонков\n",
    "max_calls = 4\n",
    "# Суммируем вероятности для диапазона k_min ≤ X ≤ k_max\n",
    "probability = 0         \n",
    "\n",
    "for k in range(min_calls, max_calls + 1):\n",
    "    probability += poisson_probability(mean_calls, k)\n",
    "\n",
    "# Вывод результата\n",
    "print(f\"Вероятность, что за час в колл-центр поступит от 2х до 4х звонков: {probability:.3f}\")\n"
   ],
   "id": "f2efb0e942d628ee",
   "outputs": [
    {
     "name": "stdout",
     "output_type": "stream",
     "text": [
      "Вероятность, что за час в колл-центр поступит от 2х до 4х звонков: 0.541\n"
     ]
    }
   ],
   "execution_count": 18
  }
 ],
 "metadata": {
  "kernelspec": {
   "display_name": "Python 3",
   "language": "python",
   "name": "python3"
  },
  "language_info": {
   "codemirror_mode": {
    "name": "ipython",
    "version": 2
   },
   "file_extension": ".py",
   "mimetype": "text/x-python",
   "name": "python",
   "nbconvert_exporter": "python",
   "pygments_lexer": "ipython2",
   "version": "2.7.6"
  }
 },
 "nbformat": 4,
 "nbformat_minor": 5
}
