{
 "cells": [
  {
   "cell_type": "code",
   "id": "initial_id",
   "metadata": {
    "collapsed": true,
    "ExecuteTime": {
     "end_time": "2024-12-11T21:44:17.313892Z",
     "start_time": "2024-12-11T21:44:16.293455Z"
    }
   },
   "source": [
    "import numpy as np\n",
    "from numba.cuda.printimpl import print_item\n",
    "from scipy.optimize import minimize\n",
    "import sympy as sp"
   ],
   "outputs": [],
   "execution_count": 3
  },
  {
   "metadata": {
    "ExecuteTime": {
     "end_time": "2024-12-11T21:47:57.153997Z",
     "start_time": "2024-12-11T21:47:57.142994Z"
    }
   },
   "cell_type": "code",
   "outputs": [
    {
     "name": "stdout",
     "output_type": "stream",
     "text": [
      "Статус оптимизации Optimization terminated successfully.\n",
      "Количество оценок: 3\n",
      "Решение: f([0. 0.]) = 0.00000\n"
     ]
    }
   ],
   "execution_count": 4,
   "source": [
    "def func(x):\n",
    "    return x[0]**2.0 + x[1]**2.0\n",
    "\n",
    "def grad_func(x):\n",
    "    return np.array([x[0] * 2, x[1] * 2])\n",
    "\n",
    "x_0 = [1.0, 1.0]\n",
    "\n",
    "result = minimize(func, x_0, method='BFGS', jac=grad_func)\n",
    "\n",
    "print('Статус оптимизации %s' % result['message'])\n",
    "print('Количество оценок: %d' % result['nfev'])\n",
    "solution = result['x']\n",
    "evaluation = func(solution)\n",
    "print('Решение: f(%s) = %.5f' % (solution, evaluation))\n",
    "\n",
    "#Статус оптимизации Optimization terminated successfully.\n",
    "#Количество оценок: 3\n",
    "#Решение: f([0. 0.]) = 0.00000"
   ],
   "id": "b57826c8e75c4af5"
  },
  {
   "metadata": {
    "ExecuteTime": {
     "end_time": "2024-12-11T21:53:46.045969Z",
     "start_time": "2024-12-11T21:53:45.866158Z"
    }
   },
   "cell_type": "code",
   "outputs": [
    {
     "name": "stdout",
     "output_type": "stream",
     "text": [
      "Статус оптимизации Optimization terminated successfully.\n",
      "Количество оценок: 3\n",
      "Решение: f([0. 0.]) = 0.00000\n"
     ]
    }
   ],
   "execution_count": 6,
   "source": [
    "x,y = sp.symbols('x, y')\n",
    "f = x**2 + y**2\n",
    "fdx = f.diff(x)\n",
    "fdy = f.diff(y)\n",
    "\n",
    "def func(arg):\n",
    "    return float(f.subs({x:arg[0], y: arg[1]}))\n",
    "\n",
    "def grad_func(arg):\n",
    "    return np.array([float(fdx.subs({x:arg[0], y: arg[1]})), float(fdy.subs({x:arg[0], y: arg[1]}))])\n",
    "\n",
    "x_0 = [1.0, 1.0]\n",
    "\n",
    "result = minimize(func, x_0, method='BFGS', jac=grad_func)\n",
    "\n",
    "print('Статус оптимизации %s' % result['message'])\n",
    "print('Количество оценок: %d' % result['nfev'])\n",
    "solution = result['x']\n",
    "evaluation = func(solution)\n",
    "print('Решение: f(%s) = %.5f' % (solution, evaluation))\n",
    "\n",
    "#Статус оптимизации Optimization terminated successfully.\n",
    "#Количество оценок: 3\n",
    "#Решение: f([0. 0.]) = 0.00000"
   ],
   "id": "99daf19583bee972"
  },
  {
   "metadata": {
    "ExecuteTime": {
     "end_time": "2024-12-11T22:25:27.186471Z",
     "start_time": "2024-12-11T22:25:27.095159Z"
    }
   },
   "cell_type": "code",
   "source": [
    "x,y = sp.symbols('x, y')\n",
    "f = x**2 - x*y + y**2 + 9*x - 6*y + 20\n",
    "fdx = f.diff(x)\n",
    "fdy = f.diff(y)\n",
    "\n",
    "def func(arg):\n",
    "    return float(f.subs({x:arg[0], y: arg[1]}))\n",
    "\n",
    "def grad_func(arg):\n",
    "    return np.array([float(fdx.subs({x:arg[0], y: arg[1]})), float(fdy.subs({x:arg[0], y: arg[1]}))])\n",
    "\n",
    "x_0 = [-400, -400]\n",
    "\n",
    "result = minimize(func, x_0, method='BFGS', jac=grad_func)\n",
    "\n",
    "print('Статус оптимизации %s' % result['message'])\n",
    "print('Количество оценок: %d' % result['nfev'])\n",
    "solution = result['x']\n",
    "evaluation = func(solution)\n",
    "print('Решение: f(%s) = %.5f' % (solution, evaluation))\n",
    "\n"
   ],
   "id": "3301fc08bad1157c",
   "outputs": [
    {
     "name": "stdout",
     "output_type": "stream",
     "text": [
      "Статус оптимизации Optimization terminated successfully.\n",
      "Количество оценок: 11\n",
      "Решение: f([-4.  1.]) = -1.00000\n"
     ]
    }
   ],
   "execution_count": 8
  },
  {
   "metadata": {
    "ExecuteTime": {
     "end_time": "2024-12-12T04:28:38.852532Z",
     "start_time": "2024-12-12T04:28:38.834529Z"
    }
   },
   "cell_type": "code",
   "source": [
    "x,y = sp.symbols('x, y')\n",
    "f = x**2 - 3*x + 45\n",
    "fdx = f.diff(x)\n",
    "\n",
    "def func(arg):\n",
    "    return float(f.subs({x:arg[0]}))\n",
    "\n",
    "def grad_func(arg):\n",
    "    return float(fdx.subs({x:arg[0]}))\n",
    "\n",
    "x_0 = [10]\n",
    "\n",
    "result = minimize(func, x_0, method='BFGS', jac=grad_func)\n",
    "resultb = minimize(func, x_0, method='L-BFGS-B', jac=grad_func)\n",
    "\n",
    "print('BFGS')\n",
    "print('Статус оптимизации %s' % result['message'])\n",
    "print('Количество оценок: %d' % result['nfev'])\n",
    "solution = result['x']\n",
    "evaluation = func(solution)\n",
    "print('Решение: f(%s) = %.5f' % (solution, evaluation))\n",
    "print('L-BFGS-B')\n",
    "print('Статус оптимизации %s' % resultb['message'])\n",
    "print('Количество оценок: %d' % resultb['nfev'])\n",
    "solution = resultb['x']\n",
    "evaluation = func(solution)\n",
    "print('Решение: f(%s) = %.5f' % (solution, evaluation))\n"
   ],
   "id": "bd2ed0a19b8494d9",
   "outputs": [
    {
     "name": "stdout",
     "output_type": "stream",
     "text": [
      "BFGS\n",
      "Статус оптимизации Optimization terminated successfully.\n",
      "Количество оценок: 5\n",
      "Решение: f([1.5]) = 42.75000\n",
      "L-BFGS-B\n",
      "Статус оптимизации CONVERGENCE: NORM_OF_PROJECTED_GRADIENT_<=_PGTOL\n",
      "Количество оценок: 3\n",
      "Решение: f([1.5]) = 42.75000\n"
     ]
    }
   ],
   "execution_count": 14
  },
  {
   "metadata": {
    "ExecuteTime": {
     "end_time": "2024-12-12T04:30:53.322374Z",
     "start_time": "2024-12-12T04:30:52.659229Z"
    }
   },
   "cell_type": "code",
   "source": [
    "x,y = sp.symbols('x, y')\n",
    "f = x**4 - x*y + 6*y**2 + 10\n",
    "fdx = f.diff(x)\n",
    "fdy = f.diff(y)\n",
    "\n",
    "x_0 = [100, 100]\n",
    "\n",
    "def func(arg):\n",
    "    return float(f.subs({x:arg[0], y: arg[1]}))\n",
    "\n",
    "def grad_func(arg):\n",
    "    return np.array([float(fdx.subs({x:arg[0], y: arg[1]})), float(fdy.subs({x:arg[0], y: arg[1]}))])\n",
    "\n",
    "\n",
    "result = minimize(func, x_0, method='BFGS', jac=grad_func)\n",
    "resultb = minimize(func, x_0, method='L-BFGS-B', jac=grad_func)\n",
    "\n",
    "print('BFGS')\n",
    "print('Статус оптимизации %s' % result['message'])\n",
    "print('Количество оценок: %d' % result['nfev'])\n",
    "solution = result['x']\n",
    "evaluation = func(solution)\n",
    "print('Решение: f(%s) = %.5f' % (solution, evaluation))\n",
    "print('L-BFGS-B')\n",
    "print('Статус оптимизации %s' % resultb['message'])\n",
    "print('Количество оценок: %d' % resultb['nfev'])\n",
    "solution = resultb['x']\n",
    "evaluation = func(solution)\n",
    "print('Решение: f(%s) = %.5f' % (solution, evaluation))"
   ],
   "id": "66964cd11d86de9",
   "outputs": [
    {
     "name": "stdout",
     "output_type": "stream",
     "text": [
      "BFGS\n",
      "Статус оптимизации Optimization terminated successfully.\n",
      "Количество оценок: 33\n",
      "Решение: f([0.14434123 0.01202844]) = 9.99957\n",
      "L-BFGS-B\n",
      "Статус оптимизации CONVERGENCE: NORM_OF_PROJECTED_GRADIENT_<=_PGTOL\n",
      "Количество оценок: 38\n",
      "Решение: f([-0.14436027 -0.01203002]) = 9.99957\n"
     ]
    }
   ],
   "execution_count": 17
  }
 ],
 "metadata": {
  "kernelspec": {
   "display_name": "Python 3",
   "language": "python",
   "name": "python3"
  },
  "language_info": {
   "codemirror_mode": {
    "name": "ipython",
    "version": 2
   },
   "file_extension": ".py",
   "mimetype": "text/x-python",
   "name": "python",
   "nbconvert_exporter": "python",
   "pygments_lexer": "ipython2",
   "version": "2.7.6"
  }
 },
 "nbformat": 4,
 "nbformat_minor": 5
}
