{
 "cells": [
  {
   "metadata": {
    "ExecuteTime": {
     "end_time": "2025-01-17T15:49:35.955126Z",
     "start_time": "2025-01-17T15:49:35.949978Z"
    }
   },
   "cell_type": "code",
   "source": [
    "import numpy as np\n",
    "import pandas as pd\n",
    "import matplotlib.pyplot as plt"
   ],
   "id": "cf4f2e670d3a7880",
   "outputs": [],
   "execution_count": 22
  },
  {
   "metadata": {},
   "cell_type": "markdown",
   "source": [
    "# Задание 1: Работа с массивами NumPy\n",
    "\n",
    "Цель: Проверить знание методов NumPy для анализа данных.\n",
    "\n",
    "Задание:\n",
    "\n",
    "Создайте массив случайных чисел (50 элементов) из диапазона [10, 100].\n",
    "Найдите:\n",
    "Среднее арифметическое массива.\n",
    "Медиану.\n",
    "Стандартное отклонение.\n",
    "Создайте новый массив, где каждое число изначального массива делится на 3. Отфильтруйте числа, которые делятся без остатка.\n",
    "\n",
    "Ожидаемый ответ:\n",
    "\n",
    "Вывод среднего, медианы, стандартного отклонения.\n",
    "Новый массив и его фильтр."
   ],
   "id": "b4b3cd0a0b97324d"
  },
  {
   "cell_type": "code",
   "id": "initial_id",
   "metadata": {
    "collapsed": true,
    "ExecuteTime": {
     "end_time": "2025-01-12T19:06:16.923766Z",
     "start_time": "2025-01-12T19:06:16.910632Z"
    }
   },
   "source": [
    "# Создаем массив случайных чисел\n",
    "random_array = np.random.randint(10, 101, size=50)\n",
    "\n",
    "# Вычисляем среднее арифметическое\n",
    "mean = np.mean(random_array)\n",
    "\n",
    "# Вычисляем медиану\n",
    "median = np.median(random_array)\n",
    "\n",
    "# Вычисляем стандартное отклонение\n",
    "std_dev = np.std(random_array)\n",
    "\n",
    "# Создаем новый массив, где каждое число изначального массива делится на 3\n",
    "new_array = random_array / 3\n",
    "\n",
    "# Отфильтровываем числа, которые делятся без остатка\n",
    "filtered_array = new_array[new_array % 1 == 0]\n",
    "\n",
    "print(\"Среднее арифметическое:\", mean)\n",
    "print(\"Медиана:\", median)\n",
    "print(\"Стандартное отклонение:\", std_dev)\n",
    "print(\"Новый массив:\", filtered_array)"
   ],
   "outputs": [
    {
     "name": "stdout",
     "output_type": "stream",
     "text": [
      "Среднее арифметическое: 60.08\n",
      "Медиана: 62.0\n",
      "Стандартное отклонение: 24.199867768233776\n",
      "Новый массив: [29. 18. 26. 19. 15.  8. 15. 25. 31. 22. 30. 20. 18. 25. 33.]\n"
     ]
    }
   ],
   "execution_count": 3
  },
  {
   "metadata": {},
   "cell_type": "markdown",
   "source": [
    "# Задание 2: Анализ данных с помощью Pandas\n",
    "\n",
    "Цель: Проверить навыки анализа и обработки данных.\n",
    "\n",
    "Данные: Используйте предоставленный CSV-файл (\"sales_data_large.csv\"), содержащий данные о продажах с полями:\n",
    "\n",
    "date (дата продаж),\n",
    "region (регион),\n",
    "product (продукт),\n",
    "sales (объем продаж).\n",
    "Задание:\n",
    "\n",
    "Загрузите данные из файла.\n",
    "Определите:\n",
    "Общее количество записей.\n",
    "Какие регионы и продукты присутствуют в данных.\n",
    "Подсчитайте:\n",
    "Общие продажи по регионам.\n",
    "Средний объем продаж для каждого продукта.\n",
    "Постройте сводную таблицу, показывающую средние продажи по регионам и продуктам.\n"
   ],
   "id": "855777aa3244c03e"
  },
  {
   "metadata": {
    "ExecuteTime": {
     "end_time": "2025-01-17T15:30:36.332780Z",
     "start_time": "2025-01-17T15:30:36.306918Z"
    }
   },
   "cell_type": "code",
   "source": [
    "# загрузка данных\n",
    "data = pd.read_csv(\"data/sales_data_large.csv\")\n",
    "display(data.head(5))\n",
    "display(data.info())"
   ],
   "id": "fe25c7e2d366c81",
   "outputs": [
    {
     "data": {
      "text/plain": [
       "         date region   product  sales\n",
       "0  2024-12-01   West  Widget C    246\n",
       "1  2024-12-01  South  Widget B    152\n",
       "2  2024-12-01   West  Widget B    391\n",
       "3  2024-12-01   West  Widget A    272\n",
       "4  2024-12-01   East  Widget A    337"
      ],
      "text/html": [
       "<div>\n",
       "<style scoped>\n",
       "    .dataframe tbody tr th:only-of-type {\n",
       "        vertical-align: middle;\n",
       "    }\n",
       "\n",
       "    .dataframe tbody tr th {\n",
       "        vertical-align: top;\n",
       "    }\n",
       "\n",
       "    .dataframe thead th {\n",
       "        text-align: right;\n",
       "    }\n",
       "</style>\n",
       "<table border=\"1\" class=\"dataframe\">\n",
       "  <thead>\n",
       "    <tr style=\"text-align: right;\">\n",
       "      <th></th>\n",
       "      <th>date</th>\n",
       "      <th>region</th>\n",
       "      <th>product</th>\n",
       "      <th>sales</th>\n",
       "    </tr>\n",
       "  </thead>\n",
       "  <tbody>\n",
       "    <tr>\n",
       "      <th>0</th>\n",
       "      <td>2024-12-01</td>\n",
       "      <td>West</td>\n",
       "      <td>Widget C</td>\n",
       "      <td>246</td>\n",
       "    </tr>\n",
       "    <tr>\n",
       "      <th>1</th>\n",
       "      <td>2024-12-01</td>\n",
       "      <td>South</td>\n",
       "      <td>Widget B</td>\n",
       "      <td>152</td>\n",
       "    </tr>\n",
       "    <tr>\n",
       "      <th>2</th>\n",
       "      <td>2024-12-01</td>\n",
       "      <td>West</td>\n",
       "      <td>Widget B</td>\n",
       "      <td>391</td>\n",
       "    </tr>\n",
       "    <tr>\n",
       "      <th>3</th>\n",
       "      <td>2024-12-01</td>\n",
       "      <td>West</td>\n",
       "      <td>Widget A</td>\n",
       "      <td>272</td>\n",
       "    </tr>\n",
       "    <tr>\n",
       "      <th>4</th>\n",
       "      <td>2024-12-01</td>\n",
       "      <td>East</td>\n",
       "      <td>Widget A</td>\n",
       "      <td>337</td>\n",
       "    </tr>\n",
       "  </tbody>\n",
       "</table>\n",
       "</div>"
      ]
     },
     "metadata": {},
     "output_type": "display_data"
    },
    {
     "name": "stdout",
     "output_type": "stream",
     "text": [
      "<class 'pandas.core.frame.DataFrame'>\n",
      "RangeIndex: 500 entries, 0 to 499\n",
      "Data columns (total 4 columns):\n",
      " #   Column   Non-Null Count  Dtype \n",
      "---  ------   --------------  ----- \n",
      " 0   date     500 non-null    object\n",
      " 1   region   500 non-null    object\n",
      " 2   product  500 non-null    object\n",
      " 3   sales    500 non-null    int64 \n",
      "dtypes: int64(1), object(3)\n",
      "memory usage: 15.8+ KB\n"
     ]
    },
    {
     "data": {
      "text/plain": [
       "None"
      ]
     },
     "metadata": {},
     "output_type": "display_data"
    }
   ],
   "execution_count": 7
  },
  {
   "metadata": {
    "ExecuteTime": {
     "end_time": "2025-01-17T15:34:03.856148Z",
     "start_time": "2025-01-17T15:34:03.848371Z"
    }
   },
   "cell_type": "code",
   "source": [
    "print(\"Количество данных:\", data.shape[0])\n",
    "print(\"Список регионов:\", data[\"region\"].unique())\n",
    "print(\"Список продуктов:\", data[\"product\"].unique())"
   ],
   "id": "44b395a971bd8cc6",
   "outputs": [
    {
     "name": "stdout",
     "output_type": "stream",
     "text": [
      "Количество данных: 500\n",
      "Список регионов: ['West' 'South' 'East' 'North']\n",
      "Список продуктов: ['Widget C' 'Widget B' 'Widget A']\n"
     ]
    }
   ],
   "execution_count": 9
  },
  {
   "metadata": {
    "ExecuteTime": {
     "end_time": "2025-01-17T15:34:49.234828Z",
     "start_time": "2025-01-17T15:34:49.220399Z"
    }
   },
   "cell_type": "code",
   "source": [
    "# общие продажи по регионам\n",
    "data.groupby(\"region\")[\"sales\"].sum()"
   ],
   "id": "d952e5b860d3e432",
   "outputs": [
    {
     "data": {
      "text/plain": [
       "region\n",
       "East     29244\n",
       "North    39605\n",
       "South    33023\n",
       "West     35171\n",
       "Name: sales, dtype: int64"
      ]
     },
     "execution_count": 10,
     "metadata": {},
     "output_type": "execute_result"
    }
   ],
   "execution_count": 10
  },
  {
   "metadata": {
    "ExecuteTime": {
     "end_time": "2025-01-17T15:35:54.335609Z",
     "start_time": "2025-01-17T15:35:54.317164Z"
    }
   },
   "cell_type": "code",
   "source": [
    "# средний объем продаж для каждого продукта\n",
    "data.groupby(\"product\")[\"sales\"].mean()"
   ],
   "id": "20ce377c62b45a1b",
   "outputs": [
    {
     "data": {
      "text/plain": [
       "product\n",
       "Widget A    275.424242\n",
       "Widget B    268.331361\n",
       "Widget C    278.614458\n",
       "Name: sales, dtype: float64"
      ]
     },
     "execution_count": 11,
     "metadata": {},
     "output_type": "execute_result"
    }
   ],
   "execution_count": 11
  },
  {
   "metadata": {
    "ExecuteTime": {
     "end_time": "2025-01-17T15:37:42.045704Z",
     "start_time": "2025-01-17T15:37:42.002709Z"
    }
   },
   "cell_type": "code",
   "source": [
    "# сводная таблица, показывающая средние продажи по регионам и продуктам\n",
    "data.pivot_table(\n",
    "    values=\"sales\", index=\"region\", columns=\"product\", aggfunc=\"mean\", fill_value=0\n",
    ")"
   ],
   "id": "9905ced8cc66a65e",
   "outputs": [
    {
     "data": {
      "text/plain": [
       "product    Widget A    Widget B    Widget C\n",
       "region                                     \n",
       "East     291.464286  263.116279  271.361111\n",
       "North    289.145833  238.477273  304.660000\n",
       "South    277.380952  282.833333  263.722222\n",
       "West     250.106383  291.550000  267.136364"
      ],
      "text/html": [
       "<div>\n",
       "<style scoped>\n",
       "    .dataframe tbody tr th:only-of-type {\n",
       "        vertical-align: middle;\n",
       "    }\n",
       "\n",
       "    .dataframe tbody tr th {\n",
       "        vertical-align: top;\n",
       "    }\n",
       "\n",
       "    .dataframe thead th {\n",
       "        text-align: right;\n",
       "    }\n",
       "</style>\n",
       "<table border=\"1\" class=\"dataframe\">\n",
       "  <thead>\n",
       "    <tr style=\"text-align: right;\">\n",
       "      <th>product</th>\n",
       "      <th>Widget A</th>\n",
       "      <th>Widget B</th>\n",
       "      <th>Widget C</th>\n",
       "    </tr>\n",
       "    <tr>\n",
       "      <th>region</th>\n",
       "      <th></th>\n",
       "      <th></th>\n",
       "      <th></th>\n",
       "    </tr>\n",
       "  </thead>\n",
       "  <tbody>\n",
       "    <tr>\n",
       "      <th>East</th>\n",
       "      <td>291.464286</td>\n",
       "      <td>263.116279</td>\n",
       "      <td>271.361111</td>\n",
       "    </tr>\n",
       "    <tr>\n",
       "      <th>North</th>\n",
       "      <td>289.145833</td>\n",
       "      <td>238.477273</td>\n",
       "      <td>304.660000</td>\n",
       "    </tr>\n",
       "    <tr>\n",
       "      <th>South</th>\n",
       "      <td>277.380952</td>\n",
       "      <td>282.833333</td>\n",
       "      <td>263.722222</td>\n",
       "    </tr>\n",
       "    <tr>\n",
       "      <th>West</th>\n",
       "      <td>250.106383</td>\n",
       "      <td>291.550000</td>\n",
       "      <td>267.136364</td>\n",
       "    </tr>\n",
       "  </tbody>\n",
       "</table>\n",
       "</div>"
      ]
     },
     "execution_count": 12,
     "metadata": {},
     "output_type": "execute_result"
    }
   ],
   "execution_count": 12
  },
  {
   "metadata": {},
   "cell_type": "markdown",
   "source": [
    "# Задание 3: Очистка данных и визуализация\n",
    "\n",
    "Цель: Проверить умение находить и исправлять ошибки в данных, а также визуализировать их.\n",
    "Данные: Используйте предоставленный CSV-файл (sales_cleaning_large.csv), содержащий данные о продажах с возможными пропущенными и некорректными значениями. Поля:\n",
    "date (дата продаж),\n",
    "sales (объем продаж),\n",
    "region (регион).\n",
    "Задание:\n",
    "Найдите и устраните ошибки в данных:\n",
    "Заполните пропущенные даты.\n",
    "Удалите отрицательные значения в столбце sales или замените их на медиану столбца.\n",
    "Заполните пропущенные значения в sales средним значением.\n",
    "Постройте график продаж по датам. Убедитесь, что даты упорядочены."
   ],
   "id": "95d13eea6d372568"
  },
  {
   "metadata": {
    "ExecuteTime": {
     "end_time": "2025-01-17T15:41:22.098011Z",
     "start_time": "2025-01-17T15:41:22.074006Z"
    }
   },
   "cell_type": "code",
   "source": [
    "# загрузка данных\n",
    "data = pd.read_csv(\"data/sales_cleaning_large.csv\")\n",
    "display(data.head(5))\n",
    "display(data.info())"
   ],
   "id": "121a08d363f0f4e1",
   "outputs": [
    {
     "data": {
      "text/plain": [
       "         date  sales region\n",
       "0  2024-12-01 -450.0   East\n",
       "1  2024-12-01  400.0   East\n",
       "2  2024-12-01 -100.0  South\n",
       "3  2024-12-01  350.0   West\n",
       "4  2024-12-02  400.0  South"
      ],
      "text/html": [
       "<div>\n",
       "<style scoped>\n",
       "    .dataframe tbody tr th:only-of-type {\n",
       "        vertical-align: middle;\n",
       "    }\n",
       "\n",
       "    .dataframe tbody tr th {\n",
       "        vertical-align: top;\n",
       "    }\n",
       "\n",
       "    .dataframe thead th {\n",
       "        text-align: right;\n",
       "    }\n",
       "</style>\n",
       "<table border=\"1\" class=\"dataframe\">\n",
       "  <thead>\n",
       "    <tr style=\"text-align: right;\">\n",
       "      <th></th>\n",
       "      <th>date</th>\n",
       "      <th>sales</th>\n",
       "      <th>region</th>\n",
       "    </tr>\n",
       "  </thead>\n",
       "  <tbody>\n",
       "    <tr>\n",
       "      <th>0</th>\n",
       "      <td>2024-12-01</td>\n",
       "      <td>-450.0</td>\n",
       "      <td>East</td>\n",
       "    </tr>\n",
       "    <tr>\n",
       "      <th>1</th>\n",
       "      <td>2024-12-01</td>\n",
       "      <td>400.0</td>\n",
       "      <td>East</td>\n",
       "    </tr>\n",
       "    <tr>\n",
       "      <th>2</th>\n",
       "      <td>2024-12-01</td>\n",
       "      <td>-100.0</td>\n",
       "      <td>South</td>\n",
       "    </tr>\n",
       "    <tr>\n",
       "      <th>3</th>\n",
       "      <td>2024-12-01</td>\n",
       "      <td>350.0</td>\n",
       "      <td>West</td>\n",
       "    </tr>\n",
       "    <tr>\n",
       "      <th>4</th>\n",
       "      <td>2024-12-02</td>\n",
       "      <td>400.0</td>\n",
       "      <td>South</td>\n",
       "    </tr>\n",
       "  </tbody>\n",
       "</table>\n",
       "</div>"
      ]
     },
     "metadata": {},
     "output_type": "display_data"
    },
    {
     "name": "stdout",
     "output_type": "stream",
     "text": [
      "<class 'pandas.core.frame.DataFrame'>\n",
      "RangeIndex: 200 entries, 0 to 199\n",
      "Data columns (total 3 columns):\n",
      " #   Column  Non-Null Count  Dtype  \n",
      "---  ------  --------------  -----  \n",
      " 0   date    190 non-null    object \n",
      " 1   sales   190 non-null    float64\n",
      " 2   region  200 non-null    object \n",
      "dtypes: float64(1), object(2)\n",
      "memory usage: 4.8+ KB\n"
     ]
    },
    {
     "data": {
      "text/plain": [
       "None"
      ]
     },
     "metadata": {},
     "output_type": "display_data"
    }
   ],
   "execution_count": 14
  },
  {
   "metadata": {
    "ExecuteTime": {
     "end_time": "2025-01-17T15:43:20.725155Z",
     "start_time": "2025-01-17T15:43:20.674014Z"
    }
   },
   "cell_type": "code",
   "source": [
    "# преобразуем столбец с датой в формат datetime\n",
    "data[\"date\"] = pd.to_datetime(data[\"date\"], errors=\"coerce\")\n",
    "\n",
    "\n",
    "# Найдем минимальную и максимальную дату\n",
    "min_date = data[\"date\"].min()\n",
    "max_date = data[\"date\"].max()\n",
    "\n",
    "# Заполним пропущенные значения случайными датами в указанном диапазоне\n",
    "data[\"date\"] = data[\"date\"].apply(lambda x: (x if pd.notnull(x) else pd.to_datetime(np.random.choice(pd.date_range(min_date, max_date)))))"
   ],
   "id": "723a57a5e1c02151",
   "outputs": [],
   "execution_count": 15
  },
  {
   "metadata": {
    "ExecuteTime": {
     "end_time": "2025-01-17T15:43:33.281863Z",
     "start_time": "2025-01-17T15:43:33.271895Z"
    }
   },
   "cell_type": "code",
   "source": [
    "# проверим, что пропусков больше нет\n",
    "data[\"date\"].isnull().sum()"
   ],
   "id": "bcaa3089aeac9c99",
   "outputs": [
    {
     "data": {
      "text/plain": [
       "0"
      ]
     },
     "execution_count": 17,
     "metadata": {},
     "output_type": "execute_result"
    }
   ],
   "execution_count": 17
  },
  {
   "metadata": {
    "ExecuteTime": {
     "end_time": "2025-01-17T15:44:29.908855Z",
     "start_time": "2025-01-17T15:44:29.898880Z"
    }
   },
   "cell_type": "code",
   "source": [
    "# Удалите отрицательные значения в столбце sales или замените их на медиану столбца.\n",
    "# количество отрицательных значений до замены\n",
    "data[data[\"sales\"] < 0]['sales'].count()"
   ],
   "id": "b1f113a3c3502e35",
   "outputs": [
    {
     "data": {
      "text/plain": [
       "89"
      ]
     },
     "execution_count": 18,
     "metadata": {},
     "output_type": "execute_result"
    }
   ],
   "execution_count": 18
  },
  {
   "metadata": {
    "ExecuteTime": {
     "end_time": "2025-01-17T15:46:12.996643Z",
     "start_time": "2025-01-17T15:46:12.987352Z"
    }
   },
   "cell_type": "code",
   "source": [
    "\n",
    "# считаем медиану\n",
    "median_sales = data[data[\"sales\"] > 0][\"sales\"].median()\n",
    "\n",
    "# заменяем отрицательные значения на медиану\n",
    "data[\"sales\"] = np.where(data[\"sales\"] < 0, median_sales, data[\"sales\"])"
   ],
   "id": "36bef37445476e64",
   "outputs": [],
   "execution_count": 19
  },
  {
   "metadata": {
    "ExecuteTime": {
     "end_time": "2025-01-17T15:46:31.200733Z",
     "start_time": "2025-01-17T15:46:31.194232Z"
    }
   },
   "cell_type": "code",
   "source": [
    "# количество отрицательных значений после замены\n",
    "data[data[\"sales\"] < 0]['sales'].count()"
   ],
   "id": "bf2fd80be9d57a2e",
   "outputs": [
    {
     "data": {
      "text/plain": [
       "0"
      ]
     },
     "execution_count": 20,
     "metadata": {},
     "output_type": "execute_result"
    }
   ],
   "execution_count": 20
  },
  {
   "metadata": {
    "ExecuteTime": {
     "end_time": "2025-01-17T15:48:19.632181Z",
     "start_time": "2025-01-17T15:48:19.621958Z"
    }
   },
   "cell_type": "code",
   "source": [
    "# Заполните пропущенные значения в sales средним значением.\n",
    "data[\"sales\"] = data[\"sales\"].fillna(data[\"sales\"].mean())\n",
    "# проверим, что пропусков не осталось\n",
    "data.isnull().sum()"
   ],
   "id": "2644dee4ad6cd1d3",
   "outputs": [
    {
     "data": {
      "text/plain": [
       "date      0\n",
       "sales     0\n",
       "region    0\n",
       "dtype: int64"
      ]
     },
     "execution_count": 21,
     "metadata": {},
     "output_type": "execute_result"
    }
   ],
   "execution_count": 21
  },
  {
   "metadata": {
    "ExecuteTime": {
     "end_time": "2025-01-17T15:50:52.690242Z",
     "start_time": "2025-01-17T15:50:51.098872Z"
    }
   },
   "cell_type": "code",
   "source": [
    "# Постройте график продаж по датам. Убедитесь, что даты упорядочены.\n",
    "data[\"date\"] = pd.to_datetime(data[\"date\"])\n",
    "data = data.sort_values(by=\"date\")\n",
    "\n",
    "plt.figure(figsize=(10, 6))\n",
    "plt.bar(data[\"date\"].dt.strftime(\"%d-%m-%Y\"), data[\"sales\"], color=\"blue\")\n",
    "plt.title(\"График продаж по датам\", fontsize=16)\n",
    "plt.xlabel(\"Дата\", fontsize=12)\n",
    "plt.ylabel(\"Продажи\", fontsize=12)\n",
    "plt.xticks(rotation=90)\n",
    "plt.grid(axis=\"y\", linestyle=\"--\", alpha=0.6)\n",
    "plt.tight_layout()\n",
    "plt.show()"
   ],
   "id": "8d844b84474248a0",
   "outputs": [
    {
     "data": {
      "text/plain": [
       "<Figure size 1000x600 with 1 Axes>"
      ],
      "image/png": "[encoded data removed]"
     },
     "metadata": {},
     "output_type": "display_data"
    }
   ],
   "execution_count": 23
  },
  {
   "metadata": {},
   "cell_type": "markdown",
   "source": [
    "# Задание 4: Получение данных из API\n",
    "\n",
    "Цель: Проверить способность работать с веб-данными.\n",
    "Задание:\n",
    "Используйте открытое API (например, https://jsonplaceholder.typicode.com/users).\n",
    "Загрузите данные и создайте DataFrame с полями: id, name, email, company_name.\n",
    "Выведите таблицу с пользователями, работающими в компаниях, название которых содержит слово \"Group\"."
   ],
   "id": "415b426a31f9848a"
  },
  {
   "metadata": {
    "ExecuteTime": {
     "end_time": "2025-01-17T15:57:15.001286Z",
     "start_time": "2025-01-17T15:57:13.397488Z"
    }
   },
   "cell_type": "code",
   "source": [
    "import requests\n",
    "\n",
    "url = \"https://jsonplaceholder.typicode.com/users\"\n",
    "response = requests.get(url)\n",
    "\n",
    "# Преобразование данных в DataFrame\n",
    "data2 = response.json()\n",
    "df = pd.DataFrame(data2)\n",
    "\n",
    "df.head()"
   ],
   "id": "8d79fd72aad7c340",
   "outputs": [
    {
     "data": {
      "text/plain": [
       "   id              name   username                      email  \\\n",
       "0   1     Leanne Graham       Bret          Sincere@april.biz   \n",
       "1   2      Ervin Howell  Antonette          Shanna@melissa.tv   \n",
       "2   3  Clementine Bauch   Samantha         Nathan@yesenia.net   \n",
       "3   4  Patricia Lebsack   Karianne  Julianne.OConner@kory.org   \n",
       "4   5  Chelsey Dietrich     Kamren   Lucio_Hettinger@annie.ca   \n",
       "\n",
       "                                             address                  phone  \\\n",
       "0  {'street': 'Kulas Light', 'suite': 'Apt. 556',...  1-770-736-8031 x56442   \n",
       "1  {'street': 'Victor Plains', 'suite': 'Suite 87...    010-692-6593 x09125   \n",
       "2  {'street': 'Douglas Extension', 'suite': 'Suit...         1-463-123-4447   \n",
       "3  {'street': 'Hoeger Mall', 'suite': 'Apt. 692',...      493-170-9623 x156   \n",
       "4  {'street': 'Skiles Walks', 'suite': 'Suite 351...          (254)954-1289   \n",
       "\n",
       "         website                                            company  \n",
       "0  hildegard.org  {'name': 'Romaguera-Crona', 'catchPhrase': 'Mu...  \n",
       "1  anastasia.net  {'name': 'Deckow-Crist', 'catchPhrase': 'Proac...  \n",
       "2    ramiro.info  {'name': 'Romaguera-Jacobson', 'catchPhrase': ...  \n",
       "3       kale.biz  {'name': 'Robel-Corkery', 'catchPhrase': 'Mult...  \n",
       "4   demarco.info  {'name': 'Keebler LLC', 'catchPhrase': 'User-c...  "
      ],
      "text/html": [
       "<div>\n",
       "<style scoped>\n",
       "    .dataframe tbody tr th:only-of-type {\n",
       "        vertical-align: middle;\n",
       "    }\n",
       "\n",
       "    .dataframe tbody tr th {\n",
       "        vertical-align: top;\n",
       "    }\n",
       "\n",
       "    .dataframe thead th {\n",
       "        text-align: right;\n",
       "    }\n",
       "</style>\n",
       "<table border=\"1\" class=\"dataframe\">\n",
       "  <thead>\n",
       "    <tr style=\"text-align: right;\">\n",
       "      <th></th>\n",
       "      <th>id</th>\n",
       "      <th>name</th>\n",
       "      <th>username</th>\n",
       "      <th>email</th>\n",
       "      <th>address</th>\n",
       "      <th>phone</th>\n",
       "      <th>website</th>\n",
       "      <th>company</th>\n",
       "    </tr>\n",
       "  </thead>\n",
       "  <tbody>\n",
       "    <tr>\n",
       "      <th>0</th>\n",
       "      <td>1</td>\n",
       "      <td>Leanne Graham</td>\n",
       "      <td>Bret</td>\n",
       "      <td>Sincere@april.biz</td>\n",
       "      <td>{'street': 'Kulas Light', 'suite': 'Apt. 556',...</td>\n",
       "      <td>1-770-736-8031 x56442</td>\n",
       "      <td>hildegard.org</td>\n",
       "      <td>{'name': 'Romaguera-Crona', 'catchPhrase': 'Mu...</td>\n",
       "    </tr>\n",
       "    <tr>\n",
       "      <th>1</th>\n",
       "      <td>2</td>\n",
       "      <td>Ervin Howell</td>\n",
       "      <td>Antonette</td>\n",
       "      <td>Shanna@melissa.tv</td>\n",
       "      <td>{'street': 'Victor Plains', 'suite': 'Suite 87...</td>\n",
       "      <td>010-692-6593 x09125</td>\n",
       "      <td>anastasia.net</td>\n",
       "      <td>{'name': 'Deckow-Crist', 'catchPhrase': 'Proac...</td>\n",
       "    </tr>\n",
       "    <tr>\n",
       "      <th>2</th>\n",
       "      <td>3</td>\n",
       "      <td>Clementine Bauch</td>\n",
       "      <td>Samantha</td>\n",
       "      <td>Nathan@yesenia.net</td>\n",
       "      <td>{'street': 'Douglas Extension', 'suite': 'Suit...</td>\n",
       "      <td>1-463-123-4447</td>\n",
       "      <td>ramiro.info</td>\n",
       "      <td>{'name': 'Romaguera-Jacobson', 'catchPhrase': ...</td>\n",
       "    </tr>\n",
       "    <tr>\n",
       "      <th>3</th>\n",
       "      <td>4</td>\n",
       "      <td>Patricia Lebsack</td>\n",
       "      <td>Karianne</td>\n",
       "      <td>Julianne.OConner@kory.org</td>\n",
       "      <td>{'street': 'Hoeger Mall', 'suite': 'Apt. 692',...</td>\n",
       "      <td>493-170-9623 x156</td>\n",
       "      <td>kale.biz</td>\n",
       "      <td>{'name': 'Robel-Corkery', 'catchPhrase': 'Mult...</td>\n",
       "    </tr>\n",
       "    <tr>\n",
       "      <th>4</th>\n",
       "      <td>5</td>\n",
       "      <td>Chelsey Dietrich</td>\n",
       "      <td>Kamren</td>\n",
       "      <td>Lucio_Hettinger@annie.ca</td>\n",
       "      <td>{'street': 'Skiles Walks', 'suite': 'Suite 351...</td>\n",
       "      <td>(254)954-1289</td>\n",
       "      <td>demarco.info</td>\n",
       "      <td>{'name': 'Keebler LLC', 'catchPhrase': 'User-c...</td>\n",
       "    </tr>\n",
       "  </tbody>\n",
       "</table>\n",
       "</div>"
      ]
     },
     "execution_count": 24,
     "metadata": {},
     "output_type": "execute_result"
    }
   ],
   "execution_count": 24
  },
  {
   "metadata": {
    "ExecuteTime": {
     "end_time": "2025-01-17T15:58:26.613268Z",
     "start_time": "2025-01-17T15:58:26.596186Z"
    }
   },
   "cell_type": "code",
   "source": [
    "df = df[[\"id\", \"name\", \"email\", \"company\"]]\n",
    "\n",
    "# извлекаем название компании\n",
    "df[\"company_name\"] = df[\"company\"].apply(lambda x: x[\"name\"])\n",
    "\n",
    "del df[\"company\"]\n",
    "\n",
    "# фильтрация пользователей, работающих в компаниях, название которых содержит слово \"Group\"\n",
    "filtered_df = df[df[\"company_name\"].str.contains(\"Group\", case=False)]\n",
    "\n",
    "filtered_df"
   ],
   "id": "92ef2bab7c3ea793",
   "outputs": [
    {
     "data": {
      "text/plain": [
       "   id                      name                   email     company_name\n",
       "6   7           Kurtis Weissnat  Telly.Hoeger@billy.biz      Johns Group\n",
       "7   8  Nicholas Runolfsdottir V    Sherwood@rosamond.me  Abernathy Group"
      ],
      "text/html": [
       "<div>\n",
       "<style scoped>\n",
       "    .dataframe tbody tr th:only-of-type {\n",
       "        vertical-align: middle;\n",
       "    }\n",
       "\n",
       "    .dataframe tbody tr th {\n",
       "        vertical-align: top;\n",
       "    }\n",
       "\n",
       "    .dataframe thead th {\n",
       "        text-align: right;\n",
       "    }\n",
       "</style>\n",
       "<table border=\"1\" class=\"dataframe\">\n",
       "  <thead>\n",
       "    <tr style=\"text-align: right;\">\n",
       "      <th></th>\n",
       "      <th>id</th>\n",
       "      <th>name</th>\n",
       "      <th>email</th>\n",
       "      <th>company_name</th>\n",
       "    </tr>\n",
       "  </thead>\n",
       "  <tbody>\n",
       "    <tr>\n",
       "      <th>6</th>\n",
       "      <td>7</td>\n",
       "      <td>Kurtis Weissnat</td>\n",
       "      <td>Telly.Hoeger@billy.biz</td>\n",
       "      <td>Johns Group</td>\n",
       "    </tr>\n",
       "    <tr>\n",
       "      <th>7</th>\n",
       "      <td>8</td>\n",
       "      <td>Nicholas Runolfsdottir V</td>\n",
       "      <td>Sherwood@rosamond.me</td>\n",
       "      <td>Abernathy Group</td>\n",
       "    </tr>\n",
       "  </tbody>\n",
       "</table>\n",
       "</div>"
      ]
     },
     "execution_count": 25,
     "metadata": {},
     "output_type": "execute_result"
    }
   ],
   "execution_count": 25
  }
 ],
 "metadata": {
  "kernelspec": {
   "display_name": "Python 3",
   "language": "python",
   "name": "python3"
  },
  "language_info": {
   "codemirror_mode": {
    "name": "ipython",
    "version": 2
   },
   "file_extension": ".py",
   "mimetype": "text/x-python",
   "name": "python",
   "nbconvert_exporter": "python",
   "pygments_lexer": "ipython2",
   "version": "2.7.6"
  }
 },
 "nbformat": 4,
 "nbformat_minor": 5
}
