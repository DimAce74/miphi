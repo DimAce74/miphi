{
 "cells": [
  {
   "cell_type": "code",
   "execution_count": 1,
   "metadata": {},
   "outputs": [],
   "source": [
    "import numpy as np\n",
    "import pandas as pd\n",
    "from scipy.stats import norm\n",
    "import matplotlib.pyplot as plt\n",
    "import seaborn as sns\n",
    "from operator import attrgetter\n",
    "from scipy.stats import ttest_ind, pearsonr, gamma, normaltest\n",
    "\n",
    "sns.set_context(\"paper\", font_scale=2)"
   ]
  },
  {
   "cell_type": "markdown",
   "metadata": {},
   "source": [
    "# Содержание\n",
    "\n",
    "Данный ноутбук содержит домашние задания на первые четыре дня интенсива \"Погружение в A/B-тестирование\".\n",
    "\n",
    "Для каждого дня и темы вам предоставлен код из соответствующей демонстрации. Для выполнения задания вам нужно произвести соответствующие изменения в существующем коде, чтобы он подходил под условия задания. Некоторые из мест, которые нужно изменить, вы можете найти по комментарию **#TODO**. Остальные места для изменения кода вам нужно найти самостоятельно.\n",
    "\n",
    "Вопросы в рамках одной темы нужно выполнять последовательно, т.к. результаты последующих заданий зависят от расчетов предыдущих заданий."
   ]
  },
  {
   "cell_type": "markdown",
   "metadata": {},
   "source": [
    "## Практическое задание 1 \"Распределение значения метрики с помощью Bootstrap\"\n",
    "\n",
    "1. Укажите смоделированное **среднее значение выборки** при следующих условиях:\n",
    "- гамма-распределение (параметры: k=2, theta = 2);\n",
    "- размер выборки равен 2000;\n",
    "- округлите результат до целого значения.\n",
    "\n",
    "Рекомендации: ширину бина для визуализации можно поставить равную 50."
   ]
  },
  {
   "cell_type": "code",
   "execution_count": 4,
   "metadata": {},
   "outputs": [],
   "source": [
    "# Для воспроизводимости графиков задаем определенный seed\n",
    "np.random.seed(42)\n",
    "\n",
    "normal_dist = np.random.normal(100, 15, 1000000) * 200       # TODO: поменяйте распределение на гамма-распределение\n",
    "sample = np.random.choice(normal_dist, 1000, replace=False)  # TODO: поменяйте размер выборки на нужный\n",
    "\n",
    "# Отрисовываем график обозначая среднее распределения и выборки\n",
    "fig, ax1 = plt.subplots(figsize=(12, 6), dpi=200)\n",
    "\n",
    "# Строим гистограмму выборки и отмечаем средние значения вертикальной линией\n",
    "sns.histplot(sample, bins=1, ax=ax1, color='green', alpha=0.5)\n",
    "ax1.axvline(np.mean(sample), color='green', linestyle='--', label=f'Sample mean: {np.mean(sample):.2f}')\n",
    "ax1.axvline(np.mean(normal_dist), color='black', linestyle='--', label=f'Theoretical mean: {np.mean(normal_dist):.2f}')\n",
    "\n",
    "\n",
    "# Добавляем дополнительную ось Y\n",
    "ax2 = ax1.twinx()\n",
    "\n",
    "# Строим кривую плотности вероятности и выравниваем вторую ось Y относительно первой\n",
    "sns.kdeplot(normal_dist, ax=ax2, color='black', alpha=0.5)\n",
    "ax2.set_ylim(0, ax1.get_ylim()[1] / len(sample))\n",
    "\n",
    "ax1.legend();\n",
    "plt.show()"
   ]
  },
  {
   "cell_type": "markdown",
   "metadata": {},
   "source": [
    "2. Какую форму распределения будет иметь распределение средних, рассчитанное на множестве средних подвыборок из гамма распределений?\n",
    "3.\tЗапишите нижнюю и верхнюю границы 95% доверительного интервала, а также полученное среднее значение. Ответ округлите до целых, запишите через запятую с пробелом."
   ]
  },
  {
   "cell_type": "code",
   "execution_count": 5,
   "metadata": {},
   "outputs": [],
   "source": [
    "# Проводим bootstrap\n",
    "# Берем подвыборки из нашей выборки с возратом. Считаем средние значения для каждой подвыборки и добавляем их в список\n",
    "# Делаем так 1000 раз\n",
    "np.random.seed(42)\n",
    "\n",
    "mean_list = []\n",
    "for _ in range(1000):\n",
    "    subsample = np.random.choice(sample, 1000)\n",
    "    mean_list.append(np.mean(subsample))\n",
    "\n",
    "bootstrap_mean= np.mean(mean_list)\n",
    "\n",
    "fig, ax = plt.subplots(figsize=(14.4, 7.2), dpi=200)\n",
    "\n",
    "sns.histplot(mean_list, bins=0.05, color='green', alpha=0.5)\n",
    "ax.axvline(bootstrap_mean, color='green', linestyle='--', label=f'Bootstrap mean: {bootstrap_mean:.2f}')\n",
    "ax.axvline(x=np.percentile(mean_list,[2.5]), ymin=0, ymax=1,label='2.5th percentile',c='y')\n",
    "ax.axvline(x=np.percentile(mean_list,[97.5]), ymin=0, ymax=1,label='97.5th percentile',c='r')\n",
    "\n",
    "ax.legend()\n",
    "plt.show()"
   ]
  },
  {
   "cell_type": "code",
   "execution_count": null,
   "metadata": {},
   "outputs": [],
   "source": [
    "# здесь ваш код расчета доверительного интервала"
   ]
  }
 ],
 "metadata": {
  "kernelspec": {
   "display_name": "Python 3 (ipykernel)",
   "language": "python",
   "name": "python3"
  },
  "language_info": {
   "codemirror_mode": {
    "name": "ipython",
    "version": 3
   },
   "file_extension": ".py",
   "mimetype": "text/x-python",
   "name": "python",
   "nbconvert_exporter": "python",
   "pygments_lexer": "ipython3",
   "version": "3.9.7"
  }
 },
 "nbformat": 4,
 "nbformat_minor": 4
}
